{
 "cells": [
  {
   "cell_type": "code",
   "execution_count": null,
   "id": "d9873f28",
   "metadata": {},
   "outputs": [],
   "source": [
    "import warnings\n",
    "warnings.filterwarnings('ignore')\n",
    "\n",
    "import numpy as np\n",
    "import pandas as pd\n",
    "import matplotlib.pyplot as plt \n",
    "import seaborn as sns\n",
    "from sklearn.preprocessing import MinMaxScaler\n",
    "from sklearn.feature_selection import RFE\n",
    "from sklearn.linear_model import LinearRegression\n",
    "from sklearn.linear_model import Lasso\n",
    "from sklearn.metrics import mean_squared_error, r2_score,mean_absolute_error\n",
    "from sklearn.ensemble import RandomForestRegressor\n",
    "from sklearn.ensemble import GradientBoostingRegressor\n",
    "from sklearn.ensemble import BaggingRegressor"
   ]
  },
  {
   "cell_type": "code",
   "execution_count": null,
   "id": "c6d63326",
   "metadata": {},
   "outputs": [],
   "source": [
    "file_path = r\"C:\\Users\\mdmai\\Downloads\\sec_data.csv\"\n",
    "\n",
    "df = pd.read_csv(file_path)\n",
    "df.head()"
   ]
  },
  {
   "cell_type": "code",
   "execution_count": null,
   "id": "835b78df",
   "metadata": {},
   "outputs": [],
   "source": [
    "df.shape"
   ]
  },
  {
   "cell_type": "code",
   "execution_count": null,
   "id": "85de1547",
   "metadata": {},
   "outputs": [],
   "source": [
    "df.describe()\n"
   ]
  },
  {
   "cell_type": "code",
   "execution_count": null,
   "id": "e937210a",
   "metadata": {},
   "outputs": [],
   "source": [
    "from sklearn.model_selection import train_test_split\n",
    "\n",
    "np.random.seed(0)\n",
    "df_train, df_test = train_test_split(df, train_size = 0.8, test_size = 0.2, random_state = 100)"
   ]
  },
  {
   "cell_type": "code",
   "execution_count": null,
   "id": "1f2c10ea",
   "metadata": {},
   "outputs": [],
   "source": [
    "df_train.head()"
   ]
  },
  {
   "cell_type": "code",
   "execution_count": null,
   "id": "45f5cef5",
   "metadata": {},
   "outputs": [],
   "source": [
    "df_train.shape"
   ]
  },
  {
   "cell_type": "code",
   "execution_count": null,
   "id": "bb95f771",
   "metadata": {},
   "outputs": [],
   "source": [
    "y_train = df_train.pop('Price')\n",
    "X_train = df_train"
   ]
  },
  {
   "cell_type": "code",
   "execution_count": null,
   "id": "f667bd60",
   "metadata": {},
   "outputs": [],
   "source": [
    "lm = LinearRegression()\n",
    "lm.fit(X_train, y_train)"
   ]
  },
  {
   "cell_type": "code",
   "execution_count": null,
   "id": "462b3e8b",
   "metadata": {},
   "outputs": [],
   "source": [
    "estimator = LinearRegression()\n",
    "\n",
    "rfe = RFE(estimator, n_features_to_select=5)\n",
    "rfe = rfe.fit(X_train, y_train)"
   ]
  },
  {
   "cell_type": "code",
   "execution_count": null,
   "id": "896b0e90",
   "metadata": {},
   "outputs": [],
   "source": [
    "df['Brand'].value_counts()\n",
    "fig_dims = (20, 6)\n",
    "fig, ax = plt.subplots(figsize=fig_dims)\n",
    "sns.countplot(x=\"Brand\", data=df, ax=ax)"
   ]
  },
  {
   "cell_type": "code",
   "execution_count": null,
   "id": "cabd64b7",
   "metadata": {},
   "outputs": [],
   "source": [
    "X = df.drop('Price', axis=1)\n",
    "y = df['Price']\n",
    "\n",
    "X_train, X_test, y_train, y_test = train_test_split(X, y, test_size=0.2, random_state=42)"
   ]
  },
  {
   "cell_type": "code",
   "execution_count": null,
   "id": "e73ce811",
   "metadata": {},
   "outputs": [],
   "source": [
    "df_test.shape"
   ]
  },
  {
   "cell_type": "code",
   "execution_count": null,
   "id": "46e2502b",
   "metadata": {},
   "outputs": [],
   "source": [
    "lasso = Lasso(alpha=0.1)\n",
    "\n",
    "lasso.fit(X_train, y_train)\n",
    "\n",
    "y_pred = lasso.predict(X_test)"
   ]
  },
  {
   "cell_type": "code",
   "execution_count": null,
   "id": "f96d0280",
   "metadata": {},
   "outputs": [],
   "source": [
    "mse = mean_squared_error(y_test, y_pred)\n",
    "mae = mean_absolute_error(y_test, y_pred)\n",
    "r2 = r2_score(y_test, y_pred)\n",
    "\n",
    "print(f\"Mean Squared Error: {mse:.2f}\")\n",
    "print(f\"Mean Absolute Error: {mae:.2f}\")\n",
    "print(f\"R^2 Score: {r2:.2f}\")"
   ]
  },
  {
   "cell_type": "code",
   "execution_count": null,
   "id": "8ec1e5a2",
   "metadata": {},
   "outputs": [],
   "source": [
    "predicted_values = lasso.predict(X_test)\n",
    "\n",
    "for i, (prediction, actual) in enumerate(zip(y_pred, y_test)):\n",
    "   print(f\" {i+1}. Predicted price: {prediction:.2f}, Actual price: {actual:.2f}\")"
   ]
  },
  {
   "cell_type": "code",
   "execution_count": null,
   "id": "456fc0db",
   "metadata": {},
   "outputs": [],
   "source": [
    "rf = RandomForestRegressor(n_estimators=100, random_state=42)\n",
    "\n",
    "rf.fit(X_train, y_train)\n",
    "\n",
    "y_pred1 = rf.predict(X_test)"
   ]
  },
  {
   "cell_type": "code",
   "execution_count": null,
   "id": "4cdd5fff",
   "metadata": {},
   "outputs": [],
   "source": [
    "mse = mean_squared_error(y_test, y_pred1)\n",
    "mae = mean_absolute_error(y_test, y_pred1)\n",
    "r2 = r2_score(y_test, y_pred1)\n",
    "\n",
    "print(f\"Mean Squared Error: {mse:.2f}\")\n",
    "print(f\"Mean Absolute Error: {mae:.2f}\")\n",
    "print(f\"R^2 Score: {r2:.2f}\")"
   ]
  },
  {
   "cell_type": "code",
   "execution_count": null,
   "id": "b55a92a7",
   "metadata": {},
   "outputs": [],
   "source": [
    "for i, (prediction, actual) in enumerate(zip(y_pred1, y_test), start=1):\n",
    "    print(f\"Data Point {i}: Predicted Price: {prediction:.2f}, Actual Price: {actual:.2f}\")"
   ]
  },
  {
   "cell_type": "code",
   "execution_count": null,
   "id": "c5bdfb97",
   "metadata": {},
   "outputs": [],
   "source": [
    "from sklearn.linear_model import Ridge"
   ]
  },
  {
   "cell_type": "code",
   "execution_count": null,
   "id": "4e1a5b9b",
   "metadata": {},
   "outputs": [],
   "source": [
    "\n",
    "ridge = Ridge(alpha=0.1)\n",
    "\n",
    "ridge.fit(X_train, y_train)\n",
    "\n",
    "y_pred2 = ridge.predict(X_test)\n"
   ]
  },
  {
   "cell_type": "code",
   "execution_count": null,
   "id": "c5afb073",
   "metadata": {},
   "outputs": [],
   "source": [
    "mse = mean_squared_error(y_test, y_pred2)\n",
    "mae = mean_absolute_error(y_test, y_pred2)\n",
    "r2 = r2_score(y_test, y_pred2)\n",
    "\n",
    "print(f\"Mean Squared Error: {mse:.2f}\")\n",
    "print(f\"Mean Absolute Error: {mae:.2f}\")\n",
    "print(f\"R^2 Score: {r2:.2f}\")\n"
   ]
  },
  {
   "cell_type": "code",
   "execution_count": null,
   "id": "43b45066",
   "metadata": {},
   "outputs": [],
   "source": [
    "for i, (prediction, actual) in enumerate(zip(y_pred2, y_test), start=1):\n",
    "    print(f\"Data Point {i}: Predicted Price: {prediction:.2f}, Actual Price: {actual:.2f}\")"
   ]
  },
  {
   "cell_type": "code",
   "execution_count": null,
   "id": "b387f314",
   "metadata": {},
   "outputs": [],
   "source": [
    "from sklearn.svm import SVR"
   ]
  },
  {
   "cell_type": "code",
   "execution_count": null,
   "id": "f6aae925",
   "metadata": {},
   "outputs": [],
   "source": [
    "svr = SVR(kernel='rbf')\n",
    "\n",
    "svr.fit(X_train, y_train)\n",
    "y_pred3 = svr.predict(X_test)"
   ]
  },
  {
   "cell_type": "code",
   "execution_count": null,
   "id": "fd85a0c0",
   "metadata": {},
   "outputs": [],
   "source": [
    "mse = mean_squared_error(y_test, y_pred3)\n",
    "mae = mean_absolute_error(y_test, y_pred3)\n",
    "r2 = r2_score(y_test, y_pred3)\n",
    "\n",
    "print(f\"Mean Squared Error: {mse:.2f}\")\n",
    "print(f\"Mean Absolute Error: {mae:.2f}\")\n",
    "print(f\"R^2 Score: {r2:.2f}\")"
   ]
  },
  {
   "cell_type": "code",
   "execution_count": null,
   "id": "2e10b467",
   "metadata": {},
   "outputs": [],
   "source": [
    "for i, (prediction, actual) in enumerate(zip(y_pred3, y_test), start=1):\n",
    "    print(f\"Data Point {i}: Predicted Price: {prediction:.2f}, Actual Price: {actual:.2f}\")"
   ]
  },
  {
   "cell_type": "code",
   "execution_count": null,
   "id": "7abf9738",
   "metadata": {},
   "outputs": [],
   "source": [
    "from sklearn.tree import DecisionTreeRegressor"
   ]
  },
  {
   "cell_type": "code",
   "execution_count": null,
   "id": "c0e86db3",
   "metadata": {},
   "outputs": [],
   "source": [
    "dt = DecisionTreeRegressor(random_state=42)\n",
    "\n",
    "dt.fit(X_train, y_train)\n",
    "y_pred4 = dt.predict(X_test)"
   ]
  },
  {
   "cell_type": "code",
   "execution_count": null,
   "id": "16d707d9",
   "metadata": {},
   "outputs": [],
   "source": [
    "mse = mean_squared_error(y_test, y_pred4)\n",
    "mae = mean_absolute_error(y_test, y_pred4)\n",
    "r2 = r2_score(y_test, y_pred4)\n",
    "\n",
    "print(f\"Mean Squared Error: {mse:.2f}\")\n",
    "print(f\"Mean Absolute Error: {mae:.2f}\")\n",
    "print(f\"R^2 Score: {r2:.2f}\")"
   ]
  },
  {
   "cell_type": "code",
   "execution_count": null,
   "id": "882c68e5",
   "metadata": {},
   "outputs": [],
   "source": [
    "for i, (prediction, actual) in enumerate(zip(y_pred4, y_test), start=1):\n",
    "    print(f\"Data Point {i}: Predicted Price: {prediction:.2f}, Actual Price: {actual:.2f}\")"
   ]
  },
  {
   "cell_type": "code",
   "execution_count": null,
   "id": "fca56535",
   "metadata": {},
   "outputs": [],
   "source": [
    "gb = GradientBoostingRegressor(random_state=42)\n",
    "gb.fit(X_train, y_train)\n",
    "\n",
    "y_pred5 = gb.predict(X_test)"
   ]
  },
  {
   "cell_type": "code",
   "execution_count": null,
   "id": "4eae6a6a",
   "metadata": {},
   "outputs": [],
   "source": [
    "mse = mean_squared_error(y_test, y_pred5)\n",
    "r2 = r2_score(y_test, y_pred5)\n",
    "mae = mean_absolute_error(y_test, y_pred5)\n",
    "\n",
    "print(f\"Mean Squared Error: {mse:.2f}\")\n",
    "print(f\"Mean Absolute Error: {mae:.2f}\")\n",
    "print(f\"R^2 Score: {r2:.2f}\")"
   ]
  },
  {
   "cell_type": "code",
   "execution_count": null,
   "id": "b1d696b3",
   "metadata": {},
   "outputs": [],
   "source": [
    "for i, (prediction, actual) in enumerate(zip(y_pred5, y_test), start=1):\n",
    "    print(f\"Data Point {i}: Predicted Price: {prediction:.2f}, Actual Price: {actual:.2f}\")"
   ]
  },
  {
   "cell_type": "code",
   "execution_count": null,
   "id": "d67954f3",
   "metadata": {},
   "outputs": [],
   "source": [
    "# Assume X and y are your feature matrix and target variable respectively\n",
    "# Update X and y with the relevant data from your dataset\n",
    "\n",
    "# Create a list to store the individual models\n",
    "models = []\n",
    "\n",
    "# Train ten Random Forest models and add them to the list\n",
    "for _ in range(10):\n",
    "    # Create a Random Forest model\n",
    "    rf = RandomForestRegressor(n_estimators=100, max_depth=10)\n",
    "\n",
    "    # Train the model on the data\n",
    "    rf.fit(X, y)\n",
    "\n",
    "    # Add the trained model to the list\n",
    "    models.append(rf)\n",
    "\n",
    "# Make predictions using each individual model\n",
    "predictions = []\n",
    "for model in models:\n",
    "    pred = model.predict(X)\n",
    "    predictions.append(pred)\n",
    "\n",
    "# Combine the predictions using the average\n",
    "ensemble_pred = np.mean(predictions, axis=0)\n",
    "\n",
    "# Evaluate the ensemble model\n",
    "mse = mean_squared_error(y, ensemble_pred)\n",
    "mae = mean_absolute_error(y, ensemble_pred)\n",
    "r2 = r2_score(y, ensemble_pred)\n",
    "\n",
    "# Print the evaluation metrics\n",
    "print(\"Mean Squared Error:\", mse)\n",
    "print(\"Mean Absolute Error:\", mae)\n",
    "print(\"R-squared:\", r2)"
   ]
  },
  {
   "cell_type": "code",
   "execution_count": null,
   "id": "7ca7db75",
   "metadata": {},
   "outputs": [],
   "source": [
    "for i, (prediction, actual) in enumerate(zip(ensemble_pred,y), start=1):\n",
    "    print(f\"Data Point {i}: Predicted Price: {prediction:.2f}, Actual Price: {actual:.2f}\")"
   ]
  },
  {
   "cell_type": "code",
   "execution_count": null,
   "id": "5b7502dc",
   "metadata": {},
   "outputs": [],
   "source": [
    "import pickle\n",
    "\n",
    "pickle.dump(df.open('df.pkl','wb'))\n",
    "pickle.dump(dt.open('pipe.pkl','wb'))"
   ]
  },
  {
   "cell_type": "code",
   "execution_count": null,
   "id": "bdb7b674",
   "metadata": {},
   "outputs": [],
   "source": []
  },
  {
   "cell_type": "code",
   "execution_count": null,
   "id": "13a47fea",
   "metadata": {},
   "outputs": [],
   "source": []
  },
  {
   "cell_type": "code",
   "execution_count": null,
   "id": "09cf1c2b",
   "metadata": {},
   "outputs": [],
   "source": [
    "b"
   ]
  }
 ],
 "metadata": {
  "kernelspec": {
   "display_name": "Python 3 (ipykernel)",
   "language": "python",
   "name": "python3"
  },
  "language_info": {
   "codemirror_mode": {
    "name": "ipython",
    "version": 3
   },
   "file_extension": ".py",
   "mimetype": "text/x-python",
   "name": "python",
   "nbconvert_exporter": "python",
   "pygments_lexer": "ipython3",
   "version": "3.9.13"
  }
 },
 "nbformat": 4,
 "nbformat_minor": 5
}

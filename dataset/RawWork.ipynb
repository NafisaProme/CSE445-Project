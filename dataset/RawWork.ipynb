{
  "nbformat": 4,
  "nbformat_minor": 0,
  "metadata": {
    "colab": {
      "provenance": []
    },
    "kernelspec": {
      "name": "python3",
      "display_name": "Python 3"
    },
    "language_info": {
      "name": "python"
    }
  },
  "cells": [
    {
      "cell_type": "markdown",
      "source": [
        "**Importing All the neccesary Libraries**"
      ],
      "metadata": {
        "id": "MBIolUJ70bv7"
      }
    },
    {
      "cell_type": "code",
      "source": [
        "import math #mathematical computation\n",
        "import pandas as pd #dataframe\n",
        "# pd.set_option('max_rows', 10000)\n",
        "# pd.set_option('max_colwidth', 400)\n",
        "# pd.describe_option('max_colwidth')\n",
        "import numpy as np #mathematical computations\n",
        "import matplotlib.pyplot as plt #visualization\n",
        "import matplotlib\n",
        "import joblib #saving the model\n",
        "import seaborn as sns #visualization\n",
        "import json #exporting columns\n",
        "import pickle #saving the model\n",
        "from sklearn.preprocessing import LabelEncoder, OneHotEncoder, OrdinalEncoder, MinMaxScaler\n",
        "\n",
        "from sklearn import tree\n",
        "from sklearn.tree import DecisionTreeClassifier, export_graphviz #Decision Tree Classifier\n",
        "from sklearn.metrics import accuracy_score, confusion_matrix, r2_score #Performance metrics\n",
        "\n",
        "from sklearn.linear_model import LinearRegression #Linear Regression\n",
        "from sklearn.linear_model import Lasso #Lasso Regression\n",
        "from sklearn.tree import DecisionTreeRegressor #Decision Tree Regression\n",
        "from sklearn.ensemble import RandomForestRegressor #Random Forest Regression\n",
        "from xgboost import XGBRegressor # XGBoost Regression\n",
        "from sklearn.model_selection import train_test_split #Splitting the dataset into training and testing\n",
        "from sklearn.model_selection import ShuffleSplit #Random shuffling\n",
        "from sklearn.model_selection import cross_val_score #Score cross validation\n",
        "from sklearn.model_selection import cross_validate #Score cross validation\n",
        "from sklearn.model_selection import GridSearchCV #Hyper parameter tuning\n",
        "\n",
        "from statistics import stdev\n",
        "from warnings import simplefilter #Filtering warnings\n",
        "\n",
        "import warnings\n",
        "warnings.filterwarnings('ignore')\n",
        "\n",
        "##showing all columns in output##\n",
        "\n",
        "#################################"
      ],
      "metadata": {
        "id": "DLwiqiLT0lBQ"
      },
      "execution_count": 1,
      "outputs": []
    },
    {
      "cell_type": "markdown",
      "source": [
        "Connecting Google Collab with Drive"
      ],
      "metadata": {
        "id": "u1stVTpJ0r-b"
      }
    },
    {
      "cell_type": "code",
      "source": [
        "from google.colab import drive \n",
        "drive.mount('/content/drive')"
      ],
      "metadata": {
        "colab": {
          "base_uri": "https://localhost:8080/"
        },
        "id": "LuJfrAfk0xar",
        "outputId": "b7665744-94c8-493b-8c9a-e290ddae6cfe"
      },
      "execution_count": 2,
      "outputs": [
        {
          "output_type": "stream",
          "name": "stdout",
          "text": [
            "Drive already mounted at /content/drive; to attempt to forcibly remount, call drive.mount(\"/content/drive\", force_remount=True).\n"
          ]
        }
      ]
    },
    {
      "cell_type": "markdown",
      "source": [
        "**Importing Dataset**"
      ],
      "metadata": {
        "id": "l50qe98q1DgO"
      }
    },
    {
      "cell_type": "code",
      "source": [
        "dataframe = pd.read_csv('/content/laptopPrice.csv')"
      ],
      "metadata": {
        "id": "b4IoXnhe1HY9"
      },
      "execution_count": 4,
      "outputs": []
    },
    {
      "cell_type": "code",
      "source": [
        "#Showing The First 5 rows of the Dataset\n",
        "\n",
        "dataframe.head()"
      ],
      "metadata": {
        "colab": {
          "base_uri": "https://localhost:8080/",
          "height": 391
        },
        "id": "NE4JWRUA1UR5",
        "outputId": "8bb3dcd8-8b14-4237-a49a-aab8882ef8ad"
      },
      "execution_count": 5,
      "outputs": [
        {
          "output_type": "execute_result",
          "data": {
            "text/plain": [
              "    brand processor_brand processor_name processor_gnrtn ram_gb ram_type  \\\n",
              "0    ASUS           Intel        Core i3            10th   4 GB     DDR4   \n",
              "1  Lenovo           Intel        Core i3            10th   4 GB     DDR4   \n",
              "2  Lenovo           Intel        Core i3            10th   4 GB     DDR4   \n",
              "3    ASUS           Intel        Core i5            10th   8 GB     DDR4   \n",
              "4    ASUS           Intel   Celeron Dual   Not Available   4 GB     DDR4   \n",
              "\n",
              "      ssd      hdd       os  os_bit graphic_card_gb  weight     warranty  \\\n",
              "0    0 GB  1024 GB  Windows  64-bit            0 GB  Casual  No warranty   \n",
              "1    0 GB  1024 GB  Windows  64-bit            0 GB  Casual  No warranty   \n",
              "2    0 GB  1024 GB  Windows  64-bit            0 GB  Casual  No warranty   \n",
              "3  512 GB     0 GB  Windows  32-bit            2 GB  Casual  No warranty   \n",
              "4    0 GB   512 GB  Windows  64-bit            0 GB  Casual  No warranty   \n",
              "\n",
              "  Touchscreen msoffice  Price   rating  Number of Ratings  Number of Reviews  \n",
              "0          No       No  34649  2 stars                  3                  0  \n",
              "1          No       No  38999  3 stars                 65                  5  \n",
              "2          No       No  39999  3 stars                  8                  1  \n",
              "3          No       No  69990  3 stars                  0                  0  \n",
              "4          No       No  26990  3 stars                  0                  0  "
            ],
            "text/html": [
              "\n",
              "  <div id=\"df-2ae94cdc-7b1a-4b07-9200-bab435138edf\">\n",
              "    <div class=\"colab-df-container\">\n",
              "      <div>\n",
              "<style scoped>\n",
              "    .dataframe tbody tr th:only-of-type {\n",
              "        vertical-align: middle;\n",
              "    }\n",
              "\n",
              "    .dataframe tbody tr th {\n",
              "        vertical-align: top;\n",
              "    }\n",
              "\n",
              "    .dataframe thead th {\n",
              "        text-align: right;\n",
              "    }\n",
              "</style>\n",
              "<table border=\"1\" class=\"dataframe\">\n",
              "  <thead>\n",
              "    <tr style=\"text-align: right;\">\n",
              "      <th></th>\n",
              "      <th>brand</th>\n",
              "      <th>processor_brand</th>\n",
              "      <th>processor_name</th>\n",
              "      <th>processor_gnrtn</th>\n",
              "      <th>ram_gb</th>\n",
              "      <th>ram_type</th>\n",
              "      <th>ssd</th>\n",
              "      <th>hdd</th>\n",
              "      <th>os</th>\n",
              "      <th>os_bit</th>\n",
              "      <th>graphic_card_gb</th>\n",
              "      <th>weight</th>\n",
              "      <th>warranty</th>\n",
              "      <th>Touchscreen</th>\n",
              "      <th>msoffice</th>\n",
              "      <th>Price</th>\n",
              "      <th>rating</th>\n",
              "      <th>Number of Ratings</th>\n",
              "      <th>Number of Reviews</th>\n",
              "    </tr>\n",
              "  </thead>\n",
              "  <tbody>\n",
              "    <tr>\n",
              "      <th>0</th>\n",
              "      <td>ASUS</td>\n",
              "      <td>Intel</td>\n",
              "      <td>Core i3</td>\n",
              "      <td>10th</td>\n",
              "      <td>4 GB</td>\n",
              "      <td>DDR4</td>\n",
              "      <td>0 GB</td>\n",
              "      <td>1024 GB</td>\n",
              "      <td>Windows</td>\n",
              "      <td>64-bit</td>\n",
              "      <td>0 GB</td>\n",
              "      <td>Casual</td>\n",
              "      <td>No warranty</td>\n",
              "      <td>No</td>\n",
              "      <td>No</td>\n",
              "      <td>34649</td>\n",
              "      <td>2 stars</td>\n",
              "      <td>3</td>\n",
              "      <td>0</td>\n",
              "    </tr>\n",
              "    <tr>\n",
              "      <th>1</th>\n",
              "      <td>Lenovo</td>\n",
              "      <td>Intel</td>\n",
              "      <td>Core i3</td>\n",
              "      <td>10th</td>\n",
              "      <td>4 GB</td>\n",
              "      <td>DDR4</td>\n",
              "      <td>0 GB</td>\n",
              "      <td>1024 GB</td>\n",
              "      <td>Windows</td>\n",
              "      <td>64-bit</td>\n",
              "      <td>0 GB</td>\n",
              "      <td>Casual</td>\n",
              "      <td>No warranty</td>\n",
              "      <td>No</td>\n",
              "      <td>No</td>\n",
              "      <td>38999</td>\n",
              "      <td>3 stars</td>\n",
              "      <td>65</td>\n",
              "      <td>5</td>\n",
              "    </tr>\n",
              "    <tr>\n",
              "      <th>2</th>\n",
              "      <td>Lenovo</td>\n",
              "      <td>Intel</td>\n",
              "      <td>Core i3</td>\n",
              "      <td>10th</td>\n",
              "      <td>4 GB</td>\n",
              "      <td>DDR4</td>\n",
              "      <td>0 GB</td>\n",
              "      <td>1024 GB</td>\n",
              "      <td>Windows</td>\n",
              "      <td>64-bit</td>\n",
              "      <td>0 GB</td>\n",
              "      <td>Casual</td>\n",
              "      <td>No warranty</td>\n",
              "      <td>No</td>\n",
              "      <td>No</td>\n",
              "      <td>39999</td>\n",
              "      <td>3 stars</td>\n",
              "      <td>8</td>\n",
              "      <td>1</td>\n",
              "    </tr>\n",
              "    <tr>\n",
              "      <th>3</th>\n",
              "      <td>ASUS</td>\n",
              "      <td>Intel</td>\n",
              "      <td>Core i5</td>\n",
              "      <td>10th</td>\n",
              "      <td>8 GB</td>\n",
              "      <td>DDR4</td>\n",
              "      <td>512 GB</td>\n",
              "      <td>0 GB</td>\n",
              "      <td>Windows</td>\n",
              "      <td>32-bit</td>\n",
              "      <td>2 GB</td>\n",
              "      <td>Casual</td>\n",
              "      <td>No warranty</td>\n",
              "      <td>No</td>\n",
              "      <td>No</td>\n",
              "      <td>69990</td>\n",
              "      <td>3 stars</td>\n",
              "      <td>0</td>\n",
              "      <td>0</td>\n",
              "    </tr>\n",
              "    <tr>\n",
              "      <th>4</th>\n",
              "      <td>ASUS</td>\n",
              "      <td>Intel</td>\n",
              "      <td>Celeron Dual</td>\n",
              "      <td>Not Available</td>\n",
              "      <td>4 GB</td>\n",
              "      <td>DDR4</td>\n",
              "      <td>0 GB</td>\n",
              "      <td>512 GB</td>\n",
              "      <td>Windows</td>\n",
              "      <td>64-bit</td>\n",
              "      <td>0 GB</td>\n",
              "      <td>Casual</td>\n",
              "      <td>No warranty</td>\n",
              "      <td>No</td>\n",
              "      <td>No</td>\n",
              "      <td>26990</td>\n",
              "      <td>3 stars</td>\n",
              "      <td>0</td>\n",
              "      <td>0</td>\n",
              "    </tr>\n",
              "  </tbody>\n",
              "</table>\n",
              "</div>\n",
              "      <button class=\"colab-df-convert\" onclick=\"convertToInteractive('df-2ae94cdc-7b1a-4b07-9200-bab435138edf')\"\n",
              "              title=\"Convert this dataframe to an interactive table.\"\n",
              "              style=\"display:none;\">\n",
              "        \n",
              "  <svg xmlns=\"http://www.w3.org/2000/svg\" height=\"24px\"viewBox=\"0 0 24 24\"\n",
              "       width=\"24px\">\n",
              "    <path d=\"M0 0h24v24H0V0z\" fill=\"none\"/>\n",
              "    <path d=\"M18.56 5.44l.94 2.06.94-2.06 2.06-.94-2.06-.94-.94-2.06-.94 2.06-2.06.94zm-11 1L8.5 8.5l.94-2.06 2.06-.94-2.06-.94L8.5 2.5l-.94 2.06-2.06.94zm10 10l.94 2.06.94-2.06 2.06-.94-2.06-.94-.94-2.06-.94 2.06-2.06.94z\"/><path d=\"M17.41 7.96l-1.37-1.37c-.4-.4-.92-.59-1.43-.59-.52 0-1.04.2-1.43.59L10.3 9.45l-7.72 7.72c-.78.78-.78 2.05 0 2.83L4 21.41c.39.39.9.59 1.41.59.51 0 1.02-.2 1.41-.59l7.78-7.78 2.81-2.81c.8-.78.8-2.07 0-2.86zM5.41 20L4 18.59l7.72-7.72 1.47 1.35L5.41 20z\"/>\n",
              "  </svg>\n",
              "      </button>\n",
              "      \n",
              "  <style>\n",
              "    .colab-df-container {\n",
              "      display:flex;\n",
              "      flex-wrap:wrap;\n",
              "      gap: 12px;\n",
              "    }\n",
              "\n",
              "    .colab-df-convert {\n",
              "      background-color: #E8F0FE;\n",
              "      border: none;\n",
              "      border-radius: 50%;\n",
              "      cursor: pointer;\n",
              "      display: none;\n",
              "      fill: #1967D2;\n",
              "      height: 32px;\n",
              "      padding: 0 0 0 0;\n",
              "      width: 32px;\n",
              "    }\n",
              "\n",
              "    .colab-df-convert:hover {\n",
              "      background-color: #E2EBFA;\n",
              "      box-shadow: 0px 1px 2px rgba(60, 64, 67, 0.3), 0px 1px 3px 1px rgba(60, 64, 67, 0.15);\n",
              "      fill: #174EA6;\n",
              "    }\n",
              "\n",
              "    [theme=dark] .colab-df-convert {\n",
              "      background-color: #3B4455;\n",
              "      fill: #D2E3FC;\n",
              "    }\n",
              "\n",
              "    [theme=dark] .colab-df-convert:hover {\n",
              "      background-color: #434B5C;\n",
              "      box-shadow: 0px 1px 3px 1px rgba(0, 0, 0, 0.15);\n",
              "      filter: drop-shadow(0px 1px 2px rgba(0, 0, 0, 0.3));\n",
              "      fill: #FFFFFF;\n",
              "    }\n",
              "  </style>\n",
              "\n",
              "      <script>\n",
              "        const buttonEl =\n",
              "          document.querySelector('#df-2ae94cdc-7b1a-4b07-9200-bab435138edf button.colab-df-convert');\n",
              "        buttonEl.style.display =\n",
              "          google.colab.kernel.accessAllowed ? 'block' : 'none';\n",
              "\n",
              "        async function convertToInteractive(key) {\n",
              "          const element = document.querySelector('#df-2ae94cdc-7b1a-4b07-9200-bab435138edf');\n",
              "          const dataTable =\n",
              "            await google.colab.kernel.invokeFunction('convertToInteractive',\n",
              "                                                     [key], {});\n",
              "          if (!dataTable) return;\n",
              "\n",
              "          const docLinkHtml = 'Like what you see? Visit the ' +\n",
              "            '<a target=\"_blank\" href=https://colab.research.google.com/notebooks/data_table.ipynb>data table notebook</a>'\n",
              "            + ' to learn more about interactive tables.';\n",
              "          element.innerHTML = '';\n",
              "          dataTable['output_type'] = 'display_data';\n",
              "          await google.colab.output.renderOutput(dataTable, element);\n",
              "          const docLink = document.createElement('div');\n",
              "          docLink.innerHTML = docLinkHtml;\n",
              "          element.appendChild(docLink);\n",
              "        }\n",
              "      </script>\n",
              "    </div>\n",
              "  </div>\n",
              "  "
            ]
          },
          "metadata": {},
          "execution_count": 5
        }
      ]
    },
    {
      "cell_type": "code",
      "source": [
        "dataframe.info"
      ],
      "metadata": {
        "colab": {
          "base_uri": "https://localhost:8080/"
        },
        "id": "VjDkOft71hY7",
        "outputId": "ffab802b-a192-4329-de98-aad8cfb59b49"
      },
      "execution_count": 6,
      "outputs": [
        {
          "output_type": "execute_result",
          "data": {
            "text/plain": [
              "<bound method DataFrame.info of       brand processor_brand processor_name processor_gnrtn ram_gb ram_type  \\\n",
              "0      ASUS           Intel        Core i3            10th   4 GB     DDR4   \n",
              "1    Lenovo           Intel        Core i3            10th   4 GB     DDR4   \n",
              "2    Lenovo           Intel        Core i3            10th   4 GB     DDR4   \n",
              "3      ASUS           Intel        Core i5            10th   8 GB     DDR4   \n",
              "4      ASUS           Intel   Celeron Dual   Not Available   4 GB     DDR4   \n",
              "..      ...             ...            ...             ...    ...      ...   \n",
              "818    ASUS             AMD        Ryzen 9   Not Available   4 GB     DDR4   \n",
              "819    ASUS             AMD        Ryzen 9   Not Available   4 GB     DDR4   \n",
              "820    ASUS             AMD        Ryzen 9   Not Available   4 GB     DDR4   \n",
              "821    ASUS             AMD        Ryzen 9   Not Available   4 GB     DDR4   \n",
              "822  Lenovo             AMD        Ryzen 5            10th   8 GB     DDR4   \n",
              "\n",
              "         ssd      hdd       os  os_bit graphic_card_gb      weight  \\\n",
              "0       0 GB  1024 GB  Windows  64-bit            0 GB      Casual   \n",
              "1       0 GB  1024 GB  Windows  64-bit            0 GB      Casual   \n",
              "2       0 GB  1024 GB  Windows  64-bit            0 GB      Casual   \n",
              "3     512 GB     0 GB  Windows  32-bit            2 GB      Casual   \n",
              "4       0 GB   512 GB  Windows  64-bit            0 GB      Casual   \n",
              "..       ...      ...      ...     ...             ...         ...   \n",
              "818  1024 GB     0 GB  Windows  64-bit            0 GB      Casual   \n",
              "819  1024 GB     0 GB  Windows  64-bit            0 GB      Casual   \n",
              "820  1024 GB     0 GB  Windows  64-bit            4 GB      Casual   \n",
              "821  1024 GB     0 GB  Windows  64-bit            4 GB      Casual   \n",
              "822   512 GB     0 GB      DOS  64-bit            0 GB  ThinNlight   \n",
              "\n",
              "        warranty Touchscreen msoffice   Price   rating  Number of Ratings  \\\n",
              "0    No warranty          No       No   34649  2 stars                  3   \n",
              "1    No warranty          No       No   38999  3 stars                 65   \n",
              "2    No warranty          No       No   39999  3 stars                  8   \n",
              "3    No warranty          No       No   69990  3 stars                  0   \n",
              "4    No warranty          No       No   26990  3 stars                  0   \n",
              "..           ...         ...      ...     ...      ...                ...   \n",
              "818       1 year          No       No  135990  3 stars                  0   \n",
              "819       1 year          No       No  144990  3 stars                  0   \n",
              "820       1 year          No       No  149990  3 stars                  0   \n",
              "821       1 year          No       No  142990  3 stars                  0   \n",
              "822  No warranty          No       No   57490  4 stars                 18   \n",
              "\n",
              "     Number of Reviews  \n",
              "0                    0  \n",
              "1                    5  \n",
              "2                    1  \n",
              "3                    0  \n",
              "4                    0  \n",
              "..                 ...  \n",
              "818                  0  \n",
              "819                  0  \n",
              "820                  0  \n",
              "821                  0  \n",
              "822                  4  \n",
              "\n",
              "[823 rows x 19 columns]>"
            ]
          },
          "metadata": {},
          "execution_count": 6
        }
      ]
    },
    {
      "cell_type": "code",
      "source": [
        "#Showing columns of dataset\n",
        "dataframe.columns"
      ],
      "metadata": {
        "colab": {
          "base_uri": "https://localhost:8080/"
        },
        "id": "eNKQyU7F2Ypb",
        "outputId": "c6f2116b-2632-4db5-d9f1-9b8ab5d4abcd"
      },
      "execution_count": 7,
      "outputs": [
        {
          "output_type": "execute_result",
          "data": {
            "text/plain": [
              "Index(['brand', 'processor_brand', 'processor_name', 'processor_gnrtn',\n",
              "       'ram_gb', 'ram_type', 'ssd', 'hdd', 'os', 'os_bit', 'graphic_card_gb',\n",
              "       'weight', 'warranty', 'Touchscreen', 'msoffice', 'Price', 'rating',\n",
              "       'Number of Ratings', 'Number of Reviews'],\n",
              "      dtype='object')"
            ]
          },
          "metadata": {},
          "execution_count": 7
        }
      ]
    },
    {
      "cell_type": "code",
      "source": [
        "#now we want to see how many records and columns we have in our datset\n",
        "dataframe.shape"
      ],
      "metadata": {
        "colab": {
          "base_uri": "https://localhost:8080/"
        },
        "id": "k6IxunqZ2fKD",
        "outputId": "ce34f96d-ca7c-49a1-834e-f4e929f6ed01"
      },
      "execution_count": 8,
      "outputs": [
        {
          "output_type": "execute_result",
          "data": {
            "text/plain": [
              "(823, 19)"
            ]
          },
          "metadata": {},
          "execution_count": 8
        }
      ]
    },
    {
      "cell_type": "code",
      "source": [
        "dataframe.dtypes"
      ],
      "metadata": {
        "colab": {
          "base_uri": "https://localhost:8080/"
        },
        "id": "s9mDSsaj2uPu",
        "outputId": "5147a63b-575d-41ac-9fec-dd9ce9b83e05"
      },
      "execution_count": 9,
      "outputs": [
        {
          "output_type": "execute_result",
          "data": {
            "text/plain": [
              "brand                object\n",
              "processor_brand      object\n",
              "processor_name       object\n",
              "processor_gnrtn      object\n",
              "ram_gb               object\n",
              "ram_type             object\n",
              "ssd                  object\n",
              "hdd                  object\n",
              "os                   object\n",
              "os_bit               object\n",
              "graphic_card_gb      object\n",
              "weight               object\n",
              "warranty             object\n",
              "Touchscreen          object\n",
              "msoffice             object\n",
              "Price                 int64\n",
              "rating               object\n",
              "Number of Ratings     int64\n",
              "Number of Reviews     int64\n",
              "dtype: object"
            ]
          },
          "metadata": {},
          "execution_count": 9
        }
      ]
    },
    {
      "cell_type": "code",
      "source": [
        "dataframe.dtypes"
      ],
      "metadata": {
        "colab": {
          "base_uri": "https://localhost:8080/"
        },
        "id": "s_L5DPSL5lKC",
        "outputId": "849f3236-704e-46c6-afbf-bab5bb2594de"
      },
      "execution_count": 14,
      "outputs": [
        {
          "output_type": "execute_result",
          "data": {
            "text/plain": [
              "brand                object\n",
              "processor_brand      object\n",
              "processor_name       object\n",
              "processor_gnrtn      object\n",
              "ram_gb               object\n",
              "ram_type             object\n",
              "ssd                  object\n",
              "hdd                  object\n",
              "os                   object\n",
              "os_bit               object\n",
              "graphic_card_gb      object\n",
              "weight               object\n",
              "warranty             object\n",
              "Touchscreen          object\n",
              "msoffice             object\n",
              "Price                 int64\n",
              "rating               object\n",
              "Number of Ratings     int64\n",
              "Number of Reviews     int64\n",
              "dtype: object"
            ]
          },
          "metadata": {},
          "execution_count": 14
        }
      ]
    },
    {
      "cell_type": "code",
      "source": [
        "#As we are seeing that most of the features of our datasets are object types.In a Machine learning project our model cannot worked with object type \n",
        "#variable so we have to convert this into numerical attribute so, we will start data preproccesing now."
      ],
      "metadata": {
        "id": "N9-jUN4W6nLp"
      },
      "execution_count": 15,
      "outputs": []
    },
    {
      "cell_type": "markdown",
      "source": [
        "**Data Preprocessing**"
      ],
      "metadata": {
        "id": "i85FDTDF7P4U"
      }
    },
    {
      "cell_type": "code",
      "source": [
        "#We will start data preproceesing by a make a copy of our orginal dataset as we dont want to change our orginal dataset\n",
        "#df contains the orginal dataset now and now we will use this for data preprocessing\n",
        "df = dataframe.copy()\n"
      ],
      "metadata": {
        "id": "D72g_xuB7TKY"
      },
      "execution_count": 17,
      "outputs": []
    },
    {
      "cell_type": "code",
      "source": [
        "df.head()"
      ],
      "metadata": {
        "colab": {
          "base_uri": "https://localhost:8080/",
          "height": 391
        },
        "id": "oWrDQFm17rxX",
        "outputId": "ddb8b76b-3571-4c03-f651-c6705b9b330c"
      },
      "execution_count": 18,
      "outputs": [
        {
          "output_type": "execute_result",
          "data": {
            "text/plain": [
              "    brand processor_brand processor_name processor_gnrtn ram_gb ram_type  \\\n",
              "0    ASUS           Intel        Core i3            10th   4 GB     DDR4   \n",
              "1  Lenovo           Intel        Core i3            10th   4 GB     DDR4   \n",
              "2  Lenovo           Intel        Core i3            10th   4 GB     DDR4   \n",
              "3    ASUS           Intel        Core i5            10th   8 GB     DDR4   \n",
              "4    ASUS           Intel   Celeron Dual   Not Available   4 GB     DDR4   \n",
              "\n",
              "      ssd      hdd       os  os_bit graphic_card_gb  weight     warranty  \\\n",
              "0    0 GB  1024 GB  Windows  64-bit            0 GB  Casual  No warranty   \n",
              "1    0 GB  1024 GB  Windows  64-bit            0 GB  Casual  No warranty   \n",
              "2    0 GB  1024 GB  Windows  64-bit            0 GB  Casual  No warranty   \n",
              "3  512 GB     0 GB  Windows  32-bit            2 GB  Casual  No warranty   \n",
              "4    0 GB   512 GB  Windows  64-bit            0 GB  Casual  No warranty   \n",
              "\n",
              "  Touchscreen msoffice  Price   rating  Number of Ratings  Number of Reviews  \n",
              "0          No       No  34649  2 stars                  3                  0  \n",
              "1          No       No  38999  3 stars                 65                  5  \n",
              "2          No       No  39999  3 stars                  8                  1  \n",
              "3          No       No  69990  3 stars                  0                  0  \n",
              "4          No       No  26990  3 stars                  0                  0  "
            ],
            "text/html": [
              "\n",
              "  <div id=\"df-5b89e9d1-ff07-4314-af98-dc1c5596247d\">\n",
              "    <div class=\"colab-df-container\">\n",
              "      <div>\n",
              "<style scoped>\n",
              "    .dataframe tbody tr th:only-of-type {\n",
              "        vertical-align: middle;\n",
              "    }\n",
              "\n",
              "    .dataframe tbody tr th {\n",
              "        vertical-align: top;\n",
              "    }\n",
              "\n",
              "    .dataframe thead th {\n",
              "        text-align: right;\n",
              "    }\n",
              "</style>\n",
              "<table border=\"1\" class=\"dataframe\">\n",
              "  <thead>\n",
              "    <tr style=\"text-align: right;\">\n",
              "      <th></th>\n",
              "      <th>brand</th>\n",
              "      <th>processor_brand</th>\n",
              "      <th>processor_name</th>\n",
              "      <th>processor_gnrtn</th>\n",
              "      <th>ram_gb</th>\n",
              "      <th>ram_type</th>\n",
              "      <th>ssd</th>\n",
              "      <th>hdd</th>\n",
              "      <th>os</th>\n",
              "      <th>os_bit</th>\n",
              "      <th>graphic_card_gb</th>\n",
              "      <th>weight</th>\n",
              "      <th>warranty</th>\n",
              "      <th>Touchscreen</th>\n",
              "      <th>msoffice</th>\n",
              "      <th>Price</th>\n",
              "      <th>rating</th>\n",
              "      <th>Number of Ratings</th>\n",
              "      <th>Number of Reviews</th>\n",
              "    </tr>\n",
              "  </thead>\n",
              "  <tbody>\n",
              "    <tr>\n",
              "      <th>0</th>\n",
              "      <td>ASUS</td>\n",
              "      <td>Intel</td>\n",
              "      <td>Core i3</td>\n",
              "      <td>10th</td>\n",
              "      <td>4 GB</td>\n",
              "      <td>DDR4</td>\n",
              "      <td>0 GB</td>\n",
              "      <td>1024 GB</td>\n",
              "      <td>Windows</td>\n",
              "      <td>64-bit</td>\n",
              "      <td>0 GB</td>\n",
              "      <td>Casual</td>\n",
              "      <td>No warranty</td>\n",
              "      <td>No</td>\n",
              "      <td>No</td>\n",
              "      <td>34649</td>\n",
              "      <td>2 stars</td>\n",
              "      <td>3</td>\n",
              "      <td>0</td>\n",
              "    </tr>\n",
              "    <tr>\n",
              "      <th>1</th>\n",
              "      <td>Lenovo</td>\n",
              "      <td>Intel</td>\n",
              "      <td>Core i3</td>\n",
              "      <td>10th</td>\n",
              "      <td>4 GB</td>\n",
              "      <td>DDR4</td>\n",
              "      <td>0 GB</td>\n",
              "      <td>1024 GB</td>\n",
              "      <td>Windows</td>\n",
              "      <td>64-bit</td>\n",
              "      <td>0 GB</td>\n",
              "      <td>Casual</td>\n",
              "      <td>No warranty</td>\n",
              "      <td>No</td>\n",
              "      <td>No</td>\n",
              "      <td>38999</td>\n",
              "      <td>3 stars</td>\n",
              "      <td>65</td>\n",
              "      <td>5</td>\n",
              "    </tr>\n",
              "    <tr>\n",
              "      <th>2</th>\n",
              "      <td>Lenovo</td>\n",
              "      <td>Intel</td>\n",
              "      <td>Core i3</td>\n",
              "      <td>10th</td>\n",
              "      <td>4 GB</td>\n",
              "      <td>DDR4</td>\n",
              "      <td>0 GB</td>\n",
              "      <td>1024 GB</td>\n",
              "      <td>Windows</td>\n",
              "      <td>64-bit</td>\n",
              "      <td>0 GB</td>\n",
              "      <td>Casual</td>\n",
              "      <td>No warranty</td>\n",
              "      <td>No</td>\n",
              "      <td>No</td>\n",
              "      <td>39999</td>\n",
              "      <td>3 stars</td>\n",
              "      <td>8</td>\n",
              "      <td>1</td>\n",
              "    </tr>\n",
              "    <tr>\n",
              "      <th>3</th>\n",
              "      <td>ASUS</td>\n",
              "      <td>Intel</td>\n",
              "      <td>Core i5</td>\n",
              "      <td>10th</td>\n",
              "      <td>8 GB</td>\n",
              "      <td>DDR4</td>\n",
              "      <td>512 GB</td>\n",
              "      <td>0 GB</td>\n",
              "      <td>Windows</td>\n",
              "      <td>32-bit</td>\n",
              "      <td>2 GB</td>\n",
              "      <td>Casual</td>\n",
              "      <td>No warranty</td>\n",
              "      <td>No</td>\n",
              "      <td>No</td>\n",
              "      <td>69990</td>\n",
              "      <td>3 stars</td>\n",
              "      <td>0</td>\n",
              "      <td>0</td>\n",
              "    </tr>\n",
              "    <tr>\n",
              "      <th>4</th>\n",
              "      <td>ASUS</td>\n",
              "      <td>Intel</td>\n",
              "      <td>Celeron Dual</td>\n",
              "      <td>Not Available</td>\n",
              "      <td>4 GB</td>\n",
              "      <td>DDR4</td>\n",
              "      <td>0 GB</td>\n",
              "      <td>512 GB</td>\n",
              "      <td>Windows</td>\n",
              "      <td>64-bit</td>\n",
              "      <td>0 GB</td>\n",
              "      <td>Casual</td>\n",
              "      <td>No warranty</td>\n",
              "      <td>No</td>\n",
              "      <td>No</td>\n",
              "      <td>26990</td>\n",
              "      <td>3 stars</td>\n",
              "      <td>0</td>\n",
              "      <td>0</td>\n",
              "    </tr>\n",
              "  </tbody>\n",
              "</table>\n",
              "</div>\n",
              "      <button class=\"colab-df-convert\" onclick=\"convertToInteractive('df-5b89e9d1-ff07-4314-af98-dc1c5596247d')\"\n",
              "              title=\"Convert this dataframe to an interactive table.\"\n",
              "              style=\"display:none;\">\n",
              "        \n",
              "  <svg xmlns=\"http://www.w3.org/2000/svg\" height=\"24px\"viewBox=\"0 0 24 24\"\n",
              "       width=\"24px\">\n",
              "    <path d=\"M0 0h24v24H0V0z\" fill=\"none\"/>\n",
              "    <path d=\"M18.56 5.44l.94 2.06.94-2.06 2.06-.94-2.06-.94-.94-2.06-.94 2.06-2.06.94zm-11 1L8.5 8.5l.94-2.06 2.06-.94-2.06-.94L8.5 2.5l-.94 2.06-2.06.94zm10 10l.94 2.06.94-2.06 2.06-.94-2.06-.94-.94-2.06-.94 2.06-2.06.94z\"/><path d=\"M17.41 7.96l-1.37-1.37c-.4-.4-.92-.59-1.43-.59-.52 0-1.04.2-1.43.59L10.3 9.45l-7.72 7.72c-.78.78-.78 2.05 0 2.83L4 21.41c.39.39.9.59 1.41.59.51 0 1.02-.2 1.41-.59l7.78-7.78 2.81-2.81c.8-.78.8-2.07 0-2.86zM5.41 20L4 18.59l7.72-7.72 1.47 1.35L5.41 20z\"/>\n",
              "  </svg>\n",
              "      </button>\n",
              "      \n",
              "  <style>\n",
              "    .colab-df-container {\n",
              "      display:flex;\n",
              "      flex-wrap:wrap;\n",
              "      gap: 12px;\n",
              "    }\n",
              "\n",
              "    .colab-df-convert {\n",
              "      background-color: #E8F0FE;\n",
              "      border: none;\n",
              "      border-radius: 50%;\n",
              "      cursor: pointer;\n",
              "      display: none;\n",
              "      fill: #1967D2;\n",
              "      height: 32px;\n",
              "      padding: 0 0 0 0;\n",
              "      width: 32px;\n",
              "    }\n",
              "\n",
              "    .colab-df-convert:hover {\n",
              "      background-color: #E2EBFA;\n",
              "      box-shadow: 0px 1px 2px rgba(60, 64, 67, 0.3), 0px 1px 3px 1px rgba(60, 64, 67, 0.15);\n",
              "      fill: #174EA6;\n",
              "    }\n",
              "\n",
              "    [theme=dark] .colab-df-convert {\n",
              "      background-color: #3B4455;\n",
              "      fill: #D2E3FC;\n",
              "    }\n",
              "\n",
              "    [theme=dark] .colab-df-convert:hover {\n",
              "      background-color: #434B5C;\n",
              "      box-shadow: 0px 1px 3px 1px rgba(0, 0, 0, 0.15);\n",
              "      filter: drop-shadow(0px 1px 2px rgba(0, 0, 0, 0.3));\n",
              "      fill: #FFFFFF;\n",
              "    }\n",
              "  </style>\n",
              "\n",
              "      <script>\n",
              "        const buttonEl =\n",
              "          document.querySelector('#df-5b89e9d1-ff07-4314-af98-dc1c5596247d button.colab-df-convert');\n",
              "        buttonEl.style.display =\n",
              "          google.colab.kernel.accessAllowed ? 'block' : 'none';\n",
              "\n",
              "        async function convertToInteractive(key) {\n",
              "          const element = document.querySelector('#df-5b89e9d1-ff07-4314-af98-dc1c5596247d');\n",
              "          const dataTable =\n",
              "            await google.colab.kernel.invokeFunction('convertToInteractive',\n",
              "                                                     [key], {});\n",
              "          if (!dataTable) return;\n",
              "\n",
              "          const docLinkHtml = 'Like what you see? Visit the ' +\n",
              "            '<a target=\"_blank\" href=https://colab.research.google.com/notebooks/data_table.ipynb>data table notebook</a>'\n",
              "            + ' to learn more about interactive tables.';\n",
              "          element.innerHTML = '';\n",
              "          dataTable['output_type'] = 'display_data';\n",
              "          await google.colab.output.renderOutput(dataTable, element);\n",
              "          const docLink = document.createElement('div');\n",
              "          docLink.innerHTML = docLinkHtml;\n",
              "          element.appendChild(docLink);\n",
              "        }\n",
              "      </script>\n",
              "    </div>\n",
              "  </div>\n",
              "  "
            ]
          },
          "metadata": {},
          "execution_count": 18
        }
      ]
    },
    {
      "cell_type": "code",
      "source": [
        "#For converting the object of a particular feature we have to know how many unique values are there\n",
        "\n",
        "#to do that : df['column name'].value_counts()\n",
        "\n",
        "#Now we want to know how many unique laptop brands are present in our dataset\n",
        "\n",
        "df['brand'].value_counts()"
      ],
      "metadata": {
        "colab": {
          "base_uri": "https://localhost:8080/"
        },
        "id": "BK42foeR8Dy1",
        "outputId": "893f1599-9e1c-4839-d8a9-9b65d0b841ab"
      },
      "execution_count": 19,
      "outputs": [
        {
          "output_type": "execute_result",
          "data": {
            "text/plain": [
              "ASUS      249\n",
              "DELL      151\n",
              "Lenovo    144\n",
              "HP        136\n",
              "acer       51\n",
              "MSI        50\n",
              "APPLE      28\n",
              "Avita      14\n",
              "Name: brand, dtype: int64"
            ]
          },
          "metadata": {},
          "execution_count": 19
        }
      ]
    },
    {
      "cell_type": "code",
      "source": [
        "#Now we will replace this into a numerical value , Example suppose we will give 0 value to Asus.\n",
        "\n",
        "df['brand'].replace('ASUS',0,inplace=True)\n",
        "df['brand'].replace('DELL',1,inplace=True)\n",
        "df['brand'].replace('Lenovo',2,inplace=True)\n",
        "df['brand'].replace('HP',3,inplace=True)\n",
        "df['brand'].replace('acer',4,inplace=True)\n",
        "df['brand'].replace('MSI',5,inplace=True)\n",
        "df['brand'].replace('APPLE',6,inplace=True)\n",
        "df['brand'].replace('Avita',7,inplace=True)\n",
        "\n",
        "# Preprocessing of the brand is done"
      ],
      "metadata": {
        "id": "z0ipsjN1_AQi"
      },
      "execution_count": 20,
      "outputs": []
    },
    {
      "cell_type": "code",
      "source": [
        "#now we will see is this work is done by looking at the dataset\n",
        "df.head()"
      ],
      "metadata": {
        "colab": {
          "base_uri": "https://localhost:8080/",
          "height": 391
        },
        "id": "CcgmmVqV_WZ-",
        "outputId": "4580502e-4d7d-4585-f411-135df73d0ed9"
      },
      "execution_count": 21,
      "outputs": [
        {
          "output_type": "execute_result",
          "data": {
            "text/plain": [
              "   brand processor_brand processor_name processor_gnrtn ram_gb ram_type  \\\n",
              "0      0           Intel        Core i3            10th   4 GB     DDR4   \n",
              "1      2           Intel        Core i3            10th   4 GB     DDR4   \n",
              "2      2           Intel        Core i3            10th   4 GB     DDR4   \n",
              "3      0           Intel        Core i5            10th   8 GB     DDR4   \n",
              "4      0           Intel   Celeron Dual   Not Available   4 GB     DDR4   \n",
              "\n",
              "      ssd      hdd       os  os_bit graphic_card_gb  weight     warranty  \\\n",
              "0    0 GB  1024 GB  Windows  64-bit            0 GB  Casual  No warranty   \n",
              "1    0 GB  1024 GB  Windows  64-bit            0 GB  Casual  No warranty   \n",
              "2    0 GB  1024 GB  Windows  64-bit            0 GB  Casual  No warranty   \n",
              "3  512 GB     0 GB  Windows  32-bit            2 GB  Casual  No warranty   \n",
              "4    0 GB   512 GB  Windows  64-bit            0 GB  Casual  No warranty   \n",
              "\n",
              "  Touchscreen msoffice  Price   rating  Number of Ratings  Number of Reviews  \n",
              "0          No       No  34649  2 stars                  3                  0  \n",
              "1          No       No  38999  3 stars                 65                  5  \n",
              "2          No       No  39999  3 stars                  8                  1  \n",
              "3          No       No  69990  3 stars                  0                  0  \n",
              "4          No       No  26990  3 stars                  0                  0  "
            ],
            "text/html": [
              "\n",
              "  <div id=\"df-2e1250f7-818a-4222-934a-9bc5f913efec\">\n",
              "    <div class=\"colab-df-container\">\n",
              "      <div>\n",
              "<style scoped>\n",
              "    .dataframe tbody tr th:only-of-type {\n",
              "        vertical-align: middle;\n",
              "    }\n",
              "\n",
              "    .dataframe tbody tr th {\n",
              "        vertical-align: top;\n",
              "    }\n",
              "\n",
              "    .dataframe thead th {\n",
              "        text-align: right;\n",
              "    }\n",
              "</style>\n",
              "<table border=\"1\" class=\"dataframe\">\n",
              "  <thead>\n",
              "    <tr style=\"text-align: right;\">\n",
              "      <th></th>\n",
              "      <th>brand</th>\n",
              "      <th>processor_brand</th>\n",
              "      <th>processor_name</th>\n",
              "      <th>processor_gnrtn</th>\n",
              "      <th>ram_gb</th>\n",
              "      <th>ram_type</th>\n",
              "      <th>ssd</th>\n",
              "      <th>hdd</th>\n",
              "      <th>os</th>\n",
              "      <th>os_bit</th>\n",
              "      <th>graphic_card_gb</th>\n",
              "      <th>weight</th>\n",
              "      <th>warranty</th>\n",
              "      <th>Touchscreen</th>\n",
              "      <th>msoffice</th>\n",
              "      <th>Price</th>\n",
              "      <th>rating</th>\n",
              "      <th>Number of Ratings</th>\n",
              "      <th>Number of Reviews</th>\n",
              "    </tr>\n",
              "  </thead>\n",
              "  <tbody>\n",
              "    <tr>\n",
              "      <th>0</th>\n",
              "      <td>0</td>\n",
              "      <td>Intel</td>\n",
              "      <td>Core i3</td>\n",
              "      <td>10th</td>\n",
              "      <td>4 GB</td>\n",
              "      <td>DDR4</td>\n",
              "      <td>0 GB</td>\n",
              "      <td>1024 GB</td>\n",
              "      <td>Windows</td>\n",
              "      <td>64-bit</td>\n",
              "      <td>0 GB</td>\n",
              "      <td>Casual</td>\n",
              "      <td>No warranty</td>\n",
              "      <td>No</td>\n",
              "      <td>No</td>\n",
              "      <td>34649</td>\n",
              "      <td>2 stars</td>\n",
              "      <td>3</td>\n",
              "      <td>0</td>\n",
              "    </tr>\n",
              "    <tr>\n",
              "      <th>1</th>\n",
              "      <td>2</td>\n",
              "      <td>Intel</td>\n",
              "      <td>Core i3</td>\n",
              "      <td>10th</td>\n",
              "      <td>4 GB</td>\n",
              "      <td>DDR4</td>\n",
              "      <td>0 GB</td>\n",
              "      <td>1024 GB</td>\n",
              "      <td>Windows</td>\n",
              "      <td>64-bit</td>\n",
              "      <td>0 GB</td>\n",
              "      <td>Casual</td>\n",
              "      <td>No warranty</td>\n",
              "      <td>No</td>\n",
              "      <td>No</td>\n",
              "      <td>38999</td>\n",
              "      <td>3 stars</td>\n",
              "      <td>65</td>\n",
              "      <td>5</td>\n",
              "    </tr>\n",
              "    <tr>\n",
              "      <th>2</th>\n",
              "      <td>2</td>\n",
              "      <td>Intel</td>\n",
              "      <td>Core i3</td>\n",
              "      <td>10th</td>\n",
              "      <td>4 GB</td>\n",
              "      <td>DDR4</td>\n",
              "      <td>0 GB</td>\n",
              "      <td>1024 GB</td>\n",
              "      <td>Windows</td>\n",
              "      <td>64-bit</td>\n",
              "      <td>0 GB</td>\n",
              "      <td>Casual</td>\n",
              "      <td>No warranty</td>\n",
              "      <td>No</td>\n",
              "      <td>No</td>\n",
              "      <td>39999</td>\n",
              "      <td>3 stars</td>\n",
              "      <td>8</td>\n",
              "      <td>1</td>\n",
              "    </tr>\n",
              "    <tr>\n",
              "      <th>3</th>\n",
              "      <td>0</td>\n",
              "      <td>Intel</td>\n",
              "      <td>Core i5</td>\n",
              "      <td>10th</td>\n",
              "      <td>8 GB</td>\n",
              "      <td>DDR4</td>\n",
              "      <td>512 GB</td>\n",
              "      <td>0 GB</td>\n",
              "      <td>Windows</td>\n",
              "      <td>32-bit</td>\n",
              "      <td>2 GB</td>\n",
              "      <td>Casual</td>\n",
              "      <td>No warranty</td>\n",
              "      <td>No</td>\n",
              "      <td>No</td>\n",
              "      <td>69990</td>\n",
              "      <td>3 stars</td>\n",
              "      <td>0</td>\n",
              "      <td>0</td>\n",
              "    </tr>\n",
              "    <tr>\n",
              "      <th>4</th>\n",
              "      <td>0</td>\n",
              "      <td>Intel</td>\n",
              "      <td>Celeron Dual</td>\n",
              "      <td>Not Available</td>\n",
              "      <td>4 GB</td>\n",
              "      <td>DDR4</td>\n",
              "      <td>0 GB</td>\n",
              "      <td>512 GB</td>\n",
              "      <td>Windows</td>\n",
              "      <td>64-bit</td>\n",
              "      <td>0 GB</td>\n",
              "      <td>Casual</td>\n",
              "      <td>No warranty</td>\n",
              "      <td>No</td>\n",
              "      <td>No</td>\n",
              "      <td>26990</td>\n",
              "      <td>3 stars</td>\n",
              "      <td>0</td>\n",
              "      <td>0</td>\n",
              "    </tr>\n",
              "  </tbody>\n",
              "</table>\n",
              "</div>\n",
              "      <button class=\"colab-df-convert\" onclick=\"convertToInteractive('df-2e1250f7-818a-4222-934a-9bc5f913efec')\"\n",
              "              title=\"Convert this dataframe to an interactive table.\"\n",
              "              style=\"display:none;\">\n",
              "        \n",
              "  <svg xmlns=\"http://www.w3.org/2000/svg\" height=\"24px\"viewBox=\"0 0 24 24\"\n",
              "       width=\"24px\">\n",
              "    <path d=\"M0 0h24v24H0V0z\" fill=\"none\"/>\n",
              "    <path d=\"M18.56 5.44l.94 2.06.94-2.06 2.06-.94-2.06-.94-.94-2.06-.94 2.06-2.06.94zm-11 1L8.5 8.5l.94-2.06 2.06-.94-2.06-.94L8.5 2.5l-.94 2.06-2.06.94zm10 10l.94 2.06.94-2.06 2.06-.94-2.06-.94-.94-2.06-.94 2.06-2.06.94z\"/><path d=\"M17.41 7.96l-1.37-1.37c-.4-.4-.92-.59-1.43-.59-.52 0-1.04.2-1.43.59L10.3 9.45l-7.72 7.72c-.78.78-.78 2.05 0 2.83L4 21.41c.39.39.9.59 1.41.59.51 0 1.02-.2 1.41-.59l7.78-7.78 2.81-2.81c.8-.78.8-2.07 0-2.86zM5.41 20L4 18.59l7.72-7.72 1.47 1.35L5.41 20z\"/>\n",
              "  </svg>\n",
              "      </button>\n",
              "      \n",
              "  <style>\n",
              "    .colab-df-container {\n",
              "      display:flex;\n",
              "      flex-wrap:wrap;\n",
              "      gap: 12px;\n",
              "    }\n",
              "\n",
              "    .colab-df-convert {\n",
              "      background-color: #E8F0FE;\n",
              "      border: none;\n",
              "      border-radius: 50%;\n",
              "      cursor: pointer;\n",
              "      display: none;\n",
              "      fill: #1967D2;\n",
              "      height: 32px;\n",
              "      padding: 0 0 0 0;\n",
              "      width: 32px;\n",
              "    }\n",
              "\n",
              "    .colab-df-convert:hover {\n",
              "      background-color: #E2EBFA;\n",
              "      box-shadow: 0px 1px 2px rgba(60, 64, 67, 0.3), 0px 1px 3px 1px rgba(60, 64, 67, 0.15);\n",
              "      fill: #174EA6;\n",
              "    }\n",
              "\n",
              "    [theme=dark] .colab-df-convert {\n",
              "      background-color: #3B4455;\n",
              "      fill: #D2E3FC;\n",
              "    }\n",
              "\n",
              "    [theme=dark] .colab-df-convert:hover {\n",
              "      background-color: #434B5C;\n",
              "      box-shadow: 0px 1px 3px 1px rgba(0, 0, 0, 0.15);\n",
              "      filter: drop-shadow(0px 1px 2px rgba(0, 0, 0, 0.3));\n",
              "      fill: #FFFFFF;\n",
              "    }\n",
              "  </style>\n",
              "\n",
              "      <script>\n",
              "        const buttonEl =\n",
              "          document.querySelector('#df-2e1250f7-818a-4222-934a-9bc5f913efec button.colab-df-convert');\n",
              "        buttonEl.style.display =\n",
              "          google.colab.kernel.accessAllowed ? 'block' : 'none';\n",
              "\n",
              "        async function convertToInteractive(key) {\n",
              "          const element = document.querySelector('#df-2e1250f7-818a-4222-934a-9bc5f913efec');\n",
              "          const dataTable =\n",
              "            await google.colab.kernel.invokeFunction('convertToInteractive',\n",
              "                                                     [key], {});\n",
              "          if (!dataTable) return;\n",
              "\n",
              "          const docLinkHtml = 'Like what you see? Visit the ' +\n",
              "            '<a target=\"_blank\" href=https://colab.research.google.com/notebooks/data_table.ipynb>data table notebook</a>'\n",
              "            + ' to learn more about interactive tables.';\n",
              "          element.innerHTML = '';\n",
              "          dataTable['output_type'] = 'display_data';\n",
              "          await google.colab.output.renderOutput(dataTable, element);\n",
              "          const docLink = document.createElement('div');\n",
              "          docLink.innerHTML = docLinkHtml;\n",
              "          element.appendChild(docLink);\n",
              "        }\n",
              "      </script>\n",
              "    </div>\n",
              "  </div>\n",
              "  "
            ]
          },
          "metadata": {},
          "execution_count": 21
        }
      ]
    },
    {
      "cell_type": "code",
      "source": [
        "#Now we will convert all the attribute like this\n",
        "df['processor_brand'].value_counts()"
      ],
      "metadata": {
        "colab": {
          "base_uri": "https://localhost:8080/"
        },
        "id": "7NmzcFeW_hKM",
        "outputId": "0320a434-312b-400e-877d-69591aa82de2"
      },
      "execution_count": 22,
      "outputs": [
        {
          "output_type": "execute_result",
          "data": {
            "text/plain": [
              "Intel    610\n",
              "AMD      189\n",
              "M1        24\n",
              "Name: processor_brand, dtype: int64"
            ]
          },
          "metadata": {},
          "execution_count": 22
        }
      ]
    },
    {
      "cell_type": "code",
      "source": [
        "df['processor_brand'].replace('Intel',0,inplace=True)\n",
        "df['processor_brand'].replace('AMD',1,inplace=True)\n",
        "df['processor_brand'].replace('M1',2,inplace=True)"
      ],
      "metadata": {
        "id": "7xLlHQSU_9NS"
      },
      "execution_count": 23,
      "outputs": []
    },
    {
      "cell_type": "code",
      "source": [
        "df.head()"
      ],
      "metadata": {
        "colab": {
          "base_uri": "https://localhost:8080/",
          "height": 391
        },
        "id": "kd_J5DiF__jr",
        "outputId": "e113b29f-63c5-45a0-86b5-e1d5c9009151"
      },
      "execution_count": 24,
      "outputs": [
        {
          "output_type": "execute_result",
          "data": {
            "text/plain": [
              "   brand  processor_brand processor_name processor_gnrtn ram_gb ram_type  \\\n",
              "0      0                0        Core i3            10th   4 GB     DDR4   \n",
              "1      2                0        Core i3            10th   4 GB     DDR4   \n",
              "2      2                0        Core i3            10th   4 GB     DDR4   \n",
              "3      0                0        Core i5            10th   8 GB     DDR4   \n",
              "4      0                0   Celeron Dual   Not Available   4 GB     DDR4   \n",
              "\n",
              "      ssd      hdd       os  os_bit graphic_card_gb  weight     warranty  \\\n",
              "0    0 GB  1024 GB  Windows  64-bit            0 GB  Casual  No warranty   \n",
              "1    0 GB  1024 GB  Windows  64-bit            0 GB  Casual  No warranty   \n",
              "2    0 GB  1024 GB  Windows  64-bit            0 GB  Casual  No warranty   \n",
              "3  512 GB     0 GB  Windows  32-bit            2 GB  Casual  No warranty   \n",
              "4    0 GB   512 GB  Windows  64-bit            0 GB  Casual  No warranty   \n",
              "\n",
              "  Touchscreen msoffice  Price   rating  Number of Ratings  Number of Reviews  \n",
              "0          No       No  34649  2 stars                  3                  0  \n",
              "1          No       No  38999  3 stars                 65                  5  \n",
              "2          No       No  39999  3 stars                  8                  1  \n",
              "3          No       No  69990  3 stars                  0                  0  \n",
              "4          No       No  26990  3 stars                  0                  0  "
            ],
            "text/html": [
              "\n",
              "  <div id=\"df-9bb0895d-58f5-4ee9-a65e-5a3cf3c3f46b\">\n",
              "    <div class=\"colab-df-container\">\n",
              "      <div>\n",
              "<style scoped>\n",
              "    .dataframe tbody tr th:only-of-type {\n",
              "        vertical-align: middle;\n",
              "    }\n",
              "\n",
              "    .dataframe tbody tr th {\n",
              "        vertical-align: top;\n",
              "    }\n",
              "\n",
              "    .dataframe thead th {\n",
              "        text-align: right;\n",
              "    }\n",
              "</style>\n",
              "<table border=\"1\" class=\"dataframe\">\n",
              "  <thead>\n",
              "    <tr style=\"text-align: right;\">\n",
              "      <th></th>\n",
              "      <th>brand</th>\n",
              "      <th>processor_brand</th>\n",
              "      <th>processor_name</th>\n",
              "      <th>processor_gnrtn</th>\n",
              "      <th>ram_gb</th>\n",
              "      <th>ram_type</th>\n",
              "      <th>ssd</th>\n",
              "      <th>hdd</th>\n",
              "      <th>os</th>\n",
              "      <th>os_bit</th>\n",
              "      <th>graphic_card_gb</th>\n",
              "      <th>weight</th>\n",
              "      <th>warranty</th>\n",
              "      <th>Touchscreen</th>\n",
              "      <th>msoffice</th>\n",
              "      <th>Price</th>\n",
              "      <th>rating</th>\n",
              "      <th>Number of Ratings</th>\n",
              "      <th>Number of Reviews</th>\n",
              "    </tr>\n",
              "  </thead>\n",
              "  <tbody>\n",
              "    <tr>\n",
              "      <th>0</th>\n",
              "      <td>0</td>\n",
              "      <td>0</td>\n",
              "      <td>Core i3</td>\n",
              "      <td>10th</td>\n",
              "      <td>4 GB</td>\n",
              "      <td>DDR4</td>\n",
              "      <td>0 GB</td>\n",
              "      <td>1024 GB</td>\n",
              "      <td>Windows</td>\n",
              "      <td>64-bit</td>\n",
              "      <td>0 GB</td>\n",
              "      <td>Casual</td>\n",
              "      <td>No warranty</td>\n",
              "      <td>No</td>\n",
              "      <td>No</td>\n",
              "      <td>34649</td>\n",
              "      <td>2 stars</td>\n",
              "      <td>3</td>\n",
              "      <td>0</td>\n",
              "    </tr>\n",
              "    <tr>\n",
              "      <th>1</th>\n",
              "      <td>2</td>\n",
              "      <td>0</td>\n",
              "      <td>Core i3</td>\n",
              "      <td>10th</td>\n",
              "      <td>4 GB</td>\n",
              "      <td>DDR4</td>\n",
              "      <td>0 GB</td>\n",
              "      <td>1024 GB</td>\n",
              "      <td>Windows</td>\n",
              "      <td>64-bit</td>\n",
              "      <td>0 GB</td>\n",
              "      <td>Casual</td>\n",
              "      <td>No warranty</td>\n",
              "      <td>No</td>\n",
              "      <td>No</td>\n",
              "      <td>38999</td>\n",
              "      <td>3 stars</td>\n",
              "      <td>65</td>\n",
              "      <td>5</td>\n",
              "    </tr>\n",
              "    <tr>\n",
              "      <th>2</th>\n",
              "      <td>2</td>\n",
              "      <td>0</td>\n",
              "      <td>Core i3</td>\n",
              "      <td>10th</td>\n",
              "      <td>4 GB</td>\n",
              "      <td>DDR4</td>\n",
              "      <td>0 GB</td>\n",
              "      <td>1024 GB</td>\n",
              "      <td>Windows</td>\n",
              "      <td>64-bit</td>\n",
              "      <td>0 GB</td>\n",
              "      <td>Casual</td>\n",
              "      <td>No warranty</td>\n",
              "      <td>No</td>\n",
              "      <td>No</td>\n",
              "      <td>39999</td>\n",
              "      <td>3 stars</td>\n",
              "      <td>8</td>\n",
              "      <td>1</td>\n",
              "    </tr>\n",
              "    <tr>\n",
              "      <th>3</th>\n",
              "      <td>0</td>\n",
              "      <td>0</td>\n",
              "      <td>Core i5</td>\n",
              "      <td>10th</td>\n",
              "      <td>8 GB</td>\n",
              "      <td>DDR4</td>\n",
              "      <td>512 GB</td>\n",
              "      <td>0 GB</td>\n",
              "      <td>Windows</td>\n",
              "      <td>32-bit</td>\n",
              "      <td>2 GB</td>\n",
              "      <td>Casual</td>\n",
              "      <td>No warranty</td>\n",
              "      <td>No</td>\n",
              "      <td>No</td>\n",
              "      <td>69990</td>\n",
              "      <td>3 stars</td>\n",
              "      <td>0</td>\n",
              "      <td>0</td>\n",
              "    </tr>\n",
              "    <tr>\n",
              "      <th>4</th>\n",
              "      <td>0</td>\n",
              "      <td>0</td>\n",
              "      <td>Celeron Dual</td>\n",
              "      <td>Not Available</td>\n",
              "      <td>4 GB</td>\n",
              "      <td>DDR4</td>\n",
              "      <td>0 GB</td>\n",
              "      <td>512 GB</td>\n",
              "      <td>Windows</td>\n",
              "      <td>64-bit</td>\n",
              "      <td>0 GB</td>\n",
              "      <td>Casual</td>\n",
              "      <td>No warranty</td>\n",
              "      <td>No</td>\n",
              "      <td>No</td>\n",
              "      <td>26990</td>\n",
              "      <td>3 stars</td>\n",
              "      <td>0</td>\n",
              "      <td>0</td>\n",
              "    </tr>\n",
              "  </tbody>\n",
              "</table>\n",
              "</div>\n",
              "      <button class=\"colab-df-convert\" onclick=\"convertToInteractive('df-9bb0895d-58f5-4ee9-a65e-5a3cf3c3f46b')\"\n",
              "              title=\"Convert this dataframe to an interactive table.\"\n",
              "              style=\"display:none;\">\n",
              "        \n",
              "  <svg xmlns=\"http://www.w3.org/2000/svg\" height=\"24px\"viewBox=\"0 0 24 24\"\n",
              "       width=\"24px\">\n",
              "    <path d=\"M0 0h24v24H0V0z\" fill=\"none\"/>\n",
              "    <path d=\"M18.56 5.44l.94 2.06.94-2.06 2.06-.94-2.06-.94-.94-2.06-.94 2.06-2.06.94zm-11 1L8.5 8.5l.94-2.06 2.06-.94-2.06-.94L8.5 2.5l-.94 2.06-2.06.94zm10 10l.94 2.06.94-2.06 2.06-.94-2.06-.94-.94-2.06-.94 2.06-2.06.94z\"/><path d=\"M17.41 7.96l-1.37-1.37c-.4-.4-.92-.59-1.43-.59-.52 0-1.04.2-1.43.59L10.3 9.45l-7.72 7.72c-.78.78-.78 2.05 0 2.83L4 21.41c.39.39.9.59 1.41.59.51 0 1.02-.2 1.41-.59l7.78-7.78 2.81-2.81c.8-.78.8-2.07 0-2.86zM5.41 20L4 18.59l7.72-7.72 1.47 1.35L5.41 20z\"/>\n",
              "  </svg>\n",
              "      </button>\n",
              "      \n",
              "  <style>\n",
              "    .colab-df-container {\n",
              "      display:flex;\n",
              "      flex-wrap:wrap;\n",
              "      gap: 12px;\n",
              "    }\n",
              "\n",
              "    .colab-df-convert {\n",
              "      background-color: #E8F0FE;\n",
              "      border: none;\n",
              "      border-radius: 50%;\n",
              "      cursor: pointer;\n",
              "      display: none;\n",
              "      fill: #1967D2;\n",
              "      height: 32px;\n",
              "      padding: 0 0 0 0;\n",
              "      width: 32px;\n",
              "    }\n",
              "\n",
              "    .colab-df-convert:hover {\n",
              "      background-color: #E2EBFA;\n",
              "      box-shadow: 0px 1px 2px rgba(60, 64, 67, 0.3), 0px 1px 3px 1px rgba(60, 64, 67, 0.15);\n",
              "      fill: #174EA6;\n",
              "    }\n",
              "\n",
              "    [theme=dark] .colab-df-convert {\n",
              "      background-color: #3B4455;\n",
              "      fill: #D2E3FC;\n",
              "    }\n",
              "\n",
              "    [theme=dark] .colab-df-convert:hover {\n",
              "      background-color: #434B5C;\n",
              "      box-shadow: 0px 1px 3px 1px rgba(0, 0, 0, 0.15);\n",
              "      filter: drop-shadow(0px 1px 2px rgba(0, 0, 0, 0.3));\n",
              "      fill: #FFFFFF;\n",
              "    }\n",
              "  </style>\n",
              "\n",
              "      <script>\n",
              "        const buttonEl =\n",
              "          document.querySelector('#df-9bb0895d-58f5-4ee9-a65e-5a3cf3c3f46b button.colab-df-convert');\n",
              "        buttonEl.style.display =\n",
              "          google.colab.kernel.accessAllowed ? 'block' : 'none';\n",
              "\n",
              "        async function convertToInteractive(key) {\n",
              "          const element = document.querySelector('#df-9bb0895d-58f5-4ee9-a65e-5a3cf3c3f46b');\n",
              "          const dataTable =\n",
              "            await google.colab.kernel.invokeFunction('convertToInteractive',\n",
              "                                                     [key], {});\n",
              "          if (!dataTable) return;\n",
              "\n",
              "          const docLinkHtml = 'Like what you see? Visit the ' +\n",
              "            '<a target=\"_blank\" href=https://colab.research.google.com/notebooks/data_table.ipynb>data table notebook</a>'\n",
              "            + ' to learn more about interactive tables.';\n",
              "          element.innerHTML = '';\n",
              "          dataTable['output_type'] = 'display_data';\n",
              "          await google.colab.output.renderOutput(dataTable, element);\n",
              "          const docLink = document.createElement('div');\n",
              "          docLink.innerHTML = docLinkHtml;\n",
              "          element.appendChild(docLink);\n",
              "        }\n",
              "      </script>\n",
              "    </div>\n",
              "  </div>\n",
              "  "
            ]
          },
          "metadata": {},
          "execution_count": 24
        }
      ]
    },
    {
      "cell_type": "code",
      "source": [
        "df['processor_name'].value_counts()"
      ],
      "metadata": {
        "colab": {
          "base_uri": "https://localhost:8080/"
        },
        "id": "CZGjBhHQABaC",
        "outputId": "3ce3ecd5-5591-474c-e309-258995ecb1da"
      },
      "execution_count": 25,
      "outputs": [
        {
          "output_type": "execute_result",
          "data": {
            "text/plain": [
              "Core i5         290\n",
              "Core i3         164\n",
              "Core i7         110\n",
              "Ryzen 5          82\n",
              "Ryzen 7          56\n",
              "Ryzen 3          26\n",
              "Ryzen 9          26\n",
              "Celeron Dual     24\n",
              "M1               24\n",
              "Pentium Quad     13\n",
              "Core i9           8\n",
              "Name: processor_name, dtype: int64"
            ]
          },
          "metadata": {},
          "execution_count": 25
        }
      ]
    },
    {
      "cell_type": "code",
      "source": [
        "df['processor_name'].replace('Core i5',0,inplace=True)\n",
        "df['processor_name'].replace('Core i3',1,inplace=True)\n",
        "df['processor_name'].replace('Core i7',2,inplace=True)\n",
        "df['processor_name'].replace('Ryzen 5',3,inplace=True)\n",
        "df['processor_name'].replace('Ryzen 7',4,inplace=True)\n",
        "df['processor_name'].replace('Ryzen 3',5,inplace=True)\n",
        "df['processor_name'].replace('Ryzen 9',6,inplace=True)\n",
        "df['processor_name'].replace('Celeron Dual',7,inplace=True)\n",
        "df['processor_name'].replace('M1',8,inplace=True)\n",
        "df['processor_name'].replace('Pentium Quad',9,inplace=True)\n",
        "df['processor_name'].replace('Core i9',10,inplace=True)"
      ],
      "metadata": {
        "id": "le9JGOowADj8"
      },
      "execution_count": 26,
      "outputs": []
    },
    {
      "cell_type": "code",
      "source": [
        "df['processor_gnrtn'].value_counts()"
      ],
      "metadata": {
        "colab": {
          "base_uri": "https://localhost:8080/"
        },
        "id": "cDNqu0NwAMb0",
        "outputId": "79622420-349e-49af-a152-f7bc0e1e065c"
      },
      "execution_count": 27,
      "outputs": [
        {
          "output_type": "execute_result",
          "data": {
            "text/plain": [
              "11th             334\n",
              "Not Available    225\n",
              "10th             204\n",
              "8th               41\n",
              "7th                9\n",
              "9th                6\n",
              "12th               3\n",
              "4th                1\n",
              "Name: processor_gnrtn, dtype: int64"
            ]
          },
          "metadata": {},
          "execution_count": 27
        }
      ]
    },
    {
      "cell_type": "code",
      "source": [
        "df['processor_gnrtn'].replace('Not Available',0,inplace=True)\n",
        "df['processor_gnrtn'].replace('4th',1,inplace=True)\n",
        "df['processor_gnrtn'].replace('7th',2,inplace=True)\n",
        "df['processor_gnrtn'].replace('8th',3,inplace=True)\n",
        "df['processor_gnrtn'].replace('9th',4,inplace=True)\n",
        "df['processor_gnrtn'].replace('10th',5,inplace=True)\n",
        "df['processor_gnrtn'].replace('11th',6,inplace=True)\n",
        "df['processor_gnrtn'].replace('12th',7,inplace=True)"
      ],
      "metadata": {
        "id": "cc4TyQCMAOrK"
      },
      "execution_count": 28,
      "outputs": []
    },
    {
      "cell_type": "code",
      "source": [
        "df.head()"
      ],
      "metadata": {
        "colab": {
          "base_uri": "https://localhost:8080/",
          "height": 391
        },
        "id": "BaxaBL-GAS-e",
        "outputId": "7195d3f7-d8d9-4763-9133-86f4db3093b3"
      },
      "execution_count": 29,
      "outputs": [
        {
          "output_type": "execute_result",
          "data": {
            "text/plain": [
              "   brand  processor_brand  processor_name  processor_gnrtn ram_gb ram_type  \\\n",
              "0      0                0               1                5   4 GB     DDR4   \n",
              "1      2                0               1                5   4 GB     DDR4   \n",
              "2      2                0               1                5   4 GB     DDR4   \n",
              "3      0                0               0                5   8 GB     DDR4   \n",
              "4      0                0               7                0   4 GB     DDR4   \n",
              "\n",
              "      ssd      hdd       os  os_bit graphic_card_gb  weight     warranty  \\\n",
              "0    0 GB  1024 GB  Windows  64-bit            0 GB  Casual  No warranty   \n",
              "1    0 GB  1024 GB  Windows  64-bit            0 GB  Casual  No warranty   \n",
              "2    0 GB  1024 GB  Windows  64-bit            0 GB  Casual  No warranty   \n",
              "3  512 GB     0 GB  Windows  32-bit            2 GB  Casual  No warranty   \n",
              "4    0 GB   512 GB  Windows  64-bit            0 GB  Casual  No warranty   \n",
              "\n",
              "  Touchscreen msoffice  Price   rating  Number of Ratings  Number of Reviews  \n",
              "0          No       No  34649  2 stars                  3                  0  \n",
              "1          No       No  38999  3 stars                 65                  5  \n",
              "2          No       No  39999  3 stars                  8                  1  \n",
              "3          No       No  69990  3 stars                  0                  0  \n",
              "4          No       No  26990  3 stars                  0                  0  "
            ],
            "text/html": [
              "\n",
              "  <div id=\"df-e5eb0fd4-cc6e-49f9-976d-dafacb6a3172\">\n",
              "    <div class=\"colab-df-container\">\n",
              "      <div>\n",
              "<style scoped>\n",
              "    .dataframe tbody tr th:only-of-type {\n",
              "        vertical-align: middle;\n",
              "    }\n",
              "\n",
              "    .dataframe tbody tr th {\n",
              "        vertical-align: top;\n",
              "    }\n",
              "\n",
              "    .dataframe thead th {\n",
              "        text-align: right;\n",
              "    }\n",
              "</style>\n",
              "<table border=\"1\" class=\"dataframe\">\n",
              "  <thead>\n",
              "    <tr style=\"text-align: right;\">\n",
              "      <th></th>\n",
              "      <th>brand</th>\n",
              "      <th>processor_brand</th>\n",
              "      <th>processor_name</th>\n",
              "      <th>processor_gnrtn</th>\n",
              "      <th>ram_gb</th>\n",
              "      <th>ram_type</th>\n",
              "      <th>ssd</th>\n",
              "      <th>hdd</th>\n",
              "      <th>os</th>\n",
              "      <th>os_bit</th>\n",
              "      <th>graphic_card_gb</th>\n",
              "      <th>weight</th>\n",
              "      <th>warranty</th>\n",
              "      <th>Touchscreen</th>\n",
              "      <th>msoffice</th>\n",
              "      <th>Price</th>\n",
              "      <th>rating</th>\n",
              "      <th>Number of Ratings</th>\n",
              "      <th>Number of Reviews</th>\n",
              "    </tr>\n",
              "  </thead>\n",
              "  <tbody>\n",
              "    <tr>\n",
              "      <th>0</th>\n",
              "      <td>0</td>\n",
              "      <td>0</td>\n",
              "      <td>1</td>\n",
              "      <td>5</td>\n",
              "      <td>4 GB</td>\n",
              "      <td>DDR4</td>\n",
              "      <td>0 GB</td>\n",
              "      <td>1024 GB</td>\n",
              "      <td>Windows</td>\n",
              "      <td>64-bit</td>\n",
              "      <td>0 GB</td>\n",
              "      <td>Casual</td>\n",
              "      <td>No warranty</td>\n",
              "      <td>No</td>\n",
              "      <td>No</td>\n",
              "      <td>34649</td>\n",
              "      <td>2 stars</td>\n",
              "      <td>3</td>\n",
              "      <td>0</td>\n",
              "    </tr>\n",
              "    <tr>\n",
              "      <th>1</th>\n",
              "      <td>2</td>\n",
              "      <td>0</td>\n",
              "      <td>1</td>\n",
              "      <td>5</td>\n",
              "      <td>4 GB</td>\n",
              "      <td>DDR4</td>\n",
              "      <td>0 GB</td>\n",
              "      <td>1024 GB</td>\n",
              "      <td>Windows</td>\n",
              "      <td>64-bit</td>\n",
              "      <td>0 GB</td>\n",
              "      <td>Casual</td>\n",
              "      <td>No warranty</td>\n",
              "      <td>No</td>\n",
              "      <td>No</td>\n",
              "      <td>38999</td>\n",
              "      <td>3 stars</td>\n",
              "      <td>65</td>\n",
              "      <td>5</td>\n",
              "    </tr>\n",
              "    <tr>\n",
              "      <th>2</th>\n",
              "      <td>2</td>\n",
              "      <td>0</td>\n",
              "      <td>1</td>\n",
              "      <td>5</td>\n",
              "      <td>4 GB</td>\n",
              "      <td>DDR4</td>\n",
              "      <td>0 GB</td>\n",
              "      <td>1024 GB</td>\n",
              "      <td>Windows</td>\n",
              "      <td>64-bit</td>\n",
              "      <td>0 GB</td>\n",
              "      <td>Casual</td>\n",
              "      <td>No warranty</td>\n",
              "      <td>No</td>\n",
              "      <td>No</td>\n",
              "      <td>39999</td>\n",
              "      <td>3 stars</td>\n",
              "      <td>8</td>\n",
              "      <td>1</td>\n",
              "    </tr>\n",
              "    <tr>\n",
              "      <th>3</th>\n",
              "      <td>0</td>\n",
              "      <td>0</td>\n",
              "      <td>0</td>\n",
              "      <td>5</td>\n",
              "      <td>8 GB</td>\n",
              "      <td>DDR4</td>\n",
              "      <td>512 GB</td>\n",
              "      <td>0 GB</td>\n",
              "      <td>Windows</td>\n",
              "      <td>32-bit</td>\n",
              "      <td>2 GB</td>\n",
              "      <td>Casual</td>\n",
              "      <td>No warranty</td>\n",
              "      <td>No</td>\n",
              "      <td>No</td>\n",
              "      <td>69990</td>\n",
              "      <td>3 stars</td>\n",
              "      <td>0</td>\n",
              "      <td>0</td>\n",
              "    </tr>\n",
              "    <tr>\n",
              "      <th>4</th>\n",
              "      <td>0</td>\n",
              "      <td>0</td>\n",
              "      <td>7</td>\n",
              "      <td>0</td>\n",
              "      <td>4 GB</td>\n",
              "      <td>DDR4</td>\n",
              "      <td>0 GB</td>\n",
              "      <td>512 GB</td>\n",
              "      <td>Windows</td>\n",
              "      <td>64-bit</td>\n",
              "      <td>0 GB</td>\n",
              "      <td>Casual</td>\n",
              "      <td>No warranty</td>\n",
              "      <td>No</td>\n",
              "      <td>No</td>\n",
              "      <td>26990</td>\n",
              "      <td>3 stars</td>\n",
              "      <td>0</td>\n",
              "      <td>0</td>\n",
              "    </tr>\n",
              "  </tbody>\n",
              "</table>\n",
              "</div>\n",
              "      <button class=\"colab-df-convert\" onclick=\"convertToInteractive('df-e5eb0fd4-cc6e-49f9-976d-dafacb6a3172')\"\n",
              "              title=\"Convert this dataframe to an interactive table.\"\n",
              "              style=\"display:none;\">\n",
              "        \n",
              "  <svg xmlns=\"http://www.w3.org/2000/svg\" height=\"24px\"viewBox=\"0 0 24 24\"\n",
              "       width=\"24px\">\n",
              "    <path d=\"M0 0h24v24H0V0z\" fill=\"none\"/>\n",
              "    <path d=\"M18.56 5.44l.94 2.06.94-2.06 2.06-.94-2.06-.94-.94-2.06-.94 2.06-2.06.94zm-11 1L8.5 8.5l.94-2.06 2.06-.94-2.06-.94L8.5 2.5l-.94 2.06-2.06.94zm10 10l.94 2.06.94-2.06 2.06-.94-2.06-.94-.94-2.06-.94 2.06-2.06.94z\"/><path d=\"M17.41 7.96l-1.37-1.37c-.4-.4-.92-.59-1.43-.59-.52 0-1.04.2-1.43.59L10.3 9.45l-7.72 7.72c-.78.78-.78 2.05 0 2.83L4 21.41c.39.39.9.59 1.41.59.51 0 1.02-.2 1.41-.59l7.78-7.78 2.81-2.81c.8-.78.8-2.07 0-2.86zM5.41 20L4 18.59l7.72-7.72 1.47 1.35L5.41 20z\"/>\n",
              "  </svg>\n",
              "      </button>\n",
              "      \n",
              "  <style>\n",
              "    .colab-df-container {\n",
              "      display:flex;\n",
              "      flex-wrap:wrap;\n",
              "      gap: 12px;\n",
              "    }\n",
              "\n",
              "    .colab-df-convert {\n",
              "      background-color: #E8F0FE;\n",
              "      border: none;\n",
              "      border-radius: 50%;\n",
              "      cursor: pointer;\n",
              "      display: none;\n",
              "      fill: #1967D2;\n",
              "      height: 32px;\n",
              "      padding: 0 0 0 0;\n",
              "      width: 32px;\n",
              "    }\n",
              "\n",
              "    .colab-df-convert:hover {\n",
              "      background-color: #E2EBFA;\n",
              "      box-shadow: 0px 1px 2px rgba(60, 64, 67, 0.3), 0px 1px 3px 1px rgba(60, 64, 67, 0.15);\n",
              "      fill: #174EA6;\n",
              "    }\n",
              "\n",
              "    [theme=dark] .colab-df-convert {\n",
              "      background-color: #3B4455;\n",
              "      fill: #D2E3FC;\n",
              "    }\n",
              "\n",
              "    [theme=dark] .colab-df-convert:hover {\n",
              "      background-color: #434B5C;\n",
              "      box-shadow: 0px 1px 3px 1px rgba(0, 0, 0, 0.15);\n",
              "      filter: drop-shadow(0px 1px 2px rgba(0, 0, 0, 0.3));\n",
              "      fill: #FFFFFF;\n",
              "    }\n",
              "  </style>\n",
              "\n",
              "      <script>\n",
              "        const buttonEl =\n",
              "          document.querySelector('#df-e5eb0fd4-cc6e-49f9-976d-dafacb6a3172 button.colab-df-convert');\n",
              "        buttonEl.style.display =\n",
              "          google.colab.kernel.accessAllowed ? 'block' : 'none';\n",
              "\n",
              "        async function convertToInteractive(key) {\n",
              "          const element = document.querySelector('#df-e5eb0fd4-cc6e-49f9-976d-dafacb6a3172');\n",
              "          const dataTable =\n",
              "            await google.colab.kernel.invokeFunction('convertToInteractive',\n",
              "                                                     [key], {});\n",
              "          if (!dataTable) return;\n",
              "\n",
              "          const docLinkHtml = 'Like what you see? Visit the ' +\n",
              "            '<a target=\"_blank\" href=https://colab.research.google.com/notebooks/data_table.ipynb>data table notebook</a>'\n",
              "            + ' to learn more about interactive tables.';\n",
              "          element.innerHTML = '';\n",
              "          dataTable['output_type'] = 'display_data';\n",
              "          await google.colab.output.renderOutput(dataTable, element);\n",
              "          const docLink = document.createElement('div');\n",
              "          docLink.innerHTML = docLinkHtml;\n",
              "          element.appendChild(docLink);\n",
              "        }\n",
              "      </script>\n",
              "    </div>\n",
              "  </div>\n",
              "  "
            ]
          },
          "metadata": {},
          "execution_count": 29
        }
      ]
    },
    {
      "cell_type": "code",
      "source": [
        "df['ram_gb'].value_counts()"
      ],
      "metadata": {
        "colab": {
          "base_uri": "https://localhost:8080/"
        },
        "id": "7XMmwR8sAUFV",
        "outputId": "207dcfb6-8e27-4786-cb53-b6877619351e"
      },
      "execution_count": 30,
      "outputs": [
        {
          "output_type": "execute_result",
          "data": {
            "text/plain": [
              "8 GB     418\n",
              "4 GB     226\n",
              "16 GB    177\n",
              "32 GB      2\n",
              "Name: ram_gb, dtype: int64"
            ]
          },
          "metadata": {},
          "execution_count": 30
        }
      ]
    },
    {
      "cell_type": "code",
      "source": [
        "df['ram_gb'].replace('8 GB',8,inplace=True)\n",
        "df['ram_gb'].replace('4 GB',4,inplace=True)\n",
        "df['ram_gb'].replace('16 GB',16,inplace=True)\n",
        "df['ram_gb'].replace('32 GB',32,inplace=True)"
      ],
      "metadata": {
        "id": "RB_Sy_5NAY6Q"
      },
      "execution_count": 31,
      "outputs": []
    },
    {
      "cell_type": "code",
      "source": [
        "df['ram_gb'].value_counts()"
      ],
      "metadata": {
        "colab": {
          "base_uri": "https://localhost:8080/"
        },
        "id": "r-ewMp7rAbeO",
        "outputId": "d1fdb3f2-353b-4224-a3b2-a03e65345df5"
      },
      "execution_count": 32,
      "outputs": [
        {
          "output_type": "execute_result",
          "data": {
            "text/plain": [
              "8     418\n",
              "4     226\n",
              "16    177\n",
              "32      2\n",
              "Name: ram_gb, dtype: int64"
            ]
          },
          "metadata": {},
          "execution_count": 32
        }
      ]
    },
    {
      "cell_type": "code",
      "source": [
        "df.head()"
      ],
      "metadata": {
        "colab": {
          "base_uri": "https://localhost:8080/",
          "height": 391
        },
        "id": "4rf43YPPAdvk",
        "outputId": "f5042ff0-99f5-432e-d7e0-83b0ea9d01de"
      },
      "execution_count": 33,
      "outputs": [
        {
          "output_type": "execute_result",
          "data": {
            "text/plain": [
              "   brand  processor_brand  processor_name  processor_gnrtn  ram_gb ram_type  \\\n",
              "0      0                0               1                5       4     DDR4   \n",
              "1      2                0               1                5       4     DDR4   \n",
              "2      2                0               1                5       4     DDR4   \n",
              "3      0                0               0                5       8     DDR4   \n",
              "4      0                0               7                0       4     DDR4   \n",
              "\n",
              "      ssd      hdd       os  os_bit graphic_card_gb  weight     warranty  \\\n",
              "0    0 GB  1024 GB  Windows  64-bit            0 GB  Casual  No warranty   \n",
              "1    0 GB  1024 GB  Windows  64-bit            0 GB  Casual  No warranty   \n",
              "2    0 GB  1024 GB  Windows  64-bit            0 GB  Casual  No warranty   \n",
              "3  512 GB     0 GB  Windows  32-bit            2 GB  Casual  No warranty   \n",
              "4    0 GB   512 GB  Windows  64-bit            0 GB  Casual  No warranty   \n",
              "\n",
              "  Touchscreen msoffice  Price   rating  Number of Ratings  Number of Reviews  \n",
              "0          No       No  34649  2 stars                  3                  0  \n",
              "1          No       No  38999  3 stars                 65                  5  \n",
              "2          No       No  39999  3 stars                  8                  1  \n",
              "3          No       No  69990  3 stars                  0                  0  \n",
              "4          No       No  26990  3 stars                  0                  0  "
            ],
            "text/html": [
              "\n",
              "  <div id=\"df-ffb5c21b-6b35-4f0a-bedb-78b20e4bb18b\">\n",
              "    <div class=\"colab-df-container\">\n",
              "      <div>\n",
              "<style scoped>\n",
              "    .dataframe tbody tr th:only-of-type {\n",
              "        vertical-align: middle;\n",
              "    }\n",
              "\n",
              "    .dataframe tbody tr th {\n",
              "        vertical-align: top;\n",
              "    }\n",
              "\n",
              "    .dataframe thead th {\n",
              "        text-align: right;\n",
              "    }\n",
              "</style>\n",
              "<table border=\"1\" class=\"dataframe\">\n",
              "  <thead>\n",
              "    <tr style=\"text-align: right;\">\n",
              "      <th></th>\n",
              "      <th>brand</th>\n",
              "      <th>processor_brand</th>\n",
              "      <th>processor_name</th>\n",
              "      <th>processor_gnrtn</th>\n",
              "      <th>ram_gb</th>\n",
              "      <th>ram_type</th>\n",
              "      <th>ssd</th>\n",
              "      <th>hdd</th>\n",
              "      <th>os</th>\n",
              "      <th>os_bit</th>\n",
              "      <th>graphic_card_gb</th>\n",
              "      <th>weight</th>\n",
              "      <th>warranty</th>\n",
              "      <th>Touchscreen</th>\n",
              "      <th>msoffice</th>\n",
              "      <th>Price</th>\n",
              "      <th>rating</th>\n",
              "      <th>Number of Ratings</th>\n",
              "      <th>Number of Reviews</th>\n",
              "    </tr>\n",
              "  </thead>\n",
              "  <tbody>\n",
              "    <tr>\n",
              "      <th>0</th>\n",
              "      <td>0</td>\n",
              "      <td>0</td>\n",
              "      <td>1</td>\n",
              "      <td>5</td>\n",
              "      <td>4</td>\n",
              "      <td>DDR4</td>\n",
              "      <td>0 GB</td>\n",
              "      <td>1024 GB</td>\n",
              "      <td>Windows</td>\n",
              "      <td>64-bit</td>\n",
              "      <td>0 GB</td>\n",
              "      <td>Casual</td>\n",
              "      <td>No warranty</td>\n",
              "      <td>No</td>\n",
              "      <td>No</td>\n",
              "      <td>34649</td>\n",
              "      <td>2 stars</td>\n",
              "      <td>3</td>\n",
              "      <td>0</td>\n",
              "    </tr>\n",
              "    <tr>\n",
              "      <th>1</th>\n",
              "      <td>2</td>\n",
              "      <td>0</td>\n",
              "      <td>1</td>\n",
              "      <td>5</td>\n",
              "      <td>4</td>\n",
              "      <td>DDR4</td>\n",
              "      <td>0 GB</td>\n",
              "      <td>1024 GB</td>\n",
              "      <td>Windows</td>\n",
              "      <td>64-bit</td>\n",
              "      <td>0 GB</td>\n",
              "      <td>Casual</td>\n",
              "      <td>No warranty</td>\n",
              "      <td>No</td>\n",
              "      <td>No</td>\n",
              "      <td>38999</td>\n",
              "      <td>3 stars</td>\n",
              "      <td>65</td>\n",
              "      <td>5</td>\n",
              "    </tr>\n",
              "    <tr>\n",
              "      <th>2</th>\n",
              "      <td>2</td>\n",
              "      <td>0</td>\n",
              "      <td>1</td>\n",
              "      <td>5</td>\n",
              "      <td>4</td>\n",
              "      <td>DDR4</td>\n",
              "      <td>0 GB</td>\n",
              "      <td>1024 GB</td>\n",
              "      <td>Windows</td>\n",
              "      <td>64-bit</td>\n",
              "      <td>0 GB</td>\n",
              "      <td>Casual</td>\n",
              "      <td>No warranty</td>\n",
              "      <td>No</td>\n",
              "      <td>No</td>\n",
              "      <td>39999</td>\n",
              "      <td>3 stars</td>\n",
              "      <td>8</td>\n",
              "      <td>1</td>\n",
              "    </tr>\n",
              "    <tr>\n",
              "      <th>3</th>\n",
              "      <td>0</td>\n",
              "      <td>0</td>\n",
              "      <td>0</td>\n",
              "      <td>5</td>\n",
              "      <td>8</td>\n",
              "      <td>DDR4</td>\n",
              "      <td>512 GB</td>\n",
              "      <td>0 GB</td>\n",
              "      <td>Windows</td>\n",
              "      <td>32-bit</td>\n",
              "      <td>2 GB</td>\n",
              "      <td>Casual</td>\n",
              "      <td>No warranty</td>\n",
              "      <td>No</td>\n",
              "      <td>No</td>\n",
              "      <td>69990</td>\n",
              "      <td>3 stars</td>\n",
              "      <td>0</td>\n",
              "      <td>0</td>\n",
              "    </tr>\n",
              "    <tr>\n",
              "      <th>4</th>\n",
              "      <td>0</td>\n",
              "      <td>0</td>\n",
              "      <td>7</td>\n",
              "      <td>0</td>\n",
              "      <td>4</td>\n",
              "      <td>DDR4</td>\n",
              "      <td>0 GB</td>\n",
              "      <td>512 GB</td>\n",
              "      <td>Windows</td>\n",
              "      <td>64-bit</td>\n",
              "      <td>0 GB</td>\n",
              "      <td>Casual</td>\n",
              "      <td>No warranty</td>\n",
              "      <td>No</td>\n",
              "      <td>No</td>\n",
              "      <td>26990</td>\n",
              "      <td>3 stars</td>\n",
              "      <td>0</td>\n",
              "      <td>0</td>\n",
              "    </tr>\n",
              "  </tbody>\n",
              "</table>\n",
              "</div>\n",
              "      <button class=\"colab-df-convert\" onclick=\"convertToInteractive('df-ffb5c21b-6b35-4f0a-bedb-78b20e4bb18b')\"\n",
              "              title=\"Convert this dataframe to an interactive table.\"\n",
              "              style=\"display:none;\">\n",
              "        \n",
              "  <svg xmlns=\"http://www.w3.org/2000/svg\" height=\"24px\"viewBox=\"0 0 24 24\"\n",
              "       width=\"24px\">\n",
              "    <path d=\"M0 0h24v24H0V0z\" fill=\"none\"/>\n",
              "    <path d=\"M18.56 5.44l.94 2.06.94-2.06 2.06-.94-2.06-.94-.94-2.06-.94 2.06-2.06.94zm-11 1L8.5 8.5l.94-2.06 2.06-.94-2.06-.94L8.5 2.5l-.94 2.06-2.06.94zm10 10l.94 2.06.94-2.06 2.06-.94-2.06-.94-.94-2.06-.94 2.06-2.06.94z\"/><path d=\"M17.41 7.96l-1.37-1.37c-.4-.4-.92-.59-1.43-.59-.52 0-1.04.2-1.43.59L10.3 9.45l-7.72 7.72c-.78.78-.78 2.05 0 2.83L4 21.41c.39.39.9.59 1.41.59.51 0 1.02-.2 1.41-.59l7.78-7.78 2.81-2.81c.8-.78.8-2.07 0-2.86zM5.41 20L4 18.59l7.72-7.72 1.47 1.35L5.41 20z\"/>\n",
              "  </svg>\n",
              "      </button>\n",
              "      \n",
              "  <style>\n",
              "    .colab-df-container {\n",
              "      display:flex;\n",
              "      flex-wrap:wrap;\n",
              "      gap: 12px;\n",
              "    }\n",
              "\n",
              "    .colab-df-convert {\n",
              "      background-color: #E8F0FE;\n",
              "      border: none;\n",
              "      border-radius: 50%;\n",
              "      cursor: pointer;\n",
              "      display: none;\n",
              "      fill: #1967D2;\n",
              "      height: 32px;\n",
              "      padding: 0 0 0 0;\n",
              "      width: 32px;\n",
              "    }\n",
              "\n",
              "    .colab-df-convert:hover {\n",
              "      background-color: #E2EBFA;\n",
              "      box-shadow: 0px 1px 2px rgba(60, 64, 67, 0.3), 0px 1px 3px 1px rgba(60, 64, 67, 0.15);\n",
              "      fill: #174EA6;\n",
              "    }\n",
              "\n",
              "    [theme=dark] .colab-df-convert {\n",
              "      background-color: #3B4455;\n",
              "      fill: #D2E3FC;\n",
              "    }\n",
              "\n",
              "    [theme=dark] .colab-df-convert:hover {\n",
              "      background-color: #434B5C;\n",
              "      box-shadow: 0px 1px 3px 1px rgba(0, 0, 0, 0.15);\n",
              "      filter: drop-shadow(0px 1px 2px rgba(0, 0, 0, 0.3));\n",
              "      fill: #FFFFFF;\n",
              "    }\n",
              "  </style>\n",
              "\n",
              "      <script>\n",
              "        const buttonEl =\n",
              "          document.querySelector('#df-ffb5c21b-6b35-4f0a-bedb-78b20e4bb18b button.colab-df-convert');\n",
              "        buttonEl.style.display =\n",
              "          google.colab.kernel.accessAllowed ? 'block' : 'none';\n",
              "\n",
              "        async function convertToInteractive(key) {\n",
              "          const element = document.querySelector('#df-ffb5c21b-6b35-4f0a-bedb-78b20e4bb18b');\n",
              "          const dataTable =\n",
              "            await google.colab.kernel.invokeFunction('convertToInteractive',\n",
              "                                                     [key], {});\n",
              "          if (!dataTable) return;\n",
              "\n",
              "          const docLinkHtml = 'Like what you see? Visit the ' +\n",
              "            '<a target=\"_blank\" href=https://colab.research.google.com/notebooks/data_table.ipynb>data table notebook</a>'\n",
              "            + ' to learn more about interactive tables.';\n",
              "          element.innerHTML = '';\n",
              "          dataTable['output_type'] = 'display_data';\n",
              "          await google.colab.output.renderOutput(dataTable, element);\n",
              "          const docLink = document.createElement('div');\n",
              "          docLink.innerHTML = docLinkHtml;\n",
              "          element.appendChild(docLink);\n",
              "        }\n",
              "      </script>\n",
              "    </div>\n",
              "  </div>\n",
              "  "
            ]
          },
          "metadata": {},
          "execution_count": 33
        }
      ]
    },
    {
      "cell_type": "code",
      "source": [
        "df['ram_type'].value_counts()"
      ],
      "metadata": {
        "colab": {
          "base_uri": "https://localhost:8080/"
        },
        "id": "RvWQDW2hAhkc",
        "outputId": "c409713f-186d-4557-c8b4-85645ccf025c"
      },
      "execution_count": 34,
      "outputs": [
        {
          "output_type": "execute_result",
          "data": {
            "text/plain": [
              "DDR4       709\n",
              "LPDDR4X     58\n",
              "LPDDR4      27\n",
              "LPDDR3      14\n",
              "DDR5         8\n",
              "DDR3         7\n",
              "Name: ram_type, dtype: int64"
            ]
          },
          "metadata": {},
          "execution_count": 34
        }
      ]
    },
    {
      "cell_type": "code",
      "source": [
        "df['ram_type'].replace('DDR4',0,inplace=True)\n",
        "df['ram_type'].replace('LPDDR4X',1,inplace=True)\n",
        "df['ram_type'].replace('LPDDR4',2,inplace=True)\n",
        "df['ram_type'].replace('LPDDR3',3,inplace=True)\n",
        "df['ram_type'].replace('DDR5',4,inplace=True)\n",
        "df['ram_type'].replace('DDR3',5,inplace=True)"
      ],
      "metadata": {
        "id": "XZwfFAGFAk-D"
      },
      "execution_count": 35,
      "outputs": []
    },
    {
      "cell_type": "code",
      "source": [
        "df['ssd'].value_counts()"
      ],
      "metadata": {
        "colab": {
          "base_uri": "https://localhost:8080/"
        },
        "id": "cSOl_H4fAnrx",
        "outputId": "a9cd87f8-ca69-480d-f7b8-bb19008e53b8"
      },
      "execution_count": 36,
      "outputs": [
        {
          "output_type": "execute_result",
          "data": {
            "text/plain": [
              "512 GB     398\n",
              "256 GB     184\n",
              "0 GB       124\n",
              "1024 GB    111\n",
              "128 GB       3\n",
              "2048 GB      2\n",
              "3072 GB      1\n",
              "Name: ssd, dtype: int64"
            ]
          },
          "metadata": {},
          "execution_count": 36
        }
      ]
    },
    {
      "cell_type": "code",
      "source": [
        "df['ssd'].replace('512 GB',512,inplace=True)\n",
        "df['ssd'].replace('256 GB',256,inplace=True)\n",
        "df['ssd'].replace('0 GB',0,inplace=True)\n",
        "df['ssd'].replace('1024 GB',1024,inplace=True)\n",
        "df['ssd'].replace('128 GB',1028,inplace=True)\n",
        "df['ssd'].replace('2048 GB',2048,inplace=True)\n",
        "df['ssd'].replace('3072',3072,inplace=True)"
      ],
      "metadata": {
        "id": "CjpibLrLAsbI"
      },
      "execution_count": 37,
      "outputs": []
    },
    {
      "cell_type": "code",
      "source": [
        "df['ssd'].value_counts()"
      ],
      "metadata": {
        "colab": {
          "base_uri": "https://localhost:8080/"
        },
        "id": "mJQqQuqRAvSe",
        "outputId": "ecb16716-c3fc-477e-9624-bb4d0fd4b765"
      },
      "execution_count": 38,
      "outputs": [
        {
          "output_type": "execute_result",
          "data": {
            "text/plain": [
              "512        398\n",
              "256        184\n",
              "0          124\n",
              "1024       111\n",
              "1028         3\n",
              "2048         2\n",
              "3072 GB      1\n",
              "Name: ssd, dtype: int64"
            ]
          },
          "metadata": {},
          "execution_count": 38
        }
      ]
    },
    {
      "cell_type": "code",
      "source": [
        "df['hdd'].value_counts()"
      ],
      "metadata": {
        "colab": {
          "base_uri": "https://localhost:8080/"
        },
        "id": "gOaOoi9YAxo8",
        "outputId": "52457d69-bd14-46b6-b17c-35c0cc1c8ca4"
      },
      "execution_count": 39,
      "outputs": [
        {
          "output_type": "execute_result",
          "data": {
            "text/plain": [
              "0 GB       621\n",
              "1024 GB    160\n",
              "512 GB      41\n",
              "2048 GB      1\n",
              "Name: hdd, dtype: int64"
            ]
          },
          "metadata": {},
          "execution_count": 39
        }
      ]
    },
    {
      "cell_type": "code",
      "source": [
        "df['hdd'].replace('0 GB',0,inplace=True)"
      ],
      "metadata": {
        "id": "b0pteC5xA0vJ"
      },
      "execution_count": 40,
      "outputs": []
    },
    {
      "cell_type": "code",
      "source": [
        "df['hdd'].replace('1024 GB',1024,inplace=True)\n",
        "df['hdd'].replace('512 GB',512,inplace=True)\n",
        "df['hdd'].replace('2048 GB',2048,inplace=True)"
      ],
      "metadata": {
        "id": "_MXV4MtmA3MW"
      },
      "execution_count": 41,
      "outputs": []
    },
    {
      "cell_type": "code",
      "source": [
        "df['hdd'].value_counts()"
      ],
      "metadata": {
        "colab": {
          "base_uri": "https://localhost:8080/"
        },
        "id": "L4Lx4QVDA-G-",
        "outputId": "a5d78e00-a789-44f4-9422-5e012a4a62d0"
      },
      "execution_count": 42,
      "outputs": [
        {
          "output_type": "execute_result",
          "data": {
            "text/plain": [
              "0       621\n",
              "1024    160\n",
              "512      41\n",
              "2048      1\n",
              "Name: hdd, dtype: int64"
            ]
          },
          "metadata": {},
          "execution_count": 42
        }
      ]
    },
    {
      "cell_type": "code",
      "source": [
        "df['os'].value_counts()"
      ],
      "metadata": {
        "colab": {
          "base_uri": "https://localhost:8080/"
        },
        "id": "hGPhkkh8BEjJ",
        "outputId": "b1ac8646-cff0-42d1-e0e2-b6999e5adf7c"
      },
      "execution_count": 43,
      "outputs": [
        {
          "output_type": "execute_result",
          "data": {
            "text/plain": [
              "Windows    779\n",
              "Mac         28\n",
              "DOS         16\n",
              "Name: os, dtype: int64"
            ]
          },
          "metadata": {},
          "execution_count": 43
        }
      ]
    },
    {
      "cell_type": "code",
      "source": [
        "df['os'].replace('Windows',0,inplace=True)\n",
        "df['os'].replace('Mac',1,inplace=True)\n",
        "df['os'].replace('DOS',2,inplace=True)"
      ],
      "metadata": {
        "id": "arIXoIHSBJ2i"
      },
      "execution_count": 44,
      "outputs": []
    },
    {
      "cell_type": "code",
      "source": [
        "df['os'].value_counts()"
      ],
      "metadata": {
        "colab": {
          "base_uri": "https://localhost:8080/"
        },
        "id": "6moVuNH4BMBp",
        "outputId": "82da452d-45c6-404b-8440-572f42be6cf1"
      },
      "execution_count": 45,
      "outputs": [
        {
          "output_type": "execute_result",
          "data": {
            "text/plain": [
              "0    779\n",
              "1     28\n",
              "2     16\n",
              "Name: os, dtype: int64"
            ]
          },
          "metadata": {},
          "execution_count": 45
        }
      ]
    },
    {
      "cell_type": "code",
      "source": [
        "df['os_bit'].value_counts()"
      ],
      "metadata": {
        "colab": {
          "base_uri": "https://localhost:8080/"
        },
        "id": "PA-bBBE7BOUM",
        "outputId": "67352b45-aeed-4f7c-a2ed-0c53a19af56c"
      },
      "execution_count": 46,
      "outputs": [
        {
          "output_type": "execute_result",
          "data": {
            "text/plain": [
              "64-bit    714\n",
              "32-bit    109\n",
              "Name: os_bit, dtype: int64"
            ]
          },
          "metadata": {},
          "execution_count": 46
        }
      ]
    },
    {
      "cell_type": "code",
      "source": [
        "df['os_bit'].replace('64-bit',64,inplace=True)\n",
        "df['os_bit'].replace('32-bit',32,inplace=True)"
      ],
      "metadata": {
        "id": "zInw92ujBTCU"
      },
      "execution_count": 47,
      "outputs": []
    },
    {
      "cell_type": "code",
      "source": [
        "df['os_bit'].value_counts()"
      ],
      "metadata": {
        "colab": {
          "base_uri": "https://localhost:8080/"
        },
        "id": "RPZv1Zw8BU-3",
        "outputId": "66979c1f-489c-46f8-d932-4b80adcdc361"
      },
      "execution_count": 48,
      "outputs": [
        {
          "output_type": "execute_result",
          "data": {
            "text/plain": [
              "64    714\n",
              "32    109\n",
              "Name: os_bit, dtype: int64"
            ]
          },
          "metadata": {},
          "execution_count": 48
        }
      ]
    },
    {
      "cell_type": "code",
      "source": [
        "df['graphic_card_gb'].value_counts()"
      ],
      "metadata": {
        "colab": {
          "base_uri": "https://localhost:8080/"
        },
        "id": "GmNe0fWOBXsW",
        "outputId": "3d13834b-bf28-45cb-94eb-48d2099cbe6a"
      },
      "execution_count": 49,
      "outputs": [
        {
          "output_type": "execute_result",
          "data": {
            "text/plain": [
              "0 GB    577\n",
              "4 GB    128\n",
              "2 GB     67\n",
              "6 GB     37\n",
              "8 GB     14\n",
              "Name: graphic_card_gb, dtype: int64"
            ]
          },
          "metadata": {},
          "execution_count": 49
        }
      ]
    },
    {
      "cell_type": "code",
      "source": [
        "df['graphic_card_gb'].replace('0 GB',0,inplace=True)\n",
        "df['graphic_card_gb'].replace('2 GB',2,inplace=True)\n",
        "df['graphic_card_gb'].replace('4 GB',4,inplace=True)\n",
        "df['graphic_card_gb'].replace('6 GB',6,inplace=True)\n",
        "df['graphic_card_gb'].replace('8 GB',8,inplace=True)"
      ],
      "metadata": {
        "id": "Hmd3YrFbBcWJ"
      },
      "execution_count": 50,
      "outputs": []
    },
    {
      "cell_type": "code",
      "source": [
        "df['graphic_card_gb'].value_counts()"
      ],
      "metadata": {
        "colab": {
          "base_uri": "https://localhost:8080/"
        },
        "id": "TxT4ekBGBjQ1",
        "outputId": "8065af4a-4662-40bf-e8bb-3954429094f3"
      },
      "execution_count": 51,
      "outputs": [
        {
          "output_type": "execute_result",
          "data": {
            "text/plain": [
              "0    577\n",
              "4    128\n",
              "2     67\n",
              "6     37\n",
              "8     14\n",
              "Name: graphic_card_gb, dtype: int64"
            ]
          },
          "metadata": {},
          "execution_count": 51
        }
      ]
    },
    {
      "cell_type": "code",
      "source": [
        "df['weight'].value_counts()"
      ],
      "metadata": {
        "colab": {
          "base_uri": "https://localhost:8080/"
        },
        "id": "q0fYZ2klBldf",
        "outputId": "b7ccf3b7-24c8-4e91-8a7d-a285f42aa413"
      },
      "execution_count": 52,
      "outputs": [
        {
          "output_type": "execute_result",
          "data": {
            "text/plain": [
              "Casual        520\n",
              "ThinNlight    264\n",
              "Gaming         39\n",
              "Name: weight, dtype: int64"
            ]
          },
          "metadata": {},
          "execution_count": 52
        }
      ]
    },
    {
      "cell_type": "code",
      "source": [
        "df['weight'].replace('Casual',0,inplace=True)\n",
        "df['weight'].replace('ThinNlight',1,inplace=True)\n",
        "df['weight'].replace('Gaming',2,inplace=True)"
      ],
      "metadata": {
        "id": "MqOKorqrBpeB"
      },
      "execution_count": 53,
      "outputs": []
    },
    {
      "cell_type": "code",
      "source": [
        "df['weight'].value_counts()"
      ],
      "metadata": {
        "colab": {
          "base_uri": "https://localhost:8080/"
        },
        "id": "9IOpXsOcBrmJ",
        "outputId": "e2076511-0fc1-49bc-8d80-4643e5f58f82"
      },
      "execution_count": 54,
      "outputs": [
        {
          "output_type": "execute_result",
          "data": {
            "text/plain": [
              "0    520\n",
              "1    264\n",
              "2     39\n",
              "Name: weight, dtype: int64"
            ]
          },
          "metadata": {},
          "execution_count": 54
        }
      ]
    },
    {
      "cell_type": "code",
      "source": [
        "df['warranty'].value_counts()"
      ],
      "metadata": {
        "colab": {
          "base_uri": "https://localhost:8080/"
        },
        "id": "5PHSUzo6BtYJ",
        "outputId": "624d3e06-6026-4c17-c9d3-f4fc5e32522a"
      },
      "execution_count": 55,
      "outputs": [
        {
          "output_type": "execute_result",
          "data": {
            "text/plain": [
              "1 year         509\n",
              "No warranty    278\n",
              "2 years         23\n",
              "3 years         13\n",
              "Name: warranty, dtype: int64"
            ]
          },
          "metadata": {},
          "execution_count": 55
        }
      ]
    },
    {
      "cell_type": "code",
      "source": [
        "df['warranty'].replace('No warranty',0,inplace=True)\n",
        "df['warranty'].replace('1 year',1,inplace=True)\n",
        "df['warranty'].replace('2 years',2,inplace=True)\n",
        "df['warranty'].replace('3 years',3,inplace=True)"
      ],
      "metadata": {
        "id": "dYba6Gt0Bv_h"
      },
      "execution_count": 56,
      "outputs": []
    },
    {
      "cell_type": "code",
      "source": [
        "df['warranty'].value_counts()"
      ],
      "metadata": {
        "colab": {
          "base_uri": "https://localhost:8080/"
        },
        "id": "SQWfnpOoByBR",
        "outputId": "634f3daa-effd-4025-b4da-b78d7cd00e09"
      },
      "execution_count": 57,
      "outputs": [
        {
          "output_type": "execute_result",
          "data": {
            "text/plain": [
              "1    509\n",
              "0    278\n",
              "2     23\n",
              "3     13\n",
              "Name: warranty, dtype: int64"
            ]
          },
          "metadata": {},
          "execution_count": 57
        }
      ]
    },
    {
      "cell_type": "code",
      "source": [
        "df['Touchscreen'].value_counts()"
      ],
      "metadata": {
        "colab": {
          "base_uri": "https://localhost:8080/"
        },
        "id": "kmkdDYJFBzfx",
        "outputId": "64e1acf7-a7ce-4c3b-9c72-af48fe9cabf8"
      },
      "execution_count": 58,
      "outputs": [
        {
          "output_type": "execute_result",
          "data": {
            "text/plain": [
              "No     726\n",
              "Yes     97\n",
              "Name: Touchscreen, dtype: int64"
            ]
          },
          "metadata": {},
          "execution_count": 58
        }
      ]
    },
    {
      "cell_type": "code",
      "source": [
        "df['Touchscreen'].replace('No',0,inplace=True)\n",
        "df['Touchscreen'].replace('Yes',1,inplace=True)"
      ],
      "metadata": {
        "id": "nHVsdtcrB5gr"
      },
      "execution_count": 59,
      "outputs": []
    },
    {
      "cell_type": "code",
      "source": [
        "df['Touchscreen'].value_counts()"
      ],
      "metadata": {
        "colab": {
          "base_uri": "https://localhost:8080/"
        },
        "id": "Ffjd-LEUB7gq",
        "outputId": "68ec10f8-8a45-4cbe-ef8a-4dcb95814ca0"
      },
      "execution_count": 60,
      "outputs": [
        {
          "output_type": "execute_result",
          "data": {
            "text/plain": [
              "0    726\n",
              "1     97\n",
              "Name: Touchscreen, dtype: int64"
            ]
          },
          "metadata": {},
          "execution_count": 60
        }
      ]
    },
    {
      "cell_type": "code",
      "source": [
        "df['msoffice'].value_counts()"
      ],
      "metadata": {
        "colab": {
          "base_uri": "https://localhost:8080/"
        },
        "id": "n-_eMsYPB9Ea",
        "outputId": "ecdbe436-4e80-4fd7-871b-d48e13bfebd1"
      },
      "execution_count": 61,
      "outputs": [
        {
          "output_type": "execute_result",
          "data": {
            "text/plain": [
              "No     542\n",
              "Yes    281\n",
              "Name: msoffice, dtype: int64"
            ]
          },
          "metadata": {},
          "execution_count": 61
        }
      ]
    },
    {
      "cell_type": "code",
      "source": [
        "df['msoffice'].replace('No',0,inplace=True)\n",
        "df['msoffice'].replace('Yes',1,inplace=True)"
      ],
      "metadata": {
        "id": "dY0rrjlPB_tV"
      },
      "execution_count": 62,
      "outputs": []
    },
    {
      "cell_type": "code",
      "source": [
        "df['msoffice'].value_counts()"
      ],
      "metadata": {
        "colab": {
          "base_uri": "https://localhost:8080/"
        },
        "id": "0p4HnIYbCCK4",
        "outputId": "f98704b0-31c4-429e-867a-f0bca5cf72cd"
      },
      "execution_count": 63,
      "outputs": [
        {
          "output_type": "execute_result",
          "data": {
            "text/plain": [
              "0    542\n",
              "1    281\n",
              "Name: msoffice, dtype: int64"
            ]
          },
          "metadata": {},
          "execution_count": 63
        }
      ]
    },
    {
      "cell_type": "code",
      "source": [
        "df['rating'].value_counts()"
      ],
      "metadata": {
        "colab": {
          "base_uri": "https://localhost:8080/"
        },
        "id": "0skAMgcMCDpU",
        "outputId": "e1838237-2d1f-4f33-dc13-821d13578fce"
      },
      "execution_count": 64,
      "outputs": [
        {
          "output_type": "execute_result",
          "data": {
            "text/plain": [
              "4 stars    444\n",
              "3 stars    352\n",
              "5 stars     16\n",
              "2 stars      9\n",
              "1 star       2\n",
              "Name: rating, dtype: int64"
            ]
          },
          "metadata": {},
          "execution_count": 64
        }
      ]
    },
    {
      "cell_type": "code",
      "source": [
        "df['rating'].replace('1 star',1,inplace=True)\n",
        "df['rating'].replace('2 stars',2,inplace=True)\n",
        "df['rating'].replace('3 stars',3,inplace=True)\n",
        "df['rating'].replace('4 stars',4,inplace=True)\n",
        "df['rating'].replace('5 stars',5,inplace=True)"
      ],
      "metadata": {
        "id": "G-Xrb_PhCHqY"
      },
      "execution_count": 65,
      "outputs": []
    },
    {
      "cell_type": "code",
      "source": [
        "df['rating'].value_counts()"
      ],
      "metadata": {
        "colab": {
          "base_uri": "https://localhost:8080/"
        },
        "id": "yhEem_mYCKRS",
        "outputId": "136796c3-1e96-4d38-b477-788820f4c867"
      },
      "execution_count": 66,
      "outputs": [
        {
          "output_type": "execute_result",
          "data": {
            "text/plain": [
              "4    444\n",
              "3    352\n",
              "5     16\n",
              "2      9\n",
              "1      2\n",
              "Name: rating, dtype: int64"
            ]
          },
          "metadata": {},
          "execution_count": 66
        }
      ]
    },
    {
      "cell_type": "code",
      "source": [
        "df.head()"
      ],
      "metadata": {
        "colab": {
          "base_uri": "https://localhost:8080/",
          "height": 305
        },
        "id": "8iElCLq7CMwJ",
        "outputId": "87e1768e-7c14-41b6-c417-5028e2e3cfd3"
      },
      "execution_count": 67,
      "outputs": [
        {
          "output_type": "execute_result",
          "data": {
            "text/plain": [
              "   brand  processor_brand  processor_name  processor_gnrtn  ram_gb  ram_type  \\\n",
              "0      0                0               1                5       4         0   \n",
              "1      2                0               1                5       4         0   \n",
              "2      2                0               1                5       4         0   \n",
              "3      0                0               0                5       8         0   \n",
              "4      0                0               7                0       4         0   \n",
              "\n",
              "   ssd   hdd  os  os_bit  graphic_card_gb  weight  warranty  Touchscreen  \\\n",
              "0    0  1024   0      64                0       0         0            0   \n",
              "1    0  1024   0      64                0       0         0            0   \n",
              "2    0  1024   0      64                0       0         0            0   \n",
              "3  512     0   0      32                2       0         0            0   \n",
              "4    0   512   0      64                0       0         0            0   \n",
              "\n",
              "   msoffice  Price  rating  Number of Ratings  Number of Reviews  \n",
              "0         0  34649       2                  3                  0  \n",
              "1         0  38999       3                 65                  5  \n",
              "2         0  39999       3                  8                  1  \n",
              "3         0  69990       3                  0                  0  \n",
              "4         0  26990       3                  0                  0  "
            ],
            "text/html": [
              "\n",
              "  <div id=\"df-40f5829d-7a23-4731-a7cc-4e097058cae2\">\n",
              "    <div class=\"colab-df-container\">\n",
              "      <div>\n",
              "<style scoped>\n",
              "    .dataframe tbody tr th:only-of-type {\n",
              "        vertical-align: middle;\n",
              "    }\n",
              "\n",
              "    .dataframe tbody tr th {\n",
              "        vertical-align: top;\n",
              "    }\n",
              "\n",
              "    .dataframe thead th {\n",
              "        text-align: right;\n",
              "    }\n",
              "</style>\n",
              "<table border=\"1\" class=\"dataframe\">\n",
              "  <thead>\n",
              "    <tr style=\"text-align: right;\">\n",
              "      <th></th>\n",
              "      <th>brand</th>\n",
              "      <th>processor_brand</th>\n",
              "      <th>processor_name</th>\n",
              "      <th>processor_gnrtn</th>\n",
              "      <th>ram_gb</th>\n",
              "      <th>ram_type</th>\n",
              "      <th>ssd</th>\n",
              "      <th>hdd</th>\n",
              "      <th>os</th>\n",
              "      <th>os_bit</th>\n",
              "      <th>graphic_card_gb</th>\n",
              "      <th>weight</th>\n",
              "      <th>warranty</th>\n",
              "      <th>Touchscreen</th>\n",
              "      <th>msoffice</th>\n",
              "      <th>Price</th>\n",
              "      <th>rating</th>\n",
              "      <th>Number of Ratings</th>\n",
              "      <th>Number of Reviews</th>\n",
              "    </tr>\n",
              "  </thead>\n",
              "  <tbody>\n",
              "    <tr>\n",
              "      <th>0</th>\n",
              "      <td>0</td>\n",
              "      <td>0</td>\n",
              "      <td>1</td>\n",
              "      <td>5</td>\n",
              "      <td>4</td>\n",
              "      <td>0</td>\n",
              "      <td>0</td>\n",
              "      <td>1024</td>\n",
              "      <td>0</td>\n",
              "      <td>64</td>\n",
              "      <td>0</td>\n",
              "      <td>0</td>\n",
              "      <td>0</td>\n",
              "      <td>0</td>\n",
              "      <td>0</td>\n",
              "      <td>34649</td>\n",
              "      <td>2</td>\n",
              "      <td>3</td>\n",
              "      <td>0</td>\n",
              "    </tr>\n",
              "    <tr>\n",
              "      <th>1</th>\n",
              "      <td>2</td>\n",
              "      <td>0</td>\n",
              "      <td>1</td>\n",
              "      <td>5</td>\n",
              "      <td>4</td>\n",
              "      <td>0</td>\n",
              "      <td>0</td>\n",
              "      <td>1024</td>\n",
              "      <td>0</td>\n",
              "      <td>64</td>\n",
              "      <td>0</td>\n",
              "      <td>0</td>\n",
              "      <td>0</td>\n",
              "      <td>0</td>\n",
              "      <td>0</td>\n",
              "      <td>38999</td>\n",
              "      <td>3</td>\n",
              "      <td>65</td>\n",
              "      <td>5</td>\n",
              "    </tr>\n",
              "    <tr>\n",
              "      <th>2</th>\n",
              "      <td>2</td>\n",
              "      <td>0</td>\n",
              "      <td>1</td>\n",
              "      <td>5</td>\n",
              "      <td>4</td>\n",
              "      <td>0</td>\n",
              "      <td>0</td>\n",
              "      <td>1024</td>\n",
              "      <td>0</td>\n",
              "      <td>64</td>\n",
              "      <td>0</td>\n",
              "      <td>0</td>\n",
              "      <td>0</td>\n",
              "      <td>0</td>\n",
              "      <td>0</td>\n",
              "      <td>39999</td>\n",
              "      <td>3</td>\n",
              "      <td>8</td>\n",
              "      <td>1</td>\n",
              "    </tr>\n",
              "    <tr>\n",
              "      <th>3</th>\n",
              "      <td>0</td>\n",
              "      <td>0</td>\n",
              "      <td>0</td>\n",
              "      <td>5</td>\n",
              "      <td>8</td>\n",
              "      <td>0</td>\n",
              "      <td>512</td>\n",
              "      <td>0</td>\n",
              "      <td>0</td>\n",
              "      <td>32</td>\n",
              "      <td>2</td>\n",
              "      <td>0</td>\n",
              "      <td>0</td>\n",
              "      <td>0</td>\n",
              "      <td>0</td>\n",
              "      <td>69990</td>\n",
              "      <td>3</td>\n",
              "      <td>0</td>\n",
              "      <td>0</td>\n",
              "    </tr>\n",
              "    <tr>\n",
              "      <th>4</th>\n",
              "      <td>0</td>\n",
              "      <td>0</td>\n",
              "      <td>7</td>\n",
              "      <td>0</td>\n",
              "      <td>4</td>\n",
              "      <td>0</td>\n",
              "      <td>0</td>\n",
              "      <td>512</td>\n",
              "      <td>0</td>\n",
              "      <td>64</td>\n",
              "      <td>0</td>\n",
              "      <td>0</td>\n",
              "      <td>0</td>\n",
              "      <td>0</td>\n",
              "      <td>0</td>\n",
              "      <td>26990</td>\n",
              "      <td>3</td>\n",
              "      <td>0</td>\n",
              "      <td>0</td>\n",
              "    </tr>\n",
              "  </tbody>\n",
              "</table>\n",
              "</div>\n",
              "      <button class=\"colab-df-convert\" onclick=\"convertToInteractive('df-40f5829d-7a23-4731-a7cc-4e097058cae2')\"\n",
              "              title=\"Convert this dataframe to an interactive table.\"\n",
              "              style=\"display:none;\">\n",
              "        \n",
              "  <svg xmlns=\"http://www.w3.org/2000/svg\" height=\"24px\"viewBox=\"0 0 24 24\"\n",
              "       width=\"24px\">\n",
              "    <path d=\"M0 0h24v24H0V0z\" fill=\"none\"/>\n",
              "    <path d=\"M18.56 5.44l.94 2.06.94-2.06 2.06-.94-2.06-.94-.94-2.06-.94 2.06-2.06.94zm-11 1L8.5 8.5l.94-2.06 2.06-.94-2.06-.94L8.5 2.5l-.94 2.06-2.06.94zm10 10l.94 2.06.94-2.06 2.06-.94-2.06-.94-.94-2.06-.94 2.06-2.06.94z\"/><path d=\"M17.41 7.96l-1.37-1.37c-.4-.4-.92-.59-1.43-.59-.52 0-1.04.2-1.43.59L10.3 9.45l-7.72 7.72c-.78.78-.78 2.05 0 2.83L4 21.41c.39.39.9.59 1.41.59.51 0 1.02-.2 1.41-.59l7.78-7.78 2.81-2.81c.8-.78.8-2.07 0-2.86zM5.41 20L4 18.59l7.72-7.72 1.47 1.35L5.41 20z\"/>\n",
              "  </svg>\n",
              "      </button>\n",
              "      \n",
              "  <style>\n",
              "    .colab-df-container {\n",
              "      display:flex;\n",
              "      flex-wrap:wrap;\n",
              "      gap: 12px;\n",
              "    }\n",
              "\n",
              "    .colab-df-convert {\n",
              "      background-color: #E8F0FE;\n",
              "      border: none;\n",
              "      border-radius: 50%;\n",
              "      cursor: pointer;\n",
              "      display: none;\n",
              "      fill: #1967D2;\n",
              "      height: 32px;\n",
              "      padding: 0 0 0 0;\n",
              "      width: 32px;\n",
              "    }\n",
              "\n",
              "    .colab-df-convert:hover {\n",
              "      background-color: #E2EBFA;\n",
              "      box-shadow: 0px 1px 2px rgba(60, 64, 67, 0.3), 0px 1px 3px 1px rgba(60, 64, 67, 0.15);\n",
              "      fill: #174EA6;\n",
              "    }\n",
              "\n",
              "    [theme=dark] .colab-df-convert {\n",
              "      background-color: #3B4455;\n",
              "      fill: #D2E3FC;\n",
              "    }\n",
              "\n",
              "    [theme=dark] .colab-df-convert:hover {\n",
              "      background-color: #434B5C;\n",
              "      box-shadow: 0px 1px 3px 1px rgba(0, 0, 0, 0.15);\n",
              "      filter: drop-shadow(0px 1px 2px rgba(0, 0, 0, 0.3));\n",
              "      fill: #FFFFFF;\n",
              "    }\n",
              "  </style>\n",
              "\n",
              "      <script>\n",
              "        const buttonEl =\n",
              "          document.querySelector('#df-40f5829d-7a23-4731-a7cc-4e097058cae2 button.colab-df-convert');\n",
              "        buttonEl.style.display =\n",
              "          google.colab.kernel.accessAllowed ? 'block' : 'none';\n",
              "\n",
              "        async function convertToInteractive(key) {\n",
              "          const element = document.querySelector('#df-40f5829d-7a23-4731-a7cc-4e097058cae2');\n",
              "          const dataTable =\n",
              "            await google.colab.kernel.invokeFunction('convertToInteractive',\n",
              "                                                     [key], {});\n",
              "          if (!dataTable) return;\n",
              "\n",
              "          const docLinkHtml = 'Like what you see? Visit the ' +\n",
              "            '<a target=\"_blank\" href=https://colab.research.google.com/notebooks/data_table.ipynb>data table notebook</a>'\n",
              "            + ' to learn more about interactive tables.';\n",
              "          element.innerHTML = '';\n",
              "          dataTable['output_type'] = 'display_data';\n",
              "          await google.colab.output.renderOutput(dataTable, element);\n",
              "          const docLink = document.createElement('div');\n",
              "          docLink.innerHTML = docLinkHtml;\n",
              "          element.appendChild(docLink);\n",
              "        }\n",
              "      </script>\n",
              "    </div>\n",
              "  </div>\n",
              "  "
            ]
          },
          "metadata": {},
          "execution_count": 67
        }
      ]
    },
    {
      "cell_type": "code",
      "source": [
        "#Till now we have convert all the categorical value to numerical value so we will save the new dataset for our future task.\n",
        "df.to_csv('/content/drive/MyDrive/rawwork.csv', index=False)"
      ],
      "metadata": {
        "id": "vnQv4ia8CObn"
      },
      "execution_count": 68,
      "outputs": []
    },
    {
      "cell_type": "code",
      "source": [],
      "metadata": {
        "id": "tdiAz6M1C-C3"
      },
      "execution_count": null,
      "outputs": []
    }
  ]
}
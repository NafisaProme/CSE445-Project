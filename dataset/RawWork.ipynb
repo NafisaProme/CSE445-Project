{
  "nbformat": 4,
  "nbformat_minor": 0,
  "metadata": {
    "colab": {
      "provenance": []
    },
    "kernelspec": {
      "name": "python3",
      "display_name": "Python 3"
    },
    "language_info": {
      "name": "python"
    }
  },
  "cells": [
    {
      "cell_type": "markdown",
      "source": [
        "**Importing All the neccesary Libraries**"
      ],
      "metadata": {
        "id": "MBIolUJ70bv7"
      }
    },
    {
      "cell_type": "code",
      "source": [
        "import math #mathematical computation\n",
        "import pandas as pd #dataframe\n",
        "# pd.set_option('max_rows', 10000)\n",
        "# pd.set_option('max_colwidth', 400)\n",
        "# pd.describe_option('max_colwidth')\n",
        "import numpy as np #mathematical computations\n",
        "import matplotlib.pyplot as plt #visualization\n",
        "import matplotlib\n",
        "import joblib #saving the model\n",
        "import seaborn as sns #visualization\n",
        "import json #exporting columns\n",
        "import pickle #saving the model\n",
        "from sklearn.preprocessing import LabelEncoder, OneHotEncoder, OrdinalEncoder, MinMaxScaler\n",
        "\n",
        "from sklearn import tree\n",
        "from sklearn.tree import DecisionTreeClassifier, export_graphviz #Decision Tree Classifier\n",
        "from sklearn.metrics import accuracy_score, confusion_matrix, r2_score #Performance metrics\n",
        "\n",
        "from sklearn.linear_model import LinearRegression #Linear Regression\n",
        "from sklearn.linear_model import Lasso #Lasso Regression\n",
        "from sklearn.tree import DecisionTreeRegressor #Decision Tree Regression\n",
        "from sklearn.ensemble import RandomForestRegressor #Random Forest Regression\n",
        "from xgboost import XGBRegressor # XGBoost Regression\n",
        "from sklearn.model_selection import train_test_split #Splitting the dataset into training and testing\n",
        "from sklearn.model_selection import ShuffleSplit #Random shuffling\n",
        "from sklearn.model_selection import cross_val_score #Score cross validation\n",
        "from sklearn.model_selection import cross_validate #Score cross validation\n",
        "from sklearn.model_selection import GridSearchCV #Hyper parameter tuning\n",
        "\n",
        "from statistics import stdev\n",
        "from warnings import simplefilter #Filtering warnings\n",
        "\n",
        "import warnings\n",
        "warnings.filterwarnings('ignore')\n",
        "\n",
        "##showing all columns in output##\n",
        "\n",
        "#################################"
      ],
      "metadata": {
        "id": "DLwiqiLT0lBQ"
      },
      "execution_count": 1,
      "outputs": []
    },
    {
      "cell_type": "markdown",
      "source": [
        "Connecting Google Collab with Drive"
      ],
      "metadata": {
        "id": "u1stVTpJ0r-b"
      }
    },
    {
      "cell_type": "code",
      "source": [
        "from google.colab import drive \n",
        "drive.mount('/content/drive')"
      ],
      "metadata": {
        "colab": {
          "base_uri": "https://localhost:8080/"
        },
        "id": "LuJfrAfk0xar",
        "outputId": "b7665744-94c8-493b-8c9a-e290ddae6cfe"
      },
      "execution_count": 2,
      "outputs": [
        {
          "output_type": "stream",
          "name": "stdout",
          "text": [
            "Drive already mounted at /content/drive; to attempt to forcibly remount, call drive.mount(\"/content/drive\", force_remount=True).\n"
          ]
        }
      ]
    },
    {
      "cell_type": "markdown",
      "source": [
        "**Importing Dataset**"
      ],
      "metadata": {
        "id": "l50qe98q1DgO"
      }
    },
    {
      "cell_type": "code",
      "source": [
        "dataframe = pd.read_csv('/content/laptopPrice.csv')"
      ],
      "metadata": {
        "id": "b4IoXnhe1HY9"
      },
      "execution_count": 4,
      "outputs": []
    },
    {
      "cell_type": "code",
      "source": [
        "#Showing The First 5 rows of the Dataset\n",
        "\n",
        "dataframe.head()"
      ],
      "metadata": {
        "colab": {
          "base_uri": "https://localhost:8080/",
          "height": 391
        },
        "id": "NE4JWRUA1UR5",
        "outputId": "8bb3dcd8-8b14-4237-a49a-aab8882ef8ad"
      },
      "execution_count": 5,
      "outputs": [
        {
          "output_type": "execute_result",
          "data": {
            "text/plain": [
              "    brand processor_brand processor_name processor_gnrtn ram_gb ram_type  \\\n",
              "0    ASUS           Intel        Core i3            10th   4 GB     DDR4   \n",
              "1  Lenovo           Intel        Core i3            10th   4 GB     DDR4   \n",
              "2  Lenovo           Intel        Core i3            10th   4 GB     DDR4   \n",
              "3    ASUS           Intel        Core i5            10th   8 GB     DDR4   \n",
              "4    ASUS           Intel   Celeron Dual   Not Available   4 GB     DDR4   \n",
              "\n",
              "      ssd      hdd       os  os_bit graphic_card_gb  weight     warranty  \\\n",
              "0    0 GB  1024 GB  Windows  64-bit            0 GB  Casual  No warranty   \n",
              "1    0 GB  1024 GB  Windows  64-bit            0 GB  Casual  No warranty   \n",
              "2    0 GB  1024 GB  Windows  64-bit            0 GB  Casual  No warranty   \n",
              "3  512 GB     0 GB  Windows  32-bit            2 GB  Casual  No warranty   \n",
              "4    0 GB   512 GB  Windows  64-bit            0 GB  Casual  No warranty   \n",
              "\n",
              "  Touchscreen msoffice  Price   rating  Number of Ratings  Number of Reviews  \n",
              "0          No       No  34649  2 stars                  3                  0  \n",
              "1          No       No  38999  3 stars                 65                  5  \n",
              "2          No       No  39999  3 stars                  8                  1  \n",
              "3          No       No  69990  3 stars                  0                  0  \n",
              "4          No       No  26990  3 stars                  0                  0  "
            ],
            "text/html": [
              "\n",
              "  <div id=\"df-2ae94cdc-7b1a-4b07-9200-bab435138edf\">\n",
              "    <div class=\"colab-df-container\">\n",
              "      <div>\n",
              "<style scoped>\n",
              "    .dataframe tbody tr th:only-of-type {\n",
              "        vertical-align: middle;\n",
              "    }\n",
              "\n",
              "    .dataframe tbody tr th {\n",
              "        vertical-align: top;\n",
              "    }\n",
              "\n",
              "    .dataframe thead th {\n",
              "        text-align: right;\n",
              "    }\n",
              "</style>\n",
              "<table border=\"1\" class=\"dataframe\">\n",
              "  <thead>\n",
              "    <tr style=\"text-align: right;\">\n",
              "      <th></th>\n",
              "      <th>brand</th>\n",
              "      <th>processor_brand</th>\n",
              "      <th>processor_name</th>\n",
              "      <th>processor_gnrtn</th>\n",
              "      <th>ram_gb</th>\n",
              "      <th>ram_type</th>\n",
              "      <th>ssd</th>\n",
              "      <th>hdd</th>\n",
              "      <th>os</th>\n",
              "      <th>os_bit</th>\n",
              "      <th>graphic_card_gb</th>\n",
              "      <th>weight</th>\n",
              "      <th>warranty</th>\n",
              "      <th>Touchscreen</th>\n",
              "      <th>msoffice</th>\n",
              "      <th>Price</th>\n",
              "      <th>rating</th>\n",
              "      <th>Number of Ratings</th>\n",
              "      <th>Number of Reviews</th>\n",
              "    </tr>\n",
              "  </thead>\n",
              "  <tbody>\n",
              "    <tr>\n",
              "      <th>0</th>\n",
              "      <td>ASUS</td>\n",
              "      <td>Intel</td>\n",
              "      <td>Core i3</td>\n",
              "      <td>10th</td>\n",
              "      <td>4 GB</td>\n",
              "      <td>DDR4</td>\n",
              "      <td>0 GB</td>\n",
              "      <td>1024 GB</td>\n",
              "      <td>Windows</td>\n",
              "      <td>64-bit</td>\n",
              "      <td>0 GB</td>\n",
              "      <td>Casual</td>\n",
              "      <td>No warranty</td>\n",
              "      <td>No</td>\n",
              "      <td>No</td>\n",
              "      <td>34649</td>\n",
              "      <td>2 stars</td>\n",
              "      <td>3</td>\n",
              "      <td>0</td>\n",
              "    </tr>\n",
              "    <tr>\n",
              "      <th>1</th>\n",
              "      <td>Lenovo</td>\n",
              "      <td>Intel</td>\n",
              "      <td>Core i3</td>\n",
              "      <td>10th</td>\n",
              "      <td>4 GB</td>\n",
              "      <td>DDR4</td>\n",
              "      <td>0 GB</td>\n",
              "      <td>1024 GB</td>\n",
              "      <td>Windows</td>\n",
              "      <td>64-bit</td>\n",
              "      <td>0 GB</td>\n",
              "      <td>Casual</td>\n",
              "      <td>No warranty</td>\n",
              "      <td>No</td>\n",
              "      <td>No</td>\n",
              "      <td>38999</td>\n",
              "      <td>3 stars</td>\n",
              "      <td>65</td>\n",
              "      <td>5</td>\n",
              "    </tr>\n",
              "    <tr>\n",
              "      <th>2</th>\n",
              "      <td>Lenovo</td>\n",
              "      <td>Intel</td>\n",
              "      <td>Core i3</td>\n",
              "      <td>10th</td>\n",
              "      <td>4 GB</td>\n",
              "      <td>DDR4</td>\n",
              "      <td>0 GB</td>\n",
              "      <td>1024 GB</td>\n",
              "      <td>Windows</td>\n",
              "      <td>64-bit</td>\n",
              "      <td>0 GB</td>\n",
              "      <td>Casual</td>\n",
              "      <td>No warranty</td>\n",
              "      <td>No</td>\n",
              "      <td>No</td>\n",
              "      <td>39999</td>\n",
              "      <td>3 stars</td>\n",
              "      <td>8</td>\n",
              "      <td>1</td>\n",
              "    </tr>\n",
              "    <tr>\n",
              "      <th>3</th>\n",
              "      <td>ASUS</td>\n",
              "      <td>Intel</td>\n",
              "      <td>Core i5</td>\n",
              "      <td>10th</td>\n",
              "      <td>8 GB</td>\n",
              "      <td>DDR4</td>\n",
              "      <td>512 GB</td>\n",
              "      <td>0 GB</td>\n",
              "      <td>Windows</td>\n",
              "      <td>32-bit</td>\n",
              "      <td>2 GB</td>\n",
              "      <td>Casual</td>\n",
              "      <td>No warranty</td>\n",
              "      <td>No</td>\n",
              "      <td>No</td>\n",
              "      <td>69990</td>\n",
              "      <td>3 stars</td>\n",
              "      <td>0</td>\n",
              "      <td>0</td>\n",
              "    </tr>\n",
              "    <tr>\n",
              "      <th>4</th>\n",
              "      <td>ASUS</td>\n",
              "      <td>Intel</td>\n",
              "      <td>Celeron Dual</td>\n",
              "      <td>Not Available</td>\n",
              "      <td>4 GB</td>\n",
              "      <td>DDR4</td>\n",
              "      <td>0 GB</td>\n",
              "      <td>512 GB</td>\n",
              "      <td>Windows</td>\n",
              "      <td>64-bit</td>\n",
              "      <td>0 GB</td>\n",
              "      <td>Casual</td>\n",
              "      <td>No warranty</td>\n",
              "      <td>No</td>\n",
              "      <td>No</td>\n",
              "      <td>26990</td>\n",
              "      <td>3 stars</td>\n",
              "      <td>0</td>\n",
              "      <td>0</td>\n",
              "    </tr>\n",
              "  </tbody>\n",
              "</table>\n",
              "</div>\n",
              "      <button class=\"colab-df-convert\" onclick=\"convertToInteractive('df-2ae94cdc-7b1a-4b07-9200-bab435138edf')\"\n",
              "              title=\"Convert this dataframe to an interactive table.\"\n",
              "              style=\"display:none;\">\n",
              "        \n",
              "  <svg xmlns=\"http://www.w3.org/2000/svg\" height=\"24px\"viewBox=\"0 0 24 24\"\n",
              "       width=\"24px\">\n",
              "    <path d=\"M0 0h24v24H0V0z\" fill=\"none\"/>\n",
              "    <path d=\"M18.56 5.44l.94 2.06.94-2.06 2.06-.94-2.06-.94-.94-2.06-.94 2.06-2.06.94zm-11 1L8.5 8.5l.94-2.06 2.06-.94-2.06-.94L8.5 2.5l-.94 2.06-2.06.94zm10 10l.94 2.06.94-2.06 2.06-.94-2.06-.94-.94-2.06-.94 2.06-2.06.94z\"/><path d=\"M17.41 7.96l-1.37-1.37c-.4-.4-.92-.59-1.43-.59-.52 0-1.04.2-1.43.59L10.3 9.45l-7.72 7.72c-.78.78-.78 2.05 0 2.83L4 21.41c.39.39.9.59 1.41.59.51 0 1.02-.2 1.41-.59l7.78-7.78 2.81-2.81c.8-.78.8-2.07 0-2.86zM5.41 20L4 18.59l7.72-7.72 1.47 1.35L5.41 20z\"/>\n",
              "  </svg>\n",
              "      </button>\n",
              "      \n",
              "  <style>\n",
              "    .colab-df-container {\n",
              "      display:flex;\n",
              "      flex-wrap:wrap;\n",
              "      gap: 12px;\n",
              "    }\n",
              "\n",
              "    .colab-df-convert {\n",
              "      background-color: #E8F0FE;\n",
              "      border: none;\n",
              "      border-radius: 50%;\n",
              "      cursor: pointer;\n",
              "      display: none;\n",
              "      fill: #1967D2;\n",
              "      height: 32px;\n",
              "      padding: 0 0 0 0;\n",
              "      width: 32px;\n",
              "    }\n",
              "\n",
              "    .colab-df-convert:hover {\n",
              "      background-color: #E2EBFA;\n",
              "      box-shadow: 0px 1px 2px rgba(60, 64, 67, 0.3), 0px 1px 3px 1px rgba(60, 64, 67, 0.15);\n",
              "      fill: #174EA6;\n",
              "    }\n",
              "\n",
              "    [theme=dark] .colab-df-convert {\n",
              "      background-color: #3B4455;\n",
              "      fill: #D2E3FC;\n",
              "    }\n",
              "\n",
              "    [theme=dark] .colab-df-convert:hover {\n",
              "      background-color: #434B5C;\n",
              "      box-shadow: 0px 1px 3px 1px rgba(0, 0, 0, 0.15);\n",
              "      filter: drop-shadow(0px 1px 2px rgba(0, 0, 0, 0.3));\n",
              "      fill: #FFFFFF;\n",
              "    }\n",
              "  </style>\n",
              "\n",
              "      <script>\n",
              "        const buttonEl =\n",
              "          document.querySelector('#df-2ae94cdc-7b1a-4b07-9200-bab435138edf button.colab-df-convert');\n",
              "        buttonEl.style.display =\n",
              "          google.colab.kernel.accessAllowed ? 'block' : 'none';\n",
              "\n",
              "        async function convertToInteractive(key) {\n",
              "          const element = document.querySelector('#df-2ae94cdc-7b1a-4b07-9200-bab435138edf');\n",
              "          const dataTable =\n",
              "            await google.colab.kernel.invokeFunction('convertToInteractive',\n",
              "                                                     [key], {});\n",
              "          if (!dataTable) return;\n",
              "\n",
              "          const docLinkHtml = 'Like what you see? Visit the ' +\n",
              "            '<a target=\"_blank\" href=https://colab.research.google.com/notebooks/data_table.ipynb>data table notebook</a>'\n",
              "            + ' to learn more about interactive tables.';\n",
              "          element.innerHTML = '';\n",
              "          dataTable['output_type'] = 'display_data';\n",
              "          await google.colab.output.renderOutput(dataTable, element);\n",
              "          const docLink = document.createElement('div');\n",
              "          docLink.innerHTML = docLinkHtml;\n",
              "          element.appendChild(docLink);\n",
              "        }\n",
              "      </script>\n",
              "    </div>\n",
              "  </div>\n",
              "  "
            ]
          },
          "metadata": {},
          "execution_count": 5
        }
      ]
    },
    {
      "cell_type": "code",
      "source": [
        "dataframe.info"
      ],
      "metadata": {
        "colab": {
          "base_uri": "https://localhost:8080/"
        },
        "id": "VjDkOft71hY7",
        "outputId": "ffab802b-a192-4329-de98-aad8cfb59b49"
      },
      "execution_count": 6,
      "outputs": [
        {
          "output_type": "execute_result",
          "data": {
            "text/plain": [
              "<bound method DataFrame.info of       brand processor_brand processor_name processor_gnrtn ram_gb ram_type  \\\n",
              "0      ASUS           Intel        Core i3            10th   4 GB     DDR4   \n",
              "1    Lenovo           Intel        Core i3            10th   4 GB     DDR4   \n",
              "2    Lenovo           Intel        Core i3            10th   4 GB     DDR4   \n",
              "3      ASUS           Intel        Core i5            10th   8 GB     DDR4   \n",
              "4      ASUS           Intel   Celeron Dual   Not Available   4 GB     DDR4   \n",
              "..      ...             ...            ...             ...    ...      ...   \n",
              "818    ASUS             AMD        Ryzen 9   Not Available   4 GB     DDR4   \n",
              "819    ASUS             AMD        Ryzen 9   Not Available   4 GB     DDR4   \n",
              "820    ASUS             AMD        Ryzen 9   Not Available   4 GB     DDR4   \n",
              "821    ASUS             AMD        Ryzen 9   Not Available   4 GB     DDR4   \n",
              "822  Lenovo             AMD        Ryzen 5            10th   8 GB     DDR4   \n",
              "\n",
              "         ssd      hdd       os  os_bit graphic_card_gb      weight  \\\n",
              "0       0 GB  1024 GB  Windows  64-bit            0 GB      Casual   \n",
              "1       0 GB  1024 GB  Windows  64-bit            0 GB      Casual   \n",
              "2       0 GB  1024 GB  Windows  64-bit            0 GB      Casual   \n",
              "3     512 GB     0 GB  Windows  32-bit            2 GB      Casual   \n",
              "4       0 GB   512 GB  Windows  64-bit            0 GB      Casual   \n",
              "..       ...      ...      ...     ...             ...         ...   \n",
              "818  1024 GB     0 GB  Windows  64-bit            0 GB      Casual   \n",
              "819  1024 GB     0 GB  Windows  64-bit            0 GB      Casual   \n",
              "820  1024 GB     0 GB  Windows  64-bit            4 GB      Casual   \n",
              "821  1024 GB     0 GB  Windows  64-bit            4 GB      Casual   \n",
              "822   512 GB     0 GB      DOS  64-bit            0 GB  ThinNlight   \n",
              "\n",
              "        warranty Touchscreen msoffice   Price   rating  Number of Ratings  \\\n",
              "0    No warranty          No       No   34649  2 stars                  3   \n",
              "1    No warranty          No       No   38999  3 stars                 65   \n",
              "2    No warranty          No       No   39999  3 stars                  8   \n",
              "3    No warranty          No       No   69990  3 stars                  0   \n",
              "4    No warranty          No       No   26990  3 stars                  0   \n",
              "..           ...         ...      ...     ...      ...                ...   \n",
              "818       1 year          No       No  135990  3 stars                  0   \n",
              "819       1 year          No       No  144990  3 stars                  0   \n",
              "820       1 year          No       No  149990  3 stars                  0   \n",
              "821       1 year          No       No  142990  3 stars                  0   \n",
              "822  No warranty          No       No   57490  4 stars                 18   \n",
              "\n",
              "     Number of Reviews  \n",
              "0                    0  \n",
              "1                    5  \n",
              "2                    1  \n",
              "3                    0  \n",
              "4                    0  \n",
              "..                 ...  \n",
              "818                  0  \n",
              "819                  0  \n",
              "820                  0  \n",
              "821                  0  \n",
              "822                  4  \n",
              "\n",
              "[823 rows x 19 columns]>"
            ]
          },
          "metadata": {},
          "execution_count": 6
        }
      ]
    },
    {
      "cell_type": "code",
      "source": [
        "#Showing columns of dataset\n",
        "dataframe.columns"
      ],
      "metadata": {
        "colab": {
          "base_uri": "https://localhost:8080/"
        },
        "id": "eNKQyU7F2Ypb",
        "outputId": "c6f2116b-2632-4db5-d9f1-9b8ab5d4abcd"
      },
      "execution_count": 7,
      "outputs": [
        {
          "output_type": "execute_result",
          "data": {
            "text/plain": [
              "Index(['brand', 'processor_brand', 'processor_name', 'processor_gnrtn',\n",
              "       'ram_gb', 'ram_type', 'ssd', 'hdd', 'os', 'os_bit', 'graphic_card_gb',\n",
              "       'weight', 'warranty', 'Touchscreen', 'msoffice', 'Price', 'rating',\n",
              "       'Number of Ratings', 'Number of Reviews'],\n",
              "      dtype='object')"
            ]
          },
          "metadata": {},
          "execution_count": 7
        }
      ]
    },
    {
      "cell_type": "code",
      "source": [
        "#now we want to see how many records and columns we have in our datset\n",
        "dataframe.shape"
      ],
      "metadata": {
        "colab": {
          "base_uri": "https://localhost:8080/"
        },
        "id": "k6IxunqZ2fKD",
        "outputId": "ce34f96d-ca7c-49a1-834e-f4e929f6ed01"
      },
      "execution_count": 8,
      "outputs": [
        {
          "output_type": "execute_result",
          "data": {
            "text/plain": [
              "(823, 19)"
            ]
          },
          "metadata": {},
          "execution_count": 8
        }
      ]
    },
    {
      "cell_type": "code",
      "source": [
        "dataframe.dtypes"
      ],
      "metadata": {
        "colab": {
          "base_uri": "https://localhost:8080/"
        },
        "id": "s9mDSsaj2uPu",
        "outputId": "5147a63b-575d-41ac-9fec-dd9ce9b83e05"
      },
      "execution_count": 9,
      "outputs": [
        {
          "output_type": "execute_result",
          "data": {
            "text/plain": [
              "brand                object\n",
              "processor_brand      object\n",
              "processor_name       object\n",
              "processor_gnrtn      object\n",
              "ram_gb               object\n",
              "ram_type             object\n",
              "ssd                  object\n",
              "hdd                  object\n",
              "os                   object\n",
              "os_bit               object\n",
              "graphic_card_gb      object\n",
              "weight               object\n",
              "warranty             object\n",
              "Touchscreen          object\n",
              "msoffice             object\n",
              "Price                 int64\n",
              "rating               object\n",
              "Number of Ratings     int64\n",
              "Number of Reviews     int64\n",
              "dtype: object"
            ]
          },
          "metadata": {},
          "execution_count": 9
        }
      ]
    },
    {
      "cell_type": "code",
      "source": [
        "dataframe.dtypes"
      ],
      "metadata": {
        "colab": {
          "base_uri": "https://localhost:8080/"
        },
        "id": "s_L5DPSL5lKC",
        "outputId": "849f3236-704e-46c6-afbf-bab5bb2594de"
      },
      "execution_count": 14,
      "outputs": [
        {
          "output_type": "execute_result",
          "data": {
            "text/plain": [
              "brand                object\n",
              "processor_brand      object\n",
              "processor_name       object\n",
              "processor_gnrtn      object\n",
              "ram_gb               object\n",
              "ram_type             object\n",
              "ssd                  object\n",
              "hdd                  object\n",
              "os                   object\n",
              "os_bit               object\n",
              "graphic_card_gb      object\n",
              "weight               object\n",
              "warranty             object\n",
              "Touchscreen          object\n",
              "msoffice             object\n",
              "Price                 int64\n",
              "rating               object\n",
              "Number of Ratings     int64\n",
              "Number of Reviews     int64\n",
              "dtype: object"
            ]
          },
          "metadata": {},
          "execution_count": 14
        }
      ]
    },
    {
      "cell_type": "code",
      "source": [
        "#As we are seeing that most of the features of our datasets are object types.In a Machine learning project our model cannot worked with object type \n",
        "#variable so we have to convert this into numerical attribute so, we will start data preproccesing now."
      ],
      "metadata": {
        "id": "N9-jUN4W6nLp"
      },
      "execution_count": 15,
      "outputs": []
    },
    {
      "cell_type": "markdown",
      "source": [
        "**Data Preprocessing**"
      ],
      "metadata": {
        "id": "i85FDTDF7P4U"
      }
    },
    {
      "cell_type": "code",
      "source": [
        "#We will start data preproceesing by a make a copy of our orginal dataset as we dont want to change our orginal dataset\n",
        "#df contains the orginal dataset now and now we will use this for data preprocessing\n",
        "df = dataframe.copy()\n"
      ],
      "metadata": {
        "id": "D72g_xuB7TKY"
      },
      "execution_count": 17,
      "outputs": []
    },
    {
      "cell_type": "code",
      "source": [
        "df.head()"
      ],
      "metadata": {
        "colab": {
          "base_uri": "https://localhost:8080/",
          "height": 391
        },
        "id": "oWrDQFm17rxX",
        "outputId": "ddb8b76b-3571-4c03-f651-c6705b9b330c"
      },
      "execution_count": 18,
      "outputs": [
        {
          "output_type": "execute_result",
          "data": {
            "text/plain": [
              "    brand processor_brand processor_name processor_gnrtn ram_gb ram_type  \\\n",
              "0    ASUS           Intel        Core i3            10th   4 GB     DDR4   \n",
              "1  Lenovo           Intel        Core i3            10th   4 GB     DDR4   \n",
              "2  Lenovo           Intel        Core i3            10th   4 GB     DDR4   \n",
              "3    ASUS           Intel        Core i5            10th   8 GB     DDR4   \n",
              "4    ASUS           Intel   Celeron Dual   Not Available   4 GB     DDR4   \n",
              "\n",
              "      ssd      hdd       os  os_bit graphic_card_gb  weight     warranty  \\\n",
              "0    0 GB  1024 GB  Windows  64-bit            0 GB  Casual  No warranty   \n",
              "1    0 GB  1024 GB  Windows  64-bit            0 GB  Casual  No warranty   \n",
              "2    0 GB  1024 GB  Windows  64-bit            0 GB  Casual  No warranty   \n",
              "3  512 GB     0 GB  Windows  32-bit            2 GB  Casual  No warranty   \n",
              "4    0 GB   512 GB  Windows  64-bit            0 GB  Casual  No warranty   \n",
              "\n",
              "  Touchscreen msoffice  Price   rating  Number of Ratings  Number of Reviews  \n",
              "0          No       No  34649  2 stars                  3                  0  \n",
              "1          No       No  38999  3 stars                 65                  5  \n",
              "2          No       No  39999  3 stars                  8                  1  \n",
              "3          No       No  69990  3 stars                  0                  0  \n",
              "4          No       No  26990  3 stars                  0                  0  "
            ],
            "text/html": [
              "\n",
              "  <div id=\"df-5b89e9d1-ff07-4314-af98-dc1c5596247d\">\n",
              "    <div class=\"colab-df-container\">\n",
              "      <div>\n",
              "<style scoped>\n",
              "    .dataframe tbody tr th:only-of-type {\n",
              "        vertical-align: middle;\n",
              "    }\n",
              "\n",
              "    .dataframe tbody tr th {\n",
              "        vertical-align: top;\n",
              "    }\n",
              "\n",
              "    .dataframe thead th {\n",
              "        text-align: right;\n",
              "    }\n",
              "</style>\n",
              "<table border=\"1\" class=\"dataframe\">\n",
              "  <thead>\n",
              "    <tr style=\"text-align: right;\">\n",
              "      <th></th>\n",
              "      <th>brand</th>\n",
              "      <th>processor_brand</th>\n",
              "      <th>processor_name</th>\n",
              "      <th>processor_gnrtn</th>\n",
              "      <th>ram_gb</th>\n",
              "      <th>ram_type</th>\n",
              "      <th>ssd</th>\n",
              "      <th>hdd</th>\n",
              "      <th>os</th>\n",
              "      <th>os_bit</th>\n",
              "      <th>graphic_card_gb</th>\n",
              "      <th>weight</th>\n",
              "      <th>warranty</th>\n",
              "      <th>Touchscreen</th>\n",
              "      <th>msoffice</th>\n",
              "      <th>Price</th>\n",
              "      <th>rating</th>\n",
              "      <th>Number of Ratings</th>\n",
              "      <th>Number of Reviews</th>\n",
              "    </tr>\n",
              "  </thead>\n",
              "  <tbody>\n",
              "    <tr>\n",
              "      <th>0</th>\n",
              "      <td>ASUS</td>\n",
              "      <td>Intel</td>\n",
              "      <td>Core i3</td>\n",
              "      <td>10th</td>\n",
              "      <td>4 GB</td>\n",
              "      <td>DDR4</td>\n",
              "      <td>0 GB</td>\n",
              "      <td>1024 GB</td>\n",
              "      <td>Windows</td>\n",
              "      <td>64-bit</td>\n",
              "      <td>0 GB</td>\n",
              "      <td>Casual</td>\n",
              "      <td>No warranty</td>\n",
              "      <td>No</td>\n",
              "      <td>No</td>\n",
              "      <td>34649</td>\n",
              "      <td>2 stars</td>\n",
              "      <td>3</td>\n",
              "      <td>0</td>\n",
              "    </tr>\n",
              "    <tr>\n",
              "      <th>1</th>\n",
              "      <td>Lenovo</td>\n",
              "      <td>Intel</td>\n",
              "      <td>Core i3</td>\n",
              "      <td>10th</td>\n",
              "      <td>4 GB</td>\n",
              "      <td>DDR4</td>\n",
              "      <td>0 GB</td>\n",
              "      <td>1024 GB</td>\n",
              "      <td>Windows</td>\n",
              "      <td>64-bit</td>\n",
              "      <td>0 GB</td>\n",
              "      <td>Casual</td>\n",
              "      <td>No warranty</td>\n",
              "      <td>No</td>\n",
              "      <td>No</td>\n",
              "      <td>38999</td>\n",
              "      <td>3 stars</td>\n",
              "      <td>65</td>\n",
              "      <td>5</td>\n",
              "    </tr>\n",
              "    <tr>\n",
              "      <th>2</th>\n",
              "      <td>Lenovo</td>\n",
              "      <td>Intel</td>\n",
              "      <td>Core i3</td>\n",
              "      <td>10th</td>\n",
              "      <td>4 GB</td>\n",
              "      <td>DDR4</td>\n",
              "      <td>0 GB</td>\n",
              "      <td>1024 GB</td>\n",
              "      <td>Windows</td>\n",
              "      <td>64-bit</td>\n",
              "      <td>0 GB</td>\n",
              "      <td>Casual</td>\n",
              "      <td>No warranty</td>\n",
              "      <td>No</td>\n",
              "      <td>No</td>\n",
              "      <td>39999</td>\n",
              "      <td>3 stars</td>\n",
              "      <td>8</td>\n",
              "      <td>1</td>\n",
              "    </tr>\n",
              "    <tr>\n",
              "      <th>3</th>\n",
              "      <td>ASUS</td>\n",
              "      <td>Intel</td>\n",
              "      <td>Core i5</td>\n",
              "      <td>10th</td>\n",
              "      <td>8 GB</td>\n",
              "      <td>DDR4</td>\n",
              "      <td>512 GB</td>\n",
              "      <td>0 GB</td>\n",
              "      <td>Windows</td>\n",
              "      <td>32-bit</td>\n",
              "      <td>2 GB</td>\n",
              "      <td>Casual</td>\n",
              "      <td>No warranty</td>\n",
              "      <td>No</td>\n",
              "      <td>No</td>\n",
              "      <td>69990</td>\n",
              "      <td>3 stars</td>\n",
              "      <td>0</td>\n",
              "      <td>0</td>\n",
              "    </tr>\n",
              "    <tr>\n",
              "      <th>4</th>\n",
              "      <td>ASUS</td>\n",
              "      <td>Intel</td>\n",
              "      <td>Celeron Dual</td>\n",
              "      <td>Not Available</td>\n",
              "      <td>4 GB</td>\n",
              "      <td>DDR4</td>\n",
              "      <td>0 GB</td>\n",
              "      <td>512 GB</td>\n",
              "      <td>Windows</td>\n",
              "      <td>64-bit</td>\n",
              "      <td>0 GB</td>\n",
              "      <td>Casual</td>\n",
              "      <td>No warranty</td>\n",
              "      <td>No</td>\n",
              "      <td>No</td>\n",
              "      <td>26990</td>\n",
              "      <td>3 stars</td>\n",
              "      <td>0</td>\n",
              "      <td>0</td>\n",
              "    </tr>\n",
              "  </tbody>\n",
              "</table>\n",
              "</div>\n",
              "      <button class=\"colab-df-convert\" onclick=\"convertToInteractive('df-5b89e9d1-ff07-4314-af98-dc1c5596247d')\"\n",
              "              title=\"Convert this dataframe to an interactive table.\"\n",
              "              style=\"display:none;\">\n",
              "        \n",
              "  <svg xmlns=\"http://www.w3.org/2000/svg\" height=\"24px\"viewBox=\"0 0 24 24\"\n",
              "       width=\"24px\">\n",
              "    <path d=\"M0 0h24v24H0V0z\" fill=\"none\"/>\n",
              "    <path d=\"M18.56 5.44l.94 2.06.94-2.06 2.06-.94-2.06-.94-.94-2.06-.94 2.06-2.06.94zm-11 1L8.5 8.5l.94-2.06 2.06-.94-2.06-.94L8.5 2.5l-.94 2.06-2.06.94zm10 10l.94 2.06.94-2.06 2.06-.94-2.06-.94-.94-2.06-.94 2.06-2.06.94z\"/><path d=\"M17.41 7.96l-1.37-1.37c-.4-.4-.92-.59-1.43-.59-.52 0-1.04.2-1.43.59L10.3 9.45l-7.72 7.72c-.78.78-.78 2.05 0 2.83L4 21.41c.39.39.9.59 1.41.59.51 0 1.02-.2 1.41-.59l7.78-7.78 2.81-2.81c.8-.78.8-2.07 0-2.86zM5.41 20L4 18.59l7.72-7.72 1.47 1.35L5.41 20z\"/>\n",
              "  </svg>\n",
              "      </button>\n",
              "      \n",
              "  <style>\n",
              "    .colab-df-container {\n",
              "      display:flex;\n",
              "      flex-wrap:wrap;\n",
              "      gap: 12px;\n",
              "    }\n",
              "\n",
              "    .colab-df-convert {\n",
              "      background-color: #E8F0FE;\n",
              "      border: none;\n",
              "      border-radius: 50%;\n",
              "      cursor: pointer;\n",
              "      display: none;\n",
              "      fill: #1967D2;\n",
              "      height: 32px;\n",
              "      padding: 0 0 0 0;\n",
              "      width: 32px;\n",
              "    }\n",
              "\n",
              "    .colab-df-convert:hover {\n",
              "      background-color: #E2EBFA;\n",
              "      box-shadow: 0px 1px 2px rgba(60, 64, 67, 0.3), 0px 1px 3px 1px rgba(60, 64, 67, 0.15);\n",
              "      fill: #174EA6;\n",
              "    }\n",
              "\n",
              "    [theme=dark] .colab-df-convert {\n",
              "      background-color: #3B4455;\n",
              "      fill: #D2E3FC;\n",
              "    }\n",
              "\n",
              "    [theme=dark] .colab-df-convert:hover {\n",
              "      background-color: #434B5C;\n",
              "      box-shadow: 0px 1px 3px 1px rgba(0, 0, 0, 0.15);\n",
              "      filter: drop-shadow(0px 1px 2px rgba(0, 0, 0, 0.3));\n",
              "      fill: #FFFFFF;\n",
              "    }\n",
              "  </style>\n",
              "\n",
              "      <script>\n",
              "        const buttonEl =\n",
              "          document.querySelector('#df-5b89e9d1-ff07-4314-af98-dc1c5596247d button.colab-df-convert');\n",
              "        buttonEl.style.display =\n",
              "          google.colab.kernel.accessAllowed ? 'block' : 'none';\n",
              "\n",
              "        async function convertToInteractive(key) {\n",
              "          const element = document.querySelector('#df-5b89e9d1-ff07-4314-af98-dc1c5596247d');\n",
              "          const dataTable =\n",
              "            await google.colab.kernel.invokeFunction('convertToInteractive',\n",
              "                                                     [key], {});\n",
              "          if (!dataTable) return;\n",
              "\n",
              "          const docLinkHtml = 'Like what you see? Visit the ' +\n",
              "            '<a target=\"_blank\" href=https://colab.research.google.com/notebooks/data_table.ipynb>data table notebook</a>'\n",
              "            + ' to learn more about interactive tables.';\n",
              "          element.innerHTML = '';\n",
              "          dataTable['output_type'] = 'display_data';\n",
              "          await google.colab.output.renderOutput(dataTable, element);\n",
              "          const docLink = document.createElement('div');\n",
              "          docLink.innerHTML = docLinkHtml;\n",
              "          element.appendChild(docLink);\n",
              "        }\n",
              "      </script>\n",
              "    </div>\n",
              "  </div>\n",
              "  "
            ]
          },
          "metadata": {},
          "execution_count": 18
        }
      ]
    },
    {
      "cell_type": "code",
      "source": [],
      "metadata": {
        "id": "BK42foeR8Dy1"
      },
      "execution_count": null,
      "outputs": []
    }
  ]
}
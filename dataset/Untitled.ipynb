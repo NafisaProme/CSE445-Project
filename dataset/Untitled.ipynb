{
 "cells": [
  {
   "cell_type": "code",
   "execution_count": 5,
   "id": "18f01dda",
   "metadata": {},
   "outputs": [
    {
     "name": "stderr",
     "output_type": "stream",
     "text": [
      "C:\\Users\\ASUS\\AppData\\Local\\Temp\\ipykernel_18808\\205848943.py:4: FutureWarning: The error_bad_lines argument has been deprecated and will be removed in a future version. Use on_bad_lines in the future.\n",
      "\n",
      "\n",
      "  df1 = pd.read_csv(r'C:\\Users\\ASUS\\Desktop\\CSE445 Project\\CSE445-Project\\dataset\\ryans.csv', error_bad_lines=False, encoding='latin1')\n",
      "b'Skipping line 3: expected 101 fields, saw 102\\nSkipping line 7: expected 101 fields, saw 102\\nSkipping line 10: expected 101 fields, saw 102\\nSkipping line 15: expected 101 fields, saw 102\\nSkipping line 20: expected 101 fields, saw 102\\nSkipping line 21: expected 101 fields, saw 102\\nSkipping line 22: expected 101 fields, saw 102\\nSkipping line 23: expected 101 fields, saw 102\\nSkipping line 24: expected 101 fields, saw 102\\nSkipping line 25: expected 101 fields, saw 102\\nSkipping line 26: expected 101 fields, saw 102\\nSkipping line 28: expected 101 fields, saw 102\\nSkipping line 49: expected 101 fields, saw 102\\nSkipping line 55: expected 101 fields, saw 102\\nSkipping line 64: expected 101 fields, saw 102\\nSkipping line 65: expected 101 fields, saw 102\\nSkipping line 66: expected 101 fields, saw 102\\nSkipping line 70: expected 101 fields, saw 102\\nSkipping line 72: expected 101 fields, saw 102\\nSkipping line 77: expected 101 fields, saw 102\\nSkipping line 80: expected 101 fields, saw 102\\nSkipping line 81: expected 101 fields, saw 102\\nSkipping line 91: expected 101 fields, saw 102\\nSkipping line 92: expected 101 fields, saw 102\\nSkipping line 96: expected 101 fields, saw 102\\nSkipping line 97: expected 101 fields, saw 102\\nSkipping line 130: expected 101 fields, saw 102\\nSkipping line 134: expected 101 fields, saw 102\\nSkipping line 135: expected 101 fields, saw 102\\nSkipping line 136: expected 101 fields, saw 102\\nSkipping line 137: expected 101 fields, saw 102\\nSkipping line 139: expected 101 fields, saw 102\\nSkipping line 141: expected 101 fields, saw 102\\nSkipping line 146: expected 101 fields, saw 102\\nSkipping line 150: expected 101 fields, saw 102\\nSkipping line 151: expected 101 fields, saw 102\\nSkipping line 156: expected 101 fields, saw 102\\nSkipping line 160: expected 101 fields, saw 102\\nSkipping line 162: expected 101 fields, saw 102\\nSkipping line 163: expected 101 fields, saw 102\\nSkipping line 164: expected 101 fields, saw 102\\nSkipping line 171: expected 101 fields, saw 102\\nSkipping line 175: expected 101 fields, saw 102\\nSkipping line 181: expected 101 fields, saw 102\\nSkipping line 182: expected 101 fields, saw 102\\nSkipping line 186: expected 101 fields, saw 102\\nSkipping line 187: expected 101 fields, saw 102\\nSkipping line 195: expected 101 fields, saw 102\\nSkipping line 197: expected 101 fields, saw 102\\nSkipping line 202: expected 101 fields, saw 102\\nSkipping line 204: expected 101 fields, saw 102\\nSkipping line 209: expected 101 fields, saw 102\\nSkipping line 212: expected 101 fields, saw 102\\nSkipping line 219: expected 101 fields, saw 102\\nSkipping line 221: expected 101 fields, saw 102\\nSkipping line 222: expected 101 fields, saw 102\\nSkipping line 224: expected 101 fields, saw 102\\nSkipping line 225: expected 101 fields, saw 102\\nSkipping line 226: expected 101 fields, saw 102\\nSkipping line 236: expected 101 fields, saw 102\\nSkipping line 241: expected 101 fields, saw 102\\nSkipping line 242: expected 101 fields, saw 102\\nSkipping line 245: expected 101 fields, saw 102\\nSkipping line 249: expected 101 fields, saw 102\\nSkipping line 250: expected 101 fields, saw 102\\nSkipping line 254: expected 101 fields, saw 102\\nSkipping line 255: expected 101 fields, saw 102\\nSkipping line 256: expected 101 fields, saw 102\\nSkipping line 257: expected 101 fields, saw 102\\nSkipping line 258: expected 101 fields, saw 102\\nSkipping line 259: expected 101 fields, saw 102\\nSkipping line 261: expected 101 fields, saw 102\\nSkipping line 265: expected 101 fields, saw 102\\nSkipping line 266: expected 101 fields, saw 102\\nSkipping line 276: expected 101 fields, saw 102\\nSkipping line 277: expected 101 fields, saw 102\\nSkipping line 280: expected 101 fields, saw 102\\nSkipping line 281: expected 101 fields, saw 102\\nSkipping line 291: expected 101 fields, saw 102\\nSkipping line 294: expected 101 fields, saw 102\\nSkipping line 299: expected 101 fields, saw 102\\nSkipping line 301: expected 101 fields, saw 102\\nSkipping line 304: expected 101 fields, saw 102\\nSkipping line 306: expected 101 fields, saw 102\\nSkipping line 307: expected 101 fields, saw 102\\nSkipping line 309: expected 101 fields, saw 102\\nSkipping line 311: expected 101 fields, saw 102\\nSkipping line 313: expected 101 fields, saw 102\\nSkipping line 314: expected 101 fields, saw 102\\nSkipping line 315: expected 101 fields, saw 102\\nSkipping line 316: expected 101 fields, saw 102\\nSkipping line 317: expected 101 fields, saw 102\\nSkipping line 318: expected 101 fields, saw 102\\nSkipping line 380: expected 101 fields, saw 102\\nSkipping line 381: expected 101 fields, saw 102\\nSkipping line 383: expected 101 fields, saw 102\\nSkipping line 386: expected 101 fields, saw 102\\nSkipping line 388: expected 101 fields, saw 102\\nSkipping line 392: expected 101 fields, saw 102\\nSkipping line 393: expected 101 fields, saw 102\\nSkipping line 396: expected 101 fields, saw 102\\nSkipping line 400: expected 101 fields, saw 102\\nSkipping line 405: expected 101 fields, saw 102\\nSkipping line 406: expected 101 fields, saw 102\\nSkipping line 407: expected 101 fields, saw 102\\nSkipping line 409: expected 101 fields, saw 102\\nSkipping line 410: expected 101 fields, saw 102\\nSkipping line 413: expected 101 fields, saw 102\\nSkipping line 416: expected 101 fields, saw 102\\nSkipping line 417: expected 101 fields, saw 102\\nSkipping line 420: expected 101 fields, saw 102\\nSkipping line 421: expected 101 fields, saw 102\\nSkipping line 423: expected 101 fields, saw 102\\nSkipping line 425: expected 101 fields, saw 102\\nSkipping line 426: expected 101 fields, saw 102\\nSkipping line 427: expected 101 fields, saw 102\\nSkipping line 432: expected 101 fields, saw 102\\nSkipping line 433: expected 101 fields, saw 102\\nSkipping line 435: expected 101 fields, saw 102\\nSkipping line 438: expected 101 fields, saw 102\\nSkipping line 439: expected 101 fields, saw 102\\nSkipping line 440: expected 101 fields, saw 102\\nSkipping line 441: expected 101 fields, saw 102\\nSkipping line 442: expected 101 fields, saw 102\\nSkipping line 445: expected 101 fields, saw 102\\nSkipping line 448: expected 101 fields, saw 102\\nSkipping line 449: expected 101 fields, saw 102\\nSkipping line 450: expected 101 fields, saw 102\\nSkipping line 453: expected 101 fields, saw 102\\nSkipping line 454: expected 101 fields, saw 102\\nSkipping line 456: expected 101 fields, saw 102\\nSkipping line 457: expected 101 fields, saw 102\\nSkipping line 458: expected 101 fields, saw 102\\nSkipping line 461: expected 101 fields, saw 102\\nSkipping line 462: expected 101 fields, saw 102\\nSkipping line 466: expected 101 fields, saw 102\\nSkipping line 472: expected 101 fields, saw 102\\nSkipping line 475: expected 101 fields, saw 102\\nSkipping line 479: expected 101 fields, saw 102\\nSkipping line 486: expected 101 fields, saw 102\\nSkipping line 496: expected 101 fields, saw 102\\nSkipping line 499: expected 101 fields, saw 102\\n'\n",
      "C:\\Users\\ASUS\\AppData\\Local\\Temp\\ipykernel_18808\\205848943.py:5: FutureWarning: The error_bad_lines argument has been deprecated and will be removed in a future version. Use on_bad_lines in the future.\n",
      "\n",
      "\n",
      "  df2 = pd.read_csv(r'C:\\Users\\ASUS\\Desktop\\CSE445 Project\\CSE445-Project\\dataset\\Startech.csv', error_bad_lines=False, encoding='latin1')\n"
     ]
    },
    {
     "name": "stdout",
     "output_type": "stream",
     "text": [
      "Empty DataFrame\n",
      "Columns: [Price_x, Brand, Model, Laptop Series, Part No, Processor Brand_x, Processor Type., Generation, Processor Model_x, Processor Base Frequency, Processor Max Turbo Frequency, Processor Core_x, Processor Thread_x, CPU Cache_x, RAM_x, Installed RAM Details, RAM Type_x, RAM Bus (MHz), Total RAM Slot, Empty/Expansion RAM Slot, Max. RAM Support, Optane Memory, Optane Memory Slot, Storage, Installed HDD Type, HDD RPM, HDD Expansion Slot, Installed SSD Type, M.2/SSD Expansion Slot, Storage Upgrade, Graphics Chipset, Graphics Memory Accessibility, Graphics Memory_x, Graphics Memory Type, Display Size (Inch), Display Type_x, Display Resolution Range, Display Resolution_x, Display Surface, Touch Screen_x, Display Refresh Rate, Display Bezel, Display Features, Secondary Screen Size, Secondary Screen Technology, Secondary Screen Resolution, Optical Drive_x, Multimedia Card Slot, Supported Multimedia Card, USB 2 Port, USB 3 Port_x, USB C / Thunderbolt Port, HDMI Port_x, Micro HDMI Port, Mini HDMI Port, Display Port, Mini DP Port, VGA/D-Sub, Headphone Port, Microphone Port, Security Lock Slot, LAN_x, WiFi_x, Bluetooth_x, Audio Properties, Speaker_x, Microphone., WebCam_x, Keyboard Layout, Keyboard Back-lit, RGB Keyboard, Num Key pad, Pointing Device, Dedicated Navigation key, Finger Print Sensor, Face Detection, TPM, Security Chip, Operating System_x, Body Material, Device Lighting, Color_x, Dimensions_x, Weight (Kg), Package Content, Battery, Battery Capacity_x, Battery Type, Backup Time, Power Adapter, Adapter Type_x, Warranty, Warranty Details_x, Warranty Claim Duration (Approximate), Best For, Gaming Feature, Specialty, Others, Country Of Origin, Made in/ Assemble, ...]\n",
      "Index: []\n",
      "\n",
      "[0 rows x 140 columns]\n"
     ]
    }
   ],
   "source": [
    "import pandas as pd\n",
    "\n",
    "# Specify the actual datasets to merge\n",
    "df1 = pd.read_csv(r'C:\\Users\\ASUS\\Desktop\\CSE445 Project\\CSE445-Project\\dataset\\ryans.csv', error_bad_lines=False, encoding='latin1')\n",
    "df2 = pd.read_csv(r'C:\\Users\\ASUS\\Desktop\\CSE445 Project\\CSE445-Project\\dataset\\Startech.csv', error_bad_lines=False, encoding='latin1')\n",
    "\n",
    "# Merge the datasets based on a common column\n",
    "merged_df = pd.merge(df1, df2, on='Brand')\n",
    "\n",
    "# Print the merged dataset\n",
    "print(merged_df)\n",
    "\n",
    "\n"
   ]
  },
  {
   "cell_type": "code",
   "execution_count": null,
   "id": "29818114",
   "metadata": {},
   "outputs": [],
   "source": []
  },
  {
   "cell_type": "code",
   "execution_count": null,
   "id": "0b2194aa",
   "metadata": {},
   "outputs": [],
   "source": []
  }
 ],
 "metadata": {
  "kernelspec": {
   "display_name": "Python 3 (ipykernel)",
   "language": "python",
   "name": "python3"
  },
  "language_info": {
   "codemirror_mode": {
    "name": "ipython",
    "version": 3
   },
   "file_extension": ".py",
   "mimetype": "text/x-python",
   "name": "python",
   "nbconvert_exporter": "python",
   "pygments_lexer": "ipython3",
   "version": "3.9.13"
  }
 },
 "nbformat": 4,
 "nbformat_minor": 5
}

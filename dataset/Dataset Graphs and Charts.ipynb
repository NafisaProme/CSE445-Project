{
 "cells": [
  {
   "cell_type": "code",
   "execution_count": 1,
   "id": "99d5bdbd",
   "metadata": {},
   "outputs": [
    {
     "data": {
      "text/html": [
       "<div>\n",
       "<style scoped>\n",
       "    .dataframe tbody tr th:only-of-type {\n",
       "        vertical-align: middle;\n",
       "    }\n",
       "\n",
       "    .dataframe tbody tr th {\n",
       "        vertical-align: top;\n",
       "    }\n",
       "\n",
       "    .dataframe thead th {\n",
       "        text-align: right;\n",
       "    }\n",
       "</style>\n",
       "<table border=\"1\" class=\"dataframe\">\n",
       "  <thead>\n",
       "    <tr style=\"text-align: right;\">\n",
       "      <th></th>\n",
       "      <th>Brand</th>\n",
       "      <th>Model</th>\n",
       "      <th>Processor Brand</th>\n",
       "      <th>Processor Type.</th>\n",
       "      <th>Generation</th>\n",
       "      <th>Processor Core</th>\n",
       "      <th>RAM</th>\n",
       "      <th>Installed RAM Details</th>\n",
       "      <th>RAM Type</th>\n",
       "      <th>Total RAM Slot</th>\n",
       "      <th>Storage</th>\n",
       "    </tr>\n",
       "  </thead>\n",
       "  <tbody>\n",
       "    <tr>\n",
       "      <th>0</th>\n",
       "      <td>Acer</td>\n",
       "      <td>Acer Extensa 15 EX215-54-37AH</td>\n",
       "      <td>Intel</td>\n",
       "      <td>Core i3</td>\n",
       "      <td>11th (Intel)</td>\n",
       "      <td>2</td>\n",
       "      <td>4GB</td>\n",
       "      <td>1 x 4GB</td>\n",
       "      <td>DDR4</td>\n",
       "      <td>2</td>\n",
       "      <td>1TB HDD</td>\n",
       "    </tr>\n",
       "    <tr>\n",
       "      <th>1</th>\n",
       "      <td>Acer</td>\n",
       "      <td>Acer Extensa 15 EX215-54-34SE</td>\n",
       "      <td>Intel</td>\n",
       "      <td>Core i3</td>\n",
       "      <td>11th (Intel)</td>\n",
       "      <td>2</td>\n",
       "      <td>4GB</td>\n",
       "      <td>1 x 4GB Removable</td>\n",
       "      <td>DDR4</td>\n",
       "      <td>1</td>\n",
       "      <td>1TB HDD</td>\n",
       "    </tr>\n",
       "    <tr>\n",
       "      <th>2</th>\n",
       "      <td>Lenovo</td>\n",
       "      <td>Lenovo IdeaPad Slim 3i 15IIL</td>\n",
       "      <td>Intel</td>\n",
       "      <td>Core i3</td>\n",
       "      <td>10th (Intel)</td>\n",
       "      <td>2</td>\n",
       "      <td>Intel SoC Platform</td>\n",
       "      <td>4GB</td>\n",
       "      <td>1 x 4GB Non-Removable</td>\n",
       "      <td>3200 MHz</td>\n",
       "      <td>No</td>\n",
       "    </tr>\n",
       "    <tr>\n",
       "      <th>3</th>\n",
       "      <td>Acer</td>\n",
       "      <td>Acer Extensa 15 EX215-54-37AH</td>\n",
       "      <td>Intel</td>\n",
       "      <td>Core i3</td>\n",
       "      <td>11th (Intel)</td>\n",
       "      <td>2</td>\n",
       "      <td>8GB</td>\n",
       "      <td>DDR4</td>\n",
       "      <td>3200 MHz</td>\n",
       "      <td>No</td>\n",
       "      <td>NVMe PCIe</td>\n",
       "    </tr>\n",
       "    <tr>\n",
       "      <th>4</th>\n",
       "      <td>Dell</td>\n",
       "      <td>Dell Inspiron 15 3515</td>\n",
       "      <td>Ryzen 3</td>\n",
       "      <td>Not Applicable</td>\n",
       "      <td>Ryzen 3 3250U</td>\n",
       "      <td>4</td>\n",
       "      <td>1 x 8GB Removable</td>\n",
       "      <td>DDR4</td>\n",
       "      <td>2</td>\n",
       "      <td>16GB</td>\n",
       "      <td>No HDD</td>\n",
       "    </tr>\n",
       "    <tr>\n",
       "      <th>5</th>\n",
       "      <td>Lenovo</td>\n",
       "      <td>Lenovo IdeaPad 1 15ADA7</td>\n",
       "      <td>AMD</td>\n",
       "      <td>Ryzen 3</td>\n",
       "      <td>Not Applicable</td>\n",
       "      <td>2</td>\n",
       "      <td>AMD SoC (System on Chip) platform</td>\n",
       "      <td>8GB</td>\n",
       "      <td>2 x 4GB</td>\n",
       "      <td>2400 MHz</td>\n",
       "      <td>No</td>\n",
       "    </tr>\n",
       "    <tr>\n",
       "      <th>6</th>\n",
       "      <td>Dell</td>\n",
       "      <td>Dell Inspiron 15 3511</td>\n",
       "      <td>Core i3</td>\n",
       "      <td>11th (Intel)</td>\n",
       "      <td>Core i3 1115G4</td>\n",
       "      <td>6MB</td>\n",
       "      <td>DDR4</td>\n",
       "      <td>3200 MHz</td>\n",
       "      <td>Not Applicable</td>\n",
       "      <td>No</td>\n",
       "      <td>Intel UHD Graphics</td>\n",
       "    </tr>\n",
       "    <tr>\n",
       "      <th>7</th>\n",
       "      <td>Dell</td>\n",
       "      <td>Dell Inspiron 15 3511</td>\n",
       "      <td>Core i3</td>\n",
       "      <td>11th (Intel)</td>\n",
       "      <td>Core i3 1115G4</td>\n",
       "      <td>6MB</td>\n",
       "      <td>DDR4</td>\n",
       "      <td>2666 MHz</td>\n",
       "      <td>1</td>\n",
       "      <td>32GB</td>\n",
       "      <td>NVMe PCIe</td>\n",
       "    </tr>\n",
       "    <tr>\n",
       "      <th>8</th>\n",
       "      <td>Hp</td>\n",
       "      <td>HP 15s-eq2171AU</td>\n",
       "      <td>AMD</td>\n",
       "      <td>Ryzen 3</td>\n",
       "      <td>Not Applicable</td>\n",
       "      <td>4</td>\n",
       "      <td>AMD Integrated SoC</td>\n",
       "      <td>8GB</td>\n",
       "      <td>2 x 4 GB Removeable</td>\n",
       "      <td>3200 MHz</td>\n",
       "      <td>No</td>\n",
       "    </tr>\n",
       "    <tr>\n",
       "      <th>9</th>\n",
       "      <td>HP</td>\n",
       "      <td>HP 15s-fq5486TU</td>\n",
       "      <td>Core i3</td>\n",
       "      <td>12th (Intel)</td>\n",
       "      <td>Core i3 1215U</td>\n",
       "      <td>10MB</td>\n",
       "      <td>DDR4</td>\n",
       "      <td>3200 MHz</td>\n",
       "      <td>2</td>\n",
       "      <td>16GB</td>\n",
       "      <td>No HDD</td>\n",
       "    </tr>\n",
       "  </tbody>\n",
       "</table>\n",
       "</div>"
      ],
      "text/plain": [
       "    Brand                          Model Processor Brand Processor Type.  \\\n",
       "0    Acer  Acer Extensa 15 EX215-54-37AH           Intel         Core i3   \n",
       "1    Acer  Acer Extensa 15 EX215-54-34SE           Intel         Core i3   \n",
       "2  Lenovo   Lenovo IdeaPad Slim 3i 15IIL           Intel         Core i3   \n",
       "3    Acer  Acer Extensa 15 EX215-54-37AH           Intel         Core i3   \n",
       "4    Dell          Dell Inspiron 15 3515         Ryzen 3  Not Applicable   \n",
       "5  Lenovo        Lenovo IdeaPad 1 15ADA7             AMD         Ryzen 3   \n",
       "6    Dell          Dell Inspiron 15 3511         Core i3    11th (Intel)   \n",
       "7    Dell          Dell Inspiron 15 3511         Core i3    11th (Intel)   \n",
       "8      Hp                HP 15s-eq2171AU             AMD         Ryzen 3   \n",
       "9      HP                HP 15s-fq5486TU         Core i3    12th (Intel)   \n",
       "\n",
       "       Generation Processor Core                                RAM  \\\n",
       "0    11th (Intel)              2                                4GB   \n",
       "1    11th (Intel)              2                                4GB   \n",
       "2    10th (Intel)              2                 Intel SoC Platform   \n",
       "3    11th (Intel)              2                                8GB   \n",
       "4   Ryzen 3 3250U              4                  1 x 8GB Removable   \n",
       "5  Not Applicable              2  AMD SoC (System on Chip) platform   \n",
       "6  Core i3 1115G4            6MB                               DDR4   \n",
       "7  Core i3 1115G4            6MB                               DDR4   \n",
       "8  Not Applicable              4                 AMD Integrated SoC   \n",
       "9   Core i3 1215U           10MB                               DDR4   \n",
       "\n",
       "  Installed RAM Details               RAM Type Total RAM Slot  \\\n",
       "0               1 x 4GB                   DDR4              2   \n",
       "1     1 x 4GB Removable                   DDR4              1   \n",
       "2                   4GB  1 x 4GB Non-Removable       3200 MHz   \n",
       "3                  DDR4               3200 MHz             No   \n",
       "4                  DDR4                      2           16GB   \n",
       "5                   8GB                2 x 4GB       2400 MHz   \n",
       "6              3200 MHz         Not Applicable             No   \n",
       "7              2666 MHz                      1           32GB   \n",
       "8                   8GB    2 x 4 GB Removeable       3200 MHz   \n",
       "9              3200 MHz                      2           16GB   \n",
       "\n",
       "              Storage  \n",
       "0             1TB HDD  \n",
       "1             1TB HDD  \n",
       "2                  No  \n",
       "3           NVMe PCIe  \n",
       "4              No HDD  \n",
       "5                  No  \n",
       "6  Intel UHD Graphics  \n",
       "7           NVMe PCIe  \n",
       "8                  No  \n",
       "9              No HDD  "
      ]
     },
     "execution_count": 1,
     "metadata": {},
     "output_type": "execute_result"
    }
   ],
   "source": [
    "import pandas as pd\n",
    "laptop = pd.read_csv('ryans.csv', encoding='cp1252', usecols=['Brand', 'Model', 'Processor Brand', 'Processor Type.', 'Generation', 'Processor Core', 'RAM', 'Installed RAM Details', 'RAM Type', 'Total RAM Slot', 'Storage'])\n",
    "laptop.head(10)"
   ]
  },
  {
   "cell_type": "code",
   "execution_count": 27,
   "id": "c86a846c",
   "metadata": {},
   "outputs": [],
   "source": [
    "df = pd.DataFrame(laptop)"
   ]
  },
  {
   "cell_type": "code",
   "execution_count": 33,
   "id": "74a2d692",
   "metadata": {},
   "outputs": [
    {
     "name": "stdout",
     "output_type": "stream",
     "text": [
      "['Acer' 'Lenovo' 'Dell' 'Hp' 'HP' 'Dell Inspiron' 'Dynabook' 'Asus'\n",
      " 'Huawei' 'Microsoft' 'MSI' 'Realme' 'Apple' 'Gigabyte' 'AppleApple'\n",
      " 'I-life' 'Avita' 'Nexstgo' 'Chuwi']\n"
     ]
    }
   ],
   "source": [
    "# Different brands that we would be working on \n",
    "brand = df['Brand'].unique()\n",
    "print(brand)"
   ]
  },
  {
   "cell_type": "code",
   "execution_count": 34,
   "id": "7b1412cf",
   "metadata": {},
   "outputs": [
    {
     "name": "stderr",
     "output_type": "stream",
     "text": [
      "C:\\Users\\RifatXia\\AppData\\Local\\Temp\\ipykernel_1816\\4209343599.py:1: DeprecationWarning: `import pandas_profiling` is going to be deprecated by April 1st. Please use `import ydata_profiling` instead.\n",
      "  from pandas_profiling import ProfileReport\n"
     ]
    },
    {
     "data": {
      "application/vnd.jupyter.widget-view+json": {
       "model_id": "f7357b53a1f94b28b5daf66d3fec5bfe",
       "version_major": 2,
       "version_minor": 0
      },
      "text/plain": [
       "Summarize dataset:   0%|          | 0/5 [00:00<?, ?it/s]"
      ]
     },
     "metadata": {},
     "output_type": "display_data"
    },
    {
     "data": {
      "application/vnd.jupyter.widget-view+json": {
       "model_id": "139caf2eb0c943fd92220a60da291e9d",
       "version_major": 2,
       "version_minor": 0
      },
      "text/plain": [
       "Generate report structure:   0%|          | 0/1 [00:00<?, ?it/s]"
      ]
     },
     "metadata": {},
     "output_type": "display_data"
    },
    {
     "data": {
      "application/vnd.jupyter.widget-view+json": {
       "model_id": "f454d54a497744cbab916a4981e79410",
       "version_major": 2,
       "version_minor": 0
      },
      "text/plain": [
       "Render HTML:   0%|          | 0/1 [00:00<?, ?it/s]"
      ]
     },
     "metadata": {},
     "output_type": "display_data"
    },
    {
     "data": {
      "application/vnd.jupyter.widget-view+json": {
       "model_id": "6bf8816a27834e7abe73c48af8165153",
       "version_major": 2,
       "version_minor": 0
      },
      "text/plain": [
       "Export report to file:   0%|          | 0/1 [00:00<?, ?it/s]"
      ]
     },
     "metadata": {},
     "output_type": "display_data"
    }
   ],
   "source": [
    "from pandas_profiling import ProfileReport\n",
    "prof = ProfileReport(df)\n",
    "prof.to_file(output_file='output.html')"
   ]
  }
 ],
 "metadata": {
  "kernelspec": {
   "display_name": "Python 3 (ipykernel)",
   "language": "python",
   "name": "python3"
  },
  "language_info": {
   "codemirror_mode": {
    "name": "ipython",
    "version": 3
   },
   "file_extension": ".py",
   "mimetype": "text/x-python",
   "name": "python",
   "nbconvert_exporter": "python",
   "pygments_lexer": "ipython3",
   "version": "3.9.13"
  }
 },
 "nbformat": 4,
 "nbformat_minor": 5
}

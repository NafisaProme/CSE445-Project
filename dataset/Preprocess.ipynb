{
  "nbformat": 4,
  "nbformat_minor": 0,
  "metadata": {
    "colab": {
      "provenance": []
    },
    "kernelspec": {
      "name": "python3",
      "display_name": "Python 3"
    },
    "language_info": {
      "name": "python"
    }
  },
  "cells": [
    {
      "cell_type": "code",
      "execution_count": 2,
      "metadata": {
        "id": "QGyQDu5qHMTU"
      },
      "outputs": [],
      "source": [
        "import math #mathematical computation\n",
        "import pandas as pd #dataframe\n",
        "# pd.set_option('max_rows', 10000)\n",
        "# pd.set_option('max_colwidth', 400)\n",
        "# pd.describe_option('max_colwidth')\n",
        "import numpy as np #mathematical computations\n",
        "import matplotlib.pyplot as plt #visualization\n",
        "import matplotlib\n",
        "import joblib #saving the model\n",
        "import seaborn as sns #visualization\n",
        "import json #exporting columns\n",
        "import pickle #saving the model\n",
        "from sklearn.preprocessing import LabelEncoder, OneHotEncoder, OrdinalEncoder, MinMaxScaler\n",
        "\n",
        "from sklearn import tree\n",
        "from sklearn.tree import DecisionTreeClassifier, export_graphviz #Decision Tree Classifier\n",
        "from sklearn.metrics import accuracy_score, confusion_matrix, r2_score #Performance metrics\n",
        "\n",
        "from sklearn.linear_model import LinearRegression #Linear Regression\n",
        "from sklearn.linear_model import Lasso #Lasso Regression\n",
        "from sklearn.tree import DecisionTreeRegressor #Decision Tree Regression\n",
        "from sklearn.ensemble import RandomForestRegressor #Random Forest Regression\n",
        "from xgboost import XGBRegressor # XGBoost Regression\n",
        "from sklearn.model_selection import train_test_split #Splitting the dataset into training and testing\n",
        "from sklearn.model_selection import ShuffleSplit #Random shuffling\n",
        "from sklearn.model_selection import cross_val_score #Score cross validation\n",
        "from sklearn.model_selection import cross_validate #Score cross validation\n",
        "from sklearn.model_selection import GridSearchCV #Hyper parameter tuning\n",
        "\n",
        "from statistics import stdev\n",
        "from warnings import simplefilter #Filtering warnings\n",
        "\n",
        "import warnings\n",
        "warnings.filterwarnings('ignore')\n",
        "\n",
        "##showing all columns in output##\n",
        "\n",
        "#################################"
      ]
    },
    {
      "cell_type": "code",
      "source": [
        "from google.colab import drive \n",
        "drive.mount('/content/drive')"
      ],
      "metadata": {
        "colab": {
          "base_uri": "https://localhost:8080/"
        },
        "id": "3f9ka9TXHS-u",
        "outputId": "0a1c517e-481c-4df3-fac0-4f0eec07e06c"
      },
      "execution_count": 3,
      "outputs": [
        {
          "output_type": "stream",
          "name": "stdout",
          "text": [
            "Mounted at /content/drive\n"
          ]
        }
      ]
    },
    {
      "cell_type": "code",
      "source": [
        "data = pd.read_csv('D - Main.csv', on_bad_lines='skip')"
      ],
      "metadata": {
        "id": "87CLjpJhHYZk"
      },
      "execution_count": 4,
      "outputs": []
    },
    {
      "cell_type": "code",
      "source": [
        "data"
      ],
      "metadata": {
        "colab": {
          "base_uri": "https://localhost:8080/",
          "height": 591
        },
        "id": "XCjfgolsHfdL",
        "outputId": "aaa20a17-5328-4ad7-a73f-a91c64197477"
      },
      "execution_count": 5,
      "outputs": [
        {
          "output_type": "execute_result",
          "data": {
            "text/plain": [
              "       Price      Brand Processor Brand Processor Model Generation  \\\n",
              "0      70400       Acer           Intel         Core i5   11th Gen   \n",
              "1     129800        MSI           Intel         Core i7   11th Gen   \n",
              "2      29950      AVITA           Intel   Celeron N4020        NaN   \n",
              "3      32010    Toshiba           Intel   Celeron 5205U   10th Gen   \n",
              "4      32999       DOEL             AMD         A9-9425        NaN   \n",
              "...      ...        ...             ...             ...        ...   \n",
              "1193   56000       Dell           Intel         Core i3   11th Gen   \n",
              "1194   53000     Lenovo           Intel         Core i3   11th Gen   \n",
              "1195   56500     Lenovo           Intel         Core i3   11th Gen   \n",
              "1196  154000       Acer           Intel         Core i7   10th Gen   \n",
              "1197   95000  Microsoft           Intel         Core i5   10th Gen   \n",
              "\n",
              "     Processor Base Frequency  Processor Max Frequency  Processor Core  \\\n",
              "0                         2.4                      4.2             4.0   \n",
              "1                         2.3                      4.6             8.0   \n",
              "2                         1.1                      2.8             2.0   \n",
              "3                         1.9                      1.9             2.0   \n",
              "4                         3.1                      3.7             2.0   \n",
              "...                       ...                      ...             ...   \n",
              "1193                        3                      4.1             6.0   \n",
              "1194                        3                      4.1            12.0   \n",
              "1195                        3                      4.1            12.0   \n",
              "1196                      2.6                      4.2            10.0   \n",
              "1197                      2.1                      4.2             4.0   \n",
              "\n",
              "     Processor Thread  CPU Cache   RAM RAM Type Storage Capacity Display Size  \\\n",
              "0                   8        8.0   8GB     DDR4              1TB           14   \n",
              "1                  16       24.0   8GB     DDR4              1TB         15.6   \n",
              "2                   2        4.0   4GB   LPDDR4            256GB           14   \n",
              "3                   2        2.0   4GB     DDR4            128GB           14   \n",
              "4                   2        1.0   4GB     DDR4            240GB         14.1   \n",
              "...               ...        ...   ...      ...              ...          ...   \n",
              "1193                8        6.0   4GB     DDR4        512GB SSD         15.6   \n",
              "1194                8        6.0   4GB     DDR4          1GB SSD           14   \n",
              "1195                8        6.0   4GB     DDR4          1GB SSD           14   \n",
              "1196                8       24.0  16GB     DDR4          1GB SSD         15.6   \n",
              "1197                8       24.0   8GB   LPDDR4        128GB SSD         12.3   \n",
              "\n",
              "     Graphics Memory  Battery Capacity  \n",
              "0             Shared              48.0  \n",
              "1                4GB              51.0  \n",
              "2             Shared              10.0  \n",
              "3             Shared              45.0  \n",
              "4             Shared              10.0  \n",
              "...              ...               ...  \n",
              "1193          Shared              42.0  \n",
              "1194          Shared              38.0  \n",
              "1195          Shared              38.0  \n",
              "1196          Shared              37.0  \n",
              "1197          Shared              40.0  \n",
              "\n",
              "[1198 rows x 16 columns]"
            ],
            "text/html": [
              "\n",
              "  <div id=\"df-de5b19be-cefc-45fd-a495-9aa95e130f6f\">\n",
              "    <div class=\"colab-df-container\">\n",
              "      <div>\n",
              "<style scoped>\n",
              "    .dataframe tbody tr th:only-of-type {\n",
              "        vertical-align: middle;\n",
              "    }\n",
              "\n",
              "    .dataframe tbody tr th {\n",
              "        vertical-align: top;\n",
              "    }\n",
              "\n",
              "    .dataframe thead th {\n",
              "        text-align: right;\n",
              "    }\n",
              "</style>\n",
              "<table border=\"1\" class=\"dataframe\">\n",
              "  <thead>\n",
              "    <tr style=\"text-align: right;\">\n",
              "      <th></th>\n",
              "      <th>Price</th>\n",
              "      <th>Brand</th>\n",
              "      <th>Processor Brand</th>\n",
              "      <th>Processor Model</th>\n",
              "      <th>Generation</th>\n",
              "      <th>Processor Base Frequency</th>\n",
              "      <th>Processor Max Frequency</th>\n",
              "      <th>Processor Core</th>\n",
              "      <th>Processor Thread</th>\n",
              "      <th>CPU Cache</th>\n",
              "      <th>RAM</th>\n",
              "      <th>RAM Type</th>\n",
              "      <th>Storage Capacity</th>\n",
              "      <th>Display Size</th>\n",
              "      <th>Graphics Memory</th>\n",
              "      <th>Battery Capacity</th>\n",
              "    </tr>\n",
              "  </thead>\n",
              "  <tbody>\n",
              "    <tr>\n",
              "      <th>0</th>\n",
              "      <td>70400</td>\n",
              "      <td>Acer</td>\n",
              "      <td>Intel</td>\n",
              "      <td>Core i5</td>\n",
              "      <td>11th Gen</td>\n",
              "      <td>2.4</td>\n",
              "      <td>4.2</td>\n",
              "      <td>4.0</td>\n",
              "      <td>8</td>\n",
              "      <td>8.0</td>\n",
              "      <td>8GB</td>\n",
              "      <td>DDR4</td>\n",
              "      <td>1TB</td>\n",
              "      <td>14</td>\n",
              "      <td>Shared</td>\n",
              "      <td>48.0</td>\n",
              "    </tr>\n",
              "    <tr>\n",
              "      <th>1</th>\n",
              "      <td>129800</td>\n",
              "      <td>MSI</td>\n",
              "      <td>Intel</td>\n",
              "      <td>Core i7</td>\n",
              "      <td>11th Gen</td>\n",
              "      <td>2.3</td>\n",
              "      <td>4.6</td>\n",
              "      <td>8.0</td>\n",
              "      <td>16</td>\n",
              "      <td>24.0</td>\n",
              "      <td>8GB</td>\n",
              "      <td>DDR4</td>\n",
              "      <td>1TB</td>\n",
              "      <td>15.6</td>\n",
              "      <td>4GB</td>\n",
              "      <td>51.0</td>\n",
              "    </tr>\n",
              "    <tr>\n",
              "      <th>2</th>\n",
              "      <td>29950</td>\n",
              "      <td>AVITA</td>\n",
              "      <td>Intel</td>\n",
              "      <td>Celeron N4020</td>\n",
              "      <td>NaN</td>\n",
              "      <td>1.1</td>\n",
              "      <td>2.8</td>\n",
              "      <td>2.0</td>\n",
              "      <td>2</td>\n",
              "      <td>4.0</td>\n",
              "      <td>4GB</td>\n",
              "      <td>LPDDR4</td>\n",
              "      <td>256GB</td>\n",
              "      <td>14</td>\n",
              "      <td>Shared</td>\n",
              "      <td>10.0</td>\n",
              "    </tr>\n",
              "    <tr>\n",
              "      <th>3</th>\n",
              "      <td>32010</td>\n",
              "      <td>Toshiba</td>\n",
              "      <td>Intel</td>\n",
              "      <td>Celeron 5205U</td>\n",
              "      <td>10th Gen</td>\n",
              "      <td>1.9</td>\n",
              "      <td>1.9</td>\n",
              "      <td>2.0</td>\n",
              "      <td>2</td>\n",
              "      <td>2.0</td>\n",
              "      <td>4GB</td>\n",
              "      <td>DDR4</td>\n",
              "      <td>128GB</td>\n",
              "      <td>14</td>\n",
              "      <td>Shared</td>\n",
              "      <td>45.0</td>\n",
              "    </tr>\n",
              "    <tr>\n",
              "      <th>4</th>\n",
              "      <td>32999</td>\n",
              "      <td>DOEL</td>\n",
              "      <td>AMD</td>\n",
              "      <td>A9-9425</td>\n",
              "      <td>NaN</td>\n",
              "      <td>3.1</td>\n",
              "      <td>3.7</td>\n",
              "      <td>2.0</td>\n",
              "      <td>2</td>\n",
              "      <td>1.0</td>\n",
              "      <td>4GB</td>\n",
              "      <td>DDR4</td>\n",
              "      <td>240GB</td>\n",
              "      <td>14.1</td>\n",
              "      <td>Shared</td>\n",
              "      <td>10.0</td>\n",
              "    </tr>\n",
              "    <tr>\n",
              "      <th>...</th>\n",
              "      <td>...</td>\n",
              "      <td>...</td>\n",
              "      <td>...</td>\n",
              "      <td>...</td>\n",
              "      <td>...</td>\n",
              "      <td>...</td>\n",
              "      <td>...</td>\n",
              "      <td>...</td>\n",
              "      <td>...</td>\n",
              "      <td>...</td>\n",
              "      <td>...</td>\n",
              "      <td>...</td>\n",
              "      <td>...</td>\n",
              "      <td>...</td>\n",
              "      <td>...</td>\n",
              "      <td>...</td>\n",
              "    </tr>\n",
              "    <tr>\n",
              "      <th>1193</th>\n",
              "      <td>56000</td>\n",
              "      <td>Dell</td>\n",
              "      <td>Intel</td>\n",
              "      <td>Core i3</td>\n",
              "      <td>11th Gen</td>\n",
              "      <td>3</td>\n",
              "      <td>4.1</td>\n",
              "      <td>6.0</td>\n",
              "      <td>8</td>\n",
              "      <td>6.0</td>\n",
              "      <td>4GB</td>\n",
              "      <td>DDR4</td>\n",
              "      <td>512GB SSD</td>\n",
              "      <td>15.6</td>\n",
              "      <td>Shared</td>\n",
              "      <td>42.0</td>\n",
              "    </tr>\n",
              "    <tr>\n",
              "      <th>1194</th>\n",
              "      <td>53000</td>\n",
              "      <td>Lenovo</td>\n",
              "      <td>Intel</td>\n",
              "      <td>Core i3</td>\n",
              "      <td>11th Gen</td>\n",
              "      <td>3</td>\n",
              "      <td>4.1</td>\n",
              "      <td>12.0</td>\n",
              "      <td>8</td>\n",
              "      <td>6.0</td>\n",
              "      <td>4GB</td>\n",
              "      <td>DDR4</td>\n",
              "      <td>1GB SSD</td>\n",
              "      <td>14</td>\n",
              "      <td>Shared</td>\n",
              "      <td>38.0</td>\n",
              "    </tr>\n",
              "    <tr>\n",
              "      <th>1195</th>\n",
              "      <td>56500</td>\n",
              "      <td>Lenovo</td>\n",
              "      <td>Intel</td>\n",
              "      <td>Core i3</td>\n",
              "      <td>11th Gen</td>\n",
              "      <td>3</td>\n",
              "      <td>4.1</td>\n",
              "      <td>12.0</td>\n",
              "      <td>8</td>\n",
              "      <td>6.0</td>\n",
              "      <td>4GB</td>\n",
              "      <td>DDR4</td>\n",
              "      <td>1GB SSD</td>\n",
              "      <td>14</td>\n",
              "      <td>Shared</td>\n",
              "      <td>38.0</td>\n",
              "    </tr>\n",
              "    <tr>\n",
              "      <th>1196</th>\n",
              "      <td>154000</td>\n",
              "      <td>Acer</td>\n",
              "      <td>Intel</td>\n",
              "      <td>Core i7</td>\n",
              "      <td>10th Gen</td>\n",
              "      <td>2.6</td>\n",
              "      <td>4.2</td>\n",
              "      <td>10.0</td>\n",
              "      <td>8</td>\n",
              "      <td>24.0</td>\n",
              "      <td>16GB</td>\n",
              "      <td>DDR4</td>\n",
              "      <td>1GB SSD</td>\n",
              "      <td>15.6</td>\n",
              "      <td>Shared</td>\n",
              "      <td>37.0</td>\n",
              "    </tr>\n",
              "    <tr>\n",
              "      <th>1197</th>\n",
              "      <td>95000</td>\n",
              "      <td>Microsoft</td>\n",
              "      <td>Intel</td>\n",
              "      <td>Core i5</td>\n",
              "      <td>10th Gen</td>\n",
              "      <td>2.1</td>\n",
              "      <td>4.2</td>\n",
              "      <td>4.0</td>\n",
              "      <td>8</td>\n",
              "      <td>24.0</td>\n",
              "      <td>8GB</td>\n",
              "      <td>LPDDR4</td>\n",
              "      <td>128GB SSD</td>\n",
              "      <td>12.3</td>\n",
              "      <td>Shared</td>\n",
              "      <td>40.0</td>\n",
              "    </tr>\n",
              "  </tbody>\n",
              "</table>\n",
              "<p>1198 rows × 16 columns</p>\n",
              "</div>\n",
              "      <button class=\"colab-df-convert\" onclick=\"convertToInteractive('df-de5b19be-cefc-45fd-a495-9aa95e130f6f')\"\n",
              "              title=\"Convert this dataframe to an interactive table.\"\n",
              "              style=\"display:none;\">\n",
              "        \n",
              "  <svg xmlns=\"http://www.w3.org/2000/svg\" height=\"24px\"viewBox=\"0 0 24 24\"\n",
              "       width=\"24px\">\n",
              "    <path d=\"M0 0h24v24H0V0z\" fill=\"none\"/>\n",
              "    <path d=\"M18.56 5.44l.94 2.06.94-2.06 2.06-.94-2.06-.94-.94-2.06-.94 2.06-2.06.94zm-11 1L8.5 8.5l.94-2.06 2.06-.94-2.06-.94L8.5 2.5l-.94 2.06-2.06.94zm10 10l.94 2.06.94-2.06 2.06-.94-2.06-.94-.94-2.06-.94 2.06-2.06.94z\"/><path d=\"M17.41 7.96l-1.37-1.37c-.4-.4-.92-.59-1.43-.59-.52 0-1.04.2-1.43.59L10.3 9.45l-7.72 7.72c-.78.78-.78 2.05 0 2.83L4 21.41c.39.39.9.59 1.41.59.51 0 1.02-.2 1.41-.59l7.78-7.78 2.81-2.81c.8-.78.8-2.07 0-2.86zM5.41 20L4 18.59l7.72-7.72 1.47 1.35L5.41 20z\"/>\n",
              "  </svg>\n",
              "      </button>\n",
              "      \n",
              "  <style>\n",
              "    .colab-df-container {\n",
              "      display:flex;\n",
              "      flex-wrap:wrap;\n",
              "      gap: 12px;\n",
              "    }\n",
              "\n",
              "    .colab-df-convert {\n",
              "      background-color: #E8F0FE;\n",
              "      border: none;\n",
              "      border-radius: 50%;\n",
              "      cursor: pointer;\n",
              "      display: none;\n",
              "      fill: #1967D2;\n",
              "      height: 32px;\n",
              "      padding: 0 0 0 0;\n",
              "      width: 32px;\n",
              "    }\n",
              "\n",
              "    .colab-df-convert:hover {\n",
              "      background-color: #E2EBFA;\n",
              "      box-shadow: 0px 1px 2px rgba(60, 64, 67, 0.3), 0px 1px 3px 1px rgba(60, 64, 67, 0.15);\n",
              "      fill: #174EA6;\n",
              "    }\n",
              "\n",
              "    [theme=dark] .colab-df-convert {\n",
              "      background-color: #3B4455;\n",
              "      fill: #D2E3FC;\n",
              "    }\n",
              "\n",
              "    [theme=dark] .colab-df-convert:hover {\n",
              "      background-color: #434B5C;\n",
              "      box-shadow: 0px 1px 3px 1px rgba(0, 0, 0, 0.15);\n",
              "      filter: drop-shadow(0px 1px 2px rgba(0, 0, 0, 0.3));\n",
              "      fill: #FFFFFF;\n",
              "    }\n",
              "  </style>\n",
              "\n",
              "      <script>\n",
              "        const buttonEl =\n",
              "          document.querySelector('#df-de5b19be-cefc-45fd-a495-9aa95e130f6f button.colab-df-convert');\n",
              "        buttonEl.style.display =\n",
              "          google.colab.kernel.accessAllowed ? 'block' : 'none';\n",
              "\n",
              "        async function convertToInteractive(key) {\n",
              "          const element = document.querySelector('#df-de5b19be-cefc-45fd-a495-9aa95e130f6f');\n",
              "          const dataTable =\n",
              "            await google.colab.kernel.invokeFunction('convertToInteractive',\n",
              "                                                     [key], {});\n",
              "          if (!dataTable) return;\n",
              "\n",
              "          const docLinkHtml = 'Like what you see? Visit the ' +\n",
              "            '<a target=\"_blank\" href=https://colab.research.google.com/notebooks/data_table.ipynb>data table notebook</a>'\n",
              "            + ' to learn more about interactive tables.';\n",
              "          element.innerHTML = '';\n",
              "          dataTable['output_type'] = 'display_data';\n",
              "          await google.colab.output.renderOutput(dataTable, element);\n",
              "          const docLink = document.createElement('div');\n",
              "          docLink.innerHTML = docLinkHtml;\n",
              "          element.appendChild(docLink);\n",
              "        }\n",
              "      </script>\n",
              "    </div>\n",
              "  </div>\n",
              "  "
            ]
          },
          "metadata": {},
          "execution_count": 5
        }
      ]
    },
    {
      "cell_type": "code",
      "source": [
        "data.shape"
      ],
      "metadata": {
        "colab": {
          "base_uri": "https://localhost:8080/"
        },
        "id": "9m-pGJE1HhWJ",
        "outputId": "60b32ea9-a1dc-4e2e-f395-4119f67f11d9"
      },
      "execution_count": 6,
      "outputs": [
        {
          "output_type": "execute_result",
          "data": {
            "text/plain": [
              "(1198, 16)"
            ]
          },
          "metadata": {},
          "execution_count": 6
        }
      ]
    },
    {
      "cell_type": "code",
      "source": [
        "data.info()"
      ],
      "metadata": {
        "colab": {
          "base_uri": "https://localhost:8080/"
        },
        "id": "kJreewJwHlJ9",
        "outputId": "7d16909a-6e1f-4e6f-f754-bdb5cf61e91e"
      },
      "execution_count": 7,
      "outputs": [
        {
          "output_type": "stream",
          "name": "stdout",
          "text": [
            "<class 'pandas.core.frame.DataFrame'>\n",
            "RangeIndex: 1198 entries, 0 to 1197\n",
            "Data columns (total 16 columns):\n",
            " #   Column                    Non-Null Count  Dtype  \n",
            "---  ------                    --------------  -----  \n",
            " 0   Price                     1198 non-null   int64  \n",
            " 1   Brand                     1198 non-null   object \n",
            " 2   Processor Brand           1178 non-null   object \n",
            " 3   Processor Model           1172 non-null   object \n",
            " 4   Generation                1133 non-null   object \n",
            " 5   Processor Base Frequency  1174 non-null   object \n",
            " 6   Processor Max Frequency   1174 non-null   float64\n",
            " 7   Processor Core            1165 non-null   float64\n",
            " 8   Processor Thread          1178 non-null   object \n",
            " 9   CPU Cache                 1197 non-null   float64\n",
            " 10  RAM                       1181 non-null   object \n",
            " 11  RAM Type                  1165 non-null   object \n",
            " 12  Storage Capacity          1169 non-null   object \n",
            " 13  Display Size              1176 non-null   object \n",
            " 14  Graphics Memory           1156 non-null   object \n",
            " 15  Battery Capacity          1154 non-null   float64\n",
            "dtypes: float64(4), int64(1), object(11)\n",
            "memory usage: 149.9+ KB\n"
          ]
        }
      ]
    },
    {
      "cell_type": "code",
      "source": [
        "data.columns"
      ],
      "metadata": {
        "colab": {
          "base_uri": "https://localhost:8080/"
        },
        "id": "IYABV_ipHmYf",
        "outputId": "d2292810-3dd9-40cf-cdb4-c24bb4fb4d84"
      },
      "execution_count": 8,
      "outputs": [
        {
          "output_type": "execute_result",
          "data": {
            "text/plain": [
              "Index(['Price', 'Brand', 'Processor Brand', 'Processor Model', 'Generation',\n",
              "       'Processor Base Frequency', 'Processor Max Frequency', 'Processor Core',\n",
              "       'Processor Thread', 'CPU Cache', 'RAM', 'RAM Type', 'Storage Capacity',\n",
              "       'Display Size', 'Graphics Memory', 'Battery Capacity'],\n",
              "      dtype='object')"
            ]
          },
          "metadata": {},
          "execution_count": 8
        }
      ]
    },
    {
      "cell_type": "code",
      "source": [
        "data['Brand'].value_counts()"
      ],
      "metadata": {
        "colab": {
          "base_uri": "https://localhost:8080/"
        },
        "id": "VSPZEgjXHtC-",
        "outputId": "d909259b-c66f-4c78-e4ba-ab14a5231b95"
      },
      "execution_count": 9,
      "outputs": [
        {
          "output_type": "execute_result",
          "data": {
            "text/plain": [
              "Asus             273\n",
              "Lenovo           180\n",
              "ASUS             168\n",
              "HP                95\n",
              "Acer              84\n",
              "MSI               71\n",
              "Dell              69\n",
              "Apple             54\n",
              "LENOVO            39\n",
              "Microsoft         23\n",
              "Walton            19\n",
              "ACER              17\n",
              "DELL              14\n",
              "Huawei            14\n",
              "Avita             14\n",
              "WALTON            10\n",
              "GIGABYTE           7\n",
              "Hp                 7\n",
              "Realme             7\n",
              "Gigabyte           6\n",
              "AVITA              5\n",
              "HUAWEI             4\n",
              "DOEL               4\n",
              "Toshiba            4\n",
              "Dynabook           3\n",
              "WIWU               2\n",
              "TOSHIBA            2\n",
              "Xiaomi             1\n",
              "Dell Inspiron      1\n",
              "Razer              1\n",
              "Name: Brand, dtype: int64"
            ]
          },
          "metadata": {},
          "execution_count": 9
        }
      ]
    },
    {
      "cell_type": "code",
      "source": [
        "df = data"
      ],
      "metadata": {
        "id": "wuaSAeVOIGRk"
      },
      "execution_count": 10,
      "outputs": []
    },
    {
      "cell_type": "code",
      "source": [
        "df['Brand'].replace('Asus',0,inplace=True)"
      ],
      "metadata": {
        "id": "WJAJZisWYMM9"
      },
      "execution_count": 11,
      "outputs": []
    },
    {
      "cell_type": "code",
      "source": [
        "data['Brand'].value_counts()"
      ],
      "metadata": {
        "colab": {
          "base_uri": "https://localhost:8080/"
        },
        "id": "up-m9lrOYtY6",
        "outputId": "653d1c35-d962-48cf-c06a-4190eda5ad75"
      },
      "execution_count": 12,
      "outputs": [
        {
          "output_type": "execute_result",
          "data": {
            "text/plain": [
              "0                273\n",
              "Lenovo           180\n",
              "ASUS             168\n",
              "HP                95\n",
              "Acer              84\n",
              "MSI               71\n",
              "Dell              69\n",
              "Apple             54\n",
              "LENOVO            39\n",
              "Microsoft         23\n",
              "Walton            19\n",
              "ACER              17\n",
              "DELL              14\n",
              "Huawei            14\n",
              "Avita             14\n",
              "WALTON            10\n",
              "GIGABYTE           7\n",
              "Hp                 7\n",
              "Realme             7\n",
              "Gigabyte           6\n",
              "AVITA              5\n",
              "HUAWEI             4\n",
              "DOEL               4\n",
              "Toshiba            4\n",
              "Dynabook           3\n",
              "WIWU               2\n",
              "TOSHIBA            2\n",
              "Xiaomi             1\n",
              "Dell Inspiron      1\n",
              "Razer              1\n",
              "Name: Brand, dtype: int64"
            ]
          },
          "metadata": {},
          "execution_count": 12
        }
      ]
    },
    {
      "cell_type": "code",
      "source": [
        "df['Brand'].replace(0,1,inplace=True)"
      ],
      "metadata": {
        "id": "XFUOj0_pYvdW"
      },
      "execution_count": 15,
      "outputs": []
    },
    {
      "cell_type": "code",
      "source": [
        "data['Brand'].value_counts()"
      ],
      "metadata": {
        "colab": {
          "base_uri": "https://localhost:8080/"
        },
        "id": "h18TDYaDY037",
        "outputId": "19ead69d-f171-4307-a313-5c2402553fe9"
      },
      "execution_count": 16,
      "outputs": [
        {
          "output_type": "execute_result",
          "data": {
            "text/plain": [
              "1                273\n",
              "Lenovo           180\n",
              "ASUS             168\n",
              "HP                95\n",
              "Acer              84\n",
              "MSI               71\n",
              "Dell              69\n",
              "Apple             54\n",
              "LENOVO            39\n",
              "Microsoft         23\n",
              "Walton            19\n",
              "ACER              17\n",
              "DELL              14\n",
              "Huawei            14\n",
              "Avita             14\n",
              "WALTON            10\n",
              "GIGABYTE           7\n",
              "Hp                 7\n",
              "Realme             7\n",
              "Gigabyte           6\n",
              "AVITA              5\n",
              "HUAWEI             4\n",
              "DOEL               4\n",
              "Toshiba            4\n",
              "Dynabook           3\n",
              "WIWU               2\n",
              "TOSHIBA            2\n",
              "Xiaomi             1\n",
              "Dell Inspiron      1\n",
              "Razer              1\n",
              "Name: Brand, dtype: int64"
            ]
          },
          "metadata": {},
          "execution_count": 16
        }
      ]
    },
    {
      "cell_type": "code",
      "source": [
        "df['Brand'].replace('Lenovo',2,inplace=True)"
      ],
      "metadata": {
        "id": "lJA9VLL1Y3Ni"
      },
      "execution_count": 17,
      "outputs": []
    },
    {
      "cell_type": "code",
      "source": [
        "df['Brand'].replace('ASUS',1,inplace=True)"
      ],
      "metadata": {
        "id": "0xpyTCosZArB"
      },
      "execution_count": 18,
      "outputs": []
    },
    {
      "cell_type": "code",
      "source": [
        "data['Brand'].value_counts()"
      ],
      "metadata": {
        "colab": {
          "base_uri": "https://localhost:8080/"
        },
        "id": "zSOVpkjHZSgY",
        "outputId": "48055a96-bd7c-407c-ddb0-e664c2dd8973"
      },
      "execution_count": 19,
      "outputs": [
        {
          "output_type": "execute_result",
          "data": {
            "text/plain": [
              "1                441\n",
              "2                180\n",
              "HP                95\n",
              "Acer              84\n",
              "MSI               71\n",
              "Dell              69\n",
              "Apple             54\n",
              "LENOVO            39\n",
              "Microsoft         23\n",
              "Walton            19\n",
              "ACER              17\n",
              "DELL              14\n",
              "Huawei            14\n",
              "Avita             14\n",
              "WALTON            10\n",
              "GIGABYTE           7\n",
              "Hp                 7\n",
              "Realme             7\n",
              "Gigabyte           6\n",
              "AVITA              5\n",
              "HUAWEI             4\n",
              "DOEL               4\n",
              "Toshiba            4\n",
              "Dynabook           3\n",
              "WIWU               2\n",
              "TOSHIBA            2\n",
              "Xiaomi             1\n",
              "Dell Inspiron      1\n",
              "Razer              1\n",
              "Name: Brand, dtype: int64"
            ]
          },
          "metadata": {},
          "execution_count": 19
        }
      ]
    },
    {
      "cell_type": "code",
      "source": [
        "df['Brand'].replace('HP',3,inplace=True)"
      ],
      "metadata": {
        "id": "LIC4l6F-ZTPf"
      },
      "execution_count": 20,
      "outputs": []
    },
    {
      "cell_type": "code",
      "source": [
        "df['Brand'].replace('Acer',4,inplace=True)"
      ],
      "metadata": {
        "id": "cbolY9prZYCR"
      },
      "execution_count": 21,
      "outputs": []
    },
    {
      "cell_type": "code",
      "source": [
        "df['Brand'].replace('MSI',5,inplace=True)"
      ],
      "metadata": {
        "id": "DBWZgvY6Zcz7"
      },
      "execution_count": 22,
      "outputs": []
    },
    {
      "cell_type": "code",
      "source": [
        "df['Brand'].replace('Hp',3,inplace=True)"
      ],
      "metadata": {
        "id": "kmaWJc40ZgzN"
      },
      "execution_count": 23,
      "outputs": []
    },
    {
      "cell_type": "code",
      "source": [
        "data['Brand'].value_counts()"
      ],
      "metadata": {
        "colab": {
          "base_uri": "https://localhost:8080/"
        },
        "id": "f9iWPVCeZkaA",
        "outputId": "a081c10b-bd8d-4722-ea7c-01bdf01ba239"
      },
      "execution_count": 24,
      "outputs": [
        {
          "output_type": "execute_result",
          "data": {
            "text/plain": [
              "1                441\n",
              "2                180\n",
              "3                102\n",
              "4                 84\n",
              "5                 71\n",
              "Dell              69\n",
              "Apple             54\n",
              "LENOVO            39\n",
              "Microsoft         23\n",
              "Walton            19\n",
              "ACER              17\n",
              "DELL              14\n",
              "Huawei            14\n",
              "Avita             14\n",
              "WALTON            10\n",
              "GIGABYTE           7\n",
              "Realme             7\n",
              "Gigabyte           6\n",
              "AVITA              5\n",
              "HUAWEI             4\n",
              "DOEL               4\n",
              "Toshiba            4\n",
              "Dynabook           3\n",
              "WIWU               2\n",
              "TOSHIBA            2\n",
              "Xiaomi             1\n",
              "Dell Inspiron      1\n",
              "Razer              1\n",
              "Name: Brand, dtype: int64"
            ]
          },
          "metadata": {},
          "execution_count": 24
        }
      ]
    },
    {
      "cell_type": "code",
      "source": [
        "df['Brand'].replace('Dell',6,inplace=True)"
      ],
      "metadata": {
        "id": "UbChg32JZnDX"
      },
      "execution_count": 25,
      "outputs": []
    },
    {
      "cell_type": "code",
      "source": [
        "df['Brand'].replace('DELL',6,inplace=True)"
      ],
      "metadata": {
        "id": "lEo3VyJTZtBC"
      },
      "execution_count": 26,
      "outputs": []
    },
    {
      "cell_type": "code",
      "source": [
        "data['Brand'].value_counts()"
      ],
      "metadata": {
        "colab": {
          "base_uri": "https://localhost:8080/"
        },
        "id": "mEhhRc8WZwXX",
        "outputId": "3f5bba02-1595-4246-cc55-1b54acbeee0c"
      },
      "execution_count": 27,
      "outputs": [
        {
          "output_type": "execute_result",
          "data": {
            "text/plain": [
              "1                441\n",
              "2                180\n",
              "3                102\n",
              "4                 84\n",
              "6                 83\n",
              "5                 71\n",
              "Apple             54\n",
              "LENOVO            39\n",
              "Microsoft         23\n",
              "Walton            19\n",
              "ACER              17\n",
              "Avita             14\n",
              "Huawei            14\n",
              "WALTON            10\n",
              "Realme             7\n",
              "GIGABYTE           7\n",
              "Gigabyte           6\n",
              "AVITA              5\n",
              "HUAWEI             4\n",
              "DOEL               4\n",
              "Toshiba            4\n",
              "Dynabook           3\n",
              "WIWU               2\n",
              "TOSHIBA            2\n",
              "Xiaomi             1\n",
              "Dell Inspiron      1\n",
              "Razer              1\n",
              "Name: Brand, dtype: int64"
            ]
          },
          "metadata": {},
          "execution_count": 27
        }
      ]
    },
    {
      "cell_type": "code",
      "source": [
        "df['Brand'].replace('Apple',7,inplace=True)\n"
      ],
      "metadata": {
        "id": "bTXmtTtyZylM"
      },
      "execution_count": 28,
      "outputs": []
    },
    {
      "cell_type": "code",
      "source": [
        "df['Brand'].replace('LENOVO',2,inplace=True)"
      ],
      "metadata": {
        "id": "oRy-yjiNZ6Z2"
      },
      "execution_count": 29,
      "outputs": []
    },
    {
      "cell_type": "code",
      "source": [
        "data['Brand'].value_counts()"
      ],
      "metadata": {
        "colab": {
          "base_uri": "https://localhost:8080/"
        },
        "id": "E_yEHO-maBtW",
        "outputId": "79f38ffe-7a66-4d6a-9caf-13f1f6276657"
      },
      "execution_count": 30,
      "outputs": [
        {
          "output_type": "execute_result",
          "data": {
            "text/plain": [
              "1                441\n",
              "2                219\n",
              "3                102\n",
              "4                 84\n",
              "6                 83\n",
              "5                 71\n",
              "7                 54\n",
              "Microsoft         23\n",
              "Walton            19\n",
              "ACER              17\n",
              "Huawei            14\n",
              "Avita             14\n",
              "WALTON            10\n",
              "Realme             7\n",
              "GIGABYTE           7\n",
              "Gigabyte           6\n",
              "AVITA              5\n",
              "HUAWEI             4\n",
              "DOEL               4\n",
              "Toshiba            4\n",
              "Dynabook           3\n",
              "WIWU               2\n",
              "TOSHIBA            2\n",
              "Xiaomi             1\n",
              "Dell Inspiron      1\n",
              "Razer              1\n",
              "Name: Brand, dtype: int64"
            ]
          },
          "metadata": {},
          "execution_count": 30
        }
      ]
    },
    {
      "cell_type": "code",
      "source": [
        "df['Brand'].replace('Microsoft',8,inplace=True)"
      ],
      "metadata": {
        "id": "TA2ZH88uaD-L"
      },
      "execution_count": 31,
      "outputs": []
    },
    {
      "cell_type": "code",
      "source": [
        "df['Brand'].replace('Walton',9,inplace=True)"
      ],
      "metadata": {
        "id": "KPp5KT5baPg8"
      },
      "execution_count": 32,
      "outputs": []
    },
    {
      "cell_type": "code",
      "source": [
        "df['Brand'].replace('ACER',4,inplace=True)"
      ],
      "metadata": {
        "id": "g7MfZmkAaUWU"
      },
      "execution_count": 33,
      "outputs": []
    },
    {
      "cell_type": "code",
      "source": [
        "data['Brand'].value_counts()"
      ],
      "metadata": {
        "colab": {
          "base_uri": "https://localhost:8080/"
        },
        "id": "CSYtwleYaZ_N",
        "outputId": "fb4a5fa8-e2e6-40ac-cd48-f0dd8b489448"
      },
      "execution_count": 34,
      "outputs": [
        {
          "output_type": "execute_result",
          "data": {
            "text/plain": [
              "1                441\n",
              "2                219\n",
              "3                102\n",
              "4                101\n",
              "6                 83\n",
              "5                 71\n",
              "7                 54\n",
              "8                 23\n",
              "9                 19\n",
              "Huawei            14\n",
              "Avita             14\n",
              "WALTON            10\n",
              "Realme             7\n",
              "GIGABYTE           7\n",
              "Gigabyte           6\n",
              "AVITA              5\n",
              "DOEL               4\n",
              "Toshiba            4\n",
              "HUAWEI             4\n",
              "Dynabook           3\n",
              "WIWU               2\n",
              "TOSHIBA            2\n",
              "Xiaomi             1\n",
              "Dell Inspiron      1\n",
              "Razer              1\n",
              "Name: Brand, dtype: int64"
            ]
          },
          "metadata": {},
          "execution_count": 34
        }
      ]
    },
    {
      "cell_type": "code",
      "source": [
        "df['Brand'].replace('WALTON',9,inplace=True)"
      ],
      "metadata": {
        "id": "lAGDp86Dach9"
      },
      "execution_count": 35,
      "outputs": []
    },
    {
      "cell_type": "code",
      "source": [
        "data['Brand'].value_counts()"
      ],
      "metadata": {
        "colab": {
          "base_uri": "https://localhost:8080/"
        },
        "id": "zykCsL9waiNp",
        "outputId": "129e5f9e-9dc6-45a3-d97d-9b3779727826"
      },
      "execution_count": 36,
      "outputs": [
        {
          "output_type": "execute_result",
          "data": {
            "text/plain": [
              "1                441\n",
              "2                219\n",
              "3                102\n",
              "4                101\n",
              "6                 83\n",
              "5                 71\n",
              "7                 54\n",
              "9                 29\n",
              "8                 23\n",
              "Huawei            14\n",
              "Avita             14\n",
              "GIGABYTE           7\n",
              "Realme             7\n",
              "Gigabyte           6\n",
              "AVITA              5\n",
              "HUAWEI             4\n",
              "DOEL               4\n",
              "Toshiba            4\n",
              "Dynabook           3\n",
              "WIWU               2\n",
              "TOSHIBA            2\n",
              "Xiaomi             1\n",
              "Dell Inspiron      1\n",
              "Razer              1\n",
              "Name: Brand, dtype: int64"
            ]
          },
          "metadata": {},
          "execution_count": 36
        }
      ]
    },
    {
      "cell_type": "code",
      "source": [
        "df['Brand'].replace('Huawei',10,inplace=True)"
      ],
      "metadata": {
        "id": "uxDAsAFFamPU"
      },
      "execution_count": 37,
      "outputs": []
    },
    {
      "cell_type": "code",
      "source": [
        "df['Brand'].replace('Avita',11,inplace=True)"
      ],
      "metadata": {
        "id": "EPVo3mtzauVt"
      },
      "execution_count": 38,
      "outputs": []
    },
    {
      "cell_type": "code",
      "source": [
        "df['Brand'].replace('GIGABYTE',12,inplace=True)"
      ],
      "metadata": {
        "id": "MQOQUXwpazSq"
      },
      "execution_count": 39,
      "outputs": []
    },
    {
      "cell_type": "code",
      "source": [
        "df['Brand'].replace('Realme',13,inplace=True)"
      ],
      "metadata": {
        "id": "c1HizCXIa4Zr"
      },
      "execution_count": 40,
      "outputs": []
    },
    {
      "cell_type": "code",
      "source": [
        "df['Brand'].replace('Gigabyte',12,inplace=True)"
      ],
      "metadata": {
        "id": "ryb16vZ3a9sL"
      },
      "execution_count": 41,
      "outputs": []
    },
    {
      "cell_type": "code",
      "source": [
        "data['Brand'].value_counts()"
      ],
      "metadata": {
        "colab": {
          "base_uri": "https://localhost:8080/"
        },
        "id": "N4e9ONgAbCo2",
        "outputId": "33c5fd19-c0ed-460d-ab84-e02b6485a13e"
      },
      "execution_count": 42,
      "outputs": [
        {
          "output_type": "execute_result",
          "data": {
            "text/plain": [
              "1                441\n",
              "2                219\n",
              "3                102\n",
              "4                101\n",
              "6                 83\n",
              "5                 71\n",
              "7                 54\n",
              "9                 29\n",
              "8                 23\n",
              "11                14\n",
              "10                14\n",
              "12                13\n",
              "13                 7\n",
              "AVITA              5\n",
              "DOEL               4\n",
              "HUAWEI             4\n",
              "Toshiba            4\n",
              "Dynabook           3\n",
              "WIWU               2\n",
              "TOSHIBA            2\n",
              "Xiaomi             1\n",
              "Dell Inspiron      1\n",
              "Razer              1\n",
              "Name: Brand, dtype: int64"
            ]
          },
          "metadata": {},
          "execution_count": 42
        }
      ]
    },
    {
      "cell_type": "code",
      "source": [
        "df['Brand'].replace('AVITA',11,inplace=True)"
      ],
      "metadata": {
        "id": "LHBRsQE2bFQ9"
      },
      "execution_count": 43,
      "outputs": []
    },
    {
      "cell_type": "code",
      "source": [
        "df['Brand'].replace('HUAWEI',10,inplace=True)"
      ],
      "metadata": {
        "id": "_7HEOicmbKW-"
      },
      "execution_count": 44,
      "outputs": []
    },
    {
      "cell_type": "code",
      "source": [
        "data['Brand'].value_counts()"
      ],
      "metadata": {
        "colab": {
          "base_uri": "https://localhost:8080/"
        },
        "id": "LaYeMLpBbTzx",
        "outputId": "0b7f303b-a88e-44f2-a1c2-9b5dfa074f14"
      },
      "execution_count": 45,
      "outputs": [
        {
          "output_type": "execute_result",
          "data": {
            "text/plain": [
              "1                441\n",
              "2                219\n",
              "3                102\n",
              "4                101\n",
              "6                 83\n",
              "5                 71\n",
              "7                 54\n",
              "9                 29\n",
              "8                 23\n",
              "11                19\n",
              "10                18\n",
              "12                13\n",
              "13                 7\n",
              "DOEL               4\n",
              "Toshiba            4\n",
              "Dynabook           3\n",
              "WIWU               2\n",
              "TOSHIBA            2\n",
              "Xiaomi             1\n",
              "Dell Inspiron      1\n",
              "Razer              1\n",
              "Name: Brand, dtype: int64"
            ]
          },
          "metadata": {},
          "execution_count": 45
        }
      ]
    },
    {
      "cell_type": "code",
      "source": [
        "df['Brand'].replace('DOEL',6,inplace=True)"
      ],
      "metadata": {
        "id": "3BMZXhZzbW1s"
      },
      "execution_count": 46,
      "outputs": []
    },
    {
      "cell_type": "code",
      "source": [
        "df['Brand'].replace('Dell Inspiron',6,inplace=True)"
      ],
      "metadata": {
        "id": "3FWTsS5Iboyv"
      },
      "execution_count": 47,
      "outputs": []
    },
    {
      "cell_type": "code",
      "source": [
        "df['Brand'].replace('Dynabook',6,inplace=True)"
      ],
      "metadata": {
        "id": "e4Ajffikbt-d"
      },
      "execution_count": 48,
      "outputs": []
    },
    {
      "cell_type": "code",
      "source": [
        "data['Brand'].value_counts()"
      ],
      "metadata": {
        "colab": {
          "base_uri": "https://localhost:8080/"
        },
        "id": "HDJPXK7cbzM1",
        "outputId": "40f102f0-f8fb-4373-f8e6-535bbe6bfc41"
      },
      "execution_count": 49,
      "outputs": [
        {
          "output_type": "execute_result",
          "data": {
            "text/plain": [
              "1          441\n",
              "2          219\n",
              "3          102\n",
              "4          101\n",
              "6           91\n",
              "5           71\n",
              "7           54\n",
              "9           29\n",
              "8           23\n",
              "11          19\n",
              "10          18\n",
              "12          13\n",
              "13           7\n",
              "Toshiba      4\n",
              "WIWU         2\n",
              "TOSHIBA      2\n",
              "Xiaomi       1\n",
              "Razer        1\n",
              "Name: Brand, dtype: int64"
            ]
          },
          "metadata": {},
          "execution_count": 49
        }
      ]
    },
    {
      "cell_type": "code",
      "source": [
        "df['Brand'].replace('Toshiba',9,inplace=True)"
      ],
      "metadata": {
        "id": "87phn6P_b1xk"
      },
      "execution_count": 50,
      "outputs": []
    },
    {
      "cell_type": "code",
      "source": [
        "df['Brand'].replace('WIWU',9,inplace=True)"
      ],
      "metadata": {
        "id": "ubBk-fKpcF1F"
      },
      "execution_count": 51,
      "outputs": []
    },
    {
      "cell_type": "code",
      "source": [
        "df['Brand'].replace('TOSHIBA',9,inplace=True)"
      ],
      "metadata": {
        "id": "D2A6ROlncKWN"
      },
      "execution_count": 52,
      "outputs": []
    },
    {
      "cell_type": "code",
      "source": [
        "data['Brand'].value_counts()"
      ],
      "metadata": {
        "colab": {
          "base_uri": "https://localhost:8080/"
        },
        "id": "MiYLeDVGcO6S",
        "outputId": "a1dc7af6-61c7-4acb-964d-378b426c5f65"
      },
      "execution_count": 53,
      "outputs": [
        {
          "output_type": "execute_result",
          "data": {
            "text/plain": [
              "1         441\n",
              "2         219\n",
              "3         102\n",
              "4         101\n",
              "6          91\n",
              "5          71\n",
              "7          54\n",
              "9          37\n",
              "8          23\n",
              "11         19\n",
              "10         18\n",
              "12         13\n",
              "13          7\n",
              "Xiaomi      1\n",
              "Razer       1\n",
              "Name: Brand, dtype: int64"
            ]
          },
          "metadata": {},
          "execution_count": 53
        }
      ]
    },
    {
      "cell_type": "code",
      "source": [
        "df['Brand'].replace('Xiaomi',13,inplace=True)"
      ],
      "metadata": {
        "id": "WHzKr5TbcQ_J"
      },
      "execution_count": 54,
      "outputs": []
    },
    {
      "cell_type": "code",
      "source": [
        "df['Brand'].replace('Razer',13,inplace=True)"
      ],
      "metadata": {
        "id": "xnio4yjQcdor"
      },
      "execution_count": 55,
      "outputs": []
    },
    {
      "cell_type": "code",
      "source": [
        "data['Brand'].value_counts()"
      ],
      "metadata": {
        "colab": {
          "base_uri": "https://localhost:8080/"
        },
        "id": "TH-LSvl_cgvV",
        "outputId": "39dd8384-840e-48bb-84c7-9a5eba6ab576"
      },
      "execution_count": 56,
      "outputs": [
        {
          "output_type": "execute_result",
          "data": {
            "text/plain": [
              "1     441\n",
              "2     219\n",
              "3     102\n",
              "4     101\n",
              "6      91\n",
              "5      71\n",
              "7      54\n",
              "9      37\n",
              "8      23\n",
              "11     19\n",
              "10     18\n",
              "12     13\n",
              "13      9\n",
              "Name: Brand, dtype: int64"
            ]
          },
          "metadata": {},
          "execution_count": 56
        }
      ]
    },
    {
      "cell_type": "code",
      "source": [
        "data.columns"
      ],
      "metadata": {
        "colab": {
          "base_uri": "https://localhost:8080/"
        },
        "id": "G18FOuaRckOv",
        "outputId": "4d45d22d-3e0c-490c-a917-7895c74a35cd"
      },
      "execution_count": 57,
      "outputs": [
        {
          "output_type": "execute_result",
          "data": {
            "text/plain": [
              "Index(['Price', 'Brand', 'Processor Brand', 'Processor Model', 'Generation',\n",
              "       'Processor Base Frequency', 'Processor Max Frequency', 'Processor Core',\n",
              "       'Processor Thread', 'CPU Cache', 'RAM', 'RAM Type', 'Storage Capacity',\n",
              "       'Display Size', 'Graphics Memory', 'Battery Capacity'],\n",
              "      dtype='object')"
            ]
          },
          "metadata": {},
          "execution_count": 57
        }
      ]
    },
    {
      "cell_type": "code",
      "source": [
        "data['Processor Brand'].value_counts()"
      ],
      "metadata": {
        "colab": {
          "base_uri": "https://localhost:8080/"
        },
        "id": "r5zOwyK-cu2n",
        "outputId": "291d539d-8218-4c66-ff98-ca505315b0a5"
      },
      "execution_count": 58,
      "outputs": [
        {
          "output_type": "execute_result",
          "data": {
            "text/plain": [
              "Intel        931\n",
              "AMD          205\n",
              "Apple         39\n",
              "Ryzen          2\n",
              "Microsoft      1\n",
              "Name: Processor Brand, dtype: int64"
            ]
          },
          "metadata": {},
          "execution_count": 58
        }
      ]
    },
    {
      "cell_type": "code",
      "source": [
        "df['Processor Brand'].replace('Intel',1,inplace=True)\n",
        "df['Processor Brand'].replace('AMD',2,inplace=True)\n",
        "df['Processor Brand'].replace('Apple',3,inplace=True)\n",
        "df['Processor Brand'].replace('Ryzen',4,inplace=True)\n",
        "df['Processor Brand'].replace('Microsoft',5,inplace=True)"
      ],
      "metadata": {
        "id": "vxzaPXwPczOB"
      },
      "execution_count": 59,
      "outputs": []
    },
    {
      "cell_type": "code",
      "source": [
        "data['Processor Brand'].value_counts()"
      ],
      "metadata": {
        "colab": {
          "base_uri": "https://localhost:8080/"
        },
        "id": "_6hfamyzdJIp",
        "outputId": "0c8e4503-9e4d-417b-8aae-ce5f855ea6f6"
      },
      "execution_count": 60,
      "outputs": [
        {
          "output_type": "execute_result",
          "data": {
            "text/plain": [
              "1.0    931\n",
              "2.0    205\n",
              "3.0     39\n",
              "4.0      2\n",
              "5.0      1\n",
              "Name: Processor Brand, dtype: int64"
            ]
          },
          "metadata": {},
          "execution_count": 60
        }
      ]
    },
    {
      "cell_type": "code",
      "source": [
        "data.columns"
      ],
      "metadata": {
        "colab": {
          "base_uri": "https://localhost:8080/"
        },
        "id": "mlVrCv6hdKfb",
        "outputId": "a889aad1-9dd9-4f23-ed8f-a8606c4ead43"
      },
      "execution_count": 61,
      "outputs": [
        {
          "output_type": "execute_result",
          "data": {
            "text/plain": [
              "Index(['Price', 'Brand', 'Processor Brand', 'Processor Model', 'Generation',\n",
              "       'Processor Base Frequency', 'Processor Max Frequency', 'Processor Core',\n",
              "       'Processor Thread', 'CPU Cache', 'RAM', 'RAM Type', 'Storage Capacity',\n",
              "       'Display Size', 'Graphics Memory', 'Battery Capacity'],\n",
              "      dtype='object')"
            ]
          },
          "metadata": {},
          "execution_count": 61
        }
      ]
    },
    {
      "cell_type": "code",
      "source": [
        "data['Processor Model'].value_counts()"
      ],
      "metadata": {
        "colab": {
          "base_uri": "https://localhost:8080/"
        },
        "id": "oLL7LjPBdUel",
        "outputId": "00134e34-5fba-4984-b48f-4c61281f5ba3"
      },
      "execution_count": 62,
      "outputs": [
        {
          "output_type": "execute_result",
          "data": {
            "text/plain": [
              "Core i5                         375\n",
              "Core i7                         249\n",
              "Core i3                         221\n",
              "Ryzen 7                          83\n",
              "Ryzen 5                          62\n",
              "Ryzen 3                          29\n",
              "Intel Celeron                    21\n",
              "Ryzen 9                          17\n",
              "Core i9                          12\n",
              "Celeron N4020                    11\n",
              "Apple M1                          9\n",
              "M2 chip                           8\n",
              "Apple M2                          7\n",
              "Celeron N4500                     6\n",
              "Celeron Processor N4020           5\n",
              "M1 Pro                            5\n",
              "Celeron 5205U                     4\n",
              "M2 Pro chip                       4\n",
              "Celeron N4500 Processor           4\n",
              "M1 chip\\n8-core                   3\n",
              "Pentium 5030                      2\n",
              "Ryzen™ 5                          2\n",
              "Ryzen™ 7                          2\n",
              "i9-12900H                         2\n",
              "Pentium Silver N5030              2\n",
              "Ryzen 5-5500U                     2\n",
              "i7-12700H                         2\n",
              "Celeron Dual                      2\n",
              "Intel Core                        2\n",
              "M1 chip                           2\n",
              "Pentium Silver N5000              2\n",
              "Ryzen™ 9                          1\n",
              "5 4600H                           1\n",
              "Celeron N4120                     1\n",
              "Model: AMD                        1\n",
              "M1 Max Pro                        1\n",
              "RYZEN R5                          1\n",
              "Athlon Silver                     1\n",
              "7 5700U,                          1\n",
              "Ryzen™ 3                          1\n",
              "Intel Pentium                     1\n",
              "AMD Athlon                        1\n",
              "Pentium Gold Processor 4425Y      1\n",
              "AMD Ryzen                         1\n",
              "A9-9425                           1\n",
              " Celeron N4500                    1\n",
              "Name: Processor Model, dtype: int64"
            ]
          },
          "metadata": {},
          "execution_count": 62
        }
      ]
    },
    {
      "cell_type": "code",
      "source": [
        "df['Processor Model'].replace('Core i5',1,inplace=True)\n",
        "df['Processor Model'].replace('Core i7',2,inplace=True)\n",
        "df['Processor Model'].replace('Core i3',3,inplace=True)"
      ],
      "metadata": {
        "id": "wtlQBLScdX7a"
      },
      "execution_count": 63,
      "outputs": []
    },
    {
      "cell_type": "code",
      "source": [
        "data['Processor Model'].value_counts()"
      ],
      "metadata": {
        "colab": {
          "base_uri": "https://localhost:8080/"
        },
        "id": "S_MdLzTvdskm",
        "outputId": "c15eb4eb-5987-4ed0-97aa-d6a02fea7597"
      },
      "execution_count": 64,
      "outputs": [
        {
          "output_type": "execute_result",
          "data": {
            "text/plain": [
              "1                               375\n",
              "2                               249\n",
              "3                               221\n",
              "Ryzen 7                          83\n",
              "Ryzen 5                          62\n",
              "Ryzen 3                          29\n",
              "Intel Celeron                    21\n",
              "Ryzen 9                          17\n",
              "Core i9                          12\n",
              "Celeron N4020                    11\n",
              "Apple M1                          9\n",
              "M2 chip                           8\n",
              "Apple M2                          7\n",
              "Celeron N4500                     6\n",
              "Celeron Processor N4020           5\n",
              "M1 Pro                            5\n",
              "Celeron 5205U                     4\n",
              "M2 Pro chip                       4\n",
              "Celeron N4500 Processor           4\n",
              "M1 chip\\n8-core                   3\n",
              "Pentium 5030                      2\n",
              "Ryzen™ 5                          2\n",
              "Ryzen™ 7                          2\n",
              "i9-12900H                         2\n",
              "Pentium Silver N5030              2\n",
              "Ryzen 5-5500U                     2\n",
              "i7-12700H                         2\n",
              "Celeron Dual                      2\n",
              "Intel Core                        2\n",
              "M1 chip                           2\n",
              "Pentium Silver N5000              2\n",
              "Ryzen™ 9                          1\n",
              "5 4600H                           1\n",
              "Celeron N4120                     1\n",
              "Model: AMD                        1\n",
              "M1 Max Pro                        1\n",
              "RYZEN R5                          1\n",
              "Athlon Silver                     1\n",
              "7 5700U,                          1\n",
              "Ryzen™ 3                          1\n",
              "Intel Pentium                     1\n",
              "AMD Athlon                        1\n",
              "Pentium Gold Processor 4425Y      1\n",
              "AMD Ryzen                         1\n",
              "A9-9425                           1\n",
              " Celeron N4500                    1\n",
              "Name: Processor Model, dtype: int64"
            ]
          },
          "metadata": {},
          "execution_count": 64
        }
      ]
    },
    {
      "cell_type": "code",
      "source": [
        "df['Processor Model'].replace('Ryzen 7',4,inplace=True)"
      ],
      "metadata": {
        "id": "_Sfkfjlcdu7B"
      },
      "execution_count": 65,
      "outputs": []
    },
    {
      "cell_type": "code",
      "source": [
        "df['Processor Model'].replace('Ryzen 5',5,inplace=True)\n",
        "df['Processor Model'].replace('Ryzen 3',6,inplace=True)"
      ],
      "metadata": {
        "id": "kTQirkD8d2PL"
      },
      "execution_count": 66,
      "outputs": []
    },
    {
      "cell_type": "code",
      "source": [
        "data['Processor Model'].value_counts()"
      ],
      "metadata": {
        "colab": {
          "base_uri": "https://localhost:8080/"
        },
        "id": "rfYRIZgRd7ym",
        "outputId": "1c039711-5145-4ac3-ee06-9f105835e733"
      },
      "execution_count": 67,
      "outputs": [
        {
          "output_type": "execute_result",
          "data": {
            "text/plain": [
              "1                               375\n",
              "2                               249\n",
              "3                               221\n",
              "4                                83\n",
              "5                                62\n",
              "6                                29\n",
              "Intel Celeron                    21\n",
              "Ryzen 9                          17\n",
              "Core i9                          12\n",
              "Celeron N4020                    11\n",
              "Apple M1                          9\n",
              "M2 chip                           8\n",
              "Apple M2                          7\n",
              "Celeron N4500                     6\n",
              "Celeron Processor N4020           5\n",
              "M1 Pro                            5\n",
              "Celeron 5205U                     4\n",
              "M2 Pro chip                       4\n",
              "Celeron N4500 Processor           4\n",
              "M1 chip\\n8-core                   3\n",
              "Pentium 5030                      2\n",
              "Ryzen™ 5                          2\n",
              "Ryzen™ 7                          2\n",
              "i9-12900H                         2\n",
              "Pentium Silver N5030              2\n",
              "Ryzen 5-5500U                     2\n",
              "i7-12700H                         2\n",
              "Celeron Dual                      2\n",
              "Intel Core                        2\n",
              "M1 chip                           2\n",
              "Pentium Silver N5000              2\n",
              "Ryzen™ 9                          1\n",
              "5 4600H                           1\n",
              "Celeron N4120                     1\n",
              "Model: AMD                        1\n",
              "M1 Max Pro                        1\n",
              "RYZEN R5                          1\n",
              "Athlon Silver                     1\n",
              "7 5700U,                          1\n",
              "Ryzen™ 3                          1\n",
              "Intel Pentium                     1\n",
              "AMD Athlon                        1\n",
              "Pentium Gold Processor 4425Y      1\n",
              "AMD Ryzen                         1\n",
              "A9-9425                           1\n",
              " Celeron N4500                    1\n",
              "Name: Processor Model, dtype: int64"
            ]
          },
          "metadata": {},
          "execution_count": 67
        }
      ]
    },
    {
      "cell_type": "code",
      "source": [
        "df['Processor Model'].replace('Intel Celeron',7,inplace=True)\n",
        "df['Processor Model'].replace('Ryzen 9',8,inplace=True)\n",
        "df['Processor Model'].replace('Core i9',9,inplace=True)"
      ],
      "metadata": {
        "id": "mwZV2j4VeAC_"
      },
      "execution_count": 68,
      "outputs": []
    },
    {
      "cell_type": "code",
      "source": [
        "data['Processor Model'].value_counts()"
      ],
      "metadata": {
        "colab": {
          "base_uri": "https://localhost:8080/"
        },
        "id": "Pr03KK0FeQR9",
        "outputId": "913ab2a3-a695-4bad-aacf-afdd9c19e2fe"
      },
      "execution_count": 69,
      "outputs": [
        {
          "output_type": "execute_result",
          "data": {
            "text/plain": [
              "1                               375\n",
              "2                               249\n",
              "3                               221\n",
              "4                                83\n",
              "5                                62\n",
              "6                                29\n",
              "7                                21\n",
              "8                                17\n",
              "9                                12\n",
              "Celeron N4020                    11\n",
              "Apple M1                          9\n",
              "M2 chip                           8\n",
              "Apple M2                          7\n",
              "Celeron N4500                     6\n",
              "Celeron Processor N4020           5\n",
              "M1 Pro                            5\n",
              "Celeron 5205U                     4\n",
              "M2 Pro chip                       4\n",
              "Celeron N4500 Processor           4\n",
              "M1 chip\\n8-core                   3\n",
              "Pentium 5030                      2\n",
              "Ryzen™ 5                          2\n",
              "Ryzen™ 7                          2\n",
              "i9-12900H                         2\n",
              "Pentium Silver N5030              2\n",
              "Ryzen 5-5500U                     2\n",
              "i7-12700H                         2\n",
              "Celeron Dual                      2\n",
              "Intel Core                        2\n",
              "M1 chip                           2\n",
              "Pentium Silver N5000              2\n",
              "Ryzen™ 9                          1\n",
              "5 4600H                           1\n",
              "Celeron N4120                     1\n",
              "Model: AMD                        1\n",
              "M1 Max Pro                        1\n",
              "RYZEN R5                          1\n",
              "Athlon Silver                     1\n",
              "7 5700U,                          1\n",
              "Ryzen™ 3                          1\n",
              "Intel Pentium                     1\n",
              "AMD Athlon                        1\n",
              "Pentium Gold Processor 4425Y      1\n",
              "AMD Ryzen                         1\n",
              "A9-9425                           1\n",
              " Celeron N4500                    1\n",
              "Name: Processor Model, dtype: int64"
            ]
          },
          "metadata": {},
          "execution_count": 69
        }
      ]
    },
    {
      "cell_type": "code",
      "source": [
        "df['Processor Model'].replace('Celeron N4500',7,inplace=True)\n",
        "df['Processor Model'].replace('Celeron Dual',7,inplace=True)\n",
        "df['Processor Model'].replace('Celeron 5205U',7,inplace=True)"
      ],
      "metadata": {
        "id": "y_h-xMeNeSlN"
      },
      "execution_count": 70,
      "outputs": []
    },
    {
      "cell_type": "code",
      "source": [
        "data['Processor Model'].value_counts()"
      ],
      "metadata": {
        "colab": {
          "base_uri": "https://localhost:8080/"
        },
        "id": "t6XY1A8eeixa",
        "outputId": "47af9127-f9ee-4b5c-9fe6-7043c9c9924f"
      },
      "execution_count": 71,
      "outputs": [
        {
          "output_type": "execute_result",
          "data": {
            "text/plain": [
              "1                               375\n",
              "2                               249\n",
              "3                               221\n",
              "4                                83\n",
              "5                                62\n",
              "7                                33\n",
              "6                                29\n",
              "8                                17\n",
              "9                                12\n",
              "Celeron N4020                    11\n",
              "Apple M1                          9\n",
              "M2 chip                           8\n",
              "Apple M2                          7\n",
              "M1 Pro                            5\n",
              "Celeron Processor N4020           5\n",
              "M2 Pro chip                       4\n",
              "Celeron N4500 Processor           4\n",
              "M1 chip\\n8-core                   3\n",
              "i7-12700H                         2\n",
              "Intel Core                        2\n",
              "i9-12900H                         2\n",
              "Pentium Silver N5030              2\n",
              "M1 chip                           2\n",
              "Ryzen™ 7                          2\n",
              "Ryzen™ 5                          2\n",
              "Pentium Silver N5000              2\n",
              "Ryzen 5-5500U                     2\n",
              "Pentium 5030                      2\n",
              "Celeron N4120                     1\n",
              "Ryzen™ 9                          1\n",
              "5 4600H                           1\n",
              "Model: AMD                        1\n",
              "M1 Max Pro                        1\n",
              "RYZEN R5                          1\n",
              "Athlon Silver                     1\n",
              "7 5700U,                          1\n",
              "Ryzen™ 3                          1\n",
              "Intel Pentium                     1\n",
              "AMD Athlon                        1\n",
              "Pentium Gold Processor 4425Y      1\n",
              "AMD Ryzen                         1\n",
              "A9-9425                           1\n",
              " Celeron N4500                    1\n",
              "Name: Processor Model, dtype: int64"
            ]
          },
          "metadata": {},
          "execution_count": 71
        }
      ]
    },
    {
      "cell_type": "code",
      "source": [
        "df['Processor Model'].replace('Celeron N4020',7,inplace=True)"
      ],
      "metadata": {
        "id": "VcpFRs-Xekyd"
      },
      "execution_count": 72,
      "outputs": []
    },
    {
      "cell_type": "code",
      "source": [
        "data['Processor Model'].value_counts()"
      ],
      "metadata": {
        "colab": {
          "base_uri": "https://localhost:8080/"
        },
        "id": "gBXL63o-etvf",
        "outputId": "048ae184-7aa2-4c1b-c2c7-158604fcaef3"
      },
      "execution_count": 73,
      "outputs": [
        {
          "output_type": "execute_result",
          "data": {
            "text/plain": [
              "1                               375\n",
              "2                               249\n",
              "3                               221\n",
              "4                                83\n",
              "5                                62\n",
              "7                                44\n",
              "6                                29\n",
              "8                                17\n",
              "9                                12\n",
              "Apple M1                          9\n",
              "M2 chip                           8\n",
              "Apple M2                          7\n",
              "Celeron Processor N4020           5\n",
              "M1 Pro                            5\n",
              "Celeron N4500 Processor           4\n",
              "M2 Pro chip                       4\n",
              "M1 chip\\n8-core                   3\n",
              "Ryzen™ 7                          2\n",
              "Pentium 5030                      2\n",
              "Ryzen 5-5500U                     2\n",
              "Pentium Silver N5000              2\n",
              "Ryzen™ 5                          2\n",
              "Pentium Silver N5030              2\n",
              "i9-12900H                         2\n",
              "i7-12700H                         2\n",
              "Intel Core                        2\n",
              "M1 chip                           2\n",
              "Celeron N4120                     1\n",
              "Ryzen™ 9                          1\n",
              "5 4600H                           1\n",
              "Model: AMD                        1\n",
              "AMD Athlon                        1\n",
              "RYZEN R5                          1\n",
              "Athlon Silver                     1\n",
              "7 5700U,                          1\n",
              "Ryzen™ 3                          1\n",
              "Intel Pentium                     1\n",
              "M1 Max Pro                        1\n",
              "Pentium Gold Processor 4425Y      1\n",
              "AMD Ryzen                         1\n",
              "A9-9425                           1\n",
              " Celeron N4500                    1\n",
              "Name: Processor Model, dtype: int64"
            ]
          },
          "metadata": {},
          "execution_count": 73
        }
      ]
    },
    {
      "cell_type": "code",
      "source": [
        "df['Processor Model'].replace(' Celeron N4500',7,inplace=True)"
      ],
      "metadata": {
        "id": "j88p_hLqewbW"
      },
      "execution_count": 74,
      "outputs": []
    },
    {
      "cell_type": "code",
      "source": [
        "data['Processor Model'].value_counts()"
      ],
      "metadata": {
        "colab": {
          "base_uri": "https://localhost:8080/"
        },
        "id": "lk3AcBtXfHfG",
        "outputId": "b8b8925b-0531-4f5d-9bb4-0000d8558adc"
      },
      "execution_count": 75,
      "outputs": [
        {
          "output_type": "execute_result",
          "data": {
            "text/plain": [
              "1                               375\n",
              "2                               249\n",
              "3                               221\n",
              "4                                83\n",
              "5                                62\n",
              "7                                45\n",
              "6                                29\n",
              "8                                17\n",
              "9                                12\n",
              "Apple M1                          9\n",
              "M2 chip                           8\n",
              "Apple M2                          7\n",
              "Celeron Processor N4020           5\n",
              "M1 Pro                            5\n",
              "Celeron N4500 Processor           4\n",
              "M2 Pro chip                       4\n",
              "M1 chip\\n8-core                   3\n",
              "Ryzen™ 7                          2\n",
              "Ryzen 5-5500U                     2\n",
              "Ryzen™ 5                          2\n",
              "Pentium Silver N5000              2\n",
              "Pentium 5030                      2\n",
              "Pentium Silver N5030              2\n",
              "i9-12900H                         2\n",
              "i7-12700H                         2\n",
              "Intel Core                        2\n",
              "M1 chip                           2\n",
              "5 4600H                           1\n",
              "Model: AMD                        1\n",
              "Ryzen™ 9                          1\n",
              "M1 Max Pro                        1\n",
              "RYZEN R5                          1\n",
              "Athlon Silver                     1\n",
              "7 5700U,                          1\n",
              "Ryzen™ 3                          1\n",
              "Intel Pentium                     1\n",
              "AMD Athlon                        1\n",
              "Pentium Gold Processor 4425Y      1\n",
              "AMD Ryzen                         1\n",
              "A9-9425                           1\n",
              "Celeron N4120                     1\n",
              "Name: Processor Model, dtype: int64"
            ]
          },
          "metadata": {},
          "execution_count": 75
        }
      ]
    },
    {
      "cell_type": "code",
      "source": [
        "df['Processor Model'].replace('Celeron Processor N4020',7,inplace=True)"
      ],
      "metadata": {
        "id": "CcWN2YthfJcE"
      },
      "execution_count": 76,
      "outputs": []
    },
    {
      "cell_type": "code",
      "source": [
        "data['Processor Model'].value_counts()"
      ],
      "metadata": {
        "colab": {
          "base_uri": "https://localhost:8080/"
        },
        "id": "YsZYvIfyfP6x",
        "outputId": "f38067d1-1a39-4ff4-a53a-37592c6f1e5c"
      },
      "execution_count": 77,
      "outputs": [
        {
          "output_type": "execute_result",
          "data": {
            "text/plain": [
              "1                               375\n",
              "2                               249\n",
              "3                               221\n",
              "4                                83\n",
              "5                                62\n",
              "7                                50\n",
              "6                                29\n",
              "8                                17\n",
              "9                                12\n",
              "Apple M1                          9\n",
              "M2 chip                           8\n",
              "Apple M2                          7\n",
              "M1 Pro                            5\n",
              "M2 Pro chip                       4\n",
              "Celeron N4500 Processor           4\n",
              "M1 chip\\n8-core                   3\n",
              "i7-12700H                         2\n",
              "i9-12900H                         2\n",
              "Ryzen™ 7                          2\n",
              "Pentium Silver N5030              2\n",
              "Pentium Silver N5000              2\n",
              "Intel Core                        2\n",
              "M1 chip                           2\n",
              "Ryzen™ 5                          2\n",
              "Ryzen 5-5500U                     2\n",
              "Pentium 5030                      2\n",
              "Ryzen™ 9                          1\n",
              "5 4600H                           1\n",
              "Model: AMD                        1\n",
              "AMD Athlon                        1\n",
              "RYZEN R5                          1\n",
              "Athlon Silver                     1\n",
              "7 5700U,                          1\n",
              "Ryzen™ 3                          1\n",
              "Intel Pentium                     1\n",
              "M1 Max Pro                        1\n",
              "Pentium Gold Processor 4425Y      1\n",
              "AMD Ryzen                         1\n",
              "A9-9425                           1\n",
              "Celeron N4120                     1\n",
              "Name: Processor Model, dtype: int64"
            ]
          },
          "metadata": {},
          "execution_count": 77
        }
      ]
    },
    {
      "cell_type": "code",
      "source": [
        "df['Processor Model'].replace('Celeron N4120',7,inplace=True)"
      ],
      "metadata": {
        "id": "lF1zsx7rfSTy"
      },
      "execution_count": 78,
      "outputs": []
    },
    {
      "cell_type": "code",
      "source": [
        "df['Processor Model'].replace('Celeron N4500 Processor',7,inplace=True)"
      ],
      "metadata": {
        "id": "ia9DvyTgfZQi"
      },
      "execution_count": 79,
      "outputs": []
    },
    {
      "cell_type": "code",
      "source": [
        "data['Processor Model'].value_counts()"
      ],
      "metadata": {
        "colab": {
          "base_uri": "https://localhost:8080/"
        },
        "id": "_6fY1vmnfefE",
        "outputId": "eb6a32db-8fe7-4972-b827-b531d29720c8"
      },
      "execution_count": 80,
      "outputs": [
        {
          "output_type": "execute_result",
          "data": {
            "text/plain": [
              "1                               375\n",
              "2                               249\n",
              "3                               221\n",
              "4                                83\n",
              "5                                62\n",
              "7                                55\n",
              "6                                29\n",
              "8                                17\n",
              "9                                12\n",
              "Apple M1                          9\n",
              "M2 chip                           8\n",
              "Apple M2                          7\n",
              "M1 Pro                            5\n",
              "M2 Pro chip                       4\n",
              "M1 chip\\n8-core                   3\n",
              "Pentium 5030                      2\n",
              "Ryzen™ 5                          2\n",
              "Pentium Silver N5000              2\n",
              "Ryzen™ 7                          2\n",
              "Ryzen 5-5500U                     2\n",
              "Pentium Silver N5030              2\n",
              "Intel Core                        2\n",
              "M1 chip                           2\n",
              "i9-12900H                         2\n",
              "i7-12700H                         2\n",
              "Ryzen™ 9                          1\n",
              "A9-9425                           1\n",
              "AMD Ryzen                         1\n",
              "Pentium Gold Processor 4425Y      1\n",
              "5 4600H                           1\n",
              "Intel Pentium                     1\n",
              "Model: AMD                        1\n",
              "M1 Max Pro                        1\n",
              "RYZEN R5                          1\n",
              "Athlon Silver                     1\n",
              "7 5700U,                          1\n",
              "Ryzen™ 3                          1\n",
              "AMD Athlon                        1\n",
              "Name: Processor Model, dtype: int64"
            ]
          },
          "metadata": {},
          "execution_count": 80
        }
      ]
    },
    {
      "cell_type": "code",
      "source": [
        "df['Processor Model'].replace('Intel Core',7,inplace=True)"
      ],
      "metadata": {
        "id": "dR0TadBEfhhx"
      },
      "execution_count": 81,
      "outputs": []
    },
    {
      "cell_type": "code",
      "source": [
        "data['Processor Model'].value_counts()"
      ],
      "metadata": {
        "colab": {
          "base_uri": "https://localhost:8080/"
        },
        "id": "cKU9i2DHfybb",
        "outputId": "bab7ec46-bbb9-4ba8-902d-ba0513dce628"
      },
      "execution_count": 82,
      "outputs": [
        {
          "output_type": "execute_result",
          "data": {
            "text/plain": [
              "1                               375\n",
              "2                               249\n",
              "3                               221\n",
              "4                                83\n",
              "5                                62\n",
              "7                                57\n",
              "6                                29\n",
              "8                                17\n",
              "9                                12\n",
              "Apple M1                          9\n",
              "M2 chip                           8\n",
              "Apple M2                          7\n",
              "M1 Pro                            5\n",
              "M2 Pro chip                       4\n",
              "M1 chip\\n8-core                   3\n",
              "Pentium Silver N5000              2\n",
              "Pentium 5030                      2\n",
              "Ryzen™ 7                          2\n",
              "Ryzen™ 5                          2\n",
              "Ryzen 5-5500U                     2\n",
              "Pentium Silver N5030              2\n",
              "i9-12900H                         2\n",
              "i7-12700H                         2\n",
              "M1 chip                           2\n",
              "Intel Pentium                     1\n",
              "M1 Max Pro                        1\n",
              "Ryzen™ 3                          1\n",
              "7 5700U,                          1\n",
              "Athlon Silver                     1\n",
              "RYZEN R5                          1\n",
              "Model: AMD                        1\n",
              "5 4600H                           1\n",
              "Pentium Gold Processor 4425Y      1\n",
              "AMD Ryzen                         1\n",
              "A9-9425                           1\n",
              "Ryzen™ 9                          1\n",
              "AMD Athlon                        1\n",
              "Name: Processor Model, dtype: int64"
            ]
          },
          "metadata": {},
          "execution_count": 82
        }
      ]
    },
    {
      "cell_type": "code",
      "source": [
        "df['Processor Model'].replace('Pentium Gold Processor 4425Y',7,inplace=True)"
      ],
      "metadata": {
        "id": "NGO5gtaSf15E"
      },
      "execution_count": 83,
      "outputs": []
    },
    {
      "cell_type": "code",
      "source": [
        "df['Processor Model'].replace('Pentium Silver N5030',7,inplace=True)"
      ],
      "metadata": {
        "id": "h6eMExClf9mz"
      },
      "execution_count": 84,
      "outputs": []
    },
    {
      "cell_type": "code",
      "source": [
        "df['Processor Model'].replace('Pentium 5030',7,inplace=True)"
      ],
      "metadata": {
        "id": "LJ84WBaDgBba"
      },
      "execution_count": 85,
      "outputs": []
    },
    {
      "cell_type": "code",
      "source": [
        "data['Processor Model'].value_counts()"
      ],
      "metadata": {
        "colab": {
          "base_uri": "https://localhost:8080/"
        },
        "id": "6GriZ_J1gHso",
        "outputId": "b8ca341b-9e45-48af-f5d5-4885a6db29df"
      },
      "execution_count": 86,
      "outputs": [
        {
          "output_type": "execute_result",
          "data": {
            "text/plain": [
              "1                       375\n",
              "2                       249\n",
              "3                       221\n",
              "4                        83\n",
              "7                        62\n",
              "5                        62\n",
              "6                        29\n",
              "8                        17\n",
              "9                        12\n",
              "Apple M1                  9\n",
              "M2 chip                   8\n",
              "Apple M2                  7\n",
              "M1 Pro                    5\n",
              "M2 Pro chip               4\n",
              "M1 chip\\n8-core           3\n",
              "i9-12900H                 2\n",
              "Pentium Silver N5000      2\n",
              "M1 chip                   2\n",
              "Ryzen™ 7                  2\n",
              "Ryzen™ 5                  2\n",
              "Ryzen 5-5500U             2\n",
              "i7-12700H                 2\n",
              "RYZEN R5                  1\n",
              "5 4600H                   1\n",
              "Model: AMD                1\n",
              "AMD Athlon                1\n",
              "Athlon Silver             1\n",
              "7 5700U,                  1\n",
              "Ryzen™ 3                  1\n",
              "Intel Pentium             1\n",
              "M1 Max Pro                1\n",
              "AMD Ryzen                 1\n",
              "A9-9425                   1\n",
              "Ryzen™ 9                  1\n",
              "Name: Processor Model, dtype: int64"
            ]
          },
          "metadata": {},
          "execution_count": 86
        }
      ]
    },
    {
      "cell_type": "code",
      "source": [
        "df['Processor Model'].replace('Pentium Silver N5000',7,inplace=True)"
      ],
      "metadata": {
        "id": "7WZwRyRmgJ25"
      },
      "execution_count": 87,
      "outputs": []
    },
    {
      "cell_type": "code",
      "source": [
        "data['Processor Model'].value_counts()"
      ],
      "metadata": {
        "colab": {
          "base_uri": "https://localhost:8080/"
        },
        "id": "x6-smqYrgQZ_",
        "outputId": "075bc359-ab5f-4433-dc51-825c946dc608"
      },
      "execution_count": 88,
      "outputs": [
        {
          "output_type": "execute_result",
          "data": {
            "text/plain": [
              "1                  375\n",
              "2                  249\n",
              "3                  221\n",
              "4                   83\n",
              "7                   64\n",
              "5                   62\n",
              "6                   29\n",
              "8                   17\n",
              "9                   12\n",
              "Apple M1             9\n",
              "M2 chip              8\n",
              "Apple M2             7\n",
              "M1 Pro               5\n",
              "M2 Pro chip          4\n",
              "M1 chip\\n8-core      3\n",
              "i9-12900H            2\n",
              "M1 chip              2\n",
              "Ryzen 5-5500U        2\n",
              "Ryzen™ 7             2\n",
              "Ryzen™ 5             2\n",
              "i7-12700H            2\n",
              "RYZEN R5             1\n",
              "5 4600H              1\n",
              "Model: AMD           1\n",
              "M1 Max Pro           1\n",
              "Athlon Silver        1\n",
              "7 5700U,             1\n",
              "Ryzen™ 3             1\n",
              "Intel Pentium        1\n",
              "AMD Athlon           1\n",
              "AMD Ryzen            1\n",
              "A9-9425              1\n",
              "Ryzen™ 9             1\n",
              "Name: Processor Model, dtype: int64"
            ]
          },
          "metadata": {},
          "execution_count": 88
        }
      ]
    },
    {
      "cell_type": "code",
      "source": [
        "df['Processor Model'].replace('Intel Pentium',7,inplace=True)"
      ],
      "metadata": {
        "id": "VyWht_ALgUAp"
      },
      "execution_count": 89,
      "outputs": []
    },
    {
      "cell_type": "code",
      "source": [
        "data['Processor Model'].value_counts()"
      ],
      "metadata": {
        "colab": {
          "base_uri": "https://localhost:8080/"
        },
        "id": "FhxN_ZdRgeph",
        "outputId": "7c893acc-453d-43e2-8b65-10b98dcd2780"
      },
      "execution_count": 90,
      "outputs": [
        {
          "output_type": "execute_result",
          "data": {
            "text/plain": [
              "1                  375\n",
              "2                  249\n",
              "3                  221\n",
              "4                   83\n",
              "7                   65\n",
              "5                   62\n",
              "6                   29\n",
              "8                   17\n",
              "9                   12\n",
              "Apple M1             9\n",
              "M2 chip              8\n",
              "Apple M2             7\n",
              "M1 Pro               5\n",
              "M2 Pro chip          4\n",
              "M1 chip\\n8-core      3\n",
              "i9-12900H            2\n",
              "M1 chip              2\n",
              "Ryzen™ 7             2\n",
              "Ryzen™ 5             2\n",
              "Ryzen 5-5500U        2\n",
              "i7-12700H            2\n",
              "RYZEN R5             1\n",
              "5 4600H              1\n",
              "Model: AMD           1\n",
              "M1 Max Pro           1\n",
              "Athlon Silver        1\n",
              "7 5700U,             1\n",
              "Ryzen™ 3             1\n",
              "AMD Athlon           1\n",
              "AMD Ryzen            1\n",
              "A9-9425              1\n",
              "Ryzen™ 9             1\n",
              "Name: Processor Model, dtype: int64"
            ]
          },
          "metadata": {},
          "execution_count": 90
        }
      ]
    },
    {
      "cell_type": "code",
      "source": [
        "df['Processor Model'].replace('7 5700U,',2,inplace=True)"
      ],
      "metadata": {
        "id": "9MSVYKeIgiHL"
      },
      "execution_count": 94,
      "outputs": []
    },
    {
      "cell_type": "code",
      "source": [
        "data['Processor Model'].value_counts()"
      ],
      "metadata": {
        "colab": {
          "base_uri": "https://localhost:8080/"
        },
        "id": "_TpbxewFgvn9",
        "outputId": "198d62ca-704a-4df0-bf8e-9a654bc66db5"
      },
      "execution_count": 95,
      "outputs": [
        {
          "output_type": "execute_result",
          "data": {
            "text/plain": [
              "1                  375\n",
              "2                  252\n",
              "3                  221\n",
              "4                   83\n",
              "7                   65\n",
              "5                   62\n",
              "6                   29\n",
              "8                   17\n",
              "9                   12\n",
              "Apple M1             9\n",
              "M2 chip              8\n",
              "Apple M2             7\n",
              "M1 Pro               5\n",
              "M2 Pro chip          4\n",
              "M1 chip\\n8-core      3\n",
              "Ryzen™ 7             2\n",
              "M1 chip              2\n",
              "i9-12900H            2\n",
              "Ryzen™ 5             2\n",
              "Ryzen 5-5500U        2\n",
              "5 4600H              1\n",
              "Model: AMD           1\n",
              "M1 Max Pro           1\n",
              "RYZEN R5             1\n",
              "Athlon Silver        1\n",
              "Ryzen™ 3             1\n",
              "AMD Athlon           1\n",
              "AMD Ryzen            1\n",
              "A9-9425              1\n",
              "Ryzen™ 9             1\n",
              "Name: Processor Model, dtype: int64"
            ]
          },
          "metadata": {},
          "execution_count": 95
        }
      ]
    },
    {
      "cell_type": "code",
      "source": [
        "df['Processor Model'].replace('5 4600H',1,inplace=True)"
      ],
      "metadata": {
        "id": "iKT7YoVGg2kS"
      },
      "execution_count": 96,
      "outputs": []
    },
    {
      "cell_type": "code",
      "source": [
        "df['Processor Model'].replace('i9-12900H',9,inplace=True)"
      ],
      "metadata": {
        "id": "kQWCji4GhIf_"
      },
      "execution_count": 97,
      "outputs": []
    },
    {
      "cell_type": "code",
      "source": [
        "data['Processor Model'].value_counts()"
      ],
      "metadata": {
        "colab": {
          "base_uri": "https://localhost:8080/"
        },
        "id": "v9GF9LjbhSyA",
        "outputId": "805012a0-f3e9-4896-fe5b-39c41b4818ed"
      },
      "execution_count": 98,
      "outputs": [
        {
          "output_type": "execute_result",
          "data": {
            "text/plain": [
              "1                  376\n",
              "2                  252\n",
              "3                  221\n",
              "4                   83\n",
              "7                   65\n",
              "5                   62\n",
              "6                   29\n",
              "8                   17\n",
              "9                   14\n",
              "Apple M1             9\n",
              "M2 chip              8\n",
              "Apple M2             7\n",
              "M1 Pro               5\n",
              "M2 Pro chip          4\n",
              "M1 chip\\n8-core      3\n",
              "M1 chip              2\n",
              "Ryzen™ 7             2\n",
              "Ryzen 5-5500U        2\n",
              "Ryzen™ 5             2\n",
              "RYZEN R5             1\n",
              "Model: AMD           1\n",
              "M1 Max Pro           1\n",
              "Athlon Silver        1\n",
              "Ryzen™ 3             1\n",
              "AMD Athlon           1\n",
              "AMD Ryzen            1\n",
              "A9-9425              1\n",
              "Ryzen™ 9             1\n",
              "Name: Processor Model, dtype: int64"
            ]
          },
          "metadata": {},
          "execution_count": 98
        }
      ]
    },
    {
      "cell_type": "code",
      "source": [
        "df['Processor Model'].replace('Apple M1',10,inplace=True)"
      ],
      "metadata": {
        "id": "BZ8oICaMhVOQ"
      },
      "execution_count": 99,
      "outputs": []
    },
    {
      "cell_type": "code",
      "source": [
        "data['Processor Model'].value_counts()"
      ],
      "metadata": {
        "colab": {
          "base_uri": "https://localhost:8080/"
        },
        "id": "E96rDsobha5c",
        "outputId": "eddccd82-718b-493d-c3a5-70112452cba2"
      },
      "execution_count": 100,
      "outputs": [
        {
          "output_type": "execute_result",
          "data": {
            "text/plain": [
              "1                  376\n",
              "2                  252\n",
              "3                  221\n",
              "4                   83\n",
              "7                   65\n",
              "5                   62\n",
              "6                   29\n",
              "8                   17\n",
              "9                   14\n",
              "10                   9\n",
              "M2 chip              8\n",
              "Apple M2             7\n",
              "M1 Pro               5\n",
              "M2 Pro chip          4\n",
              "M1 chip\\n8-core      3\n",
              "M1 chip              2\n",
              "Ryzen™ 7             2\n",
              "Ryzen 5-5500U        2\n",
              "Ryzen™ 5             2\n",
              "RYZEN R5             1\n",
              "Model: AMD           1\n",
              "M1 Max Pro           1\n",
              "Athlon Silver        1\n",
              "Ryzen™ 3             1\n",
              "AMD Athlon           1\n",
              "AMD Ryzen            1\n",
              "A9-9425              1\n",
              "Ryzen™ 9             1\n",
              "Name: Processor Model, dtype: int64"
            ]
          },
          "metadata": {},
          "execution_count": 100
        }
      ]
    },
    {
      "cell_type": "code",
      "source": [
        "df['Processor Model'].replace('M2 Pro chip',10,inplace=True)"
      ],
      "metadata": {
        "id": "BwWda1J8hc6B"
      },
      "execution_count": 105,
      "outputs": []
    },
    {
      "cell_type": "code",
      "source": [
        "data['Processor Model'].value_counts()"
      ],
      "metadata": {
        "colab": {
          "base_uri": "https://localhost:8080/"
        },
        "id": "UfWagEwJhkWI",
        "outputId": "842cc665-6db1-437c-b467-2ca67033a1bf"
      },
      "execution_count": 106,
      "outputs": [
        {
          "output_type": "execute_result",
          "data": {
            "text/plain": [
              "1                  376\n",
              "2                  252\n",
              "3                  221\n",
              "4                   83\n",
              "7                   65\n",
              "5                   62\n",
              "10                  35\n",
              "6                   29\n",
              "8                   17\n",
              "9                   14\n",
              "M1 chip\\n8-core      3\n",
              "Ryzen™ 5             2\n",
              "Ryzen 5-5500U        2\n",
              "Ryzen™ 7             2\n",
              "AMD Ryzen            1\n",
              "A9-9425              1\n",
              "M1 Max Pro           1\n",
              "AMD Athlon           1\n",
              "Ryzen™ 3             1\n",
              "Athlon Silver        1\n",
              "RYZEN R5             1\n",
              "Model: AMD           1\n",
              "Ryzen™ 9             1\n",
              "Name: Processor Model, dtype: int64"
            ]
          },
          "metadata": {},
          "execution_count": 106
        }
      ]
    },
    {
      "cell_type": "code",
      "source": [
        "df['Processor Model'].replace('M1 chip\\n8-core',10,inplace=True)"
      ],
      "metadata": {
        "id": "VVylhbt_hzXC"
      },
      "execution_count": 107,
      "outputs": []
    },
    {
      "cell_type": "code",
      "source": [
        "df['Processor Model'].replace('M1 Max Pro',10,inplace=True)"
      ],
      "metadata": {
        "id": "iR_IhJCUh5Ei"
      },
      "execution_count": 108,
      "outputs": []
    },
    {
      "cell_type": "code",
      "source": [
        "data['Processor Model'].value_counts()"
      ],
      "metadata": {
        "colab": {
          "base_uri": "https://localhost:8080/"
        },
        "id": "NBYzohfnh_G2",
        "outputId": "954069da-019d-4b16-a508-146b0355d23a"
      },
      "execution_count": 109,
      "outputs": [
        {
          "output_type": "execute_result",
          "data": {
            "text/plain": [
              "1                376\n",
              "2                252\n",
              "3                221\n",
              "4                 83\n",
              "7                 65\n",
              "5                 62\n",
              "10                39\n",
              "6                 29\n",
              "8                 17\n",
              "9                 14\n",
              "Ryzen™ 5           2\n",
              "Ryzen 5-5500U      2\n",
              "Ryzen™ 7           2\n",
              "AMD Ryzen          1\n",
              "A9-9425            1\n",
              "AMD Athlon         1\n",
              "Ryzen™ 3           1\n",
              "Athlon Silver      1\n",
              "RYZEN R5           1\n",
              "Model: AMD         1\n",
              "Ryzen™ 9           1\n",
              "Name: Processor Model, dtype: int64"
            ]
          },
          "metadata": {},
          "execution_count": 109
        }
      ]
    },
    {
      "cell_type": "code",
      "source": [
        "df['Processor Model'].replace('Athlon Silver',10,inplace=True)"
      ],
      "metadata": {
        "id": "ATMrBTKMiBOn"
      },
      "execution_count": 111,
      "outputs": []
    },
    {
      "cell_type": "code",
      "source": [
        "data['Processor Model'].value_counts()"
      ],
      "metadata": {
        "colab": {
          "base_uri": "https://localhost:8080/"
        },
        "id": "utEE9ICQiIsn",
        "outputId": "953fc69a-22b5-41b9-91e6-5234b7dca5ed"
      },
      "execution_count": 112,
      "outputs": [
        {
          "output_type": "execute_result",
          "data": {
            "text/plain": [
              "1                376\n",
              "2                252\n",
              "3                221\n",
              "4                 83\n",
              "7                 65\n",
              "5                 62\n",
              "10                41\n",
              "6                 29\n",
              "8                 17\n",
              "9                 14\n",
              "Ryzen™ 5           2\n",
              "Ryzen 5-5500U      2\n",
              "Ryzen™ 7           2\n",
              "AMD Ryzen          1\n",
              "AMD Athlon         1\n",
              "Ryzen™ 3           1\n",
              "RYZEN R5           1\n",
              "Model: AMD         1\n",
              "Ryzen™ 9           1\n",
              "Name: Processor Model, dtype: int64"
            ]
          },
          "metadata": {},
          "execution_count": 112
        }
      ]
    },
    {
      "cell_type": "code",
      "source": [
        "df['Processor Model'].replace('RYZEN R5',5,inplace=True)"
      ],
      "metadata": {
        "id": "R0K51-HKiPfA"
      },
      "execution_count": 115,
      "outputs": []
    },
    {
      "cell_type": "code",
      "source": [
        "data['Processor Model'].value_counts()"
      ],
      "metadata": {
        "colab": {
          "base_uri": "https://localhost:8080/"
        },
        "id": "QvkUZkc4ichE",
        "outputId": "95cdd7dc-09c9-446b-d6bf-98bad47d00c4"
      },
      "execution_count": 116,
      "outputs": [
        {
          "output_type": "execute_result",
          "data": {
            "text/plain": [
              "1             376\n",
              "2             252\n",
              "3             221\n",
              "4              83\n",
              "5              67\n",
              "7              65\n",
              "10             41\n",
              "6              29\n",
              "8              17\n",
              "9              14\n",
              "Ryzen™ 7        2\n",
              "AMD Ryzen       1\n",
              "AMD Athlon      1\n",
              "Ryzen™ 3        1\n",
              "Model: AMD      1\n",
              "Ryzen™ 9        1\n",
              "Name: Processor Model, dtype: int64"
            ]
          },
          "metadata": {},
          "execution_count": 116
        }
      ]
    },
    {
      "cell_type": "code",
      "source": [
        "df['Processor Model'].replace('Ryzen™ 7',4,inplace=True)"
      ],
      "metadata": {
        "id": "WUs9Rg-uikFJ"
      },
      "execution_count": 117,
      "outputs": []
    },
    {
      "cell_type": "code",
      "source": [
        "data['Processor Model'].value_counts()"
      ],
      "metadata": {
        "colab": {
          "base_uri": "https://localhost:8080/"
        },
        "id": "c5bVJ0F3ipbk",
        "outputId": "1ceb7bc2-bf50-4ac7-9b17-323cc517241a"
      },
      "execution_count": 118,
      "outputs": [
        {
          "output_type": "execute_result",
          "data": {
            "text/plain": [
              "1             376\n",
              "2             252\n",
              "3             221\n",
              "4              85\n",
              "5              67\n",
              "7              65\n",
              "10             41\n",
              "6              29\n",
              "8              17\n",
              "9              14\n",
              "AMD Ryzen       1\n",
              "AMD Athlon      1\n",
              "Ryzen™ 3        1\n",
              "Model: AMD      1\n",
              "Ryzen™ 9        1\n",
              "Name: Processor Model, dtype: int64"
            ]
          },
          "metadata": {},
          "execution_count": 118
        }
      ]
    },
    {
      "cell_type": "code",
      "source": [
        "df['Processor Model'].replace('Ryzen™ 9',11,inplace=True)"
      ],
      "metadata": {
        "id": "ChQ8lDMziuaI"
      },
      "execution_count": 123,
      "outputs": []
    },
    {
      "cell_type": "code",
      "source": [
        "data['Processor Model'].value_counts()"
      ],
      "metadata": {
        "colab": {
          "base_uri": "https://localhost:8080/"
        },
        "id": "3T-POTL0i01s",
        "outputId": "ddbc961a-3a91-45b8-ae8c-23ae754a617d"
      },
      "execution_count": 124,
      "outputs": [
        {
          "output_type": "execute_result",
          "data": {
            "text/plain": [
              "1.0     376\n",
              "2.0     252\n",
              "3.0     221\n",
              "4.0      85\n",
              "5.0      67\n",
              "7.0      65\n",
              "10.0     41\n",
              "6.0      29\n",
              "8.0      17\n",
              "9.0      14\n",
              "11.0      5\n",
              "Name: Processor Model, dtype: int64"
            ]
          },
          "metadata": {},
          "execution_count": 124
        }
      ]
    },
    {
      "cell_type": "code",
      "source": [
        "df.columns"
      ],
      "metadata": {
        "colab": {
          "base_uri": "https://localhost:8080/"
        },
        "id": "ecBUN4yYjCAQ",
        "outputId": "b71b76c7-e992-49fa-d0b1-8d298d58bcb4"
      },
      "execution_count": 125,
      "outputs": [
        {
          "output_type": "execute_result",
          "data": {
            "text/plain": [
              "Index(['Price', 'Brand', 'Processor Brand', 'Processor Model', 'Generation',\n",
              "       'Processor Base Frequency', 'Processor Max Frequency', 'Processor Core',\n",
              "       'Processor Thread', 'CPU Cache', 'RAM', 'RAM Type', 'Storage Capacity',\n",
              "       'Display Size', 'Graphics Memory', 'Battery Capacity'],\n",
              "      dtype='object')"
            ]
          },
          "metadata": {},
          "execution_count": 125
        }
      ]
    },
    {
      "cell_type": "code",
      "source": [
        "data['Generation'].value_counts()"
      ],
      "metadata": {
        "colab": {
          "base_uri": "https://localhost:8080/"
        },
        "id": "pFT-SBdtjprF",
        "outputId": "07c4b959-6e53-4fc8-cfe2-5ba9b1202211"
      },
      "execution_count": 126,
      "outputs": [
        {
          "output_type": "execute_result",
          "data": {
            "text/plain": [
              "11th Gen                 523\n",
              "12th Gen                 231\n",
              "Not Applicable            88\n",
              "10th Gen                  78\n",
              "5th Gen                   76\n",
              "6th Gen                   22\n",
              "4th Gen                   21\n",
              "9th Gen                   20\n",
              "13th Gen                  19\n",
              "3th Gen                   19\n",
              "7th Gen                   14\n",
              "Cth Gen                    8\n",
              "11th                       4\n",
              "8th Gen                    4\n",
              "12th                       2\n",
              "3.2 GHz up to 4.4 GHz      1\n",
              "1th Gen                    1\n",
              "Rth Gen                    1\n",
              "\\nth Gen                   1\n",
              "Name: Generation, dtype: int64"
            ]
          },
          "metadata": {},
          "execution_count": 126
        }
      ]
    },
    {
      "cell_type": "code",
      "source": [
        "df['Generation'].replace('11th Gen',11,inplace=True)"
      ],
      "metadata": {
        "id": "pOjFPsx0jwFh"
      },
      "execution_count": 127,
      "outputs": []
    },
    {
      "cell_type": "code",
      "source": [
        "df['Generation'].replace('Not Applicable',12,inplace=True)"
      ],
      "metadata": {
        "id": "aBVrxXI9j7t7"
      },
      "execution_count": 129,
      "outputs": []
    },
    {
      "cell_type": "code",
      "source": [
        "df['Generation'].replace('10th Gen',10,inplace=True)"
      ],
      "metadata": {
        "id": "Bvg3q1_Tj-ub"
      },
      "execution_count": 130,
      "outputs": []
    },
    {
      "cell_type": "code",
      "source": [
        "data['Generation'].value_counts()"
      ],
      "metadata": {
        "colab": {
          "base_uri": "https://localhost:8080/"
        },
        "id": "cwYi7DYrkHwB",
        "outputId": "5d37d7cf-f189-4a5d-c7f9-fe8c7df83eaa"
      },
      "execution_count": 131,
      "outputs": [
        {
          "output_type": "execute_result",
          "data": {
            "text/plain": [
              "11                       523\n",
              "12                       319\n",
              "10                        78\n",
              "5th Gen                   76\n",
              "6th Gen                   22\n",
              "4th Gen                   21\n",
              "9th Gen                   20\n",
              "13th Gen                  19\n",
              "3th Gen                   19\n",
              "7th Gen                   14\n",
              "Cth Gen                    8\n",
              "11th                       4\n",
              "8th Gen                    4\n",
              "12th                       2\n",
              "3.2 GHz up to 4.4 GHz      1\n",
              "1th Gen                    1\n",
              "Rth Gen                    1\n",
              "\\nth Gen                   1\n",
              "Name: Generation, dtype: int64"
            ]
          },
          "metadata": {},
          "execution_count": 131
        }
      ]
    },
    {
      "cell_type": "code",
      "source": [
        "df['Generation'].replace('11th',11,inplace=True)"
      ],
      "metadata": {
        "id": "tqU8GnXTkJpn"
      },
      "execution_count": 132,
      "outputs": []
    },
    {
      "cell_type": "code",
      "source": [
        "data['Generation'].value_counts()"
      ],
      "metadata": {
        "colab": {
          "base_uri": "https://localhost:8080/"
        },
        "id": "od-vzSXokQ5-",
        "outputId": "f7d8f983-f31b-4035-e51a-b6c4c617f0fa"
      },
      "execution_count": 133,
      "outputs": [
        {
          "output_type": "execute_result",
          "data": {
            "text/plain": [
              "11                       527\n",
              "12                       319\n",
              "10                        78\n",
              "5th Gen                   76\n",
              "6th Gen                   22\n",
              "4th Gen                   21\n",
              "9th Gen                   20\n",
              "13th Gen                  19\n",
              "3th Gen                   19\n",
              "7th Gen                   14\n",
              "Cth Gen                    8\n",
              "8th Gen                    4\n",
              "12th                       2\n",
              "3.2 GHz up to 4.4 GHz      1\n",
              "1th Gen                    1\n",
              "Rth Gen                    1\n",
              "\\nth Gen                   1\n",
              "Name: Generation, dtype: int64"
            ]
          },
          "metadata": {},
          "execution_count": 133
        }
      ]
    },
    {
      "cell_type": "code",
      "source": [
        "df['Generation'].replace('5th Gen',5,inplace=True)"
      ],
      "metadata": {
        "id": "Avk-JQJgkSU2"
      },
      "execution_count": 135,
      "outputs": []
    },
    {
      "cell_type": "code",
      "source": [
        "df['Generation'].replace('6th Gen',6,inplace=True)"
      ],
      "metadata": {
        "id": "ISBsuBzWkZF3"
      },
      "execution_count": 136,
      "outputs": []
    },
    {
      "cell_type": "code",
      "source": [
        "data['Generation'].value_counts()"
      ],
      "metadata": {
        "colab": {
          "base_uri": "https://localhost:8080/"
        },
        "id": "7DB2mavLkeKV",
        "outputId": "9a603440-b36c-42db-8c56-40b9b6e7e628"
      },
      "execution_count": 137,
      "outputs": [
        {
          "output_type": "execute_result",
          "data": {
            "text/plain": [
              "11                       527\n",
              "12                       319\n",
              "10                        78\n",
              "5                         76\n",
              "6                         22\n",
              "4th Gen                   21\n",
              "9th Gen                   20\n",
              "13th Gen                  19\n",
              "3th Gen                   19\n",
              "7th Gen                   14\n",
              "Cth Gen                    8\n",
              "8th Gen                    4\n",
              "12th                       2\n",
              "3.2 GHz up to 4.4 GHz      1\n",
              "1th Gen                    1\n",
              "Rth Gen                    1\n",
              "\\nth Gen                   1\n",
              "Name: Generation, dtype: int64"
            ]
          },
          "metadata": {},
          "execution_count": 137
        }
      ]
    },
    {
      "cell_type": "code",
      "source": [
        "df['Generation'].replace('\\nth Gen',11,inplace=True)"
      ],
      "metadata": {
        "id": "1RHvLeuJkfwR"
      },
      "execution_count": 146,
      "outputs": []
    },
    {
      "cell_type": "code",
      "source": [
        "data['Generation'].value_counts()"
      ],
      "metadata": {
        "colab": {
          "base_uri": "https://localhost:8080/"
        },
        "id": "4mC7jEkqkjIu",
        "outputId": "e2c5098c-38e5-44d1-97c9-b28ca317d4f9"
      },
      "execution_count": 147,
      "outputs": [
        {
          "output_type": "execute_result",
          "data": {
            "text/plain": [
              "11                       529\n",
              "12                       319\n",
              "10                        78\n",
              "5                         76\n",
              "6                         22\n",
              "4                         21\n",
              "9                         20\n",
              "3                         19\n",
              "13                        19\n",
              "7                         14\n",
              "Cth Gen                    8\n",
              "8th Gen                    4\n",
              "12th                       2\n",
              "3.2 GHz up to 4.4 GHz      1\n",
              "1th Gen                    1\n",
              "Name: Generation, dtype: int64"
            ]
          },
          "metadata": {},
          "execution_count": 147
        }
      ]
    },
    {
      "cell_type": "code",
      "source": [
        "data['Generation'].value_counts()"
      ],
      "metadata": {
        "colab": {
          "base_uri": "https://localhost:8080/"
        },
        "id": "2fX_DzEXkqij",
        "outputId": "93ede224-e52f-4221-ff5a-da43ea4ace95"
      },
      "execution_count": 148,
      "outputs": [
        {
          "output_type": "execute_result",
          "data": {
            "text/plain": [
              "11                       529\n",
              "12                       319\n",
              "10                        78\n",
              "5                         76\n",
              "6                         22\n",
              "4                         21\n",
              "9                         20\n",
              "3                         19\n",
              "13                        19\n",
              "7                         14\n",
              "Cth Gen                    8\n",
              "8th Gen                    4\n",
              "12th                       2\n",
              "3.2 GHz up to 4.4 GHz      1\n",
              "1th Gen                    1\n",
              "Name: Generation, dtype: int64"
            ]
          },
          "metadata": {},
          "execution_count": 148
        }
      ]
    },
    {
      "cell_type": "code",
      "source": [
        "df['Generation'].replace(1,11,inplace=True)"
      ],
      "metadata": {
        "id": "z25he9bekxjB"
      },
      "execution_count": 150,
      "outputs": []
    },
    {
      "cell_type": "code",
      "source": [
        "data['Generation'].value_counts()"
      ],
      "metadata": {
        "colab": {
          "base_uri": "https://localhost:8080/"
        },
        "id": "CUxxvKmylCxz",
        "outputId": "45cbe717-0846-4b20-c8d5-3084b2fd135e"
      },
      "execution_count": 151,
      "outputs": [
        {
          "output_type": "execute_result",
          "data": {
            "text/plain": [
              "11                       530\n",
              "12                       319\n",
              "10                        78\n",
              "5                         76\n",
              "6                         22\n",
              "4                         21\n",
              "9                         20\n",
              "3                         19\n",
              "13                        19\n",
              "7                         14\n",
              "Cth Gen                    8\n",
              "8th Gen                    4\n",
              "12th                       2\n",
              "3.2 GHz up to 4.4 GHz      1\n",
              "Name: Generation, dtype: int64"
            ]
          },
          "metadata": {},
          "execution_count": 151
        }
      ]
    },
    {
      "cell_type": "code",
      "source": [
        "df['Generation'].replace('Cth Gen',11,inplace=True)"
      ],
      "metadata": {
        "id": "2u5WrekBlGp6"
      },
      "execution_count": 153,
      "outputs": []
    },
    {
      "cell_type": "code",
      "source": [
        "data['Generation'].value_counts()"
      ],
      "metadata": {
        "colab": {
          "base_uri": "https://localhost:8080/"
        },
        "id": "LIVI0M9jlLjz",
        "outputId": "634080ae-c538-4e6b-9590-9d3ba9eb4dea"
      },
      "execution_count": 158,
      "outputs": [
        {
          "output_type": "execute_result",
          "data": {
            "text/plain": [
              "11.0    539\n",
              "12.0    321\n",
              "10.0     78\n",
              "5.0      76\n",
              "6.0      22\n",
              "4.0      21\n",
              "9.0      20\n",
              "3.0      19\n",
              "13.0     19\n",
              "7.0      14\n",
              "8.0       4\n",
              "Name: Generation, dtype: int64"
            ]
          },
          "metadata": {},
          "execution_count": 158
        }
      ]
    },
    {
      "cell_type": "code",
      "source": [
        "df['Generation'].replace('8th Gen',8,inplace=True)"
      ],
      "metadata": {
        "id": "JOPTAAz8lRsa"
      },
      "execution_count": 159,
      "outputs": []
    },
    {
      "cell_type": "code",
      "source": [
        "df.columns"
      ],
      "metadata": {
        "colab": {
          "base_uri": "https://localhost:8080/"
        },
        "id": "LVCyBraVlWI_",
        "outputId": "6b6cfc17-6207-4cc8-d99a-df2488aa61dd"
      },
      "execution_count": 160,
      "outputs": [
        {
          "output_type": "execute_result",
          "data": {
            "text/plain": [
              "Index(['Price', 'Brand', 'Processor Brand', 'Processor Model', 'Generation',\n",
              "       'Processor Base Frequency', 'Processor Max Frequency', 'Processor Core',\n",
              "       'Processor Thread', 'CPU Cache', 'RAM', 'RAM Type', 'Storage Capacity',\n",
              "       'Display Size', 'Graphics Memory', 'Battery Capacity'],\n",
              "      dtype='object')"
            ]
          },
          "metadata": {},
          "execution_count": 160
        }
      ]
    },
    {
      "cell_type": "code",
      "source": [
        "data['RAM'].value_counts()"
      ],
      "metadata": {
        "colab": {
          "base_uri": "https://localhost:8080/"
        },
        "id": "FGAdiG_cleIH",
        "outputId": "21e7273a-45d0-4be6-e4c7-067a7deed5d8"
      },
      "execution_count": 242,
      "outputs": [
        {
          "output_type": "execute_result",
          "data": {
            "text/plain": [
              "8.0      639\n",
              "16.0     296\n",
              "4.0      205\n",
              "32.0      31\n",
              "64.0       9\n",
              "512.0      1\n",
              "Name: RAM, dtype: int64"
            ]
          },
          "metadata": {},
          "execution_count": 242
        }
      ]
    },
    {
      "cell_type": "code",
      "source": [
        "df['RAM'].replace('32GB  ',32,inplace=True)"
      ],
      "metadata": {
        "id": "k551p8jpl1nW"
      },
      "execution_count": 241,
      "outputs": []
    },
    {
      "cell_type": "code",
      "source": [
        "data['RAM Type'].value_counts()"
      ],
      "metadata": {
        "colab": {
          "base_uri": "https://localhost:8080/"
        },
        "id": "QaweghCNmEXa",
        "outputId": "25539cf3-4319-4647-9309-5b7b622da0c2"
      },
      "execution_count": 259,
      "outputs": [
        {
          "output_type": "execute_result",
          "data": {
            "text/plain": [
              "1.0    928\n",
              "2.0    114\n",
              "3.0     50\n",
              "4.0     42\n",
              "5.0     26\n",
              "6.0      5\n",
              "Name: RAM Type, dtype: int64"
            ]
          },
          "metadata": {},
          "execution_count": 259
        }
      ]
    },
    {
      "cell_type": "code",
      "source": [
        "df['RAM Type'].replace('DDr4',1,inplace=True)"
      ],
      "metadata": {
        "id": "5ssiySJsrBWd"
      },
      "execution_count": 245,
      "outputs": []
    },
    {
      "cell_type": "code",
      "source": [
        "df['RAM Type'].replace('DDR5',2,inplace=True)"
      ],
      "metadata": {
        "id": "93RUuEHirM7g"
      },
      "execution_count": 247,
      "outputs": []
    },
    {
      "cell_type": "code",
      "source": [
        "df['RAM Type'].replace('LPDDR4',3,inplace=True)"
      ],
      "metadata": {
        "id": "Zcf6TH6hrTXy"
      },
      "execution_count": 249,
      "outputs": []
    },
    {
      "cell_type": "code",
      "source": [
        "df['RAM Type'].replace('LPDDR4X',4,inplace=True)"
      ],
      "metadata": {
        "id": "E7GTv2BlraSf"
      },
      "execution_count": 254,
      "outputs": []
    },
    {
      "cell_type": "code",
      "source": [
        "df['RAM Type'].replace('LPDDR5X',6,inplace=True)"
      ],
      "metadata": {
        "id": "kn_qBS0Grge1"
      },
      "execution_count": 257,
      "outputs": []
    },
    {
      "cell_type": "code",
      "source": [
        "df['RAM Type'].replace('LDDR3',6,inplace=True)"
      ],
      "metadata": {
        "id": "GdQ_xun0rmH5"
      },
      "execution_count": 258,
      "outputs": []
    },
    {
      "cell_type": "code",
      "source": [
        "data['Storage Capacity'].value_counts()"
      ],
      "metadata": {
        "colab": {
          "base_uri": "https://localhost:8080/"
        },
        "id": "7jtjXq-Lr4B0",
        "outputId": "f4b0cd7a-c383-4a2c-adfe-94d424172967"
      },
      "execution_count": 349,
      "outputs": [
        {
          "output_type": "execute_result",
          "data": {
            "text/plain": [
              "512.0     661\n",
              "1024.0    293\n",
              "256.0     128\n",
              "1.0        51\n",
              "128.0       9\n",
              "2.0         9\n",
              "2048.0      8\n",
              "16.0        7\n",
              "4096.0      2\n",
              "64.0        1\n",
              "Name: Storage Capacity, dtype: int64"
            ]
          },
          "metadata": {},
          "execution_count": 349
        }
      ]
    },
    {
      "cell_type": "code",
      "source": [
        "df['Storage Capacity'].replace('500GB SSD',512,inplace=True)"
      ],
      "metadata": {
        "id": "kLnnChutsAoT"
      },
      "execution_count": 348,
      "outputs": []
    },
    {
      "cell_type": "code",
      "source": [
        "df.columns"
      ],
      "metadata": {
        "colab": {
          "base_uri": "https://localhost:8080/"
        },
        "id": "tI6xTY6YsNqN",
        "outputId": "283450cf-1ab2-4f0b-e7e1-ea89386d7699"
      },
      "execution_count": 350,
      "outputs": [
        {
          "output_type": "execute_result",
          "data": {
            "text/plain": [
              "Index(['Price', 'Brand', 'Processor Brand', 'Processor Model', 'Generation',\n",
              "       'Processor Base Frequency', 'Processor Max Frequency', 'Processor Core',\n",
              "       'Processor Thread', 'CPU Cache', 'RAM', 'RAM Type', 'Storage Capacity',\n",
              "       'Display Size', 'Graphics Memory', 'Battery Capacity'],\n",
              "      dtype='object')"
            ]
          },
          "metadata": {},
          "execution_count": 350
        }
      ]
    },
    {
      "cell_type": "code",
      "source": [
        "data['Graphics Memory'].value_counts()"
      ],
      "metadata": {
        "colab": {
          "base_uri": "https://localhost:8080/"
        },
        "id": "nmwguKmMwR-v",
        "outputId": "eda8184e-2464-470e-96d3-e1925fc91d53"
      },
      "execution_count": 364,
      "outputs": [
        {
          "output_type": "execute_result",
          "data": {
            "text/plain": [
              "1             832\n",
              "4             141\n",
              "2              76\n",
              "6              65\n",
              "8              25\n",
              "Integrated     10\n",
              "16              7\n",
              "Name: Graphics Memory, dtype: int64"
            ]
          },
          "metadata": {},
          "execution_count": 364
        }
      ]
    },
    {
      "cell_type": "code",
      "source": [
        "df['Graphics Memory'].replace('Shared',1,inplace=True)"
      ],
      "metadata": {
        "id": "6i2hHm7SwYgh"
      },
      "execution_count": 355,
      "outputs": []
    },
    {
      "cell_type": "code",
      "source": [
        "df['Graphics Memory'].replace('Integrated',2,inplace=True)"
      ],
      "metadata": {
        "id": "0kRGtP3cxQKq"
      },
      "execution_count": 365,
      "outputs": []
    },
    {
      "cell_type": "code",
      "source": [
        "df.shape"
      ],
      "metadata": {
        "colab": {
          "base_uri": "https://localhost:8080/"
        },
        "id": "tVPG-Y35xUSR",
        "outputId": "e3d12e2f-7b3c-49b2-c151-e30555c47d5f"
      },
      "execution_count": 368,
      "outputs": [
        {
          "output_type": "execute_result",
          "data": {
            "text/plain": [
              "(1198, 16)"
            ]
          },
          "metadata": {},
          "execution_count": 368
        }
      ]
    },
    {
      "cell_type": "code",
      "source": [
        "data['Generation'].value_counts()"
      ],
      "metadata": {
        "colab": {
          "base_uri": "https://localhost:8080/"
        },
        "id": "aoEPkMdUxkSj",
        "outputId": "1a0cdc91-8ad1-45de-99e5-25784b67a6d5"
      },
      "execution_count": 367,
      "outputs": [
        {
          "output_type": "execute_result",
          "data": {
            "text/plain": [
              "11.0    539\n",
              "12.0    321\n",
              "10.0     78\n",
              "5.0      76\n",
              "6.0      22\n",
              "4.0      21\n",
              "9.0      20\n",
              "3.0      19\n",
              "13.0     19\n",
              "7.0      14\n",
              "8.0       4\n",
              "Name: Generation, dtype: int64"
            ]
          },
          "metadata": {},
          "execution_count": 367
        }
      ]
    },
    {
      "cell_type": "code",
      "source": [
        "print(df.isnull().sum())"
      ],
      "metadata": {
        "colab": {
          "base_uri": "https://localhost:8080/"
        },
        "id": "DWWhBCMIxqmh",
        "outputId": "11a1a654-4ef9-4f26-bcc3-56cefaeae992"
      },
      "execution_count": 369,
      "outputs": [
        {
          "output_type": "stream",
          "name": "stdout",
          "text": [
            "Price                        0\n",
            "Brand                        0\n",
            "Processor Brand             20\n",
            "Processor Model             26\n",
            "Generation                  65\n",
            "Processor Base Frequency    24\n",
            "Processor Max Frequency     24\n",
            "Processor Core              33\n",
            "Processor Thread            20\n",
            "CPU Cache                    1\n",
            "RAM                         17\n",
            "RAM Type                    33\n",
            "Storage Capacity            29\n",
            "Display Size                22\n",
            "Graphics Memory             42\n",
            "Battery Capacity            44\n",
            "dtype: int64\n"
          ]
        }
      ]
    },
    {
      "cell_type": "code",
      "source": [
        "# Define a function to generate random values\n",
        "def fill_null_with_random(col):\n",
        "    null_count = col.isnull().sum()\n",
        "    col_random = col.dropna().sample(null_count, replace=True).tolist()\n",
        "    col[col.isnull()] = col_random\n",
        "\n",
        "# Apply the function to each column\n",
        "df.apply(fill_null_with_random)\n"
      ],
      "metadata": {
        "colab": {
          "base_uri": "https://localhost:8080/"
        },
        "id": "B7MmfXj7yiVr",
        "outputId": "ceb965a3-fff4-4254-8e83-a14bf4daf795"
      },
      "execution_count": 370,
      "outputs": [
        {
          "output_type": "execute_result",
          "data": {
            "text/plain": [
              "Price                       None\n",
              "Brand                       None\n",
              "Processor Brand             None\n",
              "Processor Model             None\n",
              "Generation                  None\n",
              "Processor Base Frequency    None\n",
              "Processor Max Frequency     None\n",
              "Processor Core              None\n",
              "Processor Thread            None\n",
              "CPU Cache                   None\n",
              "RAM                         None\n",
              "RAM Type                    None\n",
              "Storage Capacity            None\n",
              "Display Size                None\n",
              "Graphics Memory             None\n",
              "Battery Capacity            None\n",
              "dtype: object"
            ]
          },
          "metadata": {},
          "execution_count": 370
        }
      ]
    },
    {
      "cell_type": "code",
      "source": [
        "print(df.isnull().sum())\n"
      ],
      "metadata": {
        "colab": {
          "base_uri": "https://localhost:8080/"
        },
        "id": "_FpzCYQwzIY8",
        "outputId": "713c721f-986a-47d5-af3f-b6ebeacfd58d"
      },
      "execution_count": 371,
      "outputs": [
        {
          "output_type": "stream",
          "name": "stdout",
          "text": [
            "Price                       0\n",
            "Brand                       0\n",
            "Processor Brand             0\n",
            "Processor Model             0\n",
            "Generation                  0\n",
            "Processor Base Frequency    0\n",
            "Processor Max Frequency     0\n",
            "Processor Core              0\n",
            "Processor Thread            0\n",
            "CPU Cache                   0\n",
            "RAM                         0\n",
            "RAM Type                    0\n",
            "Storage Capacity            0\n",
            "Display Size                0\n",
            "Graphics Memory             0\n",
            "Battery Capacity            0\n",
            "dtype: int64\n"
          ]
        }
      ]
    },
    {
      "cell_type": "code",
      "source": [
        "df['Generation'].value_counts()"
      ],
      "metadata": {
        "colab": {
          "base_uri": "https://localhost:8080/"
        },
        "id": "IFwtyrmAzNX4",
        "outputId": "7983179f-f1fe-4fbd-f29f-d85bce274941"
      },
      "execution_count": 372,
      "outputs": [
        {
          "output_type": "execute_result",
          "data": {
            "text/plain": [
              "11.0    569\n",
              "12.0    340\n",
              "5.0      83\n",
              "10.0     80\n",
              "4.0      24\n",
              "6.0      22\n",
              "9.0      21\n",
              "3.0      20\n",
              "13.0     19\n",
              "7.0      15\n",
              "8.0       5\n",
              "Name: Generation, dtype: int64"
            ]
          },
          "metadata": {},
          "execution_count": 372
        }
      ]
    },
    {
      "cell_type": "code",
      "source": [
        "df.to_csv('/content/drive/MyDrive/pre_proccessed.csv', index=False)"
      ],
      "metadata": {
        "id": "yYDUsC4ozRMm"
      },
      "execution_count": 373,
      "outputs": []
    },
    {
      "cell_type": "code",
      "source": [
        "dataset = df\n",
        "X = dataset.drop('Price', axis=1)  # Features (all columns except the target variable)\n",
        "y = dataset['Price']  # Target variable (price)\n",
        "\n",
        "# Split the dataset into training and testing sets\n",
        "X_train, X_test, y_train, y_test = train_test_split(X, y, test_size=0.2, random_state=42)"
      ],
      "metadata": {
        "id": "5XO7S0_mzn0l"
      },
      "execution_count": 377,
      "outputs": []
    },
    {
      "cell_type": "code",
      "source": [
        "# Create a linear regression model\n",
        "model = LinearRegression()\n",
        "\n"
      ],
      "metadata": {
        "id": "M_xbZLXa1x55"
      },
      "execution_count": 379,
      "outputs": []
    },
    {
      "cell_type": "code",
      "source": [
        "print(dataset['RAM'].unique())\n"
      ],
      "metadata": {
        "colab": {
          "base_uri": "https://localhost:8080/"
        },
        "id": "DnCIEZ6C1_3Z",
        "outputId": "295c406b-5071-49d7-e373-7a7704973820"
      },
      "execution_count": 382,
      "outputs": [
        {
          "output_type": "stream",
          "name": "stdout",
          "text": [
            "[  8.   4.  16.  32.  64. 512.]\n"
          ]
        }
      ]
    },
    {
      "cell_type": "code",
      "source": [
        "dataset['RAM'].value_counts()"
      ],
      "metadata": {
        "colab": {
          "base_uri": "https://localhost:8080/"
        },
        "id": "COyjeFVF2d26",
        "outputId": "4ebfd324-fee1-45e6-b07c-d9517afe4cd1"
      },
      "execution_count": 383,
      "outputs": [
        {
          "output_type": "execute_result",
          "data": {
            "text/plain": [
              "8.0      649\n",
              "16.0     301\n",
              "4.0      207\n",
              "32.0      31\n",
              "64.0       9\n",
              "512.0      1\n",
              "Name: RAM, dtype: int64"
            ]
          },
          "metadata": {},
          "execution_count": 383
        }
      ]
    },
    {
      "cell_type": "code",
      "source": [
        "dataset.head()"
      ],
      "metadata": {
        "colab": {
          "base_uri": "https://localhost:8080/",
          "height": 305
        },
        "id": "cXjvFjC825wB",
        "outputId": "86995100-9e80-42bc-e208-28f2ddc90552"
      },
      "execution_count": 384,
      "outputs": [
        {
          "output_type": "execute_result",
          "data": {
            "text/plain": [
              "      Price  Brand  Processor Brand  Processor Model  Generation  \\\n",
              "0   70400.0    4.0              1.0              1.0        11.0   \n",
              "1  129800.0    5.0              1.0              2.0        11.0   \n",
              "2   29950.0   11.0              1.0              7.0        12.0   \n",
              "3   32010.0    9.0              1.0              7.0        10.0   \n",
              "4   32999.0    6.0              2.0             10.0        11.0   \n",
              "\n",
              "  Processor Base Frequency  Processor Max Frequency  Processor Core  \\\n",
              "0                      2.4                      4.2             4.0   \n",
              "1                      2.3                      4.6             8.0   \n",
              "2                      1.1                      2.8             2.0   \n",
              "3                      1.9                      1.9             2.0   \n",
              "4                      3.1                      3.7             2.0   \n",
              "\n",
              "  Processor Thread  CPU Cache  RAM  RAM Type  Storage Capacity Display Size  \\\n",
              "0                8        8.0  8.0       1.0            1024.0           14   \n",
              "1               16       24.0  8.0       1.0            1024.0         15.6   \n",
              "2                2        4.0  4.0       3.0             256.0           14   \n",
              "3                2        2.0  4.0       1.0             128.0           14   \n",
              "4                2        1.0  4.0       1.0             256.0         14.1   \n",
              "\n",
              "   Graphics Memory  Battery Capacity  \n",
              "0              1.0              48.0  \n",
              "1              4.0              51.0  \n",
              "2              1.0              10.0  \n",
              "3              1.0              45.0  \n",
              "4              1.0              10.0  "
            ],
            "text/html": [
              "\n",
              "  <div id=\"df-147200e2-6917-4b88-893c-63935b7c2b25\">\n",
              "    <div class=\"colab-df-container\">\n",
              "      <div>\n",
              "<style scoped>\n",
              "    .dataframe tbody tr th:only-of-type {\n",
              "        vertical-align: middle;\n",
              "    }\n",
              "\n",
              "    .dataframe tbody tr th {\n",
              "        vertical-align: top;\n",
              "    }\n",
              "\n",
              "    .dataframe thead th {\n",
              "        text-align: right;\n",
              "    }\n",
              "</style>\n",
              "<table border=\"1\" class=\"dataframe\">\n",
              "  <thead>\n",
              "    <tr style=\"text-align: right;\">\n",
              "      <th></th>\n",
              "      <th>Price</th>\n",
              "      <th>Brand</th>\n",
              "      <th>Processor Brand</th>\n",
              "      <th>Processor Model</th>\n",
              "      <th>Generation</th>\n",
              "      <th>Processor Base Frequency</th>\n",
              "      <th>Processor Max Frequency</th>\n",
              "      <th>Processor Core</th>\n",
              "      <th>Processor Thread</th>\n",
              "      <th>CPU Cache</th>\n",
              "      <th>RAM</th>\n",
              "      <th>RAM Type</th>\n",
              "      <th>Storage Capacity</th>\n",
              "      <th>Display Size</th>\n",
              "      <th>Graphics Memory</th>\n",
              "      <th>Battery Capacity</th>\n",
              "    </tr>\n",
              "  </thead>\n",
              "  <tbody>\n",
              "    <tr>\n",
              "      <th>0</th>\n",
              "      <td>70400.0</td>\n",
              "      <td>4.0</td>\n",
              "      <td>1.0</td>\n",
              "      <td>1.0</td>\n",
              "      <td>11.0</td>\n",
              "      <td>2.4</td>\n",
              "      <td>4.2</td>\n",
              "      <td>4.0</td>\n",
              "      <td>8</td>\n",
              "      <td>8.0</td>\n",
              "      <td>8.0</td>\n",
              "      <td>1.0</td>\n",
              "      <td>1024.0</td>\n",
              "      <td>14</td>\n",
              "      <td>1.0</td>\n",
              "      <td>48.0</td>\n",
              "    </tr>\n",
              "    <tr>\n",
              "      <th>1</th>\n",
              "      <td>129800.0</td>\n",
              "      <td>5.0</td>\n",
              "      <td>1.0</td>\n",
              "      <td>2.0</td>\n",
              "      <td>11.0</td>\n",
              "      <td>2.3</td>\n",
              "      <td>4.6</td>\n",
              "      <td>8.0</td>\n",
              "      <td>16</td>\n",
              "      <td>24.0</td>\n",
              "      <td>8.0</td>\n",
              "      <td>1.0</td>\n",
              "      <td>1024.0</td>\n",
              "      <td>15.6</td>\n",
              "      <td>4.0</td>\n",
              "      <td>51.0</td>\n",
              "    </tr>\n",
              "    <tr>\n",
              "      <th>2</th>\n",
              "      <td>29950.0</td>\n",
              "      <td>11.0</td>\n",
              "      <td>1.0</td>\n",
              "      <td>7.0</td>\n",
              "      <td>12.0</td>\n",
              "      <td>1.1</td>\n",
              "      <td>2.8</td>\n",
              "      <td>2.0</td>\n",
              "      <td>2</td>\n",
              "      <td>4.0</td>\n",
              "      <td>4.0</td>\n",
              "      <td>3.0</td>\n",
              "      <td>256.0</td>\n",
              "      <td>14</td>\n",
              "      <td>1.0</td>\n",
              "      <td>10.0</td>\n",
              "    </tr>\n",
              "    <tr>\n",
              "      <th>3</th>\n",
              "      <td>32010.0</td>\n",
              "      <td>9.0</td>\n",
              "      <td>1.0</td>\n",
              "      <td>7.0</td>\n",
              "      <td>10.0</td>\n",
              "      <td>1.9</td>\n",
              "      <td>1.9</td>\n",
              "      <td>2.0</td>\n",
              "      <td>2</td>\n",
              "      <td>2.0</td>\n",
              "      <td>4.0</td>\n",
              "      <td>1.0</td>\n",
              "      <td>128.0</td>\n",
              "      <td>14</td>\n",
              "      <td>1.0</td>\n",
              "      <td>45.0</td>\n",
              "    </tr>\n",
              "    <tr>\n",
              "      <th>4</th>\n",
              "      <td>32999.0</td>\n",
              "      <td>6.0</td>\n",
              "      <td>2.0</td>\n",
              "      <td>10.0</td>\n",
              "      <td>11.0</td>\n",
              "      <td>3.1</td>\n",
              "      <td>3.7</td>\n",
              "      <td>2.0</td>\n",
              "      <td>2</td>\n",
              "      <td>1.0</td>\n",
              "      <td>4.0</td>\n",
              "      <td>1.0</td>\n",
              "      <td>256.0</td>\n",
              "      <td>14.1</td>\n",
              "      <td>1.0</td>\n",
              "      <td>10.0</td>\n",
              "    </tr>\n",
              "  </tbody>\n",
              "</table>\n",
              "</div>\n",
              "      <button class=\"colab-df-convert\" onclick=\"convertToInteractive('df-147200e2-6917-4b88-893c-63935b7c2b25')\"\n",
              "              title=\"Convert this dataframe to an interactive table.\"\n",
              "              style=\"display:none;\">\n",
              "        \n",
              "  <svg xmlns=\"http://www.w3.org/2000/svg\" height=\"24px\"viewBox=\"0 0 24 24\"\n",
              "       width=\"24px\">\n",
              "    <path d=\"M0 0h24v24H0V0z\" fill=\"none\"/>\n",
              "    <path d=\"M18.56 5.44l.94 2.06.94-2.06 2.06-.94-2.06-.94-.94-2.06-.94 2.06-2.06.94zm-11 1L8.5 8.5l.94-2.06 2.06-.94-2.06-.94L8.5 2.5l-.94 2.06-2.06.94zm10 10l.94 2.06.94-2.06 2.06-.94-2.06-.94-.94-2.06-.94 2.06-2.06.94z\"/><path d=\"M17.41 7.96l-1.37-1.37c-.4-.4-.92-.59-1.43-.59-.52 0-1.04.2-1.43.59L10.3 9.45l-7.72 7.72c-.78.78-.78 2.05 0 2.83L4 21.41c.39.39.9.59 1.41.59.51 0 1.02-.2 1.41-.59l7.78-7.78 2.81-2.81c.8-.78.8-2.07 0-2.86zM5.41 20L4 18.59l7.72-7.72 1.47 1.35L5.41 20z\"/>\n",
              "  </svg>\n",
              "      </button>\n",
              "      \n",
              "  <style>\n",
              "    .colab-df-container {\n",
              "      display:flex;\n",
              "      flex-wrap:wrap;\n",
              "      gap: 12px;\n",
              "    }\n",
              "\n",
              "    .colab-df-convert {\n",
              "      background-color: #E8F0FE;\n",
              "      border: none;\n",
              "      border-radius: 50%;\n",
              "      cursor: pointer;\n",
              "      display: none;\n",
              "      fill: #1967D2;\n",
              "      height: 32px;\n",
              "      padding: 0 0 0 0;\n",
              "      width: 32px;\n",
              "    }\n",
              "\n",
              "    .colab-df-convert:hover {\n",
              "      background-color: #E2EBFA;\n",
              "      box-shadow: 0px 1px 2px rgba(60, 64, 67, 0.3), 0px 1px 3px 1px rgba(60, 64, 67, 0.15);\n",
              "      fill: #174EA6;\n",
              "    }\n",
              "\n",
              "    [theme=dark] .colab-df-convert {\n",
              "      background-color: #3B4455;\n",
              "      fill: #D2E3FC;\n",
              "    }\n",
              "\n",
              "    [theme=dark] .colab-df-convert:hover {\n",
              "      background-color: #434B5C;\n",
              "      box-shadow: 0px 1px 3px 1px rgba(0, 0, 0, 0.15);\n",
              "      filter: drop-shadow(0px 1px 2px rgba(0, 0, 0, 0.3));\n",
              "      fill: #FFFFFF;\n",
              "    }\n",
              "  </style>\n",
              "\n",
              "      <script>\n",
              "        const buttonEl =\n",
              "          document.querySelector('#df-147200e2-6917-4b88-893c-63935b7c2b25 button.colab-df-convert');\n",
              "        buttonEl.style.display =\n",
              "          google.colab.kernel.accessAllowed ? 'block' : 'none';\n",
              "\n",
              "        async function convertToInteractive(key) {\n",
              "          const element = document.querySelector('#df-147200e2-6917-4b88-893c-63935b7c2b25');\n",
              "          const dataTable =\n",
              "            await google.colab.kernel.invokeFunction('convertToInteractive',\n",
              "                                                     [key], {});\n",
              "          if (!dataTable) return;\n",
              "\n",
              "          const docLinkHtml = 'Like what you see? Visit the ' +\n",
              "            '<a target=\"_blank\" href=https://colab.research.google.com/notebooks/data_table.ipynb>data table notebook</a>'\n",
              "            + ' to learn more about interactive tables.';\n",
              "          element.innerHTML = '';\n",
              "          dataTable['output_type'] = 'display_data';\n",
              "          await google.colab.output.renderOutput(dataTable, element);\n",
              "          const docLink = document.createElement('div');\n",
              "          docLink.innerHTML = docLinkHtml;\n",
              "          element.appendChild(docLink);\n",
              "        }\n",
              "      </script>\n",
              "    </div>\n",
              "  </div>\n",
              "  "
            ]
          },
          "metadata": {},
          "execution_count": 384
        }
      ]
    },
    {
      "cell_type": "code",
      "source": [
        "X = dataset.drop('Price', axis=1) \n",
        " # Features (all columns except the target variable)\n",
        "X = dataset.drop('RAM', axis=1) \n",
        "y = dataset['Price'] "
      ],
      "metadata": {
        "id": "WNKtHPJ93hhT"
      },
      "execution_count": 389,
      "outputs": []
    },
    {
      "cell_type": "code",
      "source": [
        "X_train, X_test, y_train, y_test = train_test_split(X, y, test_size=0.2, random_state=42)"
      ],
      "metadata": {
        "id": "DRGq_Oad4lIO"
      },
      "execution_count": 390,
      "outputs": []
    },
    {
      "cell_type": "code",
      "source": [
        "import pandas as pd\n",
        "\n",
        "# Assuming you have a DataFrame named 'df'\n",
        "\n",
        "incorrect_value = '2,8'\n",
        "\n",
        "# Iterate over each column\n",
        "for column in df.columns:\n",
        "    # Check if the incorrect value is present in the column\n",
        "    if df[column].astype(str).str.contains(incorrect_value).any():\n",
        "        print(f\"Incorrect value '{incorrect_value}' found in column: {column}\")\n"
      ],
      "metadata": {
        "colab": {
          "base_uri": "https://localhost:8080/"
        },
        "id": "qvz_UA444sRW",
        "outputId": "32d6fba3-366b-4c5e-a98a-7f1b40ed7455"
      },
      "execution_count": 395,
      "outputs": [
        {
          "output_type": "stream",
          "name": "stdout",
          "text": [
            "Incorrect value '2,8' found in column: Processor Base Frequency\n"
          ]
        }
      ]
    },
    {
      "cell_type": "code",
      "source": [
        "dataset['Processor Base Frequency'].value_counts()"
      ],
      "metadata": {
        "colab": {
          "base_uri": "https://localhost:8080/"
        },
        "id": "gQRiKpQF4vYM",
        "outputId": "d60384b9-75d3-4c14-dc01-63732ad2d6b8"
      },
      "execution_count": 396,
      "outputs": [
        {
          "output_type": "execute_result",
          "data": {
            "text/plain": [
              "2.4    301\n",
              "3      157\n",
              "2.8    107\n",
              "2.3     78\n",
              "3.3     75\n",
              "1.1     62\n",
              "2.1     56\n",
              "2.6     49\n",
              "3.2     49\n",
              "2.9     27\n",
              "1.2     23\n",
              "2       23\n",
              "1.8     22\n",
              "2.5     22\n",
              "3.1     17\n",
              "1.3     16\n",
              "1.6     16\n",
              "3.5     16\n",
              "2.7     16\n",
              "1.7     13\n",
              "3.6     11\n",
              "1.9      9\n",
              "1        9\n",
              "3.4      7\n",
              "4.4      6\n",
              "2.2      5\n",
              "4.1      3\n",
              "20M      1\n",
              "4        1\n",
              "2,8      1\n",
              "Name: Processor Base Frequency, dtype: int64"
            ]
          },
          "metadata": {},
          "execution_count": 396
        }
      ]
    },
    {
      "cell_type": "code",
      "source": [
        "df['Processor Base Frequency'].replace('2,8',2.8,inplace=True)"
      ],
      "metadata": {
        "id": "anAjTrIj5lJP"
      },
      "execution_count": 397,
      "outputs": []
    },
    {
      "cell_type": "code",
      "source": [
        "dataset['Processor Base Frequency'].value_counts()"
      ],
      "metadata": {
        "colab": {
          "base_uri": "https://localhost:8080/"
        },
        "id": "AoRC3q5X5yGm",
        "outputId": "b4b8eec8-dc5f-4519-a0ec-2610a30d5e2f"
      },
      "execution_count": 398,
      "outputs": [
        {
          "output_type": "execute_result",
          "data": {
            "text/plain": [
              "2.4    301\n",
              "3      157\n",
              "2.8    107\n",
              "2.3     78\n",
              "3.3     75\n",
              "1.1     62\n",
              "2.1     56\n",
              "2.6     49\n",
              "3.2     49\n",
              "2.9     27\n",
              "1.2     23\n",
              "2       23\n",
              "1.8     22\n",
              "2.5     22\n",
              "3.1     17\n",
              "1.3     16\n",
              "1.6     16\n",
              "3.5     16\n",
              "2.7     16\n",
              "1.7     13\n",
              "3.6     11\n",
              "1.9      9\n",
              "1        9\n",
              "3.4      7\n",
              "4.4      6\n",
              "2.2      5\n",
              "4.1      3\n",
              "20M      1\n",
              "4        1\n",
              "2.8      1\n",
              "Name: Processor Base Frequency, dtype: int64"
            ]
          },
          "metadata": {},
          "execution_count": 398
        }
      ]
    },
    {
      "cell_type": "code",
      "source": [
        "df.to_csv('/content/drive/MyDrive/Dataset.csv', index=False)"
      ],
      "metadata": {
        "id": "xovqc54k50NS"
      },
      "execution_count": 399,
      "outputs": []
    },
    {
      "cell_type": "code",
      "source": [
        "\n",
        "\n",
        "# Select features and target variable\n",
        "X = dataset.drop('Price', axis=1)  # Features (all columns except the target variable)\n",
        "y = dataset['Price']  # Target variable (price)\n",
        "\n",
        "# Split the dataset into training and testing sets\n",
        "X_train, X_test, y_train, y_test = train_test_split(X, y, test_size=0.2, random_state=42)\n"
      ],
      "metadata": {
        "id": "55YV4O0357zc"
      },
      "execution_count": 400,
      "outputs": []
    },
    {
      "cell_type": "code",
      "source": [
        "import pandas as pd\n",
        "\n",
        "# Assuming you have a DataFrame named 'df'\n",
        "\n",
        "incorrect_value = ''\n",
        "\n",
        "# Iterate over each column\n",
        "for column in df.columns:\n",
        "    # Check if the incorrect value is present in the column\n",
        "    if df[column].astype(str).str.contains(incorrect_value).any():\n",
        "        print(f\"Incorrect value '{incorrect_value}' found in column: {column}\")\n",
        "\n"
      ],
      "metadata": {
        "id": "PCLKzl1P6K1A"
      },
      "execution_count": 410,
      "outputs": []
    },
    {
      "cell_type": "code",
      "source": [
        "dataset['Display Size'].value_counts()"
      ],
      "metadata": {
        "colab": {
          "base_uri": "https://localhost:8080/"
        },
        "id": "coMfZmf76OaO",
        "outputId": "e3adf880-d8d8-4cb5-8b3d-7fdc012ffad4"
      },
      "execution_count": 405,
      "outputs": [
        {
          "output_type": "execute_result",
          "data": {
            "text/plain": [
              "15.6    609\n",
              "14      376\n",
              "16       67\n",
              "13.3     42\n",
              "17.3     20\n",
              "13.6     13\n",
              "14.2     12\n",
              "14.5      7\n",
              "13.5      7\n",
              "13.4      6\n",
              "13        6\n",
              "16.2      6\n",
              "15        4\n",
              "16.1      4\n",
              "14.4      3\n",
              "11.6      3\n",
              "10.1      3\n",
              "10.5      2\n",
              "17        2\n",
              "14.1      1\n",
              "1         1\n",
              "18.4      1\n",
              "13,4      1\n",
              "10        1\n",
              "12.3      1\n",
              "Name: Display Size, dtype: int64"
            ]
          },
          "metadata": {},
          "execution_count": 405
        }
      ]
    },
    {
      "cell_type": "code",
      "source": [
        "df['Display Size'].replace(' ',1,inplace=True)"
      ],
      "metadata": {
        "id": "qPHdxj_-6idb"
      },
      "execution_count": 404,
      "outputs": []
    },
    {
      "cell_type": "code",
      "source": [
        "import pandas as pd\n",
        "\n",
        "# Assuming you have a DataFrame named 'df'\n",
        "\n",
        "incorrect_value = '13,4'\n",
        "\n",
        "# Iterate over each column\n",
        "for column in df.columns:\n",
        "    # Check if the incorrect value is present in the column\n",
        "    if df[column].astype(str).str.contains(incorrect_value).any():\n",
        "        print(f\"Incorrect value '{incorrect_value}' found in column: {column}\")\n",
        "\n"
      ],
      "metadata": {
        "id": "q0JCi7A36ytH"
      },
      "execution_count": 424,
      "outputs": []
    },
    {
      "cell_type": "code",
      "source": [
        "df['Display Size'].value_counts()"
      ],
      "metadata": {
        "colab": {
          "base_uri": "https://localhost:8080/"
        },
        "id": "ncEHTPqy8BKd",
        "outputId": "1458fb9a-1103-4273-a737-378308e6f09b"
      },
      "execution_count": 425,
      "outputs": [
        {
          "output_type": "execute_result",
          "data": {
            "text/plain": [
              "15.6    609\n",
              "14      376\n",
              "16       67\n",
              "13.3     42\n",
              "17.3     20\n",
              "13.6     13\n",
              "14.2     12\n",
              "14.5      7\n",
              "13.5      7\n",
              "13.4      6\n",
              "13        6\n",
              "16.2      6\n",
              "15        4\n",
              "16.1      4\n",
              "14.4      3\n",
              "11.6      3\n",
              "10.1      3\n",
              "10.5      2\n",
              "17        2\n",
              "14.1      1\n",
              "1         1\n",
              "18.4      1\n",
              "13        1\n",
              "10        1\n",
              "12.3      1\n",
              "Name: Display Size, dtype: int64"
            ]
          },
          "metadata": {},
          "execution_count": 425
        }
      ]
    },
    {
      "cell_type": "code",
      "source": [
        "import pandas as pd\n",
        "\n",
        "# Assuming you have a DataFrame named 'df'\n",
        "\n",
        "incorrect_value = '20M'\n",
        "\n",
        "# Iterate over each column\n",
        "for column in df.columns:\n",
        "    # Check if the incorrect value is present in the column\n",
        "    if df[column].astype(str).str.contains(incorrect_value).any():\n",
        "        print(f\"Incorrect value '{incorrect_value}' found in column: {column}\")\n",
        "\n"
      ],
      "metadata": {
        "colab": {
          "base_uri": "https://localhost:8080/"
        },
        "id": "5Vn1q_1S8zYr",
        "outputId": "215b37af-47d8-4af2-fa61-59370b771552"
      },
      "execution_count": 428,
      "outputs": [
        {
          "output_type": "stream",
          "name": "stdout",
          "text": [
            "Incorrect value '20M' found in column: Processor Base Frequency\n"
          ]
        }
      ]
    },
    {
      "cell_type": "code",
      "source": [
        "df['Processor Base Frequency'].replace('20M',20,inplace=True)"
      ],
      "metadata": {
        "id": "AaQFaTKr8wK4"
      },
      "execution_count": 429,
      "outputs": []
    },
    {
      "cell_type": "code",
      "source": [
        "import pandas as pd\n",
        "from sklearn.model_selection import train_test_split\n",
        "from sklearn.linear_model import LinearRegression\n",
        "\n",
        "# Assuming you have a DataFrame named 'df' and the target column is 'target_column'\n",
        "\n",
        "# Remove rows with empty or whitespace strings\n",
        "df_cleaned = df.replace(r'^\\s*$', float('nan'), regex=True).dropna()\n",
        "\n",
        "# Split the dataset into features (X) and target (y)\n",
        "X = df_cleaned.drop('Price', axis=1)\n",
        "y = df_cleaned['Price']\n",
        "\n",
        "# Split the data into training and testing sets\n",
        "X_train, X_test, y_train, y_test = train_test_split(X, y, test_size=0.2, random_state=42)\n",
        "\n",
        "# Train your model\n",
        "model = LinearRegression()\n",
        "model.fit(X_train, y_train)\n",
        "\n",
        "# Evaluate the model\n",
        "score = model.score(X_test, y_test)\n",
        "print(\"Model score:\", score)\n"
      ],
      "metadata": {
        "colab": {
          "base_uri": "https://localhost:8080/"
        },
        "id": "i25pVP998_e2",
        "outputId": "925de359-f30c-4cb6-b641-6bcbede32dd5"
      },
      "execution_count": 430,
      "outputs": [
        {
          "output_type": "stream",
          "name": "stdout",
          "text": [
            "Model score: 0.6230223279092487\n"
          ]
        }
      ]
    },
    {
      "cell_type": "code",
      "source": [
        "df.to_csv('/content/drive/MyDrive/CSE445.csv', index=False)"
      ],
      "metadata": {
        "id": "lwFQeK_T9GcH"
      },
      "execution_count": 431,
      "outputs": []
    },
    {
      "cell_type": "code",
      "source": [],
      "metadata": {
        "id": "D6lB9Msk98zx"
      },
      "execution_count": null,
      "outputs": []
    }
  ]
}
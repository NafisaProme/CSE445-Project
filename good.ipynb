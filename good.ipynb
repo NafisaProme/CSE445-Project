{
  "nbformat": 4,
  "nbformat_minor": 0,
  "metadata": {
    "colab": {
      "provenance": []
    },
    "kernelspec": {
      "name": "python3",
      "display_name": "Python 3"
    },
    "language_info": {
      "name": "python"
    }
  },
  "cells": [
    {
      "cell_type": "code",
      "execution_count": 1,
      "metadata": {
        "id": "g2MmrJT7jUEQ"
      },
      "outputs": [],
      "source": [
        "import math #mathematical computation\n",
        "import pandas as pd #dataframe\n",
        "# pd.set_option('max_rows', 10000)\n",
        "# pd.set_option('max_colwidth', 400)\n",
        "# pd.describe_option('max_colwidth')\n",
        "import numpy as np #mathematical computations\n",
        "import matplotlib.pyplot as plt #visualization\n",
        "import matplotlib\n",
        "import joblib #saving the model\n",
        "import seaborn as sns #visualization\n",
        "import json #exporting columns\n",
        "import pickle #saving the model\n",
        "from sklearn.preprocessing import LabelEncoder, OneHotEncoder, OrdinalEncoder, MinMaxScaler\n",
        "\n",
        "from sklearn import tree\n",
        "from sklearn.tree import DecisionTreeClassifier, export_graphviz #Decision Tree Classifier\n",
        "from sklearn.metrics import accuracy_score, confusion_matrix, r2_score #Performance metrics\n",
        "\n",
        "from sklearn.linear_model import LinearRegression #Linear Regression\n",
        "from sklearn.linear_model import Lasso #Lasso Regression\n",
        "from sklearn.tree import DecisionTreeRegressor #Decision Tree Regression\n",
        "from sklearn.ensemble import RandomForestRegressor #Random Forest Regression\n",
        "from xgboost import XGBRegressor # XGBoost Regression\n",
        "from sklearn.model_selection import train_test_split #Splitting the dataset into training and testing\n",
        "from sklearn.model_selection import ShuffleSplit #Random shuffling\n",
        "from sklearn.model_selection import cross_val_score #Score cross validation\n",
        "from sklearn.model_selection import cross_validate #Score cross validation\n",
        "from sklearn.model_selection import GridSearchCV #Hyper parameter tuning\n",
        "\n",
        "from statistics import stdev\n",
        "from warnings import simplefilter #Filtering warnings\n",
        "\n",
        "import warnings\n",
        "warnings.filterwarnings('ignore')\n",
        "\n",
        "##showing all columns in output##\n",
        "\n",
        "#################################"
      ]
    },
    {
      "cell_type": "code",
      "source": [
        "from google.colab import drive \n",
        "drive.mount('/content/drive')\n",
        "data = pd.read_csv('CSE445.csv', on_bad_lines='skip')"
      ],
      "metadata": {
        "colab": {
          "base_uri": "https://localhost:8080/"
        },
        "id": "w-S2UdavjXmh",
        "outputId": "852d6d27-3526-4502-d885-bcbbad54fbdd"
      },
      "execution_count": 6,
      "outputs": [
        {
          "output_type": "stream",
          "name": "stdout",
          "text": [
            "Drive already mounted at /content/drive; to attempt to forcibly remount, call drive.mount(\"/content/drive\", force_remount=True).\n"
          ]
        }
      ]
    },
    {
      "cell_type": "code",
      "source": [
        "data"
      ],
      "metadata": {
        "colab": {
          "base_uri": "https://localhost:8080/",
          "height": 522
        },
        "id": "U1ZsHQAGji_Y",
        "outputId": "3cee15c5-3c3d-4c22-e5f8-de5e7d8b16a9"
      },
      "execution_count": 7,
      "outputs": [
        {
          "output_type": "execute_result",
          "data": {
            "text/plain": [
              "         Price  Brand  Processor Brand  Processor Model  Generation  \\\n",
              "0      70400.0    4.0              1.0              1.0        11.0   \n",
              "1     129800.0    5.0              1.0              2.0        11.0   \n",
              "2      29950.0   11.0              1.0              7.0        12.0   \n",
              "3      32010.0    9.0              1.0              7.0        10.0   \n",
              "4      32999.0    6.0              2.0             10.0        11.0   \n",
              "...        ...    ...              ...              ...         ...   \n",
              "1193   56000.0    6.0              1.0              3.0        11.0   \n",
              "1194   53000.0    2.0              1.0              3.0        11.0   \n",
              "1195   56500.0    2.0              1.0              3.0        11.0   \n",
              "1196  154000.0    4.0              1.0              2.0        10.0   \n",
              "1197   95000.0    8.0              1.0              1.0        10.0   \n",
              "\n",
              "      Processor Base Frequency  Processor Max Frequency  Processor Core  \\\n",
              "0                          2.4                      4.2             4.0   \n",
              "1                          2.3                      4.6             8.0   \n",
              "2                          1.1                      2.8             2.0   \n",
              "3                          1.9                      1.9             2.0   \n",
              "4                          3.1                      3.7             2.0   \n",
              "...                        ...                      ...             ...   \n",
              "1193                       3.0                      4.1             6.0   \n",
              "1194                       3.0                      4.1            12.0   \n",
              "1195                       3.0                      4.1            12.0   \n",
              "1196                       2.6                      4.2            10.0   \n",
              "1197                       2.1                      4.2             4.0   \n",
              "\n",
              "      Processor Thread  CPU Cache   RAM  RAM Type  Storage Capacity  \\\n",
              "0                    8        8.0   8.0       1.0            1024.0   \n",
              "1                   16       24.0   8.0       1.0            1024.0   \n",
              "2                    2        4.0   4.0       3.0             256.0   \n",
              "3                    2        2.0   4.0       1.0             128.0   \n",
              "4                    2        1.0   4.0       1.0             256.0   \n",
              "...                ...        ...   ...       ...               ...   \n",
              "1193                 8        6.0   4.0       1.0             512.0   \n",
              "1194                 8        6.0   4.0       1.0               1.0   \n",
              "1195                 8        6.0   4.0       1.0               1.0   \n",
              "1196                 8       24.0  16.0       1.0               1.0   \n",
              "1197                 8       24.0   8.0       3.0             128.0   \n",
              "\n",
              "      Display Size  Graphics Memory  Battery Capacity  \n",
              "0             14.0              1.0              48.0  \n",
              "1             15.6              4.0              51.0  \n",
              "2             14.0              1.0              10.0  \n",
              "3             14.0              1.0              45.0  \n",
              "4             14.1              1.0              10.0  \n",
              "...            ...              ...               ...  \n",
              "1193          15.6              1.0              42.0  \n",
              "1194          14.0              1.0              38.0  \n",
              "1195          14.0              1.0              38.0  \n",
              "1196          15.6              1.0              37.0  \n",
              "1197          12.3              1.0              40.0  \n",
              "\n",
              "[1198 rows x 16 columns]"
            ],
            "text/html": [
              "\n",
              "  <div id=\"df-a033833a-e2df-41ac-b7b4-a1fd95a12faf\">\n",
              "    <div class=\"colab-df-container\">\n",
              "      <div>\n",
              "<style scoped>\n",
              "    .dataframe tbody tr th:only-of-type {\n",
              "        vertical-align: middle;\n",
              "    }\n",
              "\n",
              "    .dataframe tbody tr th {\n",
              "        vertical-align: top;\n",
              "    }\n",
              "\n",
              "    .dataframe thead th {\n",
              "        text-align: right;\n",
              "    }\n",
              "</style>\n",
              "<table border=\"1\" class=\"dataframe\">\n",
              "  <thead>\n",
              "    <tr style=\"text-align: right;\">\n",
              "      <th></th>\n",
              "      <th>Price</th>\n",
              "      <th>Brand</th>\n",
              "      <th>Processor Brand</th>\n",
              "      <th>Processor Model</th>\n",
              "      <th>Generation</th>\n",
              "      <th>Processor Base Frequency</th>\n",
              "      <th>Processor Max Frequency</th>\n",
              "      <th>Processor Core</th>\n",
              "      <th>Processor Thread</th>\n",
              "      <th>CPU Cache</th>\n",
              "      <th>RAM</th>\n",
              "      <th>RAM Type</th>\n",
              "      <th>Storage Capacity</th>\n",
              "      <th>Display Size</th>\n",
              "      <th>Graphics Memory</th>\n",
              "      <th>Battery Capacity</th>\n",
              "    </tr>\n",
              "  </thead>\n",
              "  <tbody>\n",
              "    <tr>\n",
              "      <th>0</th>\n",
              "      <td>70400.0</td>\n",
              "      <td>4.0</td>\n",
              "      <td>1.0</td>\n",
              "      <td>1.0</td>\n",
              "      <td>11.0</td>\n",
              "      <td>2.4</td>\n",
              "      <td>4.2</td>\n",
              "      <td>4.0</td>\n",
              "      <td>8</td>\n",
              "      <td>8.0</td>\n",
              "      <td>8.0</td>\n",
              "      <td>1.0</td>\n",
              "      <td>1024.0</td>\n",
              "      <td>14.0</td>\n",
              "      <td>1.0</td>\n",
              "      <td>48.0</td>\n",
              "    </tr>\n",
              "    <tr>\n",
              "      <th>1</th>\n",
              "      <td>129800.0</td>\n",
              "      <td>5.0</td>\n",
              "      <td>1.0</td>\n",
              "      <td>2.0</td>\n",
              "      <td>11.0</td>\n",
              "      <td>2.3</td>\n",
              "      <td>4.6</td>\n",
              "      <td>8.0</td>\n",
              "      <td>16</td>\n",
              "      <td>24.0</td>\n",
              "      <td>8.0</td>\n",
              "      <td>1.0</td>\n",
              "      <td>1024.0</td>\n",
              "      <td>15.6</td>\n",
              "      <td>4.0</td>\n",
              "      <td>51.0</td>\n",
              "    </tr>\n",
              "    <tr>\n",
              "      <th>2</th>\n",
              "      <td>29950.0</td>\n",
              "      <td>11.0</td>\n",
              "      <td>1.0</td>\n",
              "      <td>7.0</td>\n",
              "      <td>12.0</td>\n",
              "      <td>1.1</td>\n",
              "      <td>2.8</td>\n",
              "      <td>2.0</td>\n",
              "      <td>2</td>\n",
              "      <td>4.0</td>\n",
              "      <td>4.0</td>\n",
              "      <td>3.0</td>\n",
              "      <td>256.0</td>\n",
              "      <td>14.0</td>\n",
              "      <td>1.0</td>\n",
              "      <td>10.0</td>\n",
              "    </tr>\n",
              "    <tr>\n",
              "      <th>3</th>\n",
              "      <td>32010.0</td>\n",
              "      <td>9.0</td>\n",
              "      <td>1.0</td>\n",
              "      <td>7.0</td>\n",
              "      <td>10.0</td>\n",
              "      <td>1.9</td>\n",
              "      <td>1.9</td>\n",
              "      <td>2.0</td>\n",
              "      <td>2</td>\n",
              "      <td>2.0</td>\n",
              "      <td>4.0</td>\n",
              "      <td>1.0</td>\n",
              "      <td>128.0</td>\n",
              "      <td>14.0</td>\n",
              "      <td>1.0</td>\n",
              "      <td>45.0</td>\n",
              "    </tr>\n",
              "    <tr>\n",
              "      <th>4</th>\n",
              "      <td>32999.0</td>\n",
              "      <td>6.0</td>\n",
              "      <td>2.0</td>\n",
              "      <td>10.0</td>\n",
              "      <td>11.0</td>\n",
              "      <td>3.1</td>\n",
              "      <td>3.7</td>\n",
              "      <td>2.0</td>\n",
              "      <td>2</td>\n",
              "      <td>1.0</td>\n",
              "      <td>4.0</td>\n",
              "      <td>1.0</td>\n",
              "      <td>256.0</td>\n",
              "      <td>14.1</td>\n",
              "      <td>1.0</td>\n",
              "      <td>10.0</td>\n",
              "    </tr>\n",
              "    <tr>\n",
              "      <th>...</th>\n",
              "      <td>...</td>\n",
              "      <td>...</td>\n",
              "      <td>...</td>\n",
              "      <td>...</td>\n",
              "      <td>...</td>\n",
              "      <td>...</td>\n",
              "      <td>...</td>\n",
              "      <td>...</td>\n",
              "      <td>...</td>\n",
              "      <td>...</td>\n",
              "      <td>...</td>\n",
              "      <td>...</td>\n",
              "      <td>...</td>\n",
              "      <td>...</td>\n",
              "      <td>...</td>\n",
              "      <td>...</td>\n",
              "    </tr>\n",
              "    <tr>\n",
              "      <th>1193</th>\n",
              "      <td>56000.0</td>\n",
              "      <td>6.0</td>\n",
              "      <td>1.0</td>\n",
              "      <td>3.0</td>\n",
              "      <td>11.0</td>\n",
              "      <td>3.0</td>\n",
              "      <td>4.1</td>\n",
              "      <td>6.0</td>\n",
              "      <td>8</td>\n",
              "      <td>6.0</td>\n",
              "      <td>4.0</td>\n",
              "      <td>1.0</td>\n",
              "      <td>512.0</td>\n",
              "      <td>15.6</td>\n",
              "      <td>1.0</td>\n",
              "      <td>42.0</td>\n",
              "    </tr>\n",
              "    <tr>\n",
              "      <th>1194</th>\n",
              "      <td>53000.0</td>\n",
              "      <td>2.0</td>\n",
              "      <td>1.0</td>\n",
              "      <td>3.0</td>\n",
              "      <td>11.0</td>\n",
              "      <td>3.0</td>\n",
              "      <td>4.1</td>\n",
              "      <td>12.0</td>\n",
              "      <td>8</td>\n",
              "      <td>6.0</td>\n",
              "      <td>4.0</td>\n",
              "      <td>1.0</td>\n",
              "      <td>1.0</td>\n",
              "      <td>14.0</td>\n",
              "      <td>1.0</td>\n",
              "      <td>38.0</td>\n",
              "    </tr>\n",
              "    <tr>\n",
              "      <th>1195</th>\n",
              "      <td>56500.0</td>\n",
              "      <td>2.0</td>\n",
              "      <td>1.0</td>\n",
              "      <td>3.0</td>\n",
              "      <td>11.0</td>\n",
              "      <td>3.0</td>\n",
              "      <td>4.1</td>\n",
              "      <td>12.0</td>\n",
              "      <td>8</td>\n",
              "      <td>6.0</td>\n",
              "      <td>4.0</td>\n",
              "      <td>1.0</td>\n",
              "      <td>1.0</td>\n",
              "      <td>14.0</td>\n",
              "      <td>1.0</td>\n",
              "      <td>38.0</td>\n",
              "    </tr>\n",
              "    <tr>\n",
              "      <th>1196</th>\n",
              "      <td>154000.0</td>\n",
              "      <td>4.0</td>\n",
              "      <td>1.0</td>\n",
              "      <td>2.0</td>\n",
              "      <td>10.0</td>\n",
              "      <td>2.6</td>\n",
              "      <td>4.2</td>\n",
              "      <td>10.0</td>\n",
              "      <td>8</td>\n",
              "      <td>24.0</td>\n",
              "      <td>16.0</td>\n",
              "      <td>1.0</td>\n",
              "      <td>1.0</td>\n",
              "      <td>15.6</td>\n",
              "      <td>1.0</td>\n",
              "      <td>37.0</td>\n",
              "    </tr>\n",
              "    <tr>\n",
              "      <th>1197</th>\n",
              "      <td>95000.0</td>\n",
              "      <td>8.0</td>\n",
              "      <td>1.0</td>\n",
              "      <td>1.0</td>\n",
              "      <td>10.0</td>\n",
              "      <td>2.1</td>\n",
              "      <td>4.2</td>\n",
              "      <td>4.0</td>\n",
              "      <td>8</td>\n",
              "      <td>24.0</td>\n",
              "      <td>8.0</td>\n",
              "      <td>3.0</td>\n",
              "      <td>128.0</td>\n",
              "      <td>12.3</td>\n",
              "      <td>1.0</td>\n",
              "      <td>40.0</td>\n",
              "    </tr>\n",
              "  </tbody>\n",
              "</table>\n",
              "<p>1198 rows × 16 columns</p>\n",
              "</div>\n",
              "      <button class=\"colab-df-convert\" onclick=\"convertToInteractive('df-a033833a-e2df-41ac-b7b4-a1fd95a12faf')\"\n",
              "              title=\"Convert this dataframe to an interactive table.\"\n",
              "              style=\"display:none;\">\n",
              "        \n",
              "  <svg xmlns=\"http://www.w3.org/2000/svg\" height=\"24px\"viewBox=\"0 0 24 24\"\n",
              "       width=\"24px\">\n",
              "    <path d=\"M0 0h24v24H0V0z\" fill=\"none\"/>\n",
              "    <path d=\"M18.56 5.44l.94 2.06.94-2.06 2.06-.94-2.06-.94-.94-2.06-.94 2.06-2.06.94zm-11 1L8.5 8.5l.94-2.06 2.06-.94-2.06-.94L8.5 2.5l-.94 2.06-2.06.94zm10 10l.94 2.06.94-2.06 2.06-.94-2.06-.94-.94-2.06-.94 2.06-2.06.94z\"/><path d=\"M17.41 7.96l-1.37-1.37c-.4-.4-.92-.59-1.43-.59-.52 0-1.04.2-1.43.59L10.3 9.45l-7.72 7.72c-.78.78-.78 2.05 0 2.83L4 21.41c.39.39.9.59 1.41.59.51 0 1.02-.2 1.41-.59l7.78-7.78 2.81-2.81c.8-.78.8-2.07 0-2.86zM5.41 20L4 18.59l7.72-7.72 1.47 1.35L5.41 20z\"/>\n",
              "  </svg>\n",
              "      </button>\n",
              "      \n",
              "  <style>\n",
              "    .colab-df-container {\n",
              "      display:flex;\n",
              "      flex-wrap:wrap;\n",
              "      gap: 12px;\n",
              "    }\n",
              "\n",
              "    .colab-df-convert {\n",
              "      background-color: #E8F0FE;\n",
              "      border: none;\n",
              "      border-radius: 50%;\n",
              "      cursor: pointer;\n",
              "      display: none;\n",
              "      fill: #1967D2;\n",
              "      height: 32px;\n",
              "      padding: 0 0 0 0;\n",
              "      width: 32px;\n",
              "    }\n",
              "\n",
              "    .colab-df-convert:hover {\n",
              "      background-color: #E2EBFA;\n",
              "      box-shadow: 0px 1px 2px rgba(60, 64, 67, 0.3), 0px 1px 3px 1px rgba(60, 64, 67, 0.15);\n",
              "      fill: #174EA6;\n",
              "    }\n",
              "\n",
              "    [theme=dark] .colab-df-convert {\n",
              "      background-color: #3B4455;\n",
              "      fill: #D2E3FC;\n",
              "    }\n",
              "\n",
              "    [theme=dark] .colab-df-convert:hover {\n",
              "      background-color: #434B5C;\n",
              "      box-shadow: 0px 1px 3px 1px rgba(0, 0, 0, 0.15);\n",
              "      filter: drop-shadow(0px 1px 2px rgba(0, 0, 0, 0.3));\n",
              "      fill: #FFFFFF;\n",
              "    }\n",
              "  </style>\n",
              "\n",
              "      <script>\n",
              "        const buttonEl =\n",
              "          document.querySelector('#df-a033833a-e2df-41ac-b7b4-a1fd95a12faf button.colab-df-convert');\n",
              "        buttonEl.style.display =\n",
              "          google.colab.kernel.accessAllowed ? 'block' : 'none';\n",
              "\n",
              "        async function convertToInteractive(key) {\n",
              "          const element = document.querySelector('#df-a033833a-e2df-41ac-b7b4-a1fd95a12faf');\n",
              "          const dataTable =\n",
              "            await google.colab.kernel.invokeFunction('convertToInteractive',\n",
              "                                                     [key], {});\n",
              "          if (!dataTable) return;\n",
              "\n",
              "          const docLinkHtml = 'Like what you see? Visit the ' +\n",
              "            '<a target=\"_blank\" href=https://colab.research.google.com/notebooks/data_table.ipynb>data table notebook</a>'\n",
              "            + ' to learn more about interactive tables.';\n",
              "          element.innerHTML = '';\n",
              "          dataTable['output_type'] = 'display_data';\n",
              "          await google.colab.output.renderOutput(dataTable, element);\n",
              "          const docLink = document.createElement('div');\n",
              "          docLink.innerHTML = docLinkHtml;\n",
              "          element.appendChild(docLink);\n",
              "        }\n",
              "      </script>\n",
              "    </div>\n",
              "  </div>\n",
              "  "
            ]
          },
          "metadata": {},
          "execution_count": 7
        }
      ]
    },
    {
      "cell_type": "code",
      "source": [
        "import pandas as pd\n",
        "from sklearn.model_selection import train_test_split\n",
        "from sklearn.tree import DecisionTreeRegressor\n",
        "from sklearn.metrics import mean_squared_error, mean_absolute_error, r2_score\n",
        "\n",
        "# Load your preprocessed dataset\n",
        "\n",
        "# Select features and target variable\n",
        "X = data.drop('Price', axis=1)  # Features (all columns except the target variable)\n",
        "y = data['Price']  # Target variable (price)\n",
        "\n",
        "# Split the dataset into training and testing sets\n",
        "X_train, X_test, y_train, y_test = train_test_split(X, y, test_size=0.2, random_state=42)\n",
        "\n",
        "# Create a Decision Tree regressor\n",
        "model = DecisionTreeRegressor(random_state=42)\n",
        "\n",
        "# Train the model\n",
        "model.fit(X_train, y_train)\n",
        "\n",
        "# Make predictions on the testing set\n",
        "y_pred = model.predict(X_test)\n",
        "\n",
        "# Evaluate the model\n",
        "mse = mean_squared_error(y_test, y_pred)\n",
        "mae = mean_absolute_error(y_test, y_pred)\n",
        "r2 = r2_score(y_test, y_pred)\n",
        "\n",
        "print(\"Mean Squared Error:\", mse)\n",
        "print(\"Mean Absolute Error:\", mae)\n",
        "print(\"R-squared:\", r2)\n",
        "\n"
      ],
      "metadata": {
        "colab": {
          "base_uri": "https://localhost:8080/"
        },
        "id": "13pLUa-0jsCN",
        "outputId": "4334b861-f066-465a-9960-4d7d9006b3ca"
      },
      "execution_count": 8,
      "outputs": [
        {
          "output_type": "stream",
          "name": "stdout",
          "text": [
            "Mean Squared Error: 4880084848.644929\n",
            "Mean Absolute Error: 25289.69496527778\n",
            "R-squared: 0.459881938985122\n"
          ]
        }
      ]
    },
    {
      "cell_type": "code",
      "source": [
        "import numpy as np\n",
        "import pandas as pd\n",
        "from sklearn.linear_model import LinearRegression\n",
        "from sklearn.model_selection import GridSearchCV\n",
        "from sklearn.metrics import mean_squared_error\n",
        "\n",
        "# Load the dataset\n",
        "  # Replace 'laptop_prices.csv' with your actual dataset file name\n",
        "\n",
        "# Extract the features (independent variables) and target variable (dependent variable)\n",
        "X = data[['Brand', 'Processor Brand','Processor Model','Generation','RAM','RAM Type','Storage Capacity','Battery Capacity']]  # Replace 'feature1', 'feature2', ... with the actual feature column names\n",
        "y = data['Price']  # Replace 'price' with the actual target variable column name\n",
        "\n",
        "# Define the hyperparameters to tune and their potential values\n",
        "hyperparameters = {\n",
        "    'fit_intercept': [True, False],\n",
        "    # Add more hyperparameters and their potential values as needed\n",
        "}\n",
        "\n",
        "# Create an instance of the Linear Regression model\n",
        "model = LinearRegression()\n",
        "\n",
        "# Create GridSearchCV object with the model and hyperparameters\n",
        "grid_search = GridSearchCV(model, hyperparameters, scoring='neg_mean_squared_error', cv=5)\n",
        "\n",
        "# Fit the GridSearchCV object to the data\n",
        "grid_search.fit(X, y)\n",
        "\n",
        "# Get the best hyperparameters and model\n",
        "best_hyperparameters = grid_search.best_params_\n",
        "best_model = grid_search.best_estimator_\n",
        "\n",
        "# Print the best hyperparameters\n",
        "print(\"Best Hyperparameters:\", best_hyperparameters)\n",
        "\n",
        "# Evaluate the best model using mean squared error (MSE)\n",
        "predicted_values = best_model.predict(X)\n",
        "mse = mean_squared_error(y, predicted_values)\n",
        "print(\"Mean Squared Error:\", mse)\n"
      ],
      "metadata": {
        "colab": {
          "base_uri": "https://localhost:8080/"
        },
        "id": "ZRO5AnRijwkb",
        "outputId": "7d40c366-f971-4820-9241-aab4cd00200d"
      },
      "execution_count": 9,
      "outputs": [
        {
          "output_type": "stream",
          "name": "stdout",
          "text": [
            "Best Hyperparameters: {'fit_intercept': True}\n",
            "Mean Squared Error: 3354029507.267367\n"
          ]
        }
      ]
    },
    {
      "cell_type": "code",
      "source": [
        "import numpy as np\n",
        "import pandas as pd\n",
        "from sklearn.linear_model import LinearRegression\n",
        "from sklearn.model_selection import train_test_split\n",
        "from sklearn.preprocessing import StandardScaler\n",
        "from sklearn.metrics import mean_squared_error\n",
        "\n",
        "# Load the dataset\n",
        " # Replace 'laptop_prices.csv' with your actual dataset file name\n",
        "\n",
        "# Extract the features (independent variables) and target variable (dependent variable)\n",
        " # Replace 'feature1', 'feature2', ... with the actual feature column names\n",
        "X = data[['Brand', 'Processor Brand','Processor Model','Generation','RAM','RAM Type','Storage Capacity','Battery Capacity']] \n",
        "y = data['Price']  # Replace 'price' with the actual target variable column name\n",
        "\n",
        "# Split the dataset into training and testing sets\n",
        "X_train, X_test, y_train, y_test = train_test_split(X, y, test_size=0.2, random_state=42)\n",
        "\n",
        "# Create an instance of the StandardScaler\n",
        "scaler = StandardScaler()\n",
        "\n",
        "# Fit the scaler to the training data and transform the training data\n",
        "X_train_scaled = scaler.fit_transform(X_train)\n",
        "\n",
        "# Transform the testing data using the scaler fitted on the training data\n",
        "X_test_scaled = scaler.transform(X_test)\n",
        "\n",
        "# Create an instance of the Linear Regression model\n",
        "model = LinearRegression()\n",
        "\n",
        "# Train the model on the scaled training data\n",
        "model.fit(X_train_scaled, y_train)\n",
        "\n",
        "# Make predictions on the scaled testing data\n",
        "predictions = model.predict(X_test_scaled)\n",
        "\n",
        "# Calculate the mean squared error (MSE)\n",
        "mse = mean_squared_error(y_test, predictions)\n",
        "print(\"Mean Squared Error:\", mse)\n"
      ],
      "metadata": {
        "colab": {
          "base_uri": "https://localhost:8080/"
        },
        "id": "IDPkx9C6khO5",
        "outputId": "0b39378f-b384-48df-92ab-e213f16198d2"
      },
      "execution_count": 10,
      "outputs": [
        {
          "output_type": "stream",
          "name": "stdout",
          "text": [
            "Mean Squared Error: 4061083756.520518\n"
          ]
        }
      ]
    },
    {
      "cell_type": "code",
      "source": [
        "data.columns"
      ],
      "metadata": {
        "colab": {
          "base_uri": "https://localhost:8080/"
        },
        "id": "DOhagxS1l5VJ",
        "outputId": "2e233524-3b6d-45d5-c5e0-57c89311726e"
      },
      "execution_count": 11,
      "outputs": [
        {
          "output_type": "execute_result",
          "data": {
            "text/plain": [
              "Index(['Price', 'Brand', 'Processor Brand', 'Processor Model', 'Generation',\n",
              "       'Processor Base Frequency', 'Processor Max Frequency', 'Processor Core',\n",
              "       'Processor Thread', 'CPU Cache', 'RAM', 'RAM Type', 'Storage Capacity',\n",
              "       'Display Size', 'Graphics Memory', 'Battery Capacity'],\n",
              "      dtype='object')"
            ]
          },
          "metadata": {},
          "execution_count": 11
        }
      ]
    },
    {
      "cell_type": "code",
      "source": [
        "df = data"
      ],
      "metadata": {
        "id": "PS3hvKInbBQ9"
      },
      "execution_count": 12,
      "outputs": []
    },
    {
      "cell_type": "code",
      "source": [
        "data['Storage Capacity'].value_counts()"
      ],
      "metadata": {
        "colab": {
          "base_uri": "https://localhost:8080/"
        },
        "id": "G2ws-emSbEDn",
        "outputId": "980498d6-3d77-48ae-fa49-610b3e994262"
      },
      "execution_count": 75,
      "outputs": [
        {
          "output_type": "execute_result",
          "data": {
            "text/plain": [
              "3.0       983\n",
              "5.0       128\n",
              "1.0        51\n",
              "128.0       9\n",
              "2.0         9\n",
              "2048.0      8\n",
              "16.0        7\n",
              "4096.0      2\n",
              "64.0        1\n",
              "Name: Storage Capacity, dtype: int64"
            ]
          },
          "metadata": {},
          "execution_count": 75
        }
      ]
    },
    {
      "cell_type": "code",
      "source": [
        "df['Storage Capacity'].replace(.0,3,inplace=True)"
      ],
      "metadata": {
        "id": "1ARriesMbIGl"
      },
      "execution_count": 74,
      "outputs": []
    },
    {
      "cell_type": "code",
      "source": [
        "df['Processor Core'].replace(16.0,7,inplace=True)"
      ],
      "metadata": {
        "id": "GrgkPprobhFk"
      },
      "execution_count": 29,
      "outputs": []
    },
    {
      "cell_type": "code",
      "source": [
        "df = df.drop('Storage Capacity', axis=1)"
      ],
      "metadata": {
        "id": "qmv0VMnsblqo"
      },
      "execution_count": 76,
      "outputs": []
    },
    {
      "cell_type": "code",
      "source": [
        "df.columns"
      ],
      "metadata": {
        "colab": {
          "base_uri": "https://localhost:8080/"
        },
        "id": "ED4cfvEUeWMN",
        "outputId": "095ea280-a4dc-49a6-9ec1-7c946cee2d22"
      },
      "execution_count": 77,
      "outputs": [
        {
          "output_type": "execute_result",
          "data": {
            "text/plain": [
              "Index(['Price', 'Brand', 'Processor Brand', 'Processor Model', 'Generation',\n",
              "       'Processor Base Frequency', 'Processor Max Frequency', 'Processor Core',\n",
              "       'Processor Thread', 'CPU Cache', 'RAM', 'RAM Type', 'Display Size',\n",
              "       'Graphics Memory', 'Battery Capacity'],\n",
              "      dtype='object')"
            ]
          },
          "metadata": {},
          "execution_count": 77
        }
      ]
    },
    {
      "cell_type": "code",
      "source": [
        "df['Graphics Memory'].value_counts()"
      ],
      "metadata": {
        "colab": {
          "base_uri": "https://localhost:8080/"
        },
        "id": "58SwgKOpeXpQ",
        "outputId": "7709f508-71ab-43da-a529-b284f50d54a9"
      },
      "execution_count": 82,
      "outputs": [
        {
          "output_type": "execute_result",
          "data": {
            "text/plain": [
              "1.0     863\n",
              "4.0     147\n",
              "2.0      87\n",
              "3.0      66\n",
              "8.0      28\n",
              "16.0      7\n",
              "Name: Graphics Memory, dtype: int64"
            ]
          },
          "metadata": {},
          "execution_count": 82
        }
      ]
    },
    {
      "cell_type": "code",
      "source": [
        "df['Graphics Memory'].replace(16.0,5,inplace=True)"
      ],
      "metadata": {
        "id": "BI4VTkf_ecKt"
      },
      "execution_count": 84,
      "outputs": []
    },
    {
      "cell_type": "code",
      "source": [
        "df['Battery Capacity'].value_counts()"
      ],
      "metadata": {
        "colab": {
          "base_uri": "https://localhost:8080/"
        },
        "id": "BySp1EdWepzU",
        "outputId": "728b2566-55c3-4426-bc16-515474498298"
      },
      "execution_count": 85,
      "outputs": [
        {
          "output_type": "execute_result",
          "data": {
            "text/plain": [
              "42.0     165\n",
              "37.0     135\n",
              "45.0     108\n",
              "41.0      96\n",
              "48.0      56\n",
              "50.0      54\n",
              "90.0      46\n",
              "52.0      38\n",
              "76.0      35\n",
              "36.0      35\n",
              "56.0      33\n",
              "38.0      29\n",
              "70.0      29\n",
              "40.0      29\n",
              "63.0      28\n",
              "53.0      24\n",
              "10.0      21\n",
              "54.0      20\n",
              "57.0      18\n",
              "99.0      16\n",
              "80.0      14\n",
              "75.0      12\n",
              "49.0      11\n",
              "39.0      11\n",
              "51.0      11\n",
              "66.0      10\n",
              "35.0      10\n",
              "47.0      10\n",
              "86.0       9\n",
              "58.0       9\n",
              "96.0       8\n",
              "31.0       7\n",
              "67.0       7\n",
              "65.0       7\n",
              "62.0       5\n",
              "71.0       5\n",
              "60.0       4\n",
              "52.5       3\n",
              "20.0       3\n",
              "33.0       3\n",
              "97.0       2\n",
              "64.0       2\n",
              "61.0       2\n",
              "100.0      2\n",
              "82.0       2\n",
              "43.0       2\n",
              "88.0       2\n",
              "59.0       2\n",
              "83.0       1\n",
              "74.0       1\n",
              "44.0       1\n",
              "81.0       1\n",
              "49.9       1\n",
              "14.0       1\n",
              "55.0       1\n",
              "3.0        1\n",
              "Name: Battery Capacity, dtype: int64"
            ]
          },
          "metadata": {},
          "execution_count": 85
        }
      ]
    },
    {
      "cell_type": "code",
      "source": [
        "df.to_csv('sec_data.csv', index=False)"
      ],
      "metadata": {
        "id": "xKkuVHhde49q"
      },
      "execution_count": 89,
      "outputs": []
    },
    {
      "cell_type": "code",
      "source": [
        "from sklearn.ensemble import RandomForestRegressor\n",
        "from sklearn.metrics import mean_squared_error, mean_absolute_error, r2_score\n",
        "from sklearn.model_selection import train_test_split\n",
        "from sklearn.preprocessing import StandardScaler\n",
        "\n",
        "# Assume X and y are your feature matrix and target variable respectively\n",
        "# Update X and y with the relevant data from your dataset\n",
        "\n",
        "# Split the data into train and test sets\n",
        "X_train, X_test, y_train, y_test = train_test_split(X, y, test_size=0.2, random_state=42)\n",
        "\n",
        "# Apply feature scaling to the data\n",
        "scaler = StandardScaler()\n",
        "X_train_scaled = scaler.fit_transform(X_train)\n",
        "X_test_scaled = scaler.transform(X_test)\n",
        "\n",
        "# Instantiate the Random Forest model with desired parameters\n",
        "random_forest = RandomForestRegressor(n_estimators=100, random_state=42)  # Specify the number of estimators\n",
        "\n",
        "# Fit the model to the training data\n",
        "random_forest.fit(X_train_scaled, y_train)\n",
        "\n",
        "# Make predictions on the test data\n",
        "y_pred = random_forest.predict(X_test_scaled)\n",
        "\n",
        "# Evaluate the model\n",
        "mse = mean_squared_error(y_test, y_pred)\n",
        "mae = mean_absolute_error(y_test, y_pred)\n",
        "r2 = r2_score(y_test, y_pred)\n",
        "\n",
        "# Print the evaluation metrics\n",
        "print(\"Mean Squared Error:\", mse)\n",
        "print(\"Mean Absolute Error:\", mae)\n",
        "print(\"R-squared:\", r2)\n"
      ],
      "metadata": {
        "colab": {
          "base_uri": "https://localhost:8080/"
        },
        "id": "JfgCsnucfV4H",
        "outputId": "aa0514bf-d127-4800-8276-a451de7f77b2"
      },
      "execution_count": 90,
      "outputs": [
        {
          "output_type": "stream",
          "name": "stdout",
          "text": [
            "Mean Squared Error: 2389809449.6939445\n",
            "Mean Absolute Error: 19896.63858068296\n",
            "R-squared: 0.7355006549687059\n"
          ]
        }
      ]
    },
    {
      "cell_type": "code",
      "source": [
        "from sklearn.ensemble import RandomForestRegressor\n",
        "from sklearn.metrics import mean_squared_error, mean_absolute_error, r2_score\n",
        "from sklearn.model_selection import train_test_split\n",
        "from sklearn.preprocessing import StandardScaler\n",
        "from sklearn.ensemble import VotingRegressor\n",
        "\n",
        "# Assume X and y are your feature matrix and target variable respectively\n",
        "# Update X and y with the relevant data from your dataset\n",
        "\n",
        "# Split the data into train and test sets\n",
        "X_train, X_test, y_train, y_test = train_test_split(X, y, test_size=0.2, random_state=42)\n",
        "\n",
        "# Apply feature scaling to the data\n",
        "scaler = StandardScaler()\n",
        "X_train_scaled = scaler.fit_transform(X_train)\n",
        "X_test_scaled = scaler.transform(X_test)\n",
        "\n",
        "# Instantiate three Random Forest models with different configurations\n",
        "model1 = RandomForestRegressor(n_estimators=500, random_state=42)\n",
        "model2 = RandomForestRegressor(n_estimators=200, random_state=42)\n",
        "model3 = RandomForestRegressor(n_estimators=300, random_state=42)\n",
        "\n",
        "# Create an ensemble of the three models\n",
        "ensemble = VotingRegressor(estimators=[('model1', model1), ('model2', model2), ('model3', model3)])\n",
        "\n",
        "# Fit the ensemble model to the training data\n",
        "ensemble.fit(X_train_scaled, y_train)\n",
        "\n",
        "# Make predictions on the test data\n",
        "y_pred = ensemble.predict(X_test_scaled)\n",
        "\n",
        "# Evaluate the model\n",
        "mse = mean_squared_error(y_test, y_pred)\n",
        "mae = mean_absolute_error(y_test, y_pred)\n",
        "r2 = r2_score(y_test, y_pred)\n",
        "\n",
        "# Print the evaluation metrics\n",
        "print(\"Mean Squared Error:\", mse)\n",
        "print(\"Mean Absolute Error:\", mae)\n",
        "print(\"R-squared:\", r2)\n"
      ],
      "metadata": {
        "colab": {
          "base_uri": "https://localhost:8080/"
        },
        "id": "R8N9uAdGf_ui",
        "outputId": "5f849d1e-707e-421f-ed04-849b37409806"
      },
      "execution_count": 92,
      "outputs": [
        {
          "output_type": "stream",
          "name": "stdout",
          "text": [
            "Mean Squared Error: 2378054549.1714587\n",
            "Mean Absolute Error: 19712.490636601167\n",
            "R-squared: 0.7368016639213248\n"
          ]
        }
      ]
    },
    {
      "cell_type": "code",
      "source": [
        "from sklearn.tree import DecisionTreeRegressor\n",
        "from sklearn.metrics import mean_squared_error, mean_absolute_error, r2_score\n",
        "from sklearn.model_selection import train_test_split\n",
        "from sklearn.preprocessing import StandardScaler\n",
        "\n",
        "# Assume X and y are your feature matrix and target variable respectively\n",
        "# Update X and y with the relevant data from your dataset\n",
        "\n",
        "# Split the data into train and test sets\n",
        "X_train, X_test, y_train, y_test = train_test_split(X, y, test_size=0.2, random_state=42)\n",
        "\n",
        "# Apply feature scaling to the data\n",
        "scaler = StandardScaler()\n",
        "X_train_scaled = scaler.fit_transform(X_train)\n",
        "X_test_scaled = scaler.transform(X_test)\n",
        "\n",
        "# Instantiate the Decision Tree model\n",
        "model = DecisionTreeRegressor(random_state=42)\n",
        "\n",
        "# Fit the model to the training data\n",
        "model.fit(X_train_scaled, y_train)\n",
        "\n",
        "# Make predictions on the test data\n",
        "y_pred = model.predict(X_test_scaled)\n",
        "\n",
        "# Evaluate the model\n",
        "mse = mean_squared_error(y_test, y_pred)\n",
        "mae = mean_absolute_error(y_test, y_pred)\n",
        "r2 = r2_score(y_test, y_pred)\n",
        "\n",
        "# Print the evaluation metrics\n",
        "print(\"Mean Squared Error:\", mse)\n",
        "print(\"Mean Absolute Error:\", mae)\n",
        "print(\"R-squared:\", r2)\n"
      ],
      "metadata": {
        "colab": {
          "base_uri": "https://localhost:8080/"
        },
        "id": "6CsKCw-3g7gu",
        "outputId": "fd7bd556-eb15-4a26-c25c-5fda4429d6b2"
      },
      "execution_count": 93,
      "outputs": [
        {
          "output_type": "stream",
          "name": "stdout",
          "text": [
            "Mean Squared Error: 3288644016.6059656\n",
            "Mean Absolute Error: 21469.28444157268\n",
            "R-squared: 0.6360194372213397\n"
          ]
        }
      ]
    },
    {
      "cell_type": "code",
      "source": [
        "from sklearn.svm import SVR\n",
        "from sklearn.metrics import mean_squared_error, mean_absolute_error, r2_score\n",
        "from sklearn.model_selection import train_test_split\n",
        "from sklearn.preprocessing import StandardScaler\n",
        "\n",
        "# Assume X and y are your feature matrix and target variable respectively\n",
        "# Update X and y with the relevant data from your dataset\n",
        "\n",
        "# Split the data into train and test sets\n",
        "X_train, X_test, y_train, y_test = train_test_split(X, y, test_size=0.2, random_state=42)\n",
        "\n",
        "# Apply feature scaling to the data\n",
        "scaler = StandardScaler()\n",
        "X_train_scaled = scaler.fit_transform(X_train)\n",
        "X_test_scaled = scaler.transform(X_test)\n",
        "\n",
        "# Instantiate the SVM model\n",
        "model = SVR()\n",
        "\n",
        "# Fit the model to the training data\n",
        "model.fit(X_train_scaled, y_train)\n",
        "\n",
        "# Make predictions on the test data\n",
        "y_pred = model.predict(X_test_scaled)\n",
        "\n",
        "# Evaluate the model\n",
        "mse = mean_squared_error(y_test, y_pred)\n",
        "mae = mean_absolute_error(y_test, y_pred)\n",
        "r2 = r2_score(y_test, y_pred)\n",
        "\n",
        "# Print the evaluation metrics\n",
        "print(\"Mean Squared Error:\", mse)\n",
        "print(\"Mean Absolute Error:\", mae)\n",
        "print(\"R-squared:\", r2)\n"
      ],
      "metadata": {
        "colab": {
          "base_uri": "https://localhost:8080/"
        },
        "id": "PO4L8cwHhQEn",
        "outputId": "88a9e979-6648-4f79-c322-5f17343f0e36"
      },
      "execution_count": 94,
      "outputs": [
        {
          "output_type": "stream",
          "name": "stdout",
          "text": [
            "Mean Squared Error: 10344677885.784487\n",
            "Mean Absolute Error: 61633.42765831367\n",
            "R-squared: -0.14492832292554603\n"
          ]
        }
      ]
    },
    {
      "cell_type": "code",
      "source": [
        "from sklearn.neighbors import KNeighborsRegressor\n",
        "from sklearn.metrics import mean_squared_error, mean_absolute_error, r2_score\n",
        "from sklearn.model_selection import train_test_split\n",
        "from sklearn.preprocessing import StandardScaler\n",
        "\n",
        "# Assume X and y are your feature matrix and target variable respectively\n",
        "# Update X and y with the relevant data from your dataset\n",
        "\n",
        "# Split the data into train and test sets\n",
        "X_train, X_test, y_train, y_test = train_test_split(X, y, test_size=0.2, random_state=42)\n",
        "\n",
        "# Apply feature scaling to the data\n",
        "scaler = StandardScaler()\n",
        "X_train_scaled = scaler.fit_transform(X_train)\n",
        "X_test_scaled = scaler.transform(X_test)\n",
        "\n",
        "# Instantiate the KNN model\n",
        "model = KNeighborsRegressor(n_neighbors=5)\n",
        "\n",
        "# Fit the model to the training data\n",
        "model.fit(X_train_scaled, y_train)\n",
        "\n",
        "# Make predictions on the test data\n",
        "y_pred = model.predict(X_test_scaled)\n",
        "\n",
        "# Evaluate the model\n",
        "mse = mean_squared_error(y_test, y_pred)\n",
        "mae = mean_absolute_error(y_test, y_pred)\n",
        "r2 = r2_score(y_test, y_pred)\n",
        "\n",
        "# Print the evaluation metrics\n",
        "print(\"Mean Squared Error:\", mse)\n",
        "print(\"Mean Absolute Error:\", mae)\n",
        "print(\"R-squared:\", r2)\n"
      ],
      "metadata": {
        "colab": {
          "base_uri": "https://localhost:8080/"
        },
        "id": "p6akgzC4hcHN",
        "outputId": "99fee1ba-6786-447a-8ed9-87d9e9be8f53"
      },
      "execution_count": 95,
      "outputs": [
        {
          "output_type": "stream",
          "name": "stdout",
          "text": [
            "Mean Squared Error: 3000011808.919833\n",
            "Mean Absolute Error: 25758.229166666668\n",
            "R-squared: 0.6679646744860495\n"
          ]
        }
      ]
    },
    {
      "cell_type": "code",
      "source": [
        "from sklearn.ensemble import GradientBoostingRegressor\n",
        "from sklearn.metrics import mean_squared_error, mean_absolute_error, r2_score\n",
        "from sklearn.model_selection import train_test_split\n",
        "from sklearn.preprocessing import StandardScaler\n",
        "\n",
        "# Assume X and y are your feature matrix and target variable respectively\n",
        "# Update X and y with the relevant data from your dataset\n",
        "\n",
        "# Split the data into train and test sets\n",
        "X_train, X_test, y_train, y_test = train_test_split(X, y, test_size=0.2, random_state=42)\n",
        "\n",
        "# Apply feature scaling to the data\n",
        "scaler = StandardScaler()\n",
        "X_train_scaled = scaler.fit_transform(X_train)\n",
        "X_test_scaled = scaler.transform(X_test)\n",
        "\n",
        "# Instantiate the Gradient Boosting model\n",
        "model = GradientBoostingRegressor(n_estimators=100, learning_rate=0.1, random_state=42)\n",
        "\n",
        "# Fit the model to the training data\n",
        "model.fit(X_train_scaled, y_train)\n",
        "\n",
        "# Make predictions on the test data\n",
        "y_pred = model.predict(X_test_scaled)\n",
        "\n",
        "# Evaluate the model\n",
        "mse = mean_squared_error(y_test, y_pred)\n",
        "mae = mean_absolute_error(y_test, y_pred)\n",
        "r2 = r2_score(y_test, y_pred)\n",
        "\n",
        "# Print the evaluation metrics\n",
        "print(\"Mean Squared Error:\", mse)\n",
        "print(\"Mean Absolute Error:\", mae)\n",
        "print(\"R-squared:\", r2)\n"
      ],
      "metadata": {
        "colab": {
          "base_uri": "https://localhost:8080/"
        },
        "id": "tPW5EbbVhnsH",
        "outputId": "775828f0-4419-4937-fefb-af70710fd2fe"
      },
      "execution_count": 96,
      "outputs": [
        {
          "output_type": "stream",
          "name": "stdout",
          "text": [
            "Mean Squared Error: 2284680434.780859\n",
            "Mean Absolute Error: 21451.078239212457\n",
            "R-squared: 0.7471361247304718\n"
          ]
        }
      ]
    },
    {
      "cell_type": "code",
      "source": [
        "from sklearn.svm import SVR\n",
        "from sklearn.metrics import mean_squared_error, mean_absolute_error, r2_score\n",
        "from sklearn.model_selection import train_test_split\n",
        "from sklearn.preprocessing import StandardScaler\n",
        "\n",
        "# Assume X and y are your feature matrix and target variable respectively\n",
        "# Update X and y with the relevant data from your dataset\n",
        "\n",
        "# Split the data into train and test sets\n",
        "X_train, X_test, y_train, y_test = train_test_split(X, y, test_size=0.2, random_state=42)\n",
        "\n",
        "# Apply feature scaling to the data\n",
        "scaler = StandardScaler()\n",
        "X_train_scaled = scaler.fit_transform(X_train)\n",
        "X_test_scaled = scaler.transform(X_test)\n",
        "\n",
        "# Instantiate the SVR model\n",
        "model = SVR(kernel='rbf')\n",
        "\n",
        "# Fit the model to the training data\n",
        "model.fit(X_train_scaled, y_train)\n",
        "\n",
        "# Make predictions on the test data\n",
        "y_pred = model.predict(X_test_scaled)\n",
        "\n",
        "# Evaluate the model\n",
        "mse = mean_squared_error(y_test, y_pred)\n",
        "mae = mean_absolute_error(y_test, y_pred)\n",
        "r2 = r2_score(y_test, y_pred)\n",
        "\n",
        "# Print the evaluation metrics\n",
        "print(\"Mean Squared Error:\", mse)\n",
        "print(\"Mean Absolute Error:\", mae)\n",
        "print(\"R-squared:\", r2)\n"
      ],
      "metadata": {
        "colab": {
          "base_uri": "https://localhost:8080/"
        },
        "id": "IVnZugPHhw_m",
        "outputId": "ddb1db27-f792-442f-aed4-02df8c24762c"
      },
      "execution_count": 97,
      "outputs": [
        {
          "output_type": "stream",
          "name": "stdout",
          "text": [
            "Mean Squared Error: 10344677885.784487\n",
            "Mean Absolute Error: 61633.42765831367\n",
            "R-squared: -0.14492832292554603\n"
          ]
        }
      ]
    },
    {
      "cell_type": "code",
      "source": [
        "from sklearn.tree import DecisionTreeRegressor\n",
        "from sklearn.ensemble import RandomForestRegressor\n",
        "from sklearn.metrics import mean_squared_error, mean_absolute_error, r2_score\n",
        "\n",
        "# Define the decision tree model\n",
        "decision_tree_model = DecisionTreeRegressor()\n",
        "\n",
        "# Define the random forest models\n",
        "random_forest_model_1 = RandomForestRegressor(n_estimators=100)\n",
        "random_forest_model_2 = RandomForestRegressor(n_estimators=200)\n",
        "\n",
        "# Fit the models on the training data\n",
        "decision_tree_model.fit(X_train, y_train)\n",
        "random_forest_model_1.fit(X_train, y_train)\n",
        "random_forest_model_2.fit(X_train, y_train)\n",
        "\n",
        "# Make predictions on the test data\n",
        "decision_tree_predictions = decision_tree_model.predict(X_test)\n",
        "random_forest_predictions_1 = random_forest_model_1.predict(X_test)\n",
        "random_forest_predictions_2 = random_forest_model_2.predict(X_test)\n",
        "\n",
        "# Combine the predictions using averaging\n",
        "ensemble_predictions = (decision_tree_predictions + random_forest_predictions_1 + random_forest_predictions_2) / 3\n",
        "\n",
        "# Evaluate the ensemble model\n",
        "mse = mean_squared_error(y_test, ensemble_predictions)\n",
        "mae = mean_absolute_error(y_test, ensemble_predictions)\n",
        "r2 = r2_score(y_test, ensemble_predictions)\n",
        "\n",
        "# Print the evaluation metrics\n",
        "print(\"Mean Squared Error:\", mse)\n",
        "print(\"Mean Absolute Error:\", mae)\n",
        "print(\"R-squared:\", r2)\n"
      ],
      "metadata": {
        "colab": {
          "base_uri": "https://localhost:8080/"
        },
        "id": "p2NdbfqmiIdE",
        "outputId": "21d5a9e7-215e-4261-f4f7-c4562191f063"
      },
      "execution_count": 99,
      "outputs": [
        {
          "output_type": "stream",
          "name": "stdout",
          "text": [
            "Mean Squared Error: 2562537139.763676\n",
            "Mean Absolute Error: 19830.39828162436\n",
            "R-squared: 0.7163834986205027\n"
          ]
        }
      ]
    },
    {
      "cell_type": "code",
      "source": [
        "from sklearn.ensemble import RandomForestRegressor\n",
        "from sklearn.tree import DecisionTreeRegressor\n",
        "from sklearn.metrics import mean_squared_error, mean_absolute_error, r2_score\n",
        "\n",
        "# Create two decision tree models\n",
        "tree_model1 = DecisionTreeRegressor(random_state=42)\n",
        "tree_model2 = DecisionTreeRegressor(random_state=42)\n",
        "\n",
        "# Create two random forest models\n",
        "rf_model1 = RandomForestRegressor(random_state=42)\n",
        "rf_model2 = RandomForestRegressor(random_state=42)\n",
        "\n",
        "# Train the decision tree models\n",
        "tree_model1.fit(X_train, y_train)\n",
        "tree_model2.fit(X_train, y_train)\n",
        "\n",
        "# Train the random forest models\n",
        "rf_model1.fit(X_train, y_train)\n",
        "rf_model2.fit(X_train, y_train)\n",
        "\n",
        "# Make predictions using each model\n",
        "tree_preds1 = tree_model1.predict(X_test)\n",
        "tree_preds2 = tree_model2.predict(X_test)\n",
        "rf_preds1 = rf_model1.predict(X_test)\n",
        "rf_preds2 = rf_model2.predict(X_test)\n",
        "\n",
        "# Combine the predictions from each model\n",
        "ensemble_preds = (tree_preds1 + tree_preds2 + rf_preds1 + rf_preds2) / 4\n",
        "\n",
        "# Evaluate the ensemble model\n",
        "mse = mean_squared_error(y_test, ensemble_preds)\n",
        "mae = mean_absolute_error(y_test, ensemble_preds)\n",
        "r2 = r2_score(y_test, ensemble_preds)\n",
        "\n",
        "# Print the evaluation metrics\n",
        "print(\"Mean Squared Error:\", mse)\n",
        "print(\"Mean Absolute Error:\", mae)\n",
        "print(\"R-squared:\", r2)\n"
      ],
      "metadata": {
        "colab": {
          "base_uri": "https://localhost:8080/"
        },
        "id": "Kd3Afn79iwjs",
        "outputId": "badea2cd-03ce-4288-9bb2-bb36c51b6b61"
      },
      "execution_count": 100,
      "outputs": [
        {
          "output_type": "stream",
          "name": "stdout",
          "text": [
            "Mean Squared Error: 2702432150.142732\n",
            "Mean Absolute Error: 20359.34881702317\n",
            "R-squared: 0.7009001977978596\n"
          ]
        }
      ]
    },
    {
      "cell_type": "code",
      "source": [
        "from sklearn.tree import DecisionTreeRegressor\n",
        "from sklearn.ensemble import RandomForestRegressor\n",
        "\n",
        "# Create two decision tree regressors\n",
        "decision_tree1 = DecisionTreeRegressor()\n",
        "decision_tree2 = DecisionTreeRegressor()\n",
        "\n",
        "# Create five random forest regressors\n",
        "random_forest1 = RandomForestRegressor()\n",
        "random_forest2 = RandomForestRegressor()\n",
        "random_forest3 = RandomForestRegressor()\n",
        "random_forest4 = RandomForestRegressor()\n",
        "random_forest5 = RandomForestRegressor()\n",
        "\n",
        "# Fit the decision tree models\n",
        "decision_tree1.fit(X_train, y_train)\n",
        "decision_tree2.fit(X_train, y_train)\n",
        "\n",
        "# Fit the random forest models\n",
        "random_forest1.fit(X_train, y_train)\n",
        "random_forest2.fit(X_train, y_train)\n",
        "random_forest3.fit(X_train, y_train)\n",
        "random_forest4.fit(X_train, y_train)\n",
        "random_forest5.fit(X_train, y_train)\n",
        "\n",
        "# Make predictions using the individual models\n",
        "dt1_predictions = decision_tree1.predict(X_test)\n",
        "dt2_predictions = decision_tree2.predict(X_test)\n",
        "\n",
        "rf1_predictions = random_forest1.predict(X_test)\n",
        "rf2_predictions = random_forest2.predict(X_test)\n",
        "rf3_predictions = random_forest3.predict(X_test)\n",
        "rf4_predictions = random_forest4.predict(X_test)\n",
        "rf5_predictions = random_forest5.predict(X_test)\n",
        "\n",
        "# Combine the predictions\n",
        "ensemble_predictions = (dt1_predictions + dt2_predictions + rf1_predictions +\n",
        "                        rf2_predictions + rf3_predictions + rf4_predictions + rf5_predictions) / 7\n",
        "\n",
        "# Calculate the evaluation metrics for the ensemble model\n",
        "mse = mean_squared_error(y_test, ensemble_predictions)\n",
        "mae = mean_absolute_error(y_test, ensemble_predictions)\n",
        "r2 = r2_score(y_test, ensemble_predictions)\n",
        "\n",
        "# Print the evaluation metrics\n",
        "print(\"Mean Squared Error:\", mse)\n",
        "print(\"Mean Absolute Error:\", mae)\n",
        "print(\"R-squared:\", r2)\n"
      ],
      "metadata": {
        "colab": {
          "base_uri": "https://localhost:8080/"
        },
        "id": "I2a83RBLi81G",
        "outputId": "33b0de87-4416-46cb-a115-35f6ba975b5c"
      },
      "execution_count": 101,
      "outputs": [
        {
          "output_type": "stream",
          "name": "stdout",
          "text": [
            "Mean Squared Error: 2514860323.424243\n",
            "Mean Absolute Error: 19834.515821043602\n",
            "R-squared: 0.7216602735937426\n"
          ]
        }
      ]
    },
    {
      "cell_type": "code",
      "source": [
        "from sklearn.tree import DecisionTreeRegressor\n",
        "from sklearn.ensemble import RandomForestRegressor\n",
        "from sklearn.metrics import mean_squared_error\n",
        "import numpy as np\n",
        "\n",
        "# Initialize the models\n",
        "decision_tree = DecisionTreeRegressor(random_state=42)\n",
        "random_forests = [RandomForestRegressor(random_state=42) for _ in range(10)]\n",
        "\n",
        "# Fit the decision tree model\n",
        "decision_tree.fit(X_train, y_train)\n",
        "\n",
        "# Fit the random forest models\n",
        "for i in range(len(random_forests)):\n",
        "    random_forests[i].fit(X_train, y_train)\n",
        "\n",
        "# Make predictions using each model\n",
        "decision_tree_pred = decision_tree.predict(X_test)\n",
        "random_forests_pred = np.mean([model.predict(X_test) for model in random_forests], axis=0)\n",
        "\n",
        "# Combine the predictions\n",
        "ensemble_pred = (decision_tree_pred + random_forests_pred) / 2\n",
        "\n",
        "# Calculate the Mean Squared Error (MSE)\n",
        "mse = mean_squared_error(y_test, ensemble_predictions)\n",
        "mae = mean_absolute_error(y_test, ensemble_predictions)\n",
        "r2 = r2_score(y_test, ensemble_predictions)\n",
        "\n",
        "# Print the evaluation metrics\n",
        "print(\"Mean Squared Error:\", mse)\n",
        "print(\"Mean Absolute Error:\", mae)\n",
        "print(\"R-squared:\", r2)\n"
      ],
      "metadata": {
        "colab": {
          "base_uri": "https://localhost:8080/"
        },
        "id": "cqIwltdvjMs6",
        "outputId": "6d77005e-ac03-4231-d8d5-8e757b262274"
      },
      "execution_count": 102,
      "outputs": [
        {
          "output_type": "stream",
          "name": "stdout",
          "text": [
            "Mean Squared Error: 2514860323.424243\n",
            "Mean Absolute Error: 19834.515821043602\n",
            "R-squared: 0.7216602735937426\n"
          ]
        }
      ]
    },
    {
      "cell_type": "code",
      "source": [
        "from sklearn.ensemble import BaggingRegressor\n",
        "from sklearn.ensemble import RandomForestRegressor\n",
        "from sklearn.metrics import mean_squared_error, mean_absolute_error, r2_score\n",
        "\n",
        "# Assume X and y are your feature matrix and target variable respectively\n",
        "# Update X and y with the relevant data from your dataset\n",
        "\n",
        "# Create a list to store the individual models\n",
        "models = []\n",
        "\n",
        "# Train ten Random Forest models and add them to the list\n",
        "for _ in range(10):\n",
        "    # Create a Random Forest model\n",
        "    rf = RandomForestRegressor(n_estimators=100, max_depth=10)\n",
        "\n",
        "    # Train the model on the data\n",
        "    rf.fit(X, y)\n",
        "\n",
        "    # Add the trained model to the list\n",
        "    models.append(rf)\n",
        "\n",
        "# Make predictions using each individual model\n",
        "predictions = []\n",
        "for model in models:\n",
        "    pred = model.predict(X)\n",
        "    predictions.append(pred)\n",
        "\n",
        "# Combine the predictions using the average\n",
        "ensemble_pred = np.mean(predictions, axis=0)\n",
        "\n",
        "# Evaluate the ensemble model\n",
        "mse = mean_squared_error(y, ensemble_pred)\n",
        "mae = mean_absolute_error(y, ensemble_pred)\n",
        "r2 = r2_score(y, ensemble_pred)\n",
        "\n",
        "# Print the evaluation metrics\n",
        "print(\"Mean Squared Error:\", mse)\n",
        "print(\"Mean Absolute Error:\", mae)\n",
        "print(\"R-squared:\", r2)\n"
      ],
      "metadata": {
        "colab": {
          "base_uri": "https://localhost:8080/"
        },
        "id": "eY5X_isWjapP",
        "outputId": "7c2a9d68-2b52-4694-e137-f9bc18f988e7"
      },
      "execution_count": 105,
      "outputs": [
        {
          "output_type": "stream",
          "name": "stdout",
          "text": [
            "Mean Squared Error: 242824241.37266055\n",
            "Mean Absolute Error: 9016.703728928487\n",
            "R-squared: 0.9700957053068838\n"
          ]
        }
      ]
    },
    {
      "cell_type": "code",
      "source": [],
      "metadata": {
        "id": "VJGQet90kQkG"
      },
      "execution_count": null,
      "outputs": []
    }
  ]
}